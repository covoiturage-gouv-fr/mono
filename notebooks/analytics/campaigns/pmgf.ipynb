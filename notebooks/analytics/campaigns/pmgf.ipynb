{
 "cells": [
  {
   "cell_type": "markdown",
   "id": "8c93f539-392b-4d01-9ece-6f01651aa9d7",
   "metadata": {},
   "source": [
    "# Analyse variation de prix campagne PMGF\n"
   ]
  },
  {
   "cell_type": "markdown",
   "id": "9bae873a-cd9b-4816-83a5-80a60cb9fcb5",
   "metadata": {},
   "source": [
    "**PMGF**\n",
    "\n",
    "- SIRET AOM : 20007537200017\n",
    "- Plus fortement incité sur les trajets dans l’AOM (4e\n",
    "- DATE : 22/04/2025 mise en place de la variation (baisse du montant de la prise en charge passager ou augmentation du reste à charge passager) seulement pour les trajets externes (entrant ou sortant)\n",
    "\n",
    "Avant : 3 € incitation / 1€ pour le passager\n",
    "Désormais (Après le 22/04/2025) : c'est l'inverse, 1 € incitation / 3 € pour le passager\n",
    "\n",
    "**détail du AVANT (01/01/2025 au 22/04/2025)** :\n",
    "\n",
    "Départ et Arrivée au sein du PMGF :\n",
    "\n",
    "- De 5 à 20 km : 1,50 € pour le conducteur par trajet ;\n",
    "- De 20 à 40 km : 1,50 € pour le conducteur par trajet + 0,125 € par passager par kilomètre supplémentaire ;\n",
    "- Au delà de 40 km : 4,00 € pour le conducteur par trajet et par passager.\n",
    "\n",
    "Départ ou Arrivée au sein du PMGF :\n",
    "\n",
    "- De 5 à 20 km : 0,50 € pour le conducteur par trajet ;\n",
    "- De 20 à 40 km : 0,50 € pour le conducteur par trajet + 0,125 € par passager par kilomètre supplémentaire ;\n",
    "- Au delà de 40 km : 3,00 € pour le conducteur par trajet et par passager.\n",
    "\n",
    "**Détail de l’incitation Après 22/04/2025**:\n",
    "\n",
    "Départ et Arrivée au sein du PMGF (IDEM qu’avant)\n",
    "\n",
    "- De 5 à 20 km : 1,50 € par passager transporté ;\n",
    "- De 20 à 30 km : 1,50 € par passager transporté + 0,15 € par passager par kilomètre supplémentaire soit 3,00 € pour 30 km ;\n",
    "- De 30 à 40 km : 1,50 € par passager transporté + 0,10 € par passager par kilomètre supplémentaire soit 4,00 € pour 40 km ;\n",
    "- Au delà de 40 km : 4,00 € par passager transporté.\n",
    "\n",
    "Départ ou Arrivée au sein du PMGF :\n",
    "\n",
    "- De 5 à 21 km : 0,50 € par passager transporté ;\n",
    "- Au delà de 21 km : 1,00 € par passager transporté.\n",
    "- COMMUNICATION : campagne de communication via l’application BBC au moment de la variation\n"
   ]
  },
  {
   "cell_type": "markdown",
   "id": "6b819aee-5cd1-43da-9c2a-4aa23b1d6278",
   "metadata": {},
   "source": [
    "# Dépendances\n"
   ]
  },
  {
   "cell_type": "code",
   "execution_count": null,
   "id": "a0726a48-988a-4014-8e00-15e84ea7c868",
   "metadata": {
    "execution": {
     "iopub.execute_input": "2025-09-02T07:10:03.075145Z",
     "iopub.status.busy": "2025-09-02T07:10:03.074838Z",
     "iopub.status.idle": "2025-09-02T07:10:03.084513Z",
     "shell.execute_reply": "2025-09-02T07:10:03.084129Z",
     "shell.execute_reply.started": "2025-09-02T07:10:03.075131Z"
    }
   },
   "outputs": [],
   "source": [
    "import json\n",
    "import math\n",
    "import os\n",
    "from datetime import datetime, timedelta\n",
    "from itertools import product\n",
    "from zoneinfo import ZoneInfo\n",
    "from dotenv import load_dotenv\n",
    "\n",
    "import branca.colormap as bcm\n",
    "import folium\n",
    "import geopandas as gpd\n",
    "import matplotlib.cm as cm\n",
    "import matplotlib.colors as mcolors\n",
    "import matplotlib.pyplot as plt\n",
    "import plotly.express as px\n",
    "import plotly.graph_objects as go\n",
    "import polars as pl\n",
    "import polars_h3 as plh3\n",
    "import shapely\n",
    "from sqlalchemy import create_engine"
   ]
  },
  {
   "cell_type": "markdown",
   "id": "d6b90a9f-ac74-40c1-bfbf-52921bc60529",
   "metadata": {},
   "source": [
    "# Configuration\n"
   ]
  },
  {
   "cell_type": "code",
   "execution_count": null,
   "id": "8876211e-b1fd-4ed9-ac57-01a5b595471d",
   "metadata": {
    "execution": {
     "iopub.execute_input": "2025-09-02T07:10:26.136863Z",
     "iopub.status.busy": "2025-09-02T07:10:26.136556Z",
     "iopub.status.idle": "2025-09-02T07:10:26.139187Z",
     "shell.execute_reply": "2025-09-02T07:10:26.138878Z",
     "shell.execute_reply.started": "2025-09-02T07:10:26.136849Z"
    }
   },
   "outputs": [],
   "source": [
    "load_dotenv()\n",
    "DB_URL = os.environ.get(\"DB_URL\")"
   ]
  },
  {
   "cell_type": "code",
   "execution_count": null,
   "id": "0da82470-474f-491a-9219-02cf39dadc6d",
   "metadata": {
    "execution": {
     "iopub.execute_input": "2025-09-02T07:10:26.828316Z",
     "iopub.status.busy": "2025-09-02T07:10:26.828135Z",
     "iopub.status.idle": "2025-09-02T07:10:26.832300Z",
     "shell.execute_reply": "2025-09-02T07:10:26.832033Z",
     "shell.execute_reply.started": "2025-09-02T07:10:26.828302Z"
    }
   },
   "outputs": [],
   "source": [
    "AOM_CODE = \"247400690\"\n",
    "AOM_SIRET = \"20007537200017\"\n",
    "CAMPAIGN_CHANGE_DATE = datetime(2025, 4, 22, tzinfo=ZoneInfo(\"GMT\"))\n",
    "CAMPAIGN_CONFIGS = {\n",
    "    \"Période 1\": {\n",
    "        \"dates\": (datetime(2025, 1, 1), datetime(2025, 4, 21)),\n",
    "        \"distances_cat\": {\n",
    "            \"full_inside_trip\": {\n",
    "                (0, 4): {\n",
    "                    \"incentive_amount_per_trip\": 0,\n",
    "                    \"incentive_amount_per_passenger_per_km\": 0,\n",
    "                },\n",
    "                (5, 19): {\n",
    "                    \"incentive_amount_per_trip\": 1.5,\n",
    "                    \"incentive_amount_per_passenger_per_km\": 0,\n",
    "                },\n",
    "                (20, 39): {\n",
    "                    \"incentive_amount_per_trip\": 1.5,\n",
    "                    \"incentive_amount_per_passenger_per_km\": 0.125,\n",
    "                },\n",
    "                (40, math.inf): {\n",
    "                    \"incentive_amount_per_trip\": 4,\n",
    "                    \"incentive_amount_per_passenger_per_km\": 0,\n",
    "                },\n",
    "            },\n",
    "            \"semi_inside_trip\": {\n",
    "                (0, 4): {\n",
    "                    \"incentive_amount_per_trip\": 0,\n",
    "                    \"incentive_amount_per_passenger_per_km\": 0,\n",
    "                },\n",
    "                (5, 19): {\n",
    "                    \"incentive_amount_per_trip\": 0.5,\n",
    "                    \"incentive_amount_per_passenger_per_km\": 0,\n",
    "                },\n",
    "                (20, 39): {\n",
    "                    \"incentive_amount_per_trip\": 0.5,\n",
    "                    \"incentive_amount_per_passenger_per_km\": 0.125,\n",
    "                },\n",
    "                (40, math.inf): {\n",
    "                    \"incentive_amount_per_trip\": 3,\n",
    "                    \"incentive_amount_per_passenger_per_km\": 0,\n",
    "                },\n",
    "            },\n",
    "        },\n",
    "    },\n",
    "    \"Période 2\": {\n",
    "        \"dates\": (datetime(2025, 4, 22), datetime.now()),\n",
    "        \"distances_cat\": {\n",
    "            \"full_inside_trip\": {\n",
    "                (0, 4): {\n",
    "                    \"incentive_amount_per_passenger\": 0,\n",
    "                    \"incentive_amount_per_passenger_per_km\": 0,\n",
    "                },\n",
    "                (5, 19): {\n",
    "                    \"incentive_amount_per_passenger\": 1.5,\n",
    "                    \"incentive_amount_per_passenger_per_km\": 0,\n",
    "                },\n",
    "                (20, 29): {\n",
    "                    \"incentive_amount_per_passenger\": 1.5,\n",
    "                    \"incentive_amount_per_passenger_per_km\": 0.15,\n",
    "                },\n",
    "                (30, 39): {\n",
    "                    \"incentive_amount_per_passenger\": 1.5,\n",
    "                    \"incentive_amount_per_passenger_per_km\": 0.10,\n",
    "                },\n",
    "                (40, math.inf): {\n",
    "                    \"incentive_amount_per_passenger\": 4,\n",
    "                    \"incentive_amount_per_passenger_per_km\": 0,\n",
    "                },\n",
    "            },\n",
    "            \"semi_inside_trip\": {\n",
    "                (0, 4): {\n",
    "                    \"incentive_amount_per_passenger\": 0,\n",
    "                    \"incentive_amount_per_passenger\": 0,\n",
    "                },\n",
    "                (5, 21): {\n",
    "                    \"incentive_amount_per_passenger\": 0.5,\n",
    "                    \"incentive_amount_per_passenger_per_km\": 0,\n",
    "                },\n",
    "                (22, math.inf): {\n",
    "                    \"incentive_amount_per_passenger\": 1,\n",
    "                    \"incentive_amount_per_passenger_per_km\": 0,\n",
    "                },\n",
    "            },\n",
    "        },\n",
    "    },\n",
    "}"
   ]
  },
  {
   "cell_type": "code",
   "execution_count": null,
   "id": "1658f77d-c25b-4aa3-b9a6-cd20568854b8",
   "metadata": {
    "execution": {
     "iopub.execute_input": "2025-09-02T07:10:27.212786Z",
     "iopub.status.busy": "2025-09-02T07:10:27.212602Z",
     "iopub.status.idle": "2025-09-02T07:10:27.215626Z",
     "shell.execute_reply": "2025-09-02T07:10:27.215357Z",
     "shell.execute_reply.started": "2025-09-02T07:10:27.212772Z"
    }
   },
   "outputs": [],
   "source": [
    "## For plotting purposes\n",
    "labels_map = {\n",
    "    \"month\": \"Mois\",\n",
    "    \"num_journeys\": \"Nombre de journeys\",\n",
    "    \"num_journeys_with_incentive\": \"Nombre de journey avec incitation\",\n",
    "    \"operator\": \"Opérateur\",\n",
    "    \"incentive_amount_avg\": \"Incitation moyenne\",\n",
    "    \"driver_revenue_avg\": \"Revenu moyen conducteur\",\n",
    "    \"passenger_contribution_avg\": \"Contribution moyenne passager\",\n",
    "    \"incentive_amount_intra_avg\": \"Incitation moyenne intra\",\n",
    "    \"driver_revenue_intra_avg\": \"Revenu moyen conducteur intra\",\n",
    "    \"passenger_contribution_intra_avg\": \"Contribution moyenne passager intra\",\n",
    "    \"incentive_amount_inter_avg\": \"Incitation moyenne inter\",\n",
    "    \"driver_revenue_inter_avg\": \"Revenu moyen conducteur inter\",\n",
    "    \"passenger_contribution_inter_avg\": \"Contribution moyenne passager inter\",\n",
    "    \"incentive_amount_per_km_avg\": \"Montant moyen d'incitation par km\",\n",
    "    \"passenger_contribution_per_km_avg\": \"Contribution moyenne passager par km\",\n",
    "    \"driver_revenue_per_km_avg\": \"Revenu moyen conducteur par km\",\n",
    "    \"week\": \"Semaine\",\n",
    "    \"month\": \"Mois\",\n",
    "    \"distance_avg\": \"Distance moyenne\",\n",
    "    \"campaign_type\": \"Campagne\",\n",
    "    \"distance\": \"Distance\",\n",
    "    \"num_journeys_with_aom_incentive\": \"Nombre de journeys incitées par l'AOM\",\n",
    "    \"num_journeys_with_operator_incentive\": \"Nombre de journeys incitées par un opérateur\",\n",
    "    \"num_journeys_intra_territory\": \"Nombre de journeys intra-territoire\",\n",
    "    \"num_journeys_inter_territory\": \"Nombre de journeys inter-territoires\",\n",
    "    \"share_journeys_intra_territory\": \"% de journeys intra-territoire\",\n",
    "    \"share_journeys_inter_territory\": \"% de journeys inter-territoires\",\n",
    "    \"share_drivers\": \"% des conducteurs\",\n",
    "    \"num_trips\": \"Nombre de trips\",\n",
    "    \"is_intra_driver\": \"Conducteur intra\",\n",
    "    \"driver_campaign_type\": \"Type de campagne du conducteur\",\n",
    "    \"passenger_campaign_type\": \"Type de campagne du passager\",\n",
    "    \"drivers_share\": \"% des conducteurs\",\n",
    "    \"week_number\": \"Semaine n°\",\n",
    "    \"passengers_share\": \"% des passagers\",\n",
    "}"
   ]
  },
  {
   "cell_type": "code",
   "execution_count": null,
   "id": "e068fc2e-0122-4260-afaa-bdd40a9b6414",
   "metadata": {
    "execution": {
     "iopub.execute_input": "2025-09-02T07:10:27.509245Z",
     "iopub.status.busy": "2025-09-02T07:10:27.509060Z",
     "iopub.status.idle": "2025-09-02T07:10:27.511509Z",
     "shell.execute_reply": "2025-09-02T07:10:27.511171Z",
     "shell.execute_reply.started": "2025-09-02T07:10:27.509231Z"
    }
   },
   "outputs": [],
   "source": [
    "colors_map = {\n",
    "    \"Période 0\": \"grey\",\n",
    "    \"Période 1\": \"#9fc2b2\",\n",
    "    \"Période 2\": \"#ebd999\",\n",
    "}"
   ]
  },
  {
   "cell_type": "code",
   "execution_count": null,
   "id": "632d99c0-0f87-4a61-b47c-ef153a17265b",
   "metadata": {
    "execution": {
     "iopub.execute_input": "2025-09-02T07:10:28.250618Z",
     "iopub.status.busy": "2025-09-02T07:10:28.250437Z",
     "iopub.status.idle": "2025-09-02T07:10:28.252648Z",
     "shell.execute_reply": "2025-09-02T07:10:28.252323Z",
     "shell.execute_reply.started": "2025-09-02T07:10:28.250604Z"
    }
   },
   "outputs": [],
   "source": [
    "campaign_order = {\n",
    "    \"Période 0\": 0,\n",
    "    \"Période 1\": 1,\n",
    "    \"Période 2\": 2,\n",
    "}"
   ]
  },
  {
   "cell_type": "code",
   "execution_count": null,
   "id": "23949d3f-4447-4046-b55b-20d913c2f82f",
   "metadata": {
    "execution": {
     "iopub.execute_input": "2025-09-02T07:10:28.549362Z",
     "iopub.status.busy": "2025-09-02T07:10:28.549044Z",
     "iopub.status.idle": "2025-09-02T07:10:28.551954Z",
     "shell.execute_reply": "2025-09-02T07:10:28.551642Z",
     "shell.execute_reply.started": "2025-09-02T07:10:28.549348Z"
    }
   },
   "outputs": [],
   "source": [
    "def add_campaign_annotations(\n",
    "    fig: go.Figure, label_position: str = \"inside bottom left\"\n",
    "):\n",
    "    fig.add_vrect(\n",
    "        x0=datetime(2025, 1, 1),\n",
    "        x1=datetime(2025, 4, 22),\n",
    "        xref=\"x\",\n",
    "        fillcolor=\"#9fc2b2\",\n",
    "        annotation={\"text\": \"Période 1\"},\n",
    "        annotation_position=label_position,\n",
    "    )\n",
    "    fig.add_vrect(\n",
    "        x0=datetime(2025, 4, 22),\n",
    "        x1=datetime(2025, 6, 9),\n",
    "        xref=\"x\",\n",
    "        fillcolor=\"#ebd999\",\n",
    "        annotation={\"text\": \"Période 2\"},\n",
    "        annotation_position=label_position,\n",
    "    )"
   ]
  },
  {
   "cell_type": "code",
   "execution_count": null,
   "id": "cb22b816-06c9-40c0-9709-cd4ec54488f9",
   "metadata": {
    "execution": {
     "iopub.execute_input": "2025-09-02T07:10:29.262271Z",
     "iopub.status.busy": "2025-09-02T07:10:29.262095Z",
     "iopub.status.idle": "2025-09-02T07:10:29.264854Z",
     "shell.execute_reply": "2025-09-02T07:10:29.264558Z",
     "shell.execute_reply.started": "2025-09-02T07:10:29.262256Z"
    }
   },
   "outputs": [],
   "source": [
    "campaign_type_expr = (\n",
    "    pl.when(pl.col(\"start_datetime\") < pl.datetime(2025, 1, 1, time_zone=\"GMT\"))\n",
    "    .then(pl.lit(\"Période 0\"))\n",
    "    .when(pl.col(\"start_datetime\") < pl.datetime(2025, 4, 22, time_zone=\"GMT\"))\n",
    "    .then(pl.lit(\"Période 1\"))\n",
    "    .otherwise(pl.lit(\"Période 2\"))\n",
    "    .alias(\"campaign_type\")\n",
    ")"
   ]
  },
  {
   "cell_type": "markdown",
   "id": "352a1a6b-bc99-4521-9dea-c683ee98fabe",
   "metadata": {},
   "source": [
    "# Queries\n"
   ]
  },
  {
   "cell_type": "code",
   "execution_count": null,
   "id": "8a9f4c91-b25b-497a-ab1d-9f7652a04b09",
   "metadata": {
    "execution": {
     "iopub.execute_input": "2025-09-02T07:10:33.843664Z",
     "iopub.status.busy": "2025-09-02T07:10:33.843479Z",
     "iopub.status.idle": "2025-09-02T07:10:33.928719Z",
     "shell.execute_reply": "2025-09-02T07:10:33.928342Z",
     "shell.execute_reply.started": "2025-09-02T07:10:33.843650Z"
    }
   },
   "outputs": [],
   "source": [
    "SQL_ENGINE = create_engine(DB_URL)"
   ]
  },
  {
   "cell_type": "markdown",
   "id": "eb9d36b3-635c-40e1-bbc6-febc4eaee9e4",
   "metadata": {},
   "source": [
    "## Journeys\n"
   ]
  },
  {
   "cell_type": "code",
   "execution_count": null,
   "id": "7bc9eed4-1749-4965-a943-3650e426150c",
   "metadata": {
    "execution": {
     "iopub.execute_input": "2025-09-02T07:10:34.739129Z",
     "iopub.status.busy": "2025-09-02T07:10:34.738924Z",
     "iopub.status.idle": "2025-09-02T07:10:34.742212Z",
     "shell.execute_reply": "2025-09-02T07:10:34.741901Z",
     "shell.execute_reply.started": "2025-09-02T07:10:34.739112Z"
    }
   },
   "outputs": [],
   "source": [
    "SQL = \"\"\"\n",
    "with perimeters_filtered as (\n",
    "select\n",
    "\tp.com,\n",
    "    p.l_com\n",
    "from\n",
    "\tterritory.territory_group_selector tgs\n",
    "inner join geo.perimeters p on\n",
    "\tcase\n",
    "\t\twhen tgs.selector_type = 'aom' then p.aom = tgs.selector_value\n",
    "\t\twhen tgs.selector_type = 'epci' then p.epci = tgs.selector_value\n",
    "\t\telse false\n",
    "\tend\n",
    "\tand tgs.territory_group_id = 36102\n",
    "where p.year = 2024\n",
    "),\n",
    "first_trip as (\n",
    "select\n",
    "    driver_identity_key,\n",
    "    min(c.start_datetime) as first_trip_datetime\n",
    "from carpool_v2.carpools c\n",
    "group by 1\n",
    "),\n",
    "first_trip_passengers as (\n",
    "select\n",
    "    passenger_identity_key,\n",
    "    min(c.start_datetime) as first_trip_datetime\n",
    "from carpool_v2.carpools c\n",
    "group by 1\n",
    "),\n",
    "geo_filtered as (\n",
    "select\n",
    "\tg.*,\n",
    "    (p.com is not null and p2.com is not null) as is_fully_inside_campaign_area\n",
    "from\n",
    "\tcarpool_v2.geo g\n",
    "left join perimeters_filtered p on\n",
    "\tg.start_geo_code = p.com\n",
    "left join perimeters_filtered p2 on\n",
    "\tg.end_geo_code = p2.com\t\n",
    "where (p.com is not null or p2.com is not null)\n",
    "and g.updated_at >= '2024-09-01'\n",
    "),\n",
    "incentives as (\n",
    "select\n",
    "\toi.carpool_id,\n",
    "\tsum(oi.amount) as incentive_amount,\n",
    "    sum(oi.amount) filter (where siret='49190454600034') as amount_bbc,\n",
    "    sum(oi.amount) filter (where siret='20007537200017') as amount_aom,\n",
    "\tarray_agg(distinct oi.siret) as incentive_sirets\n",
    "from\n",
    "\tcarpool_v2.operator_incentives oi\n",
    "inner join geo_filtered g on\n",
    "\toi.carpool_id = g.carpool_id\n",
    "where amount>0\n",
    "group by\n",
    "\t1\n",
    "),\n",
    "journeys as \n",
    "(\n",
    "select\n",
    "\tc.\"_id\",\n",
    "\tc.operator_id,\n",
    "\tc.operator_journey_id,\n",
    "\tc.operator_trip_id,\n",
    "    c.driver_identity_key,\n",
    "    ft.first_trip_datetime,\n",
    "    c.passenger_identity_key,\n",
    "    ftp.first_trip_datetime as passenger_first_trip_datetime,\n",
    "\tc.start_datetime,\n",
    "\tc.end_datetime,\n",
    "\tc.distance,\n",
    "\tc.driver_revenue,\n",
    "\tc.passenger_contribution,\n",
    "\ti.incentive_amount,\n",
    "    i.amount_bbc,\n",
    "    i.amount_aom,\n",
    "\ti.incentive_sirets,\n",
    "\tc.start_position,\n",
    "\tc.end_position,\n",
    "    c.passenger_seats,\n",
    "    is_fully_inside_campaign_area,\n",
    "\tST_MAKELINE(c.start_position::geometry,c.end_position::geometry) as journey_line\t\n",
    "from\n",
    "\tcarpool_v2.carpools c\n",
    "inner join geo_filtered g on\n",
    "\tc.\"_id\" = g.carpool_id\n",
    "left join incentives i on\n",
    "\tc.\"_id\" = i.carpool_id\n",
    "left join first_trip ft on ft.driver_identity_key=c.driver_identity_key\n",
    "left join first_trip_passengers ftp on ftp.passenger_identity_key=c.passenger_identity_key\n",
    "left join carpool_v2.status s on s.\"carpool_id\"=c.\"_id\" \n",
    "where\n",
    "\t(c.start_datetime between '2024-09-01' and '2025-06-30')\n",
    "    and s.acquisition_status='processed'\n",
    "    and s.fraud_status='passed'\n",
    "    and s.anomaly_status='passed'\n",
    "    )\n",
    "SELECT\n",
    "    j.*,\n",
    "    CASE WHEN p.l_arr = p.country THEN p.l_country ELSE p.l_arr END as start_com,\n",
    "    CASE WHEN p2.l_arr = p2.country THEN p2.l_country ELSE p2.l_arr END as end_com\n",
    "from journeys j\n",
    "left join carpool_v2.geo g on j.\"_id\"=g.\"carpool_id\"\n",
    "left join geo.perimeters p on g.\"start_geo_code\"=p.arr and p.year=2024\n",
    "left join geo.perimeters p2 on g.\"end_geo_code\"=p2.arr and p2.year=2024\n",
    "\"\"\""
   ]
  },
  {
   "cell_type": "code",
   "execution_count": null,
   "id": "15a5c203-6bc3-4392-a944-f57f184d4438",
   "metadata": {
    "execution": {
     "iopub.execute_input": "2025-09-02T07:10:35.236805Z",
     "iopub.status.busy": "2025-09-02T07:10:35.236607Z",
     "iopub.status.idle": "2025-09-02T07:21:45.259027Z",
     "shell.execute_reply": "2025-09-02T07:21:45.258588Z",
     "shell.execute_reply.started": "2025-09-02T07:10:35.236791Z"
    },
    "scrolled": true
   },
   "outputs": [],
   "source": [
    "df_journeys_raw = pl.read_database(query=SQL, connection=SQL_ENGINE)"
   ]
  },
  {
   "cell_type": "code",
   "execution_count": null,
   "id": "c3e54566-8af6-4f39-891f-f5e8ff3fcb73",
   "metadata": {
    "execution": {
     "iopub.execute_input": "2025-09-02T07:21:45.259881Z",
     "iopub.status.busy": "2025-09-02T07:21:45.259654Z",
     "iopub.status.idle": "2025-09-02T07:21:45.265189Z",
     "shell.execute_reply": "2025-09-02T07:21:45.264841Z",
     "shell.execute_reply.started": "2025-09-02T07:21:45.259869Z"
    }
   },
   "outputs": [],
   "source": [
    "df_journeys_raw.head()"
   ]
  },
  {
   "cell_type": "markdown",
   "id": "e87d4194-1924-4140-ba4e-768410b3db60",
   "metadata": {},
   "source": [
    "Voir ce qui est ciblé par BBC en terme d'OD incité.\n",
    "Projet ligne expresse Annecy - Geneve, voir les incitatifs Suisse\n",
    "\n",
    "Estimer le nombre de voitures évitées\n",
    "\n",
    "Changer en % des conducteurs\n"
   ]
  },
  {
   "cell_type": "code",
   "execution_count": null,
   "id": "84d1fd51-6297-4d9f-a319-f1348ba0cbd1",
   "metadata": {
    "execution": {
     "iopub.execute_input": "2025-09-02T07:28:02.587868Z",
     "iopub.status.busy": "2025-09-02T07:28:02.587502Z",
     "iopub.status.idle": "2025-09-02T07:28:02.609248Z",
     "shell.execute_reply": "2025-09-02T07:28:02.608939Z",
     "shell.execute_reply.started": "2025-09-02T07:28:02.587853Z"
    }
   },
   "outputs": [],
   "source": [
    "df_journeys_raw.describe()"
   ]
  },
  {
   "cell_type": "markdown",
   "id": "15b8356a-ef43-40a1-abb3-029f13ec6860",
   "metadata": {},
   "source": [
    "### Ajout des catégories de campagne\n"
   ]
  },
  {
   "cell_type": "code",
   "execution_count": null,
   "id": "3a1af923-add3-460d-99b7-16c3bb1245f0",
   "metadata": {
    "execution": {
     "iopub.execute_input": "2025-09-02T07:28:03.621636Z",
     "iopub.status.busy": "2025-09-02T07:28:03.621433Z",
     "iopub.status.idle": "2025-09-02T07:28:03.630559Z",
     "shell.execute_reply": "2025-09-02T07:28:03.630217Z",
     "shell.execute_reply.started": "2025-09-02T07:28:03.621622Z"
    }
   },
   "outputs": [],
   "source": [
    "# Add campaign cat:\n",
    "df_journeys_raw = df_journeys_raw.with_columns(campaign_type_expr)"
   ]
  },
  {
   "cell_type": "markdown",
   "id": "77b84028-0a58-4c07-ba08-a5d051fab452",
   "metadata": {},
   "source": [
    "### Ajout des classes de distance\n"
   ]
  },
  {
   "cell_type": "code",
   "execution_count": null,
   "id": "5833d927-8d84-4137-9a91-8f5a4f099f4a",
   "metadata": {
    "execution": {
     "iopub.execute_input": "2025-09-02T07:28:04.534267Z",
     "iopub.status.busy": "2025-09-02T07:28:04.533954Z",
     "iopub.status.idle": "2025-09-02T07:28:04.549855Z",
     "shell.execute_reply": "2025-09-02T07:28:04.549561Z",
     "shell.execute_reply.started": "2025-09-02T07:28:04.534253Z"
    }
   },
   "outputs": [],
   "source": [
    "distance_cat_expr = (\n",
    "    pl.when(pl.col(\"campaign_type\") == \"Période 1\")\n",
    "    .then((pl.col(\"distance\") / 1000).cut(breaks=[5, 20, 40], left_closed=True))\n",
    "    .when(pl.col(\"campaign_type\") == \"Période 2\")\n",
    "    .then(\n",
    "        pl.when(pl.col(\"is_fully_inside_campaign_area\"))\n",
    "        .then((pl.col(\"distance\") / 1000).cut(breaks=[5, 20, 30, 40], left_closed=True))\n",
    "        .otherwise((pl.col(\"distance\") / 1000).cut(breaks=[5, 22], left_closed=True))\n",
    "    )\n",
    ")\n",
    "df_journeys_raw = df_journeys_raw.with_columns(distance_cat_expr.alias(\"distance_cat\"))"
   ]
  },
  {
   "cell_type": "markdown",
   "id": "5ec61175-c270-406c-8021-b92e031147d9",
   "metadata": {},
   "source": [
    "## Opérateurs\n"
   ]
  },
  {
   "cell_type": "code",
   "execution_count": null,
   "id": "3fbc4d2a-3e1c-430c-adc4-cb5931f108c7",
   "metadata": {
    "execution": {
     "iopub.execute_input": "2025-09-02T07:28:11.778589Z",
     "iopub.status.busy": "2025-09-02T07:28:11.778406Z",
     "iopub.status.idle": "2025-09-02T07:28:11.831662Z",
     "shell.execute_reply": "2025-09-02T07:28:11.831335Z",
     "shell.execute_reply.started": "2025-09-02T07:28:11.778574Z"
    }
   },
   "outputs": [],
   "source": [
    "df_operators = pl.read_database(\n",
    "    query=\"\"\"\n",
    "SELECT\n",
    "    \"_id\",\n",
    "    \"name\",\n",
    "    \"siret\"\n",
    "from operator.operators\n",
    "where deleted_at is null\n",
    "and name!='BlaBlaCar'\n",
    "\"\"\",\n",
    "    connection=SQL_ENGINE,\n",
    ")"
   ]
  },
  {
   "cell_type": "code",
   "execution_count": null,
   "id": "ff5dc9c7-9349-4101-a178-f3cd0abfa6e1",
   "metadata": {
    "execution": {
     "iopub.execute_input": "2025-09-02T07:28:12.334216Z",
     "iopub.status.busy": "2025-09-02T07:28:12.334032Z",
     "iopub.status.idle": "2025-09-02T07:28:12.337356Z",
     "shell.execute_reply": "2025-09-02T07:28:12.337012Z",
     "shell.execute_reply.started": "2025-09-02T07:28:12.334202Z"
    }
   },
   "outputs": [],
   "source": [
    "df_operators"
   ]
  },
  {
   "cell_type": "markdown",
   "id": "249f6713-1e0f-44c6-9588-d06eaae04304",
   "metadata": {},
   "source": [
    "## Géométrie campagne\n"
   ]
  },
  {
   "cell_type": "code",
   "execution_count": null,
   "id": "b9b20b2c-b8bc-429a-a432-f44eabb427a9",
   "metadata": {
    "execution": {
     "iopub.execute_input": "2025-09-02T07:28:13.375788Z",
     "iopub.status.busy": "2025-09-02T07:28:13.375632Z",
     "iopub.status.idle": "2025-09-02T07:28:13.654600Z",
     "shell.execute_reply": "2025-09-02T07:28:13.654225Z",
     "shell.execute_reply.started": "2025-09-02T07:28:13.375776Z"
    }
   },
   "outputs": [],
   "source": [
    "df_geometries = pl.read_database(\n",
    "    query=\"\"\"\n",
    "    select\n",
    "        p.l_com,\n",
    "    \tp.geom_simple as geometry\n",
    "    from\n",
    "    \tterritory.territory_group_selector tgs\n",
    "    inner join geo.perimeters p on\n",
    "    \tcase\n",
    "    \t\twhen tgs.selector_type = 'aom' then p.aom = tgs.selector_value\n",
    "    \t\twhen tgs.selector_type = 'epci' then p.epci = tgs.selector_value\n",
    "    \t\telse false\n",
    "    \tend\n",
    "    \tand tgs.territory_group_id = 36102\n",
    "    where p.year = 2024\n",
    "    \"\"\",\n",
    "    connection=SQL_ENGINE,\n",
    ")\n",
    "df_geometries = gpd.GeoDataFrame(df_geometries.to_pandas())\n",
    "df_geometries = df_geometries.set_geometry(\n",
    "    gpd.GeoSeries.from_wkb(df_geometries[\"geometry\"])\n",
    ")"
   ]
  },
  {
   "cell_type": "code",
   "execution_count": null,
   "id": "047ef90b-db0b-4825-bac9-d522aa8dae65",
   "metadata": {
    "execution": {
     "iopub.execute_input": "2025-09-02T07:28:14.093632Z",
     "iopub.status.busy": "2025-09-02T07:28:14.093273Z",
     "iopub.status.idle": "2025-09-02T07:28:14.111997Z",
     "shell.execute_reply": "2025-09-02T07:28:14.111721Z",
     "shell.execute_reply.started": "2025-09-02T07:28:14.093616Z"
    },
    "scrolled": true
   },
   "outputs": [],
   "source": [
    "geojson = json.loads(df_geometries.to_json())"
   ]
  },
  {
   "cell_type": "markdown",
   "id": "7de4b513-6999-4960-a857-ac27050a83f1",
   "metadata": {},
   "source": [
    "# Identification incitateurs\n"
   ]
  },
  {
   "cell_type": "code",
   "execution_count": null,
   "id": "8df7cddd-ca01-4589-85d5-5429b0d1faa1",
   "metadata": {
    "execution": {
     "iopub.execute_input": "2025-09-02T07:28:14.886280Z",
     "iopub.status.busy": "2025-09-02T07:28:14.885973Z",
     "iopub.status.idle": "2025-09-02T07:28:14.896060Z",
     "shell.execute_reply": "2025-09-02T07:28:14.895760Z",
     "shell.execute_reply.started": "2025-09-02T07:28:14.886266Z"
    }
   },
   "outputs": [],
   "source": [
    "df_journeys_raw = df_journeys_raw.with_columns(\n",
    "    pl.col(\"incentive_sirets\").list.contains(AOM_SIRET).alias(\"incentived_by_aom\"),\n",
    "    (\n",
    "        pl.col(\"incentive_sirets\")\n",
    "        .list.set_intersection(df_operators[\"siret\"].to_list())\n",
    "        .list.len()\n",
    "        > 0\n",
    "    ).alias(\"incentived_by_operator\"),\n",
    ")"
   ]
  },
  {
   "cell_type": "markdown",
   "id": "1ab2a42e-b024-4887-8722-2d5c6d854a94",
   "metadata": {
    "execution": {
     "iopub.execute_input": "2025-07-02T12:15:15.318543Z",
     "iopub.status.busy": "2025-07-02T12:15:15.317291Z",
     "iopub.status.idle": "2025-07-02T12:15:15.325177Z",
     "shell.execute_reply": "2025-07-02T12:15:15.324409Z",
     "shell.execute_reply.started": "2025-07-02T12:15:15.318495Z"
    }
   },
   "source": [
    "# Traitements géo\n"
   ]
  },
  {
   "cell_type": "code",
   "execution_count": null,
   "id": "b6f19022-7412-4dbe-a70f-44c927ce05d8",
   "metadata": {
    "execution": {
     "iopub.execute_input": "2025-09-02T07:28:15.692406Z",
     "iopub.status.busy": "2025-09-02T07:28:15.692245Z",
     "iopub.status.idle": "2025-09-02T07:28:20.404636Z",
     "shell.execute_reply": "2025-09-02T07:28:20.404249Z",
     "shell.execute_reply.started": "2025-09-02T07:28:15.692384Z"
    }
   },
   "outputs": [],
   "source": [
    "df_journeys_raw = df_journeys_raw.with_columns(\n",
    "    pl.col(\"start_position\")\n",
    "    .map_elements(shapely.from_wkb, return_dtype=pl.Object)\n",
    "    .alias(\"start_pos\"),\n",
    "    pl.col(\"end_position\")\n",
    "    .map_elements(shapely.from_wkb, return_dtype=pl.Object)\n",
    "    .alias(\"end_pos\"),\n",
    ").with_columns(\n",
    "    pl.col(\"start_pos\")\n",
    "    .map_elements(lambda x: x.x, return_dtype=pl.Float64)\n",
    "    .alias(\"start_longitude\"),\n",
    "    pl.col(\"start_pos\")\n",
    "    .map_elements(lambda x: x.y, return_dtype=pl.Float64)\n",
    "    .alias(\"start_latitude\"),\n",
    "    pl.col(\"end_pos\")\n",
    "    .map_elements(lambda x: x.x, return_dtype=pl.Float64)\n",
    "    .alias(\"end_longitude\"),\n",
    "    pl.col(\"end_pos\")\n",
    "    .map_elements(lambda x: x.y, return_dtype=pl.Float64)\n",
    "    .alias(\"end_latitude\"),\n",
    ")"
   ]
  },
  {
   "cell_type": "markdown",
   "id": "d28d55e5-9363-4a8f-8c7e-062824366671",
   "metadata": {},
   "source": [
    "## Filtrage des journeys sans incitations\n"
   ]
  },
  {
   "cell_type": "code",
   "execution_count": null,
   "id": "b46ae71f-8d05-4e87-ba7d-617d458aa016",
   "metadata": {
    "execution": {
     "iopub.execute_input": "2025-09-02T07:28:21.216133Z",
     "iopub.status.busy": "2025-09-02T07:28:21.215841Z",
     "iopub.status.idle": "2025-09-02T07:28:21.319085Z",
     "shell.execute_reply": "2025-09-02T07:28:21.318796Z",
     "shell.execute_reply.started": "2025-09-02T07:28:21.216120Z"
    }
   },
   "outputs": [],
   "source": [
    "df_journeys = df_journeys_raw.filter(pl.col(\"incentive_amount\").is_not_null())"
   ]
  },
  {
   "cell_type": "markdown",
   "id": "a4340452-8bf4-4e44-abde-cd0093e2359a",
   "metadata": {},
   "source": [
    "# Statistiques globales\n"
   ]
  },
  {
   "cell_type": "code",
   "execution_count": null,
   "id": "c85ec961-93b6-44dd-bcaa-bdfd8794259e",
   "metadata": {
    "execution": {
     "iopub.execute_input": "2025-09-02T07:28:21.901363Z",
     "iopub.status.busy": "2025-09-02T07:28:21.901059Z",
     "iopub.status.idle": "2025-09-02T07:28:21.905542Z",
     "shell.execute_reply": "2025-09-02T07:28:21.905257Z",
     "shell.execute_reply.started": "2025-09-02T07:28:21.901350Z"
    }
   },
   "outputs": [],
   "source": [
    "agg_expressions = [\n",
    "    pl.col(\"operator_journey_id\").count().alias(\"num_journeys\"),\n",
    "    pl.col(\"is_fully_inside_campaign_area\").sum().alias(\"num_journeys_intra_territory\"),\n",
    "    pl.col(\"operator_journey_id\")\n",
    "    .filter(pl.col(\"incentive_amount\") > 0)\n",
    "    .count()\n",
    "    .alias(\"num_journeys_incentived\"),\n",
    "    pl.col(\"incentived_by_aom\").sum().alias(\"num_journeys_with_aom_incentive\"),\n",
    "    pl.col(\"incentived_by_operator\")\n",
    "    .sum()\n",
    "    .alias(\"num_journeys_with_operator_incentive\"),\n",
    "    pl.col(\"operator_journey_id\")\n",
    "    .filter(pl.col(\"is_fully_inside_campaign_area\"))\n",
    "    .count()\n",
    "    .alias(\"num_journeys_fully_inside_campaign_area\"),\n",
    "    (pl.col(\"distance\") / 1000).mean().alias(\"distance_avg\"),\n",
    "    (pl.col(\"incentive_amount\").mean() / 100).alias(\"incentive_amount_avg\"),\n",
    "    (pl.col(\"passenger_contribution\") / 100).mean().alias(\"passenger_contribution_avg\"),\n",
    "    (pl.col(\"driver_revenue\").mean() / 100).alias(\"driver_revenue_avg\"),\n",
    "    (\n",
    "        pl.col(\"incentive_amount\")\n",
    "        .filter(pl.col(\"is_fully_inside_campaign_area\"))\n",
    "        .mean()\n",
    "        / 100\n",
    "    ).alias(\"incentive_amount_intra_avg\"),\n",
    "    (\n",
    "        pl.col(\"passenger_contribution\")\n",
    "        .filter(pl.col(\"is_fully_inside_campaign_area\"))\n",
    "        .mean()\n",
    "        / 100\n",
    "    ).alias(\"passenger_contribution_intra_avg\"),\n",
    "    (\n",
    "        pl.col(\"driver_revenue\").filter(pl.col(\"is_fully_inside_campaign_area\")).mean()\n",
    "        / 100\n",
    "    ).alias(\"driver_revenue_intra_avg\"),\n",
    "    (\n",
    "        pl.col(\"incentive_amount\")\n",
    "        .filter(pl.col(\"is_fully_inside_campaign_area\").not_())\n",
    "        .mean()\n",
    "        / 100\n",
    "    ).alias(\"incentive_amount_inter_avg\"),\n",
    "    (\n",
    "        pl.col(\"passenger_contribution\")\n",
    "        .filter(pl.col(\"is_fully_inside_campaign_area\").not_())\n",
    "        .mean()\n",
    "        / 100\n",
    "    ).alias(\"passenger_contribution_inter_avg\"),\n",
    "    (\n",
    "        pl.col(\"driver_revenue\")\n",
    "        .filter(pl.col(\"is_fully_inside_campaign_area\").not_())\n",
    "        .mean()\n",
    "        / 100\n",
    "    ).alias(\"driver_revenue_inter_avg\"),\n",
    "    (10 * (pl.col(\"incentive_amount\") / pl.col(\"distance\")))\n",
    "    .mean()\n",
    "    .alias(\"incentive_amount_per_km_avg\"),\n",
    "    (10 * (pl.col(\"passenger_contribution\") / pl.col(\"distance\")))\n",
    "    .mean()\n",
    "    .alias(\"passenger_contribution_per_km_avg\"),\n",
    "    (10 * (pl.col(\"driver_revenue\") / pl.col(\"distance\")))\n",
    "    .mean()\n",
    "    .alias(\"driver_revenue_per_km_avg\"),\n",
    "]"
   ]
  },
  {
   "cell_type": "code",
   "execution_count": null,
   "id": "08ab5f3f-5309-42a2-b7ae-cf002464043b",
   "metadata": {
    "execution": {
     "iopub.execute_input": "2025-09-02T07:28:22.331439Z",
     "iopub.status.busy": "2025-09-02T07:28:22.331141Z",
     "iopub.status.idle": "2025-09-02T07:28:22.353123Z",
     "shell.execute_reply": "2025-09-02T07:28:22.352793Z",
     "shell.execute_reply.started": "2025-09-02T07:28:22.331423Z"
    }
   },
   "outputs": [],
   "source": [
    "df_stats_by_month = (\n",
    "    df_journeys.group_by(pl.col(\"start_datetime\").dt.truncate(\"1mo\").alias(\"month\"))\n",
    "    .agg(agg_expressions)\n",
    "    .sort(pl.col(\"month\"))\n",
    ")\n",
    "df_stats_by_month"
   ]
  },
  {
   "cell_type": "code",
   "execution_count": null,
   "id": "3985fa77-8c75-4061-b0bd-9de707f6e2ee",
   "metadata": {
    "execution": {
     "iopub.execute_input": "2025-09-02T07:28:22.810243Z",
     "iopub.status.busy": "2025-09-02T07:28:22.809940Z",
     "iopub.status.idle": "2025-09-02T07:28:22.930710Z",
     "shell.execute_reply": "2025-09-02T07:28:22.930354Z",
     "shell.execute_reply.started": "2025-09-02T07:28:22.810228Z"
    }
   },
   "outputs": [],
   "source": [
    "df_stats_by_week = (\n",
    "    df_journeys.filter(\n",
    "        pl.col(\"start_datetime\") <= datetime(2025, 6, 23, tzinfo=ZoneInfo(\"GMT\"))\n",
    "    )\n",
    "    .group_by(pl.col(\"start_datetime\").dt.truncate(\"1w\").alias(\"week\"))\n",
    "    .agg(agg_expressions)\n",
    "    .sort(pl.col(\"week\"))\n",
    ")"
   ]
  },
  {
   "cell_type": "markdown",
   "id": "93869b31-91f9-4dcd-baef-e68283423e9a",
   "metadata": {},
   "source": [
    "## Nombre de journeys\n"
   ]
  },
  {
   "cell_type": "code",
   "execution_count": null,
   "id": "0d66cdf3-6f4e-491f-b387-8779c2990547",
   "metadata": {
    "execution": {
     "iopub.execute_input": "2025-09-02T07:28:23.480066Z",
     "iopub.status.busy": "2025-09-02T07:28:23.479886Z",
     "iopub.status.idle": "2025-09-02T07:28:23.484422Z",
     "shell.execute_reply": "2025-09-02T07:28:23.484113Z",
     "shell.execute_reply.started": "2025-09-02T07:28:23.480052Z"
    }
   },
   "outputs": [],
   "source": [
    "with pl.Config(set_fmt_str_lengths=120, set_tbl_width_chars=1000):\n",
    "    print(\n",
    "        df_journeys.select(\n",
    "            pl.col(\"operator_journey_id\").count().alias(\"Nombre de journeys\"),\n",
    "            pl.col(\"operator_journey_id\")\n",
    "            .filter(pl.col(\"incentive_amount\") > 0)\n",
    "            .count()\n",
    "            .alias(\"Nombre de journeys avec incitation\"),\n",
    "            (\n",
    "                100\n",
    "                * pl.col(\"operator_journey_id\")\n",
    "                .filter(pl.col(\"incentive_amount\") > 0)\n",
    "                .count()\n",
    "                / pl.col(\"operator_journey_id\").count()\n",
    "            ).alias(\"% journeys avec incitation\"),\n",
    "            pl.col(\"incentived_by_aom\")\n",
    "            .sum()\n",
    "            .alias(\"Nombre de journeys avec incitation AOM\"),\n",
    "            (\n",
    "                100\n",
    "                * pl.col(\"incentived_by_aom\").sum()\n",
    "                / pl.col(\"operator_journey_id\").count()\n",
    "            ).alias(\"% journeys avec incitation AOM\"),\n",
    "            pl.col(\"incentived_by_operator\")\n",
    "            .sum()\n",
    "            .alias(\"Nombre de journeys avec incitation opérateur\"),\n",
    "            (\n",
    "                100\n",
    "                * pl.col(\"incentived_by_operator\").sum()\n",
    "                / pl.col(\"operator_journey_id\").count()\n",
    "            ).alias(\"% journeys avec incitation opérateur\"),\n",
    "        )\n",
    "        .with_columns(pl.selectors.all().round(2))\n",
    "        .unpivot()\n",
    "    )"
   ]
  },
  {
   "cell_type": "markdown",
   "id": "2a0905b0-5a10-4869-8cae-bc7bcd4c4116",
   "metadata": {},
   "source": [
    "### Evolution\n"
   ]
  },
  {
   "cell_type": "markdown",
   "id": "c002bff3-2f76-4f0a-8ad2-f7791373e917",
   "metadata": {},
   "source": [
    "#### Globale\n"
   ]
  },
  {
   "cell_type": "code",
   "execution_count": null,
   "id": "0f6e745c-a882-42fa-8bba-60f2bb05820e",
   "metadata": {
    "execution": {
     "iopub.execute_input": "2025-09-02T07:28:52.304448Z",
     "iopub.status.busy": "2025-09-02T07:28:52.304267Z",
     "iopub.status.idle": "2025-09-02T07:28:52.917070Z",
     "shell.execute_reply": "2025-09-02T07:28:52.916561Z",
     "shell.execute_reply.started": "2025-09-02T07:28:52.304435Z"
    }
   },
   "outputs": [],
   "source": [
    "def create_num_journeys_fig(df: pl.DataFrame, x_col: str = \"month\") -> go.Figure:\n",
    "    traces = []\n",
    "    max_y = 0\n",
    "    for name in [\n",
    "        \"num_journeys\",\n",
    "        \"num_journeys_with_aom_incentive\",\n",
    "        \"num_journeys_with_operator_incentive\",\n",
    "    ]:\n",
    "        trace = go.Scatter(\n",
    "            x=df[x_col],\n",
    "            y=df[name],\n",
    "            mode=\"lines+text\" if name == \"num_journeys\" else \"lines\",\n",
    "            textposition=\"top center\",\n",
    "            text=df[name] if name == \"num_journeys\" else None,\n",
    "            name=labels_map.get(name, name),\n",
    "        )\n",
    "        traces.append(trace)\n",
    "        max_y = max(max_y, df[name].max())\n",
    "\n",
    "    fig = go.Figure(traces)\n",
    "\n",
    "    fig.update_layout(\n",
    "        template=\"simple_white\",\n",
    "        title=\"PMGF - Nombre de journeys par mois\",\n",
    "        legend_orientation=\"h\",\n",
    "        legend_y=0.7,\n",
    "        legend_yref=\"container\",\n",
    "    )\n",
    "    fig.update_xaxes(title=\"Mois\" if x_col == \"month\" else \"Semaine\")\n",
    "    fig.update_yaxes(range=[0, max_y * 1.2], showgrid=True, title=\"Nombre de journeys\")\n",
    "    add_campaign_annotations(fig)\n",
    "\n",
    "    return fig\n",
    "\n",
    "\n",
    "fig_journeys_by_month = create_num_journeys_fig(df_stats_by_month)\n",
    "fig_journeys_by_month.show()\n",
    "\n",
    "fig_journeys_by_month.write_html(\"outputs/fig_journeys_par_mois.html\")\n",
    "fig_journeys_by_month.write_image(\n",
    "    \"outputs/fig_journeys_par_mois.svg\", width=1280, height=720\n",
    ")"
   ]
  },
  {
   "cell_type": "markdown",
   "id": "02d1096f-5332-4c53-9c18-34442c0f1be5",
   "metadata": {},
   "source": [
    "#### Opérateur incitateurs\n"
   ]
  },
  {
   "cell_type": "code",
   "execution_count": null,
   "id": "5f90af98-b00b-449f-8999-46d2fea7f3f3",
   "metadata": {
    "execution": {
     "iopub.execute_input": "2025-09-02T07:29:04.353237Z",
     "iopub.status.busy": "2025-09-02T07:29:04.353018Z",
     "iopub.status.idle": "2025-09-02T07:29:04.900437Z",
     "shell.execute_reply": "2025-09-02T07:29:04.899963Z",
     "shell.execute_reply.started": "2025-09-02T07:29:04.353216Z"
    }
   },
   "outputs": [],
   "source": [
    "fig_journeys_by_operator = px.line(\n",
    "    df_journeys.explode(\"incentive_sirets\")\n",
    "    .join(df_operators, left_on=\"incentive_sirets\", right_on=\"siret\", how=\"left\")\n",
    "    .group_by([\"name\", pl.col(\"start_datetime\").dt.truncate(\"1mo\")])\n",
    "    .agg(pl.col(\"operator_journey_id\").n_unique().alias(\"num_journeys\"))\n",
    "    .rename({\"name\": \"operator\", \"start_datetime\": \"month\"})\n",
    "    .sort(\"month\"),\n",
    "    x=\"month\",\n",
    "    y=\"num_journeys\",\n",
    "    color=\"operator\",\n",
    "    template=\"simple_white\",\n",
    "    labels=labels_map,\n",
    "    title=\"Nombre de journeys incités par opérateur\",\n",
    ")\n",
    "fig_journeys_by_operator.update_yaxes(showgrid=True)\n",
    "add_campaign_annotations(fig_journeys_by_operator)\n",
    "fig_journeys_by_operator.show()\n",
    "\n",
    "\n",
    "fig_journeys_by_operator.write_html(\"outputs/fig_journeys_par_operateur_mois.html\")\n",
    "fig_journeys_by_operator.write_image(\n",
    "    \"outputs/fig_journeys_par_operateur_mois.svg\", width=1280, height=720\n",
    ")"
   ]
  },
  {
   "cell_type": "markdown",
   "id": "a57c76c2-a616-4577-8ded-5189c9567f8b",
   "metadata": {},
   "source": [
    "#### intra vs inter\n"
   ]
  },
  {
   "cell_type": "code",
   "execution_count": null,
   "id": "3ecde809-2042-4edc-b09c-f8040bdde0a0",
   "metadata": {
    "execution": {
     "iopub.execute_input": "2025-09-02T07:29:05.354920Z",
     "iopub.status.busy": "2025-09-02T07:29:05.354740Z",
     "iopub.status.idle": "2025-09-02T07:29:05.770359Z",
     "shell.execute_reply": "2025-09-02T07:29:05.769907Z",
     "shell.execute_reply.started": "2025-09-02T07:29:05.354906Z"
    }
   },
   "outputs": [],
   "source": [
    "fig_journeys_by_journey_type = px.line(\n",
    "    df_stats_by_week.with_columns(\n",
    "        (pl.col(\"num_journeys\") - pl.col(\"num_journeys_intra_territory\")).alias(\n",
    "            \"num_journeys_inter_territory\"\n",
    "        )\n",
    "    ),\n",
    "    x=\"week\",\n",
    "    y=[\"num_journeys_intra_territory\", \"num_journeys_inter_territory\"],\n",
    "    template=\"simple_white\",\n",
    "    labels=labels_map,\n",
    "    title=\"Nombre de journeys par type de trajets\",\n",
    ")\n",
    "fig_journeys_by_journey_type.update_traces(\n",
    "    {\"name\": labels_map[\"num_journeys_intra_territory\"]},\n",
    "    selector={\"name\": \"num_journeys_intra_territory\"},\n",
    ")\n",
    "fig_journeys_by_journey_type.update_traces(\n",
    "    {\"name\": labels_map[\"num_journeys_inter_territory\"]},\n",
    "    selector={\"name\": \"num_journeys_inter_territory\"},\n",
    ")\n",
    "fig_journeys_by_journey_type.update_yaxes(showgrid=True, title=\"Nombre de journeys\")\n",
    "add_campaign_annotations(fig_journeys_by_journey_type)\n",
    "fig_journeys_by_journey_type.update_layout(\n",
    "    legend_title=\"\", legend_orientation=\"h\", legend_y=0.7, legend_yref=\"container\"\n",
    ")\n",
    "fig_journeys_by_journey_type.show()\n",
    "\n",
    "\n",
    "fig_journeys_by_journey_type.write_html(\"outputs/fig_journeys_par_type_semaine.html\")\n",
    "fig_journeys_by_journey_type.write_image(\n",
    "    \"outputs/fig_journeys_par_type_semaine.svg\", width=1280, height=720\n",
    ")"
   ]
  },
  {
   "cell_type": "code",
   "execution_count": null,
   "id": "aef1a3a9-a790-4f04-9581-68546d8f1cda",
   "metadata": {
    "execution": {
     "iopub.execute_input": "2025-09-02T07:29:05.859775Z",
     "iopub.status.busy": "2025-09-02T07:29:05.859440Z",
     "iopub.status.idle": "2025-09-02T07:29:06.268817Z",
     "shell.execute_reply": "2025-09-02T07:29:06.268318Z",
     "shell.execute_reply.started": "2025-09-02T07:29:05.859761Z"
    }
   },
   "outputs": [],
   "source": [
    "fig_journeys_share_by_journey_type = px.line(\n",
    "    df_stats_by_week.with_columns(\n",
    "        (pl.col(\"num_journeys\") - pl.col(\"num_journeys_intra_territory\")).alias(\n",
    "            \"num_journeys_inter_territory\"\n",
    "        )\n",
    "    ).with_columns(\n",
    "        (100 * pl.col(\"num_journeys_intra_territory\") / pl.col(\"num_journeys\")).alias(\n",
    "            \"share_journeys_intra_territory\"\n",
    "        ),\n",
    "        (100 * pl.col(\"num_journeys_inter_territory\") / pl.col(\"num_journeys\")).alias(\n",
    "            \"share_journeys_inter_territory\"\n",
    "        ),\n",
    "    ),\n",
    "    x=\"week\",\n",
    "    y=[\"share_journeys_intra_territory\", \"share_journeys_inter_territory\"],\n",
    "    template=\"simple_white\",\n",
    "    labels=labels_map,\n",
    "    title=\"Répartition du type de journeys\",\n",
    ")\n",
    "fig_journeys_share_by_journey_type.update_traces(\n",
    "    {\"name\": labels_map[\"share_journeys_intra_territory\"]},\n",
    "    selector={\"name\": \"share_journeys_intra_territory\"},\n",
    ")\n",
    "fig_journeys_share_by_journey_type.update_traces(\n",
    "    {\"name\": labels_map[\"share_journeys_inter_territory\"]},\n",
    "    selector={\"name\": \"share_journeys_inter_territory\"},\n",
    ")\n",
    "fig_journeys_share_by_journey_type.update_yaxes(\n",
    "    showgrid=True, title=\"% des journeys\", range=[0, 105]\n",
    ")\n",
    "add_campaign_annotations(fig_journeys_share_by_journey_type)\n",
    "fig_journeys_share_by_journey_type.update_layout(\n",
    "    legend_title=\"\", legend_orientation=\"h\", legend_y=0.7, legend_yref=\"container\"\n",
    ")\n",
    "fig_journeys_share_by_journey_type.show()\n",
    "\n",
    "\n",
    "fig_journeys_share_by_journey_type.write_html(\n",
    "    \"outputs/fig_journeys_ratio_par_type_semaine.html\"\n",
    ")\n",
    "fig_journeys_share_by_journey_type.write_image(\n",
    "    \"outputs/fig_journeys_ratio_par_type_semaine.svg\", width=1280, height=720\n",
    ")"
   ]
  },
  {
   "cell_type": "code",
   "execution_count": null,
   "id": "10f342bd-b8b4-4de1-b81f-c14c54c6fb15",
   "metadata": {
    "execution": {
     "iopub.execute_input": "2025-09-02T07:29:06.514804Z",
     "iopub.status.busy": "2025-09-02T07:29:06.514613Z",
     "iopub.status.idle": "2025-09-02T07:29:06.606067Z",
     "shell.execute_reply": "2025-09-02T07:29:06.605760Z",
     "shell.execute_reply.started": "2025-09-02T07:29:06.514789Z"
    }
   },
   "outputs": [],
   "source": [
    "df_journeys_by_campaign_and_distance_cat = (\n",
    "    df_journeys.filter(pl.col(\"campaign_type\") != \"Période 0\")\n",
    "    .group_by([\"campaign_type\", \"is_fully_inside_campaign_area\", \"distance_cat\"])\n",
    "    .agg(pl.col(\"operator_journey_id\").count().alias(\"num_journeys\"))\n",
    "    .with_columns(\n",
    "        pl.when(pl.col(\"is_fully_inside_campaign_area\"))\n",
    "        .then(pl.lit(\"Intra-territoire\"))\n",
    "        .otherwise(pl.lit(\"Inter-territoire\"))\n",
    "        .alias(\"journey_type_label\"),\n",
    "        (\n",
    "            pl.col(\"num_journeys\")\n",
    "            / (\n",
    "                pl.col(\"num_journeys\")\n",
    "                .sum()\n",
    "                .over(partition_by=[\"campaign_type\", \"is_fully_inside_campaign_area\"])\n",
    "            )\n",
    "        ).alias(\"share\"),\n",
    "    )\n",
    ")\n",
    "\n",
    "\n",
    "def create_journeys_share_by_distance_cat_fig(\n",
    "    df: pl.DataFrame, mode_intra_territory: bool = True, title=None\n",
    ") -> go.Figure:\n",
    "    colors = colors_map\n",
    "    cat_labels_map = {\n",
    "        \"[-inf, 5)\": \"0-4 km\",\n",
    "        \"[5, 20)\": \"5-19 km\",\n",
    "        \"[20, 40)\": \"20-39 km\",\n",
    "        \"[40, inf)\": \"40+ km\",\n",
    "        \"[20, 30)\": \"20-29 km\",\n",
    "        \"[30, 40)\": \"30-39 km\",\n",
    "        \"[5, 22)\": \"5-21 km\",\n",
    "        \"[22, inf)\": \"21+ km\",\n",
    "    }\n",
    "    sorting_order = {\n",
    "        \"0-4 km\": 0,\n",
    "        \"5-19 km\": 1,\n",
    "        \"5-21 km\": 1.5,\n",
    "        \"21+ km\": 1.7,\n",
    "        \"20-29 km\": 2,\n",
    "        \"20-39 km\": 2,\n",
    "        \"30-39 km\": 3,\n",
    "        \"40+ km\": 4,\n",
    "    }\n",
    "    traces = []\n",
    "\n",
    "    journey_type_filter_expr = pl.col(\"is_fully_inside_campaign_area\")\n",
    "    if not mode_intra_territory:\n",
    "        journey_type_filter_expr = journey_type_filter_expr.not_()\n",
    "\n",
    "    df = (\n",
    "        df.filter(journey_type_filter_expr)\n",
    "        .with_columns(pl.col(\"distance_cat\").cast(pl.String).replace(cat_labels_map))\n",
    "        .with_columns(\n",
    "            pl.format(\n",
    "                \"<b>{}</b><br>{}%\", \"distance_cat\", (100 * pl.col(\"share\")).round(1)\n",
    "            ).alias(\"text_vals\"),\n",
    "        )\n",
    "    )\n",
    "    for campaign_type in df[\"campaign_type\"].unique().sort(descending=True):\n",
    "        data_campaign = df.filter(pl.col(\"campaign_type\") == campaign_type)\n",
    "        distance_cat_list = data_campaign[\"distance_cat\"].unique().to_list()\n",
    "        distance_cat_list.sort(key=lambda x: sorting_order[x])\n",
    "        for distance_cat in distance_cat_list:\n",
    "            data_distance = data_campaign.filter(pl.col(\"distance_cat\") == distance_cat)\n",
    "            trace = go.Bar(\n",
    "                x=data_distance[\"campaign_type\"],\n",
    "                y=data_distance[\"share\"],\n",
    "                text=data_distance[\"text_vals\"],\n",
    "                marker_color=[colors[campaign_type]],\n",
    "                legendgroup=campaign_type,\n",
    "                legendgrouptitle_text=campaign_type,\n",
    "                name=f\"{distance_cat}\",\n",
    "                marker_line_color=\"white\",\n",
    "                marker_line_width=2,\n",
    "            )\n",
    "            traces.append(trace)\n",
    "\n",
    "    fig = go.Figure(traces)\n",
    "    fig.update_layout(\n",
    "        barmode=\"stack\",\n",
    "        template=\"simple_white\",\n",
    "        legend_groupclick=\"toggleitem\",\n",
    "        legend_grouptitlefont_color=\"black\",\n",
    "        height=500,\n",
    "        title=title,\n",
    "    )\n",
    "    fig.update_yaxes(\n",
    "        showgrid=True,\n",
    "        title=\"% des trajets\",\n",
    "        tickformat=\",.0%\",\n",
    "    )\n",
    "    return fig"
   ]
  },
  {
   "cell_type": "code",
   "execution_count": null,
   "id": "a3928db3-985d-46b3-afdf-2dc1569358af",
   "metadata": {
    "execution": {
     "iopub.execute_input": "2025-09-02T07:29:06.992781Z",
     "iopub.status.busy": "2025-09-02T07:29:06.992593Z",
     "iopub.status.idle": "2025-09-02T07:29:07.397298Z",
     "shell.execute_reply": "2025-09-02T07:29:07.396797Z",
     "shell.execute_reply.started": "2025-09-02T07:29:06.992767Z"
    }
   },
   "outputs": [],
   "source": [
    "fig_journeys_share_by_distance_cat = create_journeys_share_by_distance_cat_fig(\n",
    "    df_journeys_by_campaign_and_distance_cat,\n",
    "    True,\n",
    "    \"Répartition des journeys par classes de distance - Trajets <i>intra</i>\",\n",
    ")\n",
    "fig_journeys_share_by_distance_cat.show()\n",
    "\n",
    "fig_journeys_share_by_distance_cat.write_html(\n",
    "    \"outputs/fig_journeys_ratio_par_distance_cat_intra.html\"\n",
    ")\n",
    "fig_journeys_share_by_distance_cat.write_image(\n",
    "    \"outputs/fig_journeys_ratio_par_distance_cat_intra.svg\", width=1280, height=720\n",
    ")"
   ]
  },
  {
   "cell_type": "code",
   "execution_count": null,
   "id": "d15bbf73-36c5-4a0a-ae4f-b05a011c45c7",
   "metadata": {
    "execution": {
     "iopub.status.busy": "2025-09-02T07:29:07.397527Z",
     "iopub.status.idle": "2025-09-02T07:29:07.397667Z",
     "shell.execute_reply": "2025-09-02T07:29:07.397605Z",
     "shell.execute_reply.started": "2025-09-02T07:29:07.397597Z"
    }
   },
   "outputs": [],
   "source": [
    "fig_journeys_share_by_distance_cat_inter = create_journeys_share_by_distance_cat_fig(\n",
    "    df_journeys_by_campaign_and_distance_cat,\n",
    "    False,\n",
    "    \"Répartition des journeys par classes de distance - Trajets <i>inter</i>\",\n",
    ")\n",
    "fig_journeys_share_by_distance_cat_inter.show()\n",
    "\n",
    "fig_journeys_share_by_distance_cat_inter.write_html(\n",
    "    \"outputs/fig_journeys_ratio_par_distance_cat_inter.html\"\n",
    ")\n",
    "fig_journeys_share_by_distance_cat_inter.write_image(\n",
    "    \"outputs/fig_journeys_ratio_par_distance_cat_inter.svg\", width=1280, height=720\n",
    ")"
   ]
  },
  {
   "cell_type": "markdown",
   "id": "6c6b69ad-bcbe-4d2b-a209-0b9063048a98",
   "metadata": {},
   "source": [
    "## Prix, revenus et incitations\n"
   ]
  },
  {
   "cell_type": "code",
   "execution_count": null,
   "id": "61e8a9d6-40eb-4bf6-8c05-79d6e8169190",
   "metadata": {
    "execution": {
     "iopub.execute_input": "2025-09-02T07:29:08.113405Z",
     "iopub.status.busy": "2025-09-02T07:29:08.113205Z",
     "iopub.status.idle": "2025-09-02T07:29:08.116858Z",
     "shell.execute_reply": "2025-09-02T07:29:08.116503Z",
     "shell.execute_reply.started": "2025-09-02T07:29:08.113379Z"
    }
   },
   "outputs": [],
   "source": [
    "def create_scatter_fig_prices(\n",
    "    df: pl.DataFrame, stats_cols: list[str], x_col: str, title: str\n",
    ") -> go.Figure:\n",
    "    traces = []\n",
    "    for name in stats_cols:\n",
    "        trace = go.Scatter(\n",
    "            x=df[x_col],\n",
    "            y=df[name],\n",
    "            name=labels_map.get(name, name),\n",
    "            mode=\"lines+markers\",\n",
    "            marker_size=4,\n",
    "        )\n",
    "        traces.append(trace)\n",
    "    fig = go.Figure(traces)\n",
    "    add_campaign_annotations(fig)\n",
    "    fig.update_layout(\n",
    "        template=\"simple_white\",\n",
    "        title=title,\n",
    "        legend_orientation=\"h\",\n",
    "        legend_y=0.7,\n",
    "        legend_yref=\"container\",\n",
    "    )\n",
    "\n",
    "    max_y = df.select(stats_cols).max().max_horizontal().item()\n",
    "\n",
    "    fig.update_yaxes(\n",
    "        range=[0, max_y * 1.2],\n",
    "        title=\"Montant (euros)\",\n",
    "        showgrid=True,\n",
    "        gridwidth=2,\n",
    "        ticksuffix=\"€\",\n",
    "    )\n",
    "    fig.update_xaxes(title=\"Mois\" if x_col == \"month\" else \"Semaine\")\n",
    "\n",
    "    return fig"
   ]
  },
  {
   "cell_type": "code",
   "execution_count": null,
   "id": "5ff6f327-6399-41b4-8a0f-01ab78d09514",
   "metadata": {
    "execution": {
     "iopub.execute_input": "2025-09-02T07:29:08.378113Z",
     "iopub.status.busy": "2025-09-02T07:29:08.377776Z",
     "iopub.status.idle": "2025-09-02T07:29:08.793920Z",
     "shell.execute_reply": "2025-09-02T07:29:08.793414Z",
     "shell.execute_reply.started": "2025-09-02T07:29:08.378096Z"
    }
   },
   "outputs": [],
   "source": [
    "fig_prices_by_week = create_scatter_fig_prices(\n",
    "    df_stats_by_week,\n",
    "    [\n",
    "        \"incentive_amount_avg\",\n",
    "        \"passenger_contribution_avg\",\n",
    "        \"driver_revenue_avg\",\n",
    "    ],\n",
    "    \"week\",\n",
    "    (\n",
    "        \"Montants moyens par trajet des incitations,\"\n",
    "        \"<br>contributions passagers et revenus conducteurs\"\n",
    "    ),\n",
    ")\n",
    "fig_prices_by_week.show()\n",
    "\n",
    "\n",
    "fig_prices_by_week.write_html(\"outputs/fig_prix_par_semaine.html\")\n",
    "fig_prices_by_week.write_image(\n",
    "    \"outputs/fig_prix_par_semaine.svg\", width=1280, height=720\n",
    ")"
   ]
  },
  {
   "cell_type": "code",
   "execution_count": null,
   "id": "07f29d8a-529a-4cb5-9e25-a2eba158fbec",
   "metadata": {
    "execution": {
     "iopub.status.busy": "2025-09-02T07:29:08.794112Z",
     "iopub.status.idle": "2025-09-02T07:29:08.794225Z",
     "shell.execute_reply": "2025-09-02T07:29:08.794174Z",
     "shell.execute_reply.started": "2025-09-02T07:29:08.794168Z"
    }
   },
   "outputs": [],
   "source": [
    "fig_prices_by_week_intra = create_scatter_fig_prices(\n",
    "    df_stats_by_week,\n",
    "    [\n",
    "        \"incentive_amount_intra_avg\",\n",
    "        \"passenger_contribution_intra_avg\",\n",
    "        \"driver_revenue_intra_avg\",\n",
    "    ],\n",
    "    \"week\",\n",
    "    (\n",
    "        \"Montants moyens par trajet <b>intra</b> des incitations,\"\n",
    "        \"<br>contributions passagers et revenus conducteurs\"\n",
    "    ),\n",
    ")\n",
    "fig_prices_by_week_intra.show()\n",
    "\n",
    "\n",
    "fig_prices_by_week_intra.write_html(\"outputs/fig_prix_intra_par_semaine.html\")\n",
    "fig_prices_by_week_intra.write_image(\n",
    "    \"outputs/fig_prix_intra_par_semaine.svg\", width=1280, height=720\n",
    ")"
   ]
  },
  {
   "cell_type": "code",
   "execution_count": null,
   "id": "0b27599e-e2b0-4b75-aa9d-db3cacc15d4c",
   "metadata": {
    "execution": {
     "iopub.execute_input": "2025-09-02T07:29:08.856653Z",
     "iopub.status.busy": "2025-09-02T07:29:08.856358Z",
     "iopub.status.idle": "2025-09-02T07:29:09.272347Z",
     "shell.execute_reply": "2025-09-02T07:29:09.271837Z",
     "shell.execute_reply.started": "2025-09-02T07:29:08.856640Z"
    }
   },
   "outputs": [],
   "source": [
    "fig_prices_by_week_inter = create_scatter_fig_prices(\n",
    "    df_stats_by_week,\n",
    "    [\n",
    "        \"incentive_amount_inter_avg\",\n",
    "        \"passenger_contribution_inter_avg\",\n",
    "        \"driver_revenue_inter_avg\",\n",
    "    ],\n",
    "    \"week\",\n",
    "    (\n",
    "        \"Montants moyens par trajet <b>inter</b> des incitations,\"\n",
    "        \"<br>contributions passagers et revenus conducteurs\"\n",
    "    ),\n",
    ")\n",
    "fig_prices_by_week_inter.show()\n",
    "\n",
    "\n",
    "fig_prices_by_week_inter.write_html(\"outputs/fig_prix_inter_par_semaine.html\")\n",
    "fig_prices_by_week_inter.write_image(\n",
    "    \"outputs/fig_prix_inter_par_semaine.svg\", width=1280, height=720\n",
    ")"
   ]
  },
  {
   "cell_type": "code",
   "execution_count": null,
   "id": "2051f898-2d81-47e8-98b8-8e8f827c5cc0",
   "metadata": {
    "execution": {
     "iopub.status.busy": "2025-09-02T07:29:09.272604Z",
     "iopub.status.idle": "2025-09-02T07:29:09.272727Z",
     "shell.execute_reply": "2025-09-02T07:29:09.272672Z",
     "shell.execute_reply.started": "2025-09-02T07:29:09.272666Z"
    }
   },
   "outputs": [],
   "source": [
    "fig_prices_per_km_by_week = create_scatter_fig_prices(\n",
    "    df_stats_by_week,\n",
    "    [\n",
    "        \"incentive_amount_per_km_avg\",\n",
    "        \"passenger_contribution_per_km_avg\",\n",
    "        \"driver_revenue_per_km_avg\",\n",
    "    ],\n",
    "    \"week\",\n",
    "    (\n",
    "        \"Montants moyens <b>par km</b> par trajet des incitations,\"\n",
    "        \"<br>contributions passagers et revenus conducteurs\"\n",
    "    ),\n",
    ")\n",
    "fig_prices_per_km_by_week.show()\n",
    "\n",
    "\n",
    "fig_prices_per_km_by_week.write_html(\"outputs/fig_prix_par_km_par_semaine.html\")\n",
    "fig_prices_per_km_by_week.write_image(\n",
    "    \"outputs/fig_prix_par_km_par_semaine.svg\", width=1280, height=720\n",
    ")"
   ]
  },
  {
   "cell_type": "markdown",
   "id": "e1dbbfd0-9d47-44a5-baa7-ad112cc695d8",
   "metadata": {},
   "source": [
    "### Incitation par rapport à la distance\n"
   ]
  },
  {
   "cell_type": "code",
   "execution_count": null,
   "id": "f2860594-b28d-4eb5-a66c-c04b65cb085a",
   "metadata": {
    "execution": {
     "iopub.execute_input": "2025-09-02T07:29:09.474406Z",
     "iopub.status.busy": "2025-09-02T07:29:09.474059Z",
     "iopub.status.idle": "2025-09-02T07:29:09.608359Z",
     "shell.execute_reply": "2025-09-02T07:29:09.608069Z",
     "shell.execute_reply.started": "2025-09-02T07:29:09.474382Z"
    }
   },
   "outputs": [],
   "source": [
    "px.scatter(\n",
    "    df_journeys.filter(\n",
    "        pl.col(\"amount_aom\").is_not_null()\n",
    "        & (pl.col(\"incentive_sirets\") == [\"20007537200017\"])\n",
    "        & (pl.col(\"campaign_type\") != \"Période 0\")\n",
    "        & (pl.col(\"is_fully_inside_campaign_area\").not_())\n",
    "    )\n",
    "    .with_columns(pl.col(\"distance\") / 1000)\n",
    "    .unpivot(\n",
    "        on=[\"amount_aom\", \"passenger_contribution\", \"driver_revenue\"],\n",
    "        index=[\"_id\", \"distance\", \"campaign_type\"],\n",
    "    )\n",
    "    .sort(\"distance\"),\n",
    "    x=\"distance\",\n",
    "    y=\"value\",\n",
    "    color=\"variable\",\n",
    "    symbol=\"campaign_type\",\n",
    "    template=\"simple_white\",\n",
    ")"
   ]
  },
  {
   "cell_type": "code",
   "execution_count": null,
   "id": "e4b7f71d-e16d-416d-b47d-40738d4c0dc1",
   "metadata": {
    "execution": {
     "iopub.execute_input": "2025-09-02T07:29:09.887924Z",
     "iopub.status.busy": "2025-09-02T07:29:09.887515Z",
     "iopub.status.idle": "2025-09-02T07:29:10.038223Z",
     "shell.execute_reply": "2025-09-02T07:29:10.037874Z",
     "shell.execute_reply.started": "2025-09-02T07:29:09.887905Z"
    }
   },
   "outputs": [],
   "source": [
    "df_incentive_aom_by_distance = (\n",
    "    df_journeys.filter(\n",
    "        pl.col(\"amount_aom\").is_not_null()\n",
    "        & (pl.col(\"campaign_type\") != \"Période 0\")\n",
    "        & (pl.col(\"incentive_sirets\") == [\"20007537200017\"])\n",
    "        & (pl.col(\"is_fully_inside_campaign_area\").not_())\n",
    "    )\n",
    "    .with_columns(\n",
    "        pl.col(\"distance\") / 1000,\n",
    "        pl.col(\"driver_revenue\")\n",
    "        .cum_sum()\n",
    "        .over(\n",
    "            partition_by=[\n",
    "                \"driver_identity_key\",\n",
    "                pl.col(\"start_datetime\").dt.truncate(\"1mo\"),\n",
    "            ],\n",
    "            order_by=\"start_datetime\",\n",
    "        )\n",
    "        .alias(\"driver_revenue_cumsum\"),\n",
    "    )\n",
    "    .filter(pl.col(\"driver_revenue_cumsum\") <= 5000)\n",
    "    .group_by(\n",
    "        [\n",
    "            pl.col(\"campaign_type\"),\n",
    "            pl.col(\"distance\").cut(\n",
    "                list(range(0, 100, 5)), include_breaks=True, left_closed=True\n",
    "            ),\n",
    "        ]\n",
    "    )\n",
    "    .agg(\n",
    "        pl.len(),\n",
    "        (pl.col(\"amount_aom\") / 100).mean().alias(\"Incitation AOM\"),\n",
    "        (pl.col(\"passenger_contribution\") / 100).alias(\"Contribution passager\").mean(),\n",
    "        (pl.col(\"driver_revenue\") / 100).alias(\"Revenu conducteur\").mean(),\n",
    "    )\n",
    "    .with_columns(pl.col(\"distance\").struct.unnest())\n",
    "    .unpivot(\n",
    "        on=[\"Incitation AOM\", \"Contribution passager\", \"Revenu conducteur\"],\n",
    "        index=[\"breakpoint\", \"category\", \"campaign_type\"],\n",
    "    )\n",
    "    .sort([\"campaign_type\", \"breakpoint\"])\n",
    ")"
   ]
  },
  {
   "cell_type": "code",
   "execution_count": null,
   "id": "a5883a72-4207-4052-b5d8-07654bf4b7fd",
   "metadata": {
    "execution": {
     "iopub.execute_input": "2025-09-02T07:29:10.076062Z",
     "iopub.status.busy": "2025-09-02T07:29:10.075712Z",
     "iopub.status.idle": "2025-09-02T07:29:10.494353Z",
     "shell.execute_reply": "2025-09-02T07:29:10.493858Z",
     "shell.execute_reply.started": "2025-09-02T07:29:10.076041Z"
    }
   },
   "outputs": [],
   "source": [
    "fig_incentive_aom_by_distance = px.line(\n",
    "    df_incentive_aom_by_distance,\n",
    "    x=\"breakpoint\",\n",
    "    y=\"value\",\n",
    "    color=\"variable\",\n",
    "    line_dash=\"campaign_type\",\n",
    "    template=\"simple_white\",\n",
    "    height=800,\n",
    "    labels={**labels_map, \"breakpoint\": \"Distance\", \"value\": \"Montant (€)\"},\n",
    ")\n",
    "\n",
    "fig_incentive_aom_by_distance.update_layout(\n",
    "    legend_title=\"\",\n",
    "    title=\"Montants moyens du revenu conducteur, contribution passager et incitation AOM en fonction de la distance\"\n",
    "    \"<br><sub>Uniquement les trajets inter, intervalles de distance de 5km.</sub>\",\n",
    ")\n",
    "fig_incentive_aom_by_distance.show()\n",
    "\n",
    "fig_incentive_aom_by_distance.write_html(\"outputs/fig_incitation_aom_par_distance.html\")\n",
    "fig_incentive_aom_by_distance.write_image(\n",
    "    \"outputs/fig_incitation_aom_par_distance.svg\", width=1280, height=720\n",
    ")"
   ]
  },
  {
   "cell_type": "code",
   "execution_count": null,
   "id": "707a18ab-47ef-4240-8df9-ff344ae3e4c1",
   "metadata": {
    "execution": {
     "iopub.execute_input": "2025-09-02T07:29:10.797233Z",
     "iopub.status.busy": "2025-09-02T07:29:10.797017Z",
     "iopub.status.idle": "2025-09-02T07:29:10.866166Z",
     "shell.execute_reply": "2025-09-02T07:29:10.865774Z",
     "shell.execute_reply.started": "2025-09-02T07:29:10.797220Z"
    }
   },
   "outputs": [],
   "source": [
    "df_incentive_aom_by_distance_intra = (\n",
    "    df_journeys.filter(\n",
    "        pl.col(\"amount_aom\").is_not_null()\n",
    "        & (pl.col(\"campaign_type\") != \"Période 0\")\n",
    "        & (pl.col(\"incentive_sirets\") == [\"20007537200017\"])\n",
    "        & (pl.col(\"is_fully_inside_campaign_area\"))\n",
    "    )\n",
    "    .with_columns(\n",
    "        pl.col(\"distance\") / 1000,\n",
    "        pl.col(\"driver_revenue\")\n",
    "        .cum_sum()\n",
    "        .over(\n",
    "            partition_by=[\n",
    "                \"driver_identity_key\",\n",
    "                pl.col(\"start_datetime\").dt.truncate(\"1mo\"),\n",
    "            ],\n",
    "            order_by=\"start_datetime\",\n",
    "        )\n",
    "        .alias(\"driver_revenue_cumsum\"),\n",
    "    )\n",
    "    .filter(pl.col(\"driver_revenue_cumsum\") <= 5000)\n",
    "    .group_by(\n",
    "        [\n",
    "            pl.col(\"campaign_type\"),\n",
    "            pl.col(\"distance\").cut(\n",
    "                list(range(0, 100, 5)), include_breaks=True, left_closed=True\n",
    "            ),\n",
    "        ]\n",
    "    )\n",
    "    .agg(\n",
    "        pl.len(),\n",
    "        (pl.col(\"amount_aom\") / 100).mean().alias(\"Incitation AOM\"),\n",
    "        (pl.col(\"passenger_contribution\") / 100).alias(\"Contribution passager\").mean(),\n",
    "        (pl.col(\"driver_revenue\") / 100).alias(\"Revenu conducteur\").mean(),\n",
    "    )\n",
    "    .with_columns(pl.col(\"distance\").struct.unnest())\n",
    "    .unpivot(\n",
    "        on=[\"Incitation AOM\", \"Contribution passager\", \"Revenu conducteur\"],\n",
    "        index=[\"breakpoint\", \"category\", \"campaign_type\"],\n",
    "    )\n",
    "    .sort([\"campaign_type\", \"breakpoint\"])\n",
    ")"
   ]
  },
  {
   "cell_type": "code",
   "execution_count": null,
   "id": "ab5e74ac-3018-455a-9dbb-e6e540e262af",
   "metadata": {
    "execution": {
     "iopub.execute_input": "2025-09-02T07:29:11.192058Z",
     "iopub.status.busy": "2025-09-02T07:29:11.191766Z",
     "iopub.status.idle": "2025-09-02T07:29:11.595197Z",
     "shell.execute_reply": "2025-09-02T07:29:11.594655Z",
     "shell.execute_reply.started": "2025-09-02T07:29:11.192043Z"
    }
   },
   "outputs": [],
   "source": [
    "fig_incentive_aom_by_distance_intra = px.line(\n",
    "    df_incentive_aom_by_distance_intra,\n",
    "    x=\"breakpoint\",\n",
    "    y=\"value\",\n",
    "    color=\"variable\",\n",
    "    line_dash=\"campaign_type\",\n",
    "    template=\"simple_white\",\n",
    "    height=800,\n",
    "    labels={**labels_map, \"breakpoint\": \"Distance\", \"value\": \"Montant (€)\"},\n",
    ")\n",
    "\n",
    "fig_incentive_aom_by_distance_intra.update_layout(\n",
    "    legend_title=\"\",\n",
    "    title=\"Montants moyens du revenu conducteur, contribution passager et incitation AOM en fonction de la distance\"\n",
    "    \"<br><sub>Uniquement les trajets intra, intervalles de distance de 5km.</sub>\",\n",
    ")\n",
    "fig_incentive_aom_by_distance_intra.show()\n",
    "\n",
    "fig_incentive_aom_by_distance_intra.write_html(\n",
    "    \"outputs/fig_incitation_aom_par_distance_intra.html\"\n",
    ")\n",
    "fig_incentive_aom_by_distance_intra.write_image(\n",
    "    \"outputs/fig_incitation_aom_par_distance_intra.svg\", width=1280, height=720\n",
    ")"
   ]
  },
  {
   "cell_type": "markdown",
   "id": "9cdf6df4-f0fc-4772-a7d8-20c679eadfd3",
   "metadata": {},
   "source": [
    "## Incitateurs\n"
   ]
  },
  {
   "cell_type": "code",
   "execution_count": null,
   "id": "697d95de-1cf6-4ec9-8d8d-7fc0527f05cc",
   "metadata": {
    "execution": {
     "iopub.execute_input": "2025-09-02T07:29:11.961214Z",
     "iopub.status.busy": "2025-09-02T07:29:11.961020Z",
     "iopub.status.idle": "2025-09-02T07:29:13.129455Z",
     "shell.execute_reply": "2025-09-02T07:29:13.129149Z",
     "shell.execute_reply.started": "2025-09-02T07:29:11.961201Z"
    }
   },
   "outputs": [],
   "source": [
    "df_incitators_by_month = (\n",
    "    (\n",
    "        df_journeys.group_by(\n",
    "            pl.col(\"start_datetime\").dt.truncate(\"1mo\"),\n",
    "            pl.col(\"incentive_sirets\").list.sort(),\n",
    "        )\n",
    "        .agg(pl.col(\"_id\").n_unique().alias(\"num_journeys\"))\n",
    "        .with_columns(\n",
    "            pl.col(\"incentive_sirets\")\n",
    "            .list.join(\", \")\n",
    "            .replace(\n",
    "                {\n",
    "                    \"80820346700051\": \"ECOV\",\n",
    "                    \"20007537200017\": \"PMGF\",\n",
    "                    \"34409790200037\": \"ALLERGAN INDUSTRIE\",\n",
    "                    \"20007085200013\": \"COMMUNAUTE DE COMMUNES USSES ET RHONE\",\n",
    "                    \"49190454600034\": \"BBC\",\n",
    "                    \"20004035000015\": \"CC BUGEY SUD\",\n",
    "                    \"20007537200017, 34409790200037\": \"PMGF, ALLERGAN INDUSTRIE\",\n",
    "                    \"20004035000015, 49190454600034\": \"CC BUGEY SUD, BBC\",\n",
    "                    \"37937771600012\": \"NAEF IMMOBILIER\",\n",
    "                    \"20007537200017, 37937771600012\": \"PMGF, NAEF IMMOBILIER\",\n",
    "                    \"49985825600013\": \"SWISSPORT\",\n",
    "                    \"20007537200017, 49985825600013\": \"PMGF, SWISSPORT\",\n",
    "                    \"20005379100014\": \"REGION OCCITANIE\",\n",
    "                    \"20007537200017, 49190454600034\": \"PMGF, BBC\",\n",
    "                    \"80279897500024\": \"KAROS MOBILITY\",\n",
    "                    \"20007196700018\": \"COMMUNAUTE DE COMMUNES PAYS D'EVIAN VALLEE D'ABONDANCE\",\n",
    "                    \"20007537200017, 64203606500075\": \"PMGF, HILTON\",\n",
    "                    \"30295849100946\": \"CREDIT AGRICOLE\",\n",
    "                }\n",
    "            )\n",
    "        )\n",
    "    )\n",
    "    .sort([\"start_datetime\", \"incentive_sirets\"])\n",
    "    .filter(pl.col(\"num_journeys\") > 10)\n",
    ")"
   ]
  },
  {
   "cell_type": "code",
   "execution_count": null,
   "id": "1e65d459-17df-4457-b94e-5c45fda35097",
   "metadata": {
    "execution": {
     "iopub.execute_input": "2025-09-02T07:29:13.130091Z",
     "iopub.status.busy": "2025-09-02T07:29:13.129976Z",
     "iopub.status.idle": "2025-09-02T07:29:13.168898Z",
     "shell.execute_reply": "2025-09-02T07:29:13.168625Z",
     "shell.execute_reply.started": "2025-09-02T07:29:13.130081Z"
    }
   },
   "outputs": [],
   "source": [
    "fig_incitators_by_month = px.line(\n",
    "    df_incitators_by_month,\n",
    "    x=\"start_datetime\",\n",
    "    y=\"num_journeys\",\n",
    "    color=\"incentive_sirets\",\n",
    "    template=\"simple_white\",\n",
    "    labels=labels_map,\n",
    ")\n",
    "\n",
    "add_campaign_annotations(fig_incitators_by_month, label_position=\"inside top left\")\n",
    "\n",
    "fig_incitators_by_month.update_layout(height=800)\n",
    "fig_incitators_by_month.show()"
   ]
  },
  {
   "cell_type": "markdown",
   "id": "524b2a7f-bccf-4bef-bdcf-622613c9e89f",
   "metadata": {},
   "source": [
    "## Distance\n"
   ]
  },
  {
   "cell_type": "code",
   "execution_count": null,
   "id": "d14ae1d8-8f9a-4286-bab4-c82dfd4b749e",
   "metadata": {
    "execution": {
     "iopub.execute_input": "2025-09-02T07:29:14.623300Z",
     "iopub.status.busy": "2025-09-02T07:29:14.623130Z",
     "iopub.status.idle": "2025-09-02T07:29:14.632105Z",
     "shell.execute_reply": "2025-09-02T07:29:14.631837Z",
     "shell.execute_reply.started": "2025-09-02T07:29:14.623289Z"
    }
   },
   "outputs": [],
   "source": [
    "campaign_types_map_sort = {\n",
    "    \"Période 0\": 0,\n",
    "    \"Période 1\": 1,\n",
    "    \"Période 2\": 2,\n",
    "}\n",
    "\n",
    "df_journeys.with_columns(campaign_type_expr).group_by(\"campaign_type\").agg(\n",
    "    (pl.col(\"distance\") / 1000).mean().round(2)\n",
    ").sort(\n",
    "    pl.col(\"campaign_type\").replace_strict(\n",
    "        campaign_types_map_sort, return_dtype=pl.Int8\n",
    "    )\n",
    ")"
   ]
  },
  {
   "cell_type": "code",
   "execution_count": null,
   "id": "bf66a045-e4a7-402c-9ec0-a9885a950451",
   "metadata": {
    "execution": {
     "iopub.execute_input": "2025-09-02T07:29:15.126578Z",
     "iopub.status.busy": "2025-09-02T07:29:15.126400Z",
     "iopub.status.idle": "2025-09-02T07:29:15.535041Z",
     "shell.execute_reply": "2025-09-02T07:29:15.534585Z",
     "shell.execute_reply.started": "2025-09-02T07:29:15.126565Z"
    }
   },
   "outputs": [],
   "source": [
    "fig_distance_by_week = px.line(\n",
    "    df_stats_by_week,\n",
    "    x=\"week\",\n",
    "    y=\"distance_avg\",\n",
    "    title=\"Distance moyenne des trajets\",\n",
    "    template=\"simple_white\",\n",
    "    labels=labels_map,\n",
    ")\n",
    "\n",
    "fig_distance_by_week.update_yaxes(\n",
    "    range=[0, df_stats_by_week.select(\"distance_avg\").max().item() * 1.2],\n",
    "    tickvals=list(range(0, 45, 5)),\n",
    "    showgrid=True,\n",
    "    side=\"right\",\n",
    "    title=\"Distance (km)\",\n",
    ")\n",
    "add_campaign_annotations(fig_distance_by_week)\n",
    "fig_distance_by_week.show()\n",
    "\n",
    "fig_distance_by_week.write_html(\"outputs/fig_distance_par_semaine.html\")\n",
    "fig_distance_by_week.write_image(\n",
    "    \"outputs/fig_distance_par_semaine.svg\", width=1280, height=720\n",
    ")"
   ]
  },
  {
   "cell_type": "code",
   "execution_count": null,
   "id": "22a2152b-3f61-4680-8e90-e28057a42385",
   "metadata": {
    "execution": {
     "iopub.execute_input": "2025-09-02T07:29:15.600080Z",
     "iopub.status.busy": "2025-09-02T07:29:15.599791Z",
     "iopub.status.idle": "2025-09-02T07:29:15.784711Z",
     "shell.execute_reply": "2025-09-02T07:29:15.784373Z",
     "shell.execute_reply.started": "2025-09-02T07:29:15.600067Z"
    }
   },
   "outputs": [],
   "source": [
    "fig_distance_boxplots_by_campaign = px.box(\n",
    "    df_journeys.with_columns(campaign_type_expr, pl.col(\"distance\") / 1000),\n",
    "    x=\"campaign_type\",\n",
    "    y=\"distance\",\n",
    "    template=\"simple_white\",\n",
    "    labels=labels_map,\n",
    "    title=\"Box plots de la distribution de la distance en fonction de la campagne\",\n",
    "    color_discrete_map=colors_map,\n",
    ")\n",
    "fig_distance_boxplots_by_campaign.update_yaxes(range=[0, 150], title=\"Distnace (km)\")\n",
    "fig_distance_boxplots_by_campaign.show()"
   ]
  },
  {
   "cell_type": "code",
   "execution_count": null,
   "id": "41f61695-4f8f-42b8-b9a3-55e4eeb3d207",
   "metadata": {
    "execution": {
     "iopub.execute_input": "2025-09-02T07:29:16.192211Z",
     "iopub.status.busy": "2025-09-02T07:29:16.192037Z",
     "iopub.status.idle": "2025-09-02T07:29:16.196858Z",
     "shell.execute_reply": "2025-09-02T07:29:16.196581Z",
     "shell.execute_reply.started": "2025-09-02T07:29:16.192198Z"
    }
   },
   "outputs": [],
   "source": [
    "def create_campaign_distance_hist_fig(\n",
    "    df: pl.DataFrame,\n",
    "    bin_size: int,\n",
    "    intra_filter: bool | None = None,\n",
    "    use_share: bool = True,\n",
    ") -> go.Figure:\n",
    "    title_suffix = \"\"\n",
    "    if intra_filter is not None:\n",
    "        df = df.filter(\n",
    "            pl.col(\"is_fully_inside_campaign_area\")\n",
    "            if intra_filter\n",
    "            else pl.col(\"is_fully_inside_campaign_area\").not_()\n",
    "        )\n",
    "        title_suffix = \" - Trajets Intra\" if intra_filter else \" - Trajets Inter\"\n",
    "\n",
    "    df_distance_binned_by_campaign = (\n",
    "        df.with_columns(campaign_type_expr, pl.col(\"distance\") / 1000)\n",
    "        .group_by(\n",
    "            [\n",
    "                pl.col(\"campaign_type\"),\n",
    "                pl.col(\"distance\").cut(\n",
    "                    range(0, 102, bin_size), include_breaks=True, left_closed=True\n",
    "                ),\n",
    "            ]\n",
    "        )\n",
    "        .len()\n",
    "        .with_columns(pl.col(\"distance\").struct.unnest())\n",
    "        .with_columns(\n",
    "            pl.col(\"category\")\n",
    "            .cast(pl.String)\n",
    "            .str.extract(r\"\\[([0-9]+)\\,\", 1)\n",
    "            .cast(pl.Int8)\n",
    "            .alias(\"category_clean\"),\n",
    "            (\n",
    "                100\n",
    "                * pl.col(\"len\")\n",
    "                / pl.col(\"len\").sum().over(partition_by=\"campaign_type\")\n",
    "            )\n",
    "            .round(2)\n",
    "            .alias(\"share\"),\n",
    "        )\n",
    "    ).sort([\"campaign_type\", \"distance\"])\n",
    "    df_distance_binned_by_campaign\n",
    "    traces = []\n",
    "\n",
    "    value_col = \"share\"\n",
    "    y_axis_title = \"% des trajets\"\n",
    "    opacity = 0.7\n",
    "    if not use_share:\n",
    "        value_col = \"len\"\n",
    "        y_axis_title = \"Nombre de journeys\"\n",
    "        opacity = 1\n",
    "\n",
    "    for campaign in df_distance_binned_by_campaign[\"campaign_type\"].unique().sort():\n",
    "        data = df_distance_binned_by_campaign.filter(\n",
    "            pl.col(\"campaign_type\") == campaign\n",
    "        ).sort(\"category\")\n",
    "        bar = go.Bar(\n",
    "            x=data[\"category\"],\n",
    "            y=data[value_col],\n",
    "            name=labels_map.get(campaign, campaign),\n",
    "            opacity=opacity,\n",
    "            visible=True if campaign != \"Période 0\" else \"legendonly\",\n",
    "            marker_line_width=0,\n",
    "            width=1,\n",
    "            marker_color=colors_map.get(campaign),\n",
    "        )\n",
    "        traces.append(bar)\n",
    "    fig = go.Figure(traces)\n",
    "    fig.update_layout(\n",
    "        barmode=\"overlay\",\n",
    "        template=\"simple_white\",\n",
    "        title=f\"Distribution des distances effectuées dans les différentes campagnes{title_suffix}\",\n",
    "    )\n",
    "    fig.update_yaxes(title=y_axis_title)\n",
    "    fig.update_xaxes(title=\"Distance (km)\")\n",
    "\n",
    "    return fig"
   ]
  },
  {
   "cell_type": "code",
   "execution_count": null,
   "id": "cb16efce-79b5-467d-9884-359c49e5fe34",
   "metadata": {
    "execution": {
     "iopub.execute_input": "2025-09-02T07:29:16.577158Z",
     "iopub.status.busy": "2025-09-02T07:29:16.576830Z",
     "iopub.status.idle": "2025-09-02T07:29:16.998143Z",
     "shell.execute_reply": "2025-09-02T07:29:16.997691Z",
     "shell.execute_reply.started": "2025-09-02T07:29:16.577143Z"
    }
   },
   "outputs": [],
   "source": [
    "fig_campaign_distance_hist = create_campaign_distance_hist_fig(df_journeys, 5, None)\n",
    "fig_campaign_distance_hist.show()\n",
    "\n",
    "fig_campaign_distance_hist.write_html(\"outputs/fig_histo_distance.html\")\n",
    "fig_campaign_distance_hist.write_image(\n",
    "    \"outputs/fig_histo_distance.svg\", width=1280, height=720\n",
    ")"
   ]
  },
  {
   "cell_type": "code",
   "execution_count": null,
   "id": "814f5990-d4b7-4706-a202-eea44aed82f9",
   "metadata": {
    "execution": {
     "iopub.execute_input": "2025-09-02T07:29:17.196456Z",
     "iopub.status.busy": "2025-09-02T07:29:17.196065Z",
     "iopub.status.idle": "2025-09-02T07:29:17.651467Z",
     "shell.execute_reply": "2025-09-02T07:29:17.650902Z",
     "shell.execute_reply.started": "2025-09-02T07:29:17.196443Z"
    }
   },
   "outputs": [],
   "source": [
    "fig_campaign_intra_distance_hist = create_campaign_distance_hist_fig(\n",
    "    df_journeys, 5, True\n",
    ")\n",
    "fig_campaign_intra_distance_hist.show()\n",
    "\n",
    "fig_campaign_intra_distance_hist.write_html(\"outputs/fig_histo_distance_intra.html\")\n",
    "fig_campaign_intra_distance_hist.write_image(\n",
    "    \"outputs/fig_histo_distance_intra.svg\", width=1280, height=720\n",
    ")"
   ]
  },
  {
   "cell_type": "code",
   "execution_count": null,
   "id": "4e69f11b-13e3-4585-9d62-6c0a895b97c8",
   "metadata": {
    "execution": {
     "iopub.execute_input": "2025-09-02T07:29:17.721231Z",
     "iopub.status.busy": "2025-09-02T07:29:17.721057Z",
     "iopub.status.idle": "2025-09-02T07:29:18.170316Z",
     "shell.execute_reply": "2025-09-02T07:29:18.169742Z",
     "shell.execute_reply.started": "2025-09-02T07:29:17.721217Z"
    }
   },
   "outputs": [],
   "source": [
    "fig_campaign_intra_distance_hist = create_campaign_distance_hist_fig(\n",
    "    df_journeys, 5, True, use_share=False\n",
    ")\n",
    "fig_campaign_intra_distance_hist.show()\n",
    "\n",
    "fig_campaign_intra_distance_hist.write_html(\n",
    "    \"outputs/fig_histo_distance_intra_volume.html\"\n",
    ")\n",
    "fig_campaign_intra_distance_hist.write_image(\n",
    "    \"outputs/fig_histo_distance_intra_volume.svg\", width=1280, height=720\n",
    ")"
   ]
  },
  {
   "cell_type": "code",
   "execution_count": null,
   "id": "73963602-6672-47ca-a87e-4d3b0e788f5e",
   "metadata": {
    "execution": {
     "iopub.status.busy": "2025-09-02T07:29:18.170592Z",
     "iopub.status.idle": "2025-09-02T07:29:18.170712Z",
     "shell.execute_reply": "2025-09-02T07:29:18.170658Z",
     "shell.execute_reply.started": "2025-09-02T07:29:18.170652Z"
    }
   },
   "outputs": [],
   "source": [
    "fig_campaign_inter_distance_hist = create_campaign_distance_hist_fig(\n",
    "    df_journeys, 5, False\n",
    ")\n",
    "fig_campaign_inter_distance_hist.show()\n",
    "fig_campaign_inter_distance_hist.write_html(\"outputs/fig_histo_distance_inter.html\")\n",
    "fig_campaign_inter_distance_hist.write_image(\n",
    "    \"outputs/fig_histo_distance_inter.svg\", width=1280, height=720\n",
    ")"
   ]
  },
  {
   "cell_type": "code",
   "execution_count": null,
   "id": "d5959826-990b-408c-991e-dd96f49d9110",
   "metadata": {
    "execution": {
     "iopub.execute_input": "2025-09-02T07:29:18.751159Z",
     "iopub.status.busy": "2025-09-02T07:29:18.750967Z",
     "iopub.status.idle": "2025-09-02T07:29:19.250477Z",
     "shell.execute_reply": "2025-09-02T07:29:19.249988Z",
     "shell.execute_reply.started": "2025-09-02T07:29:18.751145Z"
    }
   },
   "outputs": [],
   "source": [
    "fig_campaign_inter_distance_hist = create_campaign_distance_hist_fig(\n",
    "    df_journeys, 5, False, use_share=False\n",
    ")\n",
    "fig_campaign_inter_distance_hist.show()\n",
    "fig_campaign_inter_distance_hist.write_html(\n",
    "    \"outputs/fig_histo_distance_inter_volume.html\"\n",
    ")\n",
    "fig_campaign_inter_distance_hist.write_image(\n",
    "    \"outputs/fig_histo_distance_inter_volume.svg\", width=1280, height=720\n",
    ")"
   ]
  },
  {
   "cell_type": "code",
   "execution_count": null,
   "id": "ea2aca0f-0604-4570-a1ba-e51dd06d6c1d",
   "metadata": {
    "execution": {
     "iopub.status.busy": "2025-09-02T07:29:19.250736Z",
     "iopub.status.idle": "2025-09-02T07:29:19.250850Z",
     "shell.execute_reply": "2025-09-02T07:29:19.250798Z",
     "shell.execute_reply.started": "2025-09-02T07:29:19.250792Z"
    }
   },
   "outputs": [],
   "source": [
    "fig_distance_distribution_by_campaign = px.histogram(\n",
    "    df_journeys.with_columns(campaign_type_expr, pl.col(\"distance\") / 1000),\n",
    "    x=\"distance\",\n",
    "    color=\"campaign_type\",\n",
    "    template=\"simple_white\",\n",
    "    labels={**labels_map},\n",
    "    title=\"Distribution de la distance en fonction de la campagne\",\n",
    "    histnorm=\"percent\",\n",
    "    barmode=\"overlay\",\n",
    "    histfunc=\"count\",\n",
    "    color_discrete_map={\n",
    "        \"Période 0\": \"grey\",\n",
    "        \"Période 1\": \"#9fc2b2\",\n",
    "        \"Période 2\": \"#ebd999\",\n",
    "    },\n",
    ")\n",
    "fig_distance_distribution_by_campaign.update_xaxes(\n",
    "    range=[0, 80], title=\"Distance effectué\"\n",
    ")\n",
    "fig_distance_distribution_by_campaign.update_yaxes(title=\"% des trajets\")\n",
    "fig_distance_distribution_by_campaign.show()"
   ]
  },
  {
   "cell_type": "code",
   "execution_count": null,
   "id": "8fc86533-5837-4738-ba3a-2bdf3b27721d",
   "metadata": {
    "execution": {
     "iopub.execute_input": "2025-09-02T07:29:19.727395Z",
     "iopub.status.busy": "2025-09-02T07:29:19.727088Z",
     "iopub.status.idle": "2025-09-02T07:29:19.958538Z",
     "shell.execute_reply": "2025-09-02T07:29:19.958220Z",
     "shell.execute_reply.started": "2025-09-02T07:29:19.727375Z"
    }
   },
   "outputs": [],
   "source": [
    "bucket_size = 5\n",
    "\n",
    "fig_distance_cumsum = px.line(\n",
    "    (\n",
    "        df_journeys.sort(\"distance\")\n",
    "        .group_by(\n",
    "            [campaign_type_expr, (pl.col(\"distance\") / (1_000 * bucket_size)).ceil()]\n",
    "        )\n",
    "        .agg(pl.col(\"_id\").len())\n",
    "        .sort(\"distance\")\n",
    "        .with_columns(\n",
    "            (100 * pl.col(\"_id\").cum_sum() / pl.col(\"_id\").sum()).alias(\"share\"),\n",
    "            pl.col(\"distance\") * bucket_size,\n",
    "        )\n",
    "    ),\n",
    "    x=\"distance\",\n",
    "    y=\"share\",\n",
    "    color=\"campaign_type\",\n",
    "    color_discrete_map=colors_map,\n",
    "    template=\"simple_white\",\n",
    "    labels={**labels_map, \"share\": \"% des trajets\"},\n",
    ")\n",
    "fig_distance_cumsum.update_layout(\n",
    "    title=\"Fonction de répartition des trajets en fonction de la distance\"\n",
    ")\n",
    "fig_distance_cumsum.update_xaxes(range=[0, 80])\n",
    "fig_distance_cumsum.show()"
   ]
  },
  {
   "cell_type": "code",
   "execution_count": null,
   "id": "5be0a799-c643-4846-8f46-76490b740a87",
   "metadata": {
    "execution": {
     "iopub.execute_input": "2025-09-02T07:29:20.286149Z",
     "iopub.status.busy": "2025-09-02T07:29:20.285843Z",
     "iopub.status.idle": "2025-09-02T07:29:20.406295Z",
     "shell.execute_reply": "2025-09-02T07:29:20.406028Z",
     "shell.execute_reply.started": "2025-09-02T07:29:20.286134Z"
    }
   },
   "outputs": [],
   "source": [
    "bucket_size = 5\n",
    "\n",
    "fig_distance_cumsum = px.line(\n",
    "    (\n",
    "        df_journeys.filter(pl.col(\"is_fully_inside_campaign_area\"))\n",
    "        .sort(\"distance\")\n",
    "        .group_by(\n",
    "            [campaign_type_expr, (pl.col(\"distance\") / (1_000 * bucket_size)).ceil()]\n",
    "        )\n",
    "        .agg(pl.col(\"_id\").len())\n",
    "        .sort(\"distance\")\n",
    "        .with_columns(\n",
    "            (100 * pl.col(\"_id\").cum_sum() / pl.col(\"_id\").sum()).alias(\"share\"),\n",
    "            pl.col(\"distance\") * bucket_size,\n",
    "        )\n",
    "    ),\n",
    "    x=\"distance\",\n",
    "    y=\"share\",\n",
    "    color=\"campaign_type\",\n",
    "    color_discrete_map=colors_map,\n",
    "    template=\"simple_white\",\n",
    "    labels={**labels_map, \"share\": \"% des trajets\"},\n",
    ")\n",
    "fig_distance_cumsum.update_layout(\n",
    "    title=\"Fonction de répartition des trajets en fonction de la distance - Trajets intra\"\n",
    ")\n",
    "fig_distance_cumsum.update_xaxes(range=[0, 80])\n",
    "fig_distance_cumsum.show()"
   ]
  },
  {
   "cell_type": "code",
   "execution_count": null,
   "id": "571473cf-a2cc-4a21-baf8-87bf0384e86c",
   "metadata": {
    "execution": {
     "iopub.execute_input": "2025-09-02T07:29:20.796173Z",
     "iopub.status.busy": "2025-09-02T07:29:20.795825Z",
     "iopub.status.idle": "2025-09-02T07:29:21.070017Z",
     "shell.execute_reply": "2025-09-02T07:29:21.069708Z",
     "shell.execute_reply.started": "2025-09-02T07:29:20.796155Z"
    }
   },
   "outputs": [],
   "source": [
    "bucket_size = 5\n",
    "\n",
    "fig_distance_cumsum = px.line(\n",
    "    (\n",
    "        df_journeys.filter(pl.col(\"is_fully_inside_campaign_area\").not_())\n",
    "        .sort(\"distance\")\n",
    "        .group_by(\n",
    "            [campaign_type_expr, (pl.col(\"distance\") / (1_000 * bucket_size)).ceil()]\n",
    "        )\n",
    "        .agg(pl.col(\"_id\").len())\n",
    "        .sort(\"distance\")\n",
    "        .with_columns(\n",
    "            (100 * pl.col(\"_id\").cum_sum() / pl.col(\"_id\").sum()).alias(\"share\"),\n",
    "            pl.col(\"distance\") * bucket_size,\n",
    "        )\n",
    "    ),\n",
    "    x=\"distance\",\n",
    "    y=\"share\",\n",
    "    color=\"campaign_type\",\n",
    "    color_discrete_map=colors_map,\n",
    "    template=\"simple_white\",\n",
    "    labels={**labels_map, \"share\": \"% des trajets\"},\n",
    ")\n",
    "fig_distance_cumsum.update_layout(\n",
    "    title=\"Fonction de répartition des trajets en fonction de la distance - Trajets inter\"\n",
    ")\n",
    "fig_distance_cumsum.update_xaxes(range=[0, 80])\n",
    "fig_distance_cumsum.show()"
   ]
  },
  {
   "cell_type": "markdown",
   "id": "f98cb21c-b74e-4d6e-a179-7240e286d31b",
   "metadata": {},
   "source": [
    "# Conducteurs\n"
   ]
  },
  {
   "cell_type": "markdown",
   "id": "64ab089f-a84c-4828-8055-f5180b33e8e8",
   "metadata": {},
   "source": [
    "## Acquisition\n"
   ]
  },
  {
   "cell_type": "code",
   "execution_count": null,
   "id": "50863282-447e-4f3d-9c79-64eb8cee7b5e",
   "metadata": {
    "execution": {
     "iopub.execute_input": "2025-09-02T07:29:22.305864Z",
     "iopub.status.busy": "2025-09-02T07:29:22.305582Z",
     "iopub.status.idle": "2025-09-02T07:29:22.315423Z",
     "shell.execute_reply": "2025-09-02T07:29:22.315136Z",
     "shell.execute_reply.started": "2025-09-02T07:29:22.305851Z"
    }
   },
   "outputs": [],
   "source": [
    "df_journeys.select(\n",
    "    pl.col(\"driver_identity_key\").n_unique().alias(\"Nombre de conducteurs uniques\"),\n",
    "    pl.col(\"driver_identity_key\")\n",
    "    .filter(\n",
    "        pl.col(\"first_trip_datetime\").is_between(\n",
    "            datetime(2024, 9, 1, tzinfo=ZoneInfo(\"GMT\")), CAMPAIGN_CHANGE_DATE\n",
    "        ),\n",
    "    )\n",
    "    .alias(\n",
    "        f\"Nombre de conducteurs arrivés entre le 01/01/2024 et le {CAMPAIGN_CHANGE_DATE:%d/%m/%Y}\"\n",
    "    )\n",
    "    .n_unique(),\n",
    "    pl.col(\"driver_identity_key\")\n",
    "    .filter(\n",
    "        pl.col(\"first_trip_datetime\") >= CAMPAIGN_CHANGE_DATE,\n",
    "    )\n",
    "    .alias(f\"Nombre de conducteurs arrivés après le {CAMPAIGN_CHANGE_DATE:%d/%m/%Y}\")\n",
    "    .n_unique(),\n",
    ")"
   ]
  },
  {
   "cell_type": "code",
   "execution_count": null,
   "id": "dadda521-e43a-431c-873c-1de4324ea3f6",
   "metadata": {
    "execution": {
     "iopub.execute_input": "2025-09-02T07:29:22.853284Z",
     "iopub.status.busy": "2025-09-02T07:29:22.852922Z",
     "iopub.status.idle": "2025-09-02T07:29:23.323524Z",
     "shell.execute_reply": "2025-09-02T07:29:23.322876Z",
     "shell.execute_reply.started": "2025-09-02T07:29:22.853266Z"
    },
    "scrolled": true
   },
   "outputs": [],
   "source": [
    "fig_new_drivers_count_by_week = px.bar(\n",
    "    df_journeys.filter(\n",
    "        pl.col(\"first_trip_datetime\") >= datetime(2024, 9, 1, tzinfo=ZoneInfo(\"GMT\"))\n",
    "    )\n",
    "    .group_by(pl.col(\"first_trip_datetime\").dt.truncate(\"1w\").alias(\"week\"))\n",
    "    .agg(pl.len())\n",
    "    .sort(pl.col(\"week\")),\n",
    "    x=\"week\",\n",
    "    y=\"len\",\n",
    "    labels={**labels_map, \"len\": \"Nombre de nouveaux conducteurs\"},\n",
    "    template=\"simple_white\",\n",
    "    title=\"Evolution de l'acquisition des conducteurs\",\n",
    ")\n",
    "add_campaign_annotations(fig_new_drivers_count_by_week)\n",
    "fig_new_drivers_count_by_week.show()\n",
    "\n",
    "fig_new_drivers_count_by_week.write_html(\"outputs/fig_conducteurs_par_semaine.html\")\n",
    "fig_new_drivers_count_by_week.write_image(\n",
    "    \"outputs/fig_conducteurs_par_semaine.svg\", width=1280, height=720\n",
    ")"
   ]
  },
  {
   "cell_type": "markdown",
   "id": "b2ebcd32-6dba-4af1-8287-e4ae341f5468",
   "metadata": {},
   "source": [
    "## Nombre de trajets\n"
   ]
  },
  {
   "cell_type": "code",
   "execution_count": null,
   "id": "9f7bbcc1-1066-4228-a770-a3d6593ab62b",
   "metadata": {
    "execution": {
     "iopub.execute_input": "2025-09-02T07:29:24.255655Z",
     "iopub.status.busy": "2025-09-02T07:29:24.255490Z",
     "iopub.status.idle": "2025-09-02T07:29:24.327891Z",
     "shell.execute_reply": "2025-09-02T07:29:24.327576Z",
     "shell.execute_reply.started": "2025-09-02T07:29:24.255643Z"
    }
   },
   "outputs": [],
   "source": [
    "df_journeys.filter(\n",
    "    pl.col(\"first_trip_datetime\") >= datetime(2024, 9, 1, tzinfo=ZoneInfo(\"GMT\")),\n",
    "    pl.col(\"first_trip_datetime\") <= datetime.now(ZoneInfo(\"GMT\")) - timedelta(days=14),\n",
    ").group_by(\n",
    "    [\"campaign_type\", \"driver_identity_key\", pl.col(\"start_datetime\").dt.truncate(\"1w\")]\n",
    ").agg(\n",
    "    pl.len().alias(\"num_journeys\"),\n",
    "    pl.concat_str(pl.col(\"operator_id\"), pl.lit(\"-\"), pl.col(\"operator_trip_id\"))\n",
    "    .n_unique()\n",
    "    .alias(\"num_trips\"),\n",
    ").group_by([\"campaign_type\", \"start_datetime\"]).agg(\n",
    "    pl.col(\"num_journeys\").mean().alias(\"Nombre moyen de journeys par semaine\"),\n",
    "    pl.col(\"num_trips\").mean().alias(\"Nombre moyen de trips par semaine\"),\n",
    ").group_by([\"campaign_type\"]).agg(\n",
    "    pl.col(\"Nombre moyen de journeys par semaine\").mean(),\n",
    "    pl.col(\"Nombre moyen de trips par semaine\").mean(),\n",
    ").sort(pl.col(\"campaign_type\").replace(campaign_order))"
   ]
  },
  {
   "cell_type": "code",
   "execution_count": null,
   "id": "eca05c71-c702-4073-9180-1f740dfeafec",
   "metadata": {
    "execution": {
     "iopub.execute_input": "2025-09-02T07:29:24.628688Z",
     "iopub.status.busy": "2025-09-02T07:29:24.628502Z",
     "iopub.status.idle": "2025-09-02T07:29:24.656861Z",
     "shell.execute_reply": "2025-09-02T07:29:24.656554Z",
     "shell.execute_reply.started": "2025-09-02T07:29:24.628674Z"
    }
   },
   "outputs": [],
   "source": [
    "df_journeys.filter(\n",
    "    pl.col(\"first_trip_datetime\") >= datetime(2024, 9, 1, tzinfo=ZoneInfo(\"GMT\")),\n",
    "    pl.col(\"first_trip_datetime\") <= datetime.now(ZoneInfo(\"GMT\")) - timedelta(days=30),\n",
    "    pl.col(\"start_datetime\") <= pl.col(\"first_trip_datetime\") + pl.duration(days=30),\n",
    ").group_by([\"campaign_type\", \"driver_identity_key\"]).agg(\n",
    "    pl.len().alias(\"num_journeys\"),\n",
    "    pl.concat_str(pl.col(\"operator_id\"), pl.lit(\"-\"), pl.col(\"operator_trip_id\"))\n",
    "    .n_unique()\n",
    "    .alias(\"num_trips\"),\n",
    ").group_by(\"campaign_type\").agg(\n",
    "    pl.col(\"num_journeys\").mean().alias(\"Nombre moyen de journeys sur 30 jours\"),\n",
    "    pl.col(\"num_trips\").mean().alias(\"Nombre moyen de trips sur 30 jours\"),\n",
    ").sort(pl.col(\"campaign_type\").replace(campaign_order))"
   ]
  },
  {
   "cell_type": "code",
   "execution_count": null,
   "id": "a3ebc419-b0b4-4eab-886f-1abc8b36261c",
   "metadata": {
    "execution": {
     "iopub.execute_input": "2025-09-02T07:29:25.182489Z",
     "iopub.status.busy": "2025-09-02T07:29:25.182223Z",
     "iopub.status.idle": "2025-09-02T07:29:25.639970Z",
     "shell.execute_reply": "2025-09-02T07:29:25.639482Z",
     "shell.execute_reply.started": "2025-09-02T07:29:25.182477Z"
    },
    "scrolled": true
   },
   "outputs": [],
   "source": [
    "def create_num_drivers_by_num_trips_hist_fig(\n",
    "    df: pl.DataFrame, step_size: int, max_step: int\n",
    ") -> go.Figure:\n",
    "    breaks = range(1, max_step + 1, step_size)\n",
    "\n",
    "    campaign_types = df_journeys.select(\"campaign_type\").unique().to_series().to_list()\n",
    "    campaign_types = sorted(campaign_types, key=lambda x: campaign_order.get(x))\n",
    "\n",
    "    # Création du DataFrame de toutes les combinaisons possibles\n",
    "    combinations = pl.DataFrame(\n",
    "        product(campaign_types, breaks), schema=[\"campaign_type\", \"breaks_raw\"]\n",
    "    ).with_columns(\n",
    "        pl.col(\"breaks_raw\")\n",
    "        .cut(breaks, include_breaks=True, left_closed=True)\n",
    "        .struct.unnest()\n",
    "    )\n",
    "    data_agg = (\n",
    "        df.filter(\n",
    "            pl.col(\"first_trip_datetime\")\n",
    "            >= datetime(2024, 9, 1, tzinfo=ZoneInfo(\"GMT\")),\n",
    "            pl.col(\"first_trip_datetime\")\n",
    "            <= datetime.now(ZoneInfo(\"GMT\")) - timedelta(days=30),\n",
    "            pl.col(\"start_datetime\")\n",
    "            <= pl.col(\"first_trip_datetime\") + pl.duration(days=30),\n",
    "        )\n",
    "        .group_by([\"campaign_type\", \"driver_identity_key\"])\n",
    "        .agg(\n",
    "            pl.len().alias(\"num_journeys\"),\n",
    "            pl.concat_str(\n",
    "                pl.col(\"operator_id\"), pl.lit(\"-\"), pl.col(\"operator_trip_id\")\n",
    "            )\n",
    "            .n_unique()\n",
    "            .alias(\"num_trips\"),\n",
    "        )\n",
    "        .with_columns(\n",
    "            pl.col(\"num_trips\").cut(\n",
    "                breaks=breaks, left_closed=True, include_breaks=True\n",
    "            )\n",
    "        )\n",
    "        .group_by([\"campaign_type\", \"num_trips\"])\n",
    "        .agg(pl.col(\"driver_identity_key\").n_unique().alias(\"num_drivers\"))\n",
    "        .with_columns(pl.col(\"num_trips\").struct.unnest())\n",
    "    )\n",
    "\n",
    "    data_complete = (\n",
    "        combinations.join(\n",
    "            data_agg,\n",
    "            on=[\"campaign_type\", \"breakpoint\"],\n",
    "            how=\"left\",\n",
    "        )\n",
    "        .with_columns(pl.col(\"num_drivers\").fill_null(0))\n",
    "        .with_columns(\n",
    "            (\n",
    "                100\n",
    "                * pl.col(\"num_drivers\")\n",
    "                / pl.col(\"num_drivers\").sum().over(\"campaign_type\")\n",
    "            )\n",
    "            .round(2)\n",
    "            .alias(\"share_drivers\")\n",
    "        )\n",
    "        .sort([pl.col(\"campaign_type\").replace(campaign_order), \"breakpoint\"])\n",
    "    )\n",
    "\n",
    "    traces = []\n",
    "\n",
    "    for campaign_type in campaign_types:\n",
    "        data_filtered = data_complete.filter(pl.col(\"campaign_type\") == campaign_type)\n",
    "\n",
    "        trace = go.Bar(\n",
    "            x=data_filtered[\"category\"],\n",
    "            y=data_filtered[\"share_drivers\"],\n",
    "            marker_color=colors_map.get(campaign_type),\n",
    "            name=campaign_type,\n",
    "        )\n",
    "        traces.append(trace)\n",
    "\n",
    "    fig = go.Figure(traces)\n",
    "    fig.update_layout(\n",
    "        barmode=\"group\",\n",
    "        template=\"simple_white\",\n",
    "        title=\"Distribution du nombre de trips effectués sur 30 jours pour chaque campagne\",\n",
    "    )\n",
    "    fig.update_xaxes(title=\"Nombre de trajets\")\n",
    "    fig.update_yaxes(title=\"% des conducteurs\")\n",
    "\n",
    "    return fig, data_complete\n",
    "\n",
    "\n",
    "fig_drivers_by_trip_numbers_hist, data_complete = (\n",
    "    create_num_drivers_by_num_trips_hist_fig(df_journeys, step_size=3, max_step=30)\n",
    ")\n",
    "fig_drivers_by_trip_numbers_hist.show()\n",
    "\n",
    "fig_drivers_by_trip_numbers_hist.write_html(\n",
    "    \"outputs/fig_histo_trajets_conducteurs.html\"\n",
    ")\n",
    "fig_drivers_by_trip_numbers_hist.write_image(\n",
    "    \"outputs/fig_histo_trajets_conducteurs.svg\", width=1280, height=720\n",
    ")"
   ]
  },
  {
   "cell_type": "markdown",
   "id": "4eec4c55-58c2-4a7d-96f7-a54fdadd7a44",
   "metadata": {},
   "source": [
    "## Types de trajets\n"
   ]
  },
  {
   "cell_type": "code",
   "execution_count": null,
   "id": "19fe0779-b485-4952-93cb-2ba070488f2e",
   "metadata": {
    "execution": {
     "iopub.execute_input": "2025-09-02T07:29:26.235487Z",
     "iopub.status.busy": "2025-09-02T07:29:26.235143Z",
     "iopub.status.idle": "2025-09-02T07:29:26.263565Z",
     "shell.execute_reply": "2025-09-02T07:29:26.263279Z",
     "shell.execute_reply.started": "2025-09-02T07:29:26.235473Z"
    }
   },
   "outputs": [],
   "source": [
    "df_journeys.filter(\n",
    "    pl.col(\"first_trip_datetime\") >= datetime(2024, 9, 1, tzinfo=ZoneInfo(\"GMT\")),\n",
    "    pl.col(\"first_trip_datetime\") <= datetime.now(ZoneInfo(\"GMT\")) - timedelta(days=30),\n",
    "    pl.col(\"start_datetime\") <= pl.col(\"first_trip_datetime\") + pl.duration(days=30),\n",
    ").group_by([\"campaign_type\", \"driver_identity_key\"]).agg(\n",
    "    (\n",
    "        (\n",
    "            pl.concat_str(\n",
    "                pl.col(\"operator_id\"), pl.lit(\"-\"), pl.col(\"operator_trip_id\")\n",
    "            )\n",
    "            .filter(pl.col(\"is_fully_inside_campaign_area\"))\n",
    "            .n_unique()\n",
    "        )\n",
    "        >= (\n",
    "            pl.concat_str(\n",
    "                pl.col(\"operator_id\"), pl.lit(\"-\"), pl.col(\"operator_trip_id\")\n",
    "            )\n",
    "            .filter(pl.col(\"is_fully_inside_campaign_area\").not_())\n",
    "            .n_unique()\n",
    "        )\n",
    "    ).alias(\"is_intra_driver\")\n",
    ").group_by([\"campaign_type\"]).agg(\n",
    "    (100 * pl.col(\"is_intra_driver\").sum() / pl.len()).alias(\n",
    "        \"% des conducteurs avec une majorité de journeys intra\"\n",
    "    )\n",
    ").sort(pl.col(\"campaign_type\").replace(campaign_order))"
   ]
  },
  {
   "cell_type": "code",
   "execution_count": null,
   "id": "c0f5ce6e-7dc8-4c6b-a8eb-47d07da4f7dd",
   "metadata": {
    "execution": {
     "iopub.execute_input": "2025-09-02T07:29:26.737974Z",
     "iopub.status.busy": "2025-09-02T07:29:26.737653Z",
     "iopub.status.idle": "2025-09-02T07:29:26.766791Z",
     "shell.execute_reply": "2025-09-02T07:29:26.766473Z",
     "shell.execute_reply.started": "2025-09-02T07:29:26.737956Z"
    }
   },
   "outputs": [],
   "source": [
    "df_journeys_trips_count_by_campagin_trip_type = (\n",
    "    df_journeys.filter(\n",
    "        pl.col(\"first_trip_datetime\") >= datetime(2024, 9, 1, tzinfo=ZoneInfo(\"GMT\")),\n",
    "        pl.col(\"first_trip_datetime\")\n",
    "        <= datetime.now(ZoneInfo(\"GMT\")) - timedelta(days=30),\n",
    "        pl.col(\"start_datetime\")\n",
    "        <= pl.col(\"first_trip_datetime\") + pl.duration(days=30),\n",
    "    )\n",
    "    .group_by([\"campaign_type\", \"driver_identity_key\"])\n",
    "    .agg(\n",
    "        (\n",
    "            (\n",
    "                pl.concat_str(\n",
    "                    pl.col(\"operator_id\"), pl.lit(\"-\"), pl.col(\"operator_trip_id\")\n",
    "                )\n",
    "                .filter(pl.col(\"is_fully_inside_campaign_area\"))\n",
    "                .n_unique()\n",
    "            )\n",
    "            >= (\n",
    "                pl.concat_str(\n",
    "                    pl.col(\"operator_id\"), pl.lit(\"-\"), pl.col(\"operator_trip_id\")\n",
    "                )\n",
    "                .filter(pl.col(\"is_fully_inside_campaign_area\").not_())\n",
    "                .n_unique()\n",
    "            )\n",
    "        ).alias(\"is_intra_driver\"),\n",
    "        pl.len().alias(\"num_journeys\"),\n",
    "        pl.concat_str(pl.col(\"operator_id\"), pl.lit(\"-\"), pl.col(\"operator_trip_id\"))\n",
    "        .n_unique()\n",
    "        .alias(\"num_trips\"),\n",
    "    )\n",
    "    .group_by([\"campaign_type\", \"is_intra_driver\"])\n",
    "    .agg(\n",
    "        pl.col(\"num_journeys\").mean().alias(\"Nombre moyen de journeys sur 30 jours\"),\n",
    "        pl.col(\"num_trips\").mean().alias(\"Nombre moyen de trips sur 30 jours\"),\n",
    "    )\n",
    "    .sort(pl.col(\"campaign_type\").replace(campaign_order), \"is_intra_driver\")\n",
    ")\n",
    "df_journeys_trips_count_by_campagin_trip_type"
   ]
  },
  {
   "cell_type": "code",
   "execution_count": null,
   "id": "a1f09552-eee3-4b88-a5ee-46d4e01fddb7",
   "metadata": {
    "execution": {
     "iopub.execute_input": "2025-09-02T07:29:27.201779Z",
     "iopub.status.busy": "2025-09-02T07:29:27.201485Z",
     "iopub.status.idle": "2025-09-02T07:29:27.611015Z",
     "shell.execute_reply": "2025-09-02T07:29:27.610496Z",
     "shell.execute_reply.started": "2025-09-02T07:29:27.201765Z"
    },
    "scrolled": true
   },
   "outputs": [],
   "source": [
    "fig_journeys_count_by_driver_type_campaign = px.bar(\n",
    "    df_journeys_trips_count_by_campagin_trip_type.with_columns(\n",
    "        pl.when(pl.col(\"is_intra_driver\"))\n",
    "        .then(pl.lit(\"Conducteur intra\"))\n",
    "        .otherwise(pl.lit(\"Conducteur inter\"))\n",
    "        .alias(\"driver_type\")\n",
    "    ),\n",
    "    x=\"campaign_type\",\n",
    "    y=\"Nombre moyen de journeys sur 30 jours\",\n",
    "    color=\"driver_type\",\n",
    "    text=\"Nombre moyen de journeys sur 30 jours\",\n",
    "    text_auto=\".1f\",\n",
    "    template=\"simple_white\",\n",
    "    barmode=\"group\",\n",
    "    labels=labels_map,\n",
    "    title=\"Nombre de journeys par type de conducteur et campagne\",\n",
    ")\n",
    "fig_journeys_count_by_driver_type_campaign.update_layout(legend_title=None)\n",
    "fig_journeys_count_by_driver_type_campaign.show()\n",
    "fig_journeys_count_by_driver_type_campaign.write_html(\n",
    "    \"outputs/fig_journeys_par_type_conducteur_et_campagne.html\"\n",
    ")\n",
    "fig_journeys_count_by_driver_type_campaign.write_image(\n",
    "    \"outputs/fig_journeys_par_type_conducteur_et_campagne.svg\", width=1280, height=720\n",
    ")"
   ]
  },
  {
   "cell_type": "code",
   "execution_count": null,
   "id": "3f970207-7f3d-4d1c-8ce1-62a4fca6599d",
   "metadata": {
    "execution": {
     "iopub.execute_input": "2025-09-02T07:29:27.676278Z",
     "iopub.status.busy": "2025-09-02T07:29:27.675988Z",
     "iopub.status.idle": "2025-09-02T07:29:28.103779Z",
     "shell.execute_reply": "2025-09-02T07:29:28.103138Z",
     "shell.execute_reply.started": "2025-09-02T07:29:27.676265Z"
    },
    "scrolled": true
   },
   "outputs": [],
   "source": [
    "fig_trips_count_by_driver_type_campaign = px.bar(\n",
    "    df_journeys_trips_count_by_campagin_trip_type.with_columns(\n",
    "        pl.when(pl.col(\"is_intra_driver\"))\n",
    "        .then(pl.lit(\"Conducteur intra\"))\n",
    "        .otherwise(pl.lit(\"Conducteur inter\"))\n",
    "        .alias(\"driver_type\")\n",
    "    ),\n",
    "    x=\"campaign_type\",\n",
    "    y=\"Nombre moyen de trips sur 30 jours\",\n",
    "    color=\"driver_type\",\n",
    "    text=\"Nombre moyen de trips sur 30 jours\",\n",
    "    text_auto=\".1f\",\n",
    "    template=\"simple_white\",\n",
    "    barmode=\"group\",\n",
    "    labels=labels_map,\n",
    "    title=\"Nombre de trips par type de conducteur et campagne\",\n",
    ")\n",
    "\n",
    "fig_trips_count_by_driver_type_campaign.update_layout(legend_title=None)\n",
    "fig_trips_count_by_driver_type_campaign.show()\n",
    "fig_trips_count_by_driver_type_campaign.write_html(\n",
    "    \"outputs/fig_trips_par_type_conducteur_et_campagne.html\"\n",
    ")\n",
    "fig_trips_count_by_driver_type_campaign.write_image(\n",
    "    \"outputs/fig_trips_par_type_conducteur_et_campagne.svg\", width=1280, height=720\n",
    ")"
   ]
  },
  {
   "cell_type": "code",
   "execution_count": null,
   "id": "3aded665-beef-49bc-b60d-32a198204a30",
   "metadata": {
    "execution": {
     "iopub.execute_input": "2025-09-02T07:29:28.233217Z",
     "iopub.status.busy": "2025-09-02T07:29:28.232874Z",
     "iopub.status.idle": "2025-09-02T07:29:28.266051Z",
     "shell.execute_reply": "2025-09-02T07:29:28.265785Z",
     "shell.execute_reply.started": "2025-09-02T07:29:28.233199Z"
    }
   },
   "outputs": [],
   "source": [
    "df_passenger_mean_by_campagin_trip_type = (\n",
    "    df_journeys.filter(\n",
    "        pl.col(\"first_trip_datetime\") >= datetime(2024, 9, 1, tzinfo=ZoneInfo(\"GMT\")),\n",
    "        pl.col(\"first_trip_datetime\")\n",
    "        <= datetime.now(ZoneInfo(\"GMT\")) - timedelta(days=30),\n",
    "        pl.col(\"start_datetime\")\n",
    "        <= pl.col(\"first_trip_datetime\") + pl.duration(days=30),\n",
    "    )\n",
    "    .group_by(\n",
    "        [\n",
    "            pl.concat_str(\n",
    "                pl.col(\"operator_id\"), pl.lit(\"-\"), pl.col(\"operator_trip_id\")\n",
    "            ).alias(\"trip_id\"),\n",
    "        ]\n",
    "    )\n",
    "    .agg(\n",
    "        pl.col(\"is_fully_inside_campaign_area\").max(),\n",
    "        pl.col(\"passenger_seats\").sum(),\n",
    "        pl.col(\"campaign_type\").max(),\n",
    "        pl.col(\"driver_identity_key\").max(),\n",
    "    )\n",
    "    .group_by([\"campaign_type\", \"driver_identity_key\"])\n",
    "    .agg(\n",
    "        (\n",
    "            (\n",
    "                pl.col(\"trip_id\")\n",
    "                .filter(pl.col(\"is_fully_inside_campaign_area\"))\n",
    "                .n_unique()\n",
    "            )\n",
    "            >= (\n",
    "                pl.col(\"trip_id\")\n",
    "                .filter(pl.col(\"is_fully_inside_campaign_area\").not_())\n",
    "                .n_unique()\n",
    "            )\n",
    "        ).alias(\"is_intra_driver\"),\n",
    "        pl.len().alias(\"num_journeys\"),\n",
    "        pl.col(\"passenger_seats\").mean(),\n",
    "    )\n",
    "    .group_by([\"campaign_type\", \"is_intra_driver\"])\n",
    "    .agg(\n",
    "        pl.col(\"passenger_seats\").mean().alias(\"Nombre moyen de passagers\"),\n",
    "    )\n",
    "    .sort(pl.col(\"campaign_type\").replace(campaign_order), \"is_intra_driver\")\n",
    ")\n",
    "df_passenger_mean_by_campagin_trip_type"
   ]
  },
  {
   "cell_type": "code",
   "execution_count": null,
   "id": "d044c6ab-288f-4dab-a43d-4b9a102673c7",
   "metadata": {
    "execution": {
     "iopub.execute_input": "2025-09-02T07:29:28.635542Z",
     "iopub.status.busy": "2025-09-02T07:29:28.635133Z",
     "iopub.status.idle": "2025-09-02T07:29:29.082099Z",
     "shell.execute_reply": "2025-09-02T07:29:29.081419Z",
     "shell.execute_reply.started": "2025-09-02T07:29:28.635526Z"
    },
    "scrolled": true
   },
   "outputs": [],
   "source": [
    "fig_passengers_count_by_driver_type_campaign = px.bar(\n",
    "    df_passenger_mean_by_campagin_trip_type.with_columns(\n",
    "        pl.when(pl.col(\"is_intra_driver\"))\n",
    "        .then(pl.lit(\"Conducteur intra\"))\n",
    "        .otherwise(pl.lit(\"Conducteur inter\"))\n",
    "        .alias(\"driver_type\")\n",
    "    ),\n",
    "    x=\"campaign_type\",\n",
    "    y=\"Nombre moyen de passagers\",\n",
    "    color=\"driver_type\",\n",
    "    text=\"Nombre moyen de passagers\",\n",
    "    text_auto=\".2f\",\n",
    "    template=\"simple_white\",\n",
    "    barmode=\"group\",\n",
    "    labels=labels_map,\n",
    "    title=\"Nombre moyen de passagers par type de conducteur et campagne\",\n",
    ")\n",
    "\n",
    "fig_passengers_count_by_driver_type_campaign.update_layout(legend_title=None)\n",
    "fig_passengers_count_by_driver_type_campaign.show()\n",
    "fig_passengers_count_by_driver_type_campaign.write_html(\n",
    "    \"outputs/fig_passagers_type_conducteur_et_campagne.html\"\n",
    ")\n",
    "fig_passengers_count_by_driver_type_campaign.write_image(\n",
    "    \"outputs/fig_passagers_par_type_conducteur_et_campagne.svg\", width=1280, height=720\n",
    ")"
   ]
  },
  {
   "cell_type": "markdown",
   "id": "98d8feef-8525-4a5d-9921-3d3c7905b89b",
   "metadata": {},
   "source": [
    "## Rétention\n"
   ]
  },
  {
   "cell_type": "code",
   "execution_count": null,
   "id": "0d0ccd99-02f9-419f-80c0-5a6029128244",
   "metadata": {
    "execution": {
     "iopub.execute_input": "2025-09-02T07:29:29.576313Z",
     "iopub.status.busy": "2025-09-02T07:29:29.576017Z",
     "iopub.status.idle": "2025-09-02T07:29:29.833951Z",
     "shell.execute_reply": "2025-09-02T07:29:29.833588Z",
     "shell.execute_reply.started": "2025-09-02T07:29:29.576299Z"
    }
   },
   "outputs": [],
   "source": [
    "df_acquisition_by_driver_type = (\n",
    "    (\n",
    "        df_journeys.filter(\n",
    "            pl.col(\"first_trip_datetime\")\n",
    "            >= datetime(2024, 9, 1, tzinfo=ZoneInfo(\"GMT\")),\n",
    "            pl.col(\"first_trip_datetime\")\n",
    "            <= datetime.now(ZoneInfo(\"GMT\")) - timedelta(weeks=6),\n",
    "        )\n",
    "        .group_by([\"driver_identity_key\"])\n",
    "        .agg(\n",
    "            pl.col(\"start_datetime\").min(),\n",
    "            pl.datetime_range(\n",
    "                pl.col(\"start_datetime\").min().dt.truncate(\"1w\"),\n",
    "                pl.col(\"start_datetime\").min().dt.truncate(\"1w\") + pl.duration(weeks=5),\n",
    "                \"1w\",\n",
    "            ).alias(\"week\"),\n",
    "        )\n",
    "        .with_columns(\n",
    "            (\n",
    "                pl.when(\n",
    "                    pl.col(\"start_datetime\")\n",
    "                    <= datetime(2025, 1, 1, tzinfo=ZoneInfo(\"GMT\"))\n",
    "                )\n",
    "                .then(pl.lit(\"Période 0\"))\n",
    "                .when(pl.col(\"start_datetime\") <= CAMPAIGN_CHANGE_DATE)\n",
    "                .then(pl.lit(\"Période 1\"))\n",
    "                .otherwise(pl.lit(\"Période 2\"))\n",
    "                .alias(\"driver_campaign_type\")\n",
    "            )\n",
    "        )\n",
    "        .explode(\"week\")\n",
    "        .join(\n",
    "            df_journeys.filter(\n",
    "                pl.col(\"start_datetime\")\n",
    "                >= datetime(2024, 9, 1, tzinfo=ZoneInfo(\"GMT\")),\n",
    "            ),\n",
    "            left_on=[\"driver_identity_key\", \"week\"],\n",
    "            right_on=[\n",
    "                \"driver_identity_key\",\n",
    "                pl.col(\"start_datetime\").dt.truncate(\"1w\"),\n",
    "            ],\n",
    "            how=\"left\",\n",
    "        )\n",
    "    )\n",
    "    .group_by([pl.col(\"driver_identity_key\"), \"week\"])\n",
    "    .agg(\n",
    "        (pl.col(\"_id\").count() > 0).alias(\"has_traveled\"),\n",
    "        pl.col(\"driver_campaign_type\").max(),\n",
    "    )\n",
    "    .with_columns(\n",
    "        pl.col(\"week\")\n",
    "        .rank()\n",
    "        .over(partition_by=[\"driver_identity_key\"], order_by=\"week\")\n",
    "        .alias(\"week_number\")\n",
    "    )\n",
    "    .group_by([\"driver_campaign_type\", \"week_number\"])\n",
    "    .agg(\n",
    "        (100 * pl.col(\"has_traveled\").sum() / pl.col(\"has_traveled\").count()).alias(\n",
    "            \"drivers_share\"\n",
    "        )\n",
    "    )\n",
    "    .sort(\n",
    "        [pl.col(\"driver_campaign_type\").replace(campaign_order), pl.col(\"week_number\")]\n",
    "    )\n",
    ")\n",
    "df_acquisition_by_driver_type"
   ]
  },
  {
   "cell_type": "code",
   "execution_count": null,
   "id": "4806ca41-8371-4414-9d07-c0c68fc7e075",
   "metadata": {
    "execution": {
     "iopub.execute_input": "2025-09-02T07:29:29.961423Z",
     "iopub.status.busy": "2025-09-02T07:29:29.961123Z",
     "iopub.status.idle": "2025-09-02T07:29:30.400357Z",
     "shell.execute_reply": "2025-09-02T07:29:30.399899Z",
     "shell.execute_reply.started": "2025-09-02T07:29:29.961410Z"
    }
   },
   "outputs": [],
   "source": [
    "fig_churn_by_campaign_type = px.line(\n",
    "    df_acquisition_by_driver_type,\n",
    "    x=\"week_number\",\n",
    "    y=\"drivers_share\",\n",
    "    color=\"driver_campaign_type\",\n",
    "    color_discrete_map=colors_map,\n",
    "    template=\"simple_white\",\n",
    "    labels=labels_map,\n",
    "    title=\"Attrition en fonction des différentes types de campagne\",\n",
    ")\n",
    "\n",
    "fig_churn_by_campaign_type.update_yaxes(showgrid=True)\n",
    "fig_churn_by_campaign_type.show()\n",
    "\n",
    "fig_churn_by_campaign_type.write_html(\"outputs/fig_attrition_par_campagne.html\")\n",
    "fig_churn_by_campaign_type.write_image(\n",
    "    \"outputs/fig_attrition_par_campagne.svg\", width=1280, height=720\n",
    ")"
   ]
  },
  {
   "cell_type": "markdown",
   "id": "99dda7af-2361-4623-8ad1-a0a81bf426a4",
   "metadata": {},
   "source": [
    "## Conducteurs qui atteignent le seuil\n"
   ]
  },
  {
   "cell_type": "code",
   "execution_count": null,
   "id": "e39044c7-897c-4b4b-9b87-e7d8f728bc16",
   "metadata": {
    "execution": {
     "iopub.execute_input": "2025-09-02T07:29:30.845289Z",
     "iopub.status.busy": "2025-09-02T07:29:30.845120Z",
     "iopub.status.idle": "2025-09-02T07:29:30.894909Z",
     "shell.execute_reply": "2025-09-02T07:29:30.894565Z",
     "shell.execute_reply.started": "2025-09-02T07:29:30.845276Z"
    }
   },
   "outputs": [],
   "source": [
    "df_incentives_stats_by_month_driver = (\n",
    "    df_journeys_raw.with_columns(\n",
    "        (pl.col(\"incentive_amount\") / 100)\n",
    "        .cum_sum()\n",
    "        .over(\n",
    "            partition_by=[\n",
    "                \"driver_identity_key\",\n",
    "                pl.col(\"start_datetime\").dt.truncate(\"1mo\"),\n",
    "            ],\n",
    "            order_by=\"start_datetime\",\n",
    "        )\n",
    "        .alias(\"incentive_amount_cumu\")\n",
    "    )\n",
    "    .group_by([pl.col(\"start_datetime\").dt.truncate(\"1mo\"), \"driver_identity_key\"])\n",
    "    .agg(\n",
    "        pl.col(\"incentive_amount_cumu\").max().alias(\"incentive_amount_cumu_max\"),\n",
    "        pl.col(\"operator_trip_id\")\n",
    "        .filter(pl.col(\"incentive_amount_cumu\") >= 50)\n",
    "        .n_unique()\n",
    "        .alias(\"num_trips_above_threshold\"),\n",
    "        pl.col(\"_id\")\n",
    "        .filter(pl.col(\"incentive_amount_cumu\") >= 50)\n",
    "        .n_unique()\n",
    "        .alias(\"num_journeys_above_threshold\"),\n",
    "    )\n",
    ")\n",
    "df_incentives_stats_by_month_driver"
   ]
  },
  {
   "cell_type": "code",
   "execution_count": null,
   "id": "548f83a4-254c-4074-8f4a-08dcb80e8ef8",
   "metadata": {
    "execution": {
     "iopub.execute_input": "2025-09-02T07:29:31.236576Z",
     "iopub.status.busy": "2025-09-02T07:29:31.236224Z",
     "iopub.status.idle": "2025-09-02T07:29:31.680423Z",
     "shell.execute_reply": "2025-09-02T07:29:31.679902Z",
     "shell.execute_reply.started": "2025-09-02T07:29:31.236561Z"
    }
   },
   "outputs": [],
   "source": [
    "fig_drivers_incentives_cat = px.bar(\n",
    "    (\n",
    "        df_incentives_stats_by_month_driver.group_by([\"start_datetime\"])\n",
    "        .agg(\n",
    "            (100 * (pl.col(\"num_trips_above_threshold\") > 1).sum() / pl.len()).alias(\n",
    "                \"Conducteurs qui continuent à covoiturer\"\n",
    "            ),\n",
    "            (100 * (pl.col(\"num_trips_above_threshold\") == 1).sum() / pl.len()).alias(\n",
    "                \"Conducteurs qui s'arrêtent après avoir atteint le seuil\"\n",
    "            ),\n",
    "        )\n",
    "        .unpivot(\n",
    "            index=\"start_datetime\",\n",
    "            value_name=\"share_drivers\",\n",
    "            variable_name=\"driver_cat\",\n",
    "        )\n",
    "        .sort([\"start_datetime\", \"driver_cat\"])\n",
    "    ),\n",
    "    x=\"start_datetime\",\n",
    "    y=\"share_drivers\",\n",
    "    color=\"driver_cat\",\n",
    "    template=\"simple_white\",\n",
    "    title=\"Répartition des conducteurs qui atteignent le seuil\",\n",
    "    labels={\n",
    "        **labels_map,\n",
    "        \"start_datetime\": \"Mois\",\n",
    "        \"drivers_continuing_to_drive\": \"Conducteurs qui continuent à covoiturer\",\n",
    "        \"drivers_stopping_to_drive_at_threshold\": \"Conducteurs qui s'arrêtent après avoir atteint le seuil\",\n",
    "    },\n",
    "    barmode=\"group\",\n",
    "    text=\"share_drivers\",\n",
    "    text_auto=\".1f\",\n",
    ")\n",
    "\n",
    "fig_drivers_incentives_cat.update_layout(\n",
    "    legend_orientation=\"h\",\n",
    "    legend_y=0.7,\n",
    "    legend_yref=\"container\",\n",
    "    legend_title=\"\",\n",
    ")\n",
    "fig_drivers_incentives_cat.update_yaxes(showgrid=True, title=\"Nombre de journeys\")\n",
    "add_campaign_annotations(fig_drivers_incentives_cat, label_position=\"inside top left\")\n",
    "\n",
    "fig_drivers_incentives_cat.show()\n",
    "\n",
    "fig_drivers_incentives_cat.write_html(\"outputs/fig_conducteurs_seuils_incitation.html\")\n",
    "fig_drivers_incentives_cat.write_image(\n",
    "    \"outputs/fig_conducteurs_seuils_incitation.svg\", width=1280, height=720\n",
    ")"
   ]
  },
  {
   "cell_type": "markdown",
   "id": "0aef851e-475c-4852-9ca5-fc45289f5af7",
   "metadata": {},
   "source": [
    "## Distribution des gains\n"
   ]
  },
  {
   "cell_type": "code",
   "execution_count": null,
   "id": "4483a917-0ded-4840-a26b-2ad6ad890464",
   "metadata": {
    "execution": {
     "iopub.execute_input": "2025-09-02T07:29:32.101575Z",
     "iopub.status.busy": "2025-09-02T07:29:32.101250Z",
     "iopub.status.idle": "2025-09-02T07:29:32.539120Z",
     "shell.execute_reply": "2025-09-02T07:29:32.538641Z",
     "shell.execute_reply.started": "2025-09-02T07:29:32.101561Z"
    }
   },
   "outputs": [],
   "source": [
    "breaks = list(range(0, 101, 10))\n",
    "df_incentives_by_drivers_hist = (\n",
    "    df_incentives_stats_by_month_driver.group_by(\n",
    "        pl.col(\"incentive_amount_cumu_max\").cut(breaks=breaks, include_breaks=True)\n",
    "    )\n",
    "    .agg((pl.col(\"driver_identity_key\").n_unique()))\n",
    "    .with_columns(\n",
    "        pl.col(\"incentive_amount_cumu_max\").struct.unnest(),\n",
    "        (100 * pl.col(\"driver_identity_key\") / pl.col(\"driver_identity_key\").sum())\n",
    "        .round(2)\n",
    "        .alias(\"share\"),\n",
    "    )\n",
    "    .sort(\"breakpoint\")\n",
    ")\n",
    "fig_incentives_by_driver_hist = px.bar(\n",
    "    df_incentives_by_drivers_hist,\n",
    "    x=\"category\",\n",
    "    y=\"share\",\n",
    "    text=\"share\",\n",
    "    labels={**labels_map, \"share\": \"% des conducteurs\", \"category\": \"Incitation reçue\"},\n",
    "    template=\"simple_white\",\n",
    "    title=\"Distribution des gains mensuels des conducteurs<br><sub>Par tranche de 10€,\"\n",
    "    \" la première tranche est celle des conducteurs n'ayant percus aucune incitation.</sub>\",\n",
    ")\n",
    "fig_incentives_by_driver_hist.show()\n",
    "fig_incentives_by_driver_hist.write_html(\"outputs/fig_histo_incitation_conducteur.html\")\n",
    "fig_incentives_by_driver_hist.write_image(\n",
    "    \"outputs/fig_histo_incitation_conducteur.svg\", width=1280, height=720\n",
    ")"
   ]
  },
  {
   "cell_type": "markdown",
   "id": "7bab6188-1662-4882-9c98-2ed6b1d042ac",
   "metadata": {},
   "source": [
    "## Changements de profils\n"
   ]
  },
  {
   "cell_type": "code",
   "execution_count": null,
   "id": "e6ecab78-f6f6-4a43-a2dc-523a63712673",
   "metadata": {
    "execution": {
     "iopub.execute_input": "2025-09-02T07:29:32.895439Z",
     "iopub.status.busy": "2025-09-02T07:29:32.895240Z",
     "iopub.status.idle": "2025-09-02T07:29:32.917946Z",
     "shell.execute_reply": "2025-09-02T07:29:32.917612Z",
     "shell.execute_reply.started": "2025-09-02T07:29:32.895425Z"
    }
   },
   "outputs": [],
   "source": [
    "df_driver_cat_changes_stats = (\n",
    "    df_journeys.group_by([\"campaign_type\", \"driver_identity_key\"])\n",
    "    .agg(\n",
    "        (\n",
    "            (\n",
    "                pl.concat_str(\n",
    "                    pl.col(\"operator_id\"), pl.lit(\"-\"), pl.col(\"operator_trip_id\")\n",
    "                )\n",
    "                .filter(pl.col(\"is_fully_inside_campaign_area\"))\n",
    "                .n_unique()\n",
    "            )\n",
    "            >= (\n",
    "                pl.concat_str(\n",
    "                    pl.col(\"operator_id\"), pl.lit(\"-\"), pl.col(\"operator_trip_id\")\n",
    "                )\n",
    "                .filter(pl.col(\"is_fully_inside_campaign_area\").not_())\n",
    "                .n_unique()\n",
    "            )\n",
    "        ).alias(\"is_intra_driver\")\n",
    "    )\n",
    "    .filter(pl.col(\"campaign_type\") != \"Période 0\")\n",
    "    .sort(pl.col(\"campaign_type\").replace(campaign_order))\n",
    "    .group_by(\"driver_identity_key\", maintain_order=True)\n",
    "    .agg(pl.col(\"campaign_type\"), pl.col(\"is_intra_driver\"))\n",
    "    .with_columns(\n",
    "        pl.when(pl.col(\"campaign_type\") == [\"Période 1\"])\n",
    "        .then(pl.lit(\"Conducteur a churné\"))\n",
    "        .when(pl.col(\"campaign_type\") == [\"Période 2\"])\n",
    "        .then(pl.lit(\"Nouveau conducteur\"))\n",
    "        .when(pl.col(\"is_intra_driver\") == [False, True])\n",
    "        .then(pl.lit(\"conducteur passé d'inter a intra\"))\n",
    "        .when(pl.col(\"is_intra_driver\") == [True, False])\n",
    "        .then(pl.lit(\"conducteur passé d'intra a inter\"))\n",
    "        .otherwise(pl.lit(\"Conducteur n'a pas changé de catégorie\"))\n",
    "        .alias(\"driver_cat\")\n",
    "    )\n",
    "    .group_by(\"driver_cat\")\n",
    "    .agg(pl.len().alias(\"num_drivers\"))\n",
    "    .with_columns(\n",
    "        (100 * pl.col(\"num_drivers\") / pl.col(\"num_drivers\").sum()).alias(\n",
    "            \"share_drivers\"\n",
    "        )\n",
    "    )\n",
    ")\n",
    "df_driver_cat_changes_stats.sort(\"share_drivers\", descending=True)"
   ]
  },
  {
   "cell_type": "code",
   "execution_count": null,
   "id": "7b1de62c-a49f-4101-89e8-194f2c1c2107",
   "metadata": {
    "execution": {
     "iopub.execute_input": "2025-09-02T07:29:33.305246Z",
     "iopub.status.busy": "2025-09-02T07:29:33.305076Z",
     "iopub.status.idle": "2025-09-02T07:29:33.315524Z",
     "shell.execute_reply": "2025-09-02T07:29:33.315162Z",
     "shell.execute_reply.started": "2025-09-02T07:29:33.305234Z"
    }
   },
   "outputs": [],
   "source": [
    "df_driver_cat_changes_stats.sort(\"share_drivers\", descending=True).write_clipboard()"
   ]
  },
  {
   "cell_type": "markdown",
   "id": "872af47a-d99d-4357-9749-ad6a7e216a37",
   "metadata": {},
   "source": [
    "# Passagers\n"
   ]
  },
  {
   "cell_type": "markdown",
   "id": "01410851-8d72-4e15-8659-014f46739da6",
   "metadata": {},
   "source": [
    "## Acquisition\n"
   ]
  },
  {
   "cell_type": "code",
   "execution_count": null,
   "id": "550a493e-aed3-4a32-8347-0ed88e227a5f",
   "metadata": {
    "execution": {
     "iopub.execute_input": "2025-09-02T07:29:34.391566Z",
     "iopub.status.busy": "2025-09-02T07:29:34.391381Z",
     "iopub.status.idle": "2025-09-02T07:29:34.399270Z",
     "shell.execute_reply": "2025-09-02T07:29:34.398969Z",
     "shell.execute_reply.started": "2025-09-02T07:29:34.391553Z"
    }
   },
   "outputs": [],
   "source": [
    "df_journeys.select(\n",
    "    pl.col(\"passenger_identity_key\").n_unique().alias(\"Nombre de passagers uniques\"),\n",
    "    pl.col(\"passenger_identity_key\")\n",
    "    .filter(\n",
    "        pl.col(\"passenger_first_trip_datetime\").is_between(\n",
    "            datetime(2024, 9, 1, tzinfo=ZoneInfo(\"GMT\")), CAMPAIGN_CHANGE_DATE\n",
    "        ),\n",
    "    )\n",
    "    .alias(\n",
    "        f\"Nombre de passagers arrivés entre le 01/01/2024 et le {CAMPAIGN_CHANGE_DATE:%d/%m/%Y}\"\n",
    "    )\n",
    "    .n_unique(),\n",
    "    pl.col(\"passenger_identity_key\")\n",
    "    .filter(\n",
    "        pl.col(\"first_trip_datetime\") > CAMPAIGN_CHANGE_DATE,\n",
    "    )\n",
    "    .alias(f\"Nombre de passagers arrivés après le {CAMPAIGN_CHANGE_DATE:%d/%m/%Y}\")\n",
    "    .n_unique(),\n",
    ")"
   ]
  },
  {
   "cell_type": "code",
   "execution_count": null,
   "id": "66b274fc-dd22-4cbd-bdc3-cd6a4b63d267",
   "metadata": {
    "execution": {
     "iopub.execute_input": "2025-09-02T07:29:34.815690Z",
     "iopub.status.busy": "2025-09-02T07:29:34.815512Z",
     "iopub.status.idle": "2025-09-02T07:29:35.320612Z",
     "shell.execute_reply": "2025-09-02T07:29:35.319911Z",
     "shell.execute_reply.started": "2025-09-02T07:29:34.815676Z"
    }
   },
   "outputs": [],
   "source": [
    "fig_new_passengers_count_by_week = px.bar(\n",
    "    df_journeys.filter(\n",
    "        pl.col(\"passenger_first_trip_datetime\")\n",
    "        >= datetime(2024, 9, 1, tzinfo=ZoneInfo(\"GMT\"))\n",
    "    )\n",
    "    .group_by(pl.col(\"passenger_first_trip_datetime\").dt.truncate(\"1w\").alias(\"week\"))\n",
    "    .agg(pl.len())\n",
    "    .sort(pl.col(\"week\")),\n",
    "    x=\"week\",\n",
    "    y=\"len\",\n",
    "    labels={**labels_map, \"len\": \"Nombre de nouveaux passagers\"},\n",
    "    template=\"simple_white\",\n",
    "    title=\"Evolution de l'acquisition des conducteurs\",\n",
    ")\n",
    "add_campaign_annotations(\n",
    "    fig_new_passengers_count_by_week, label_position=\"inside top left\"\n",
    ")\n",
    "fig_new_passengers_count_by_week.show()\n",
    "\n",
    "fig_new_passengers_count_by_week.write_html(\"outputs/fig_passagers_par_semaine.html\")\n",
    "fig_new_passengers_count_by_week.write_image(\n",
    "    \"outputs/fig_passagers_par_semaine.svg\", width=1280, height=720\n",
    ")"
   ]
  },
  {
   "cell_type": "markdown",
   "id": "40b43669-c1e1-4cf2-814c-664d942037a0",
   "metadata": {},
   "source": [
    "## Nombre de trajets\n"
   ]
  },
  {
   "cell_type": "code",
   "execution_count": null,
   "id": "25317bff-1457-4eb4-a1ba-8b1ace99d221",
   "metadata": {
    "execution": {
     "iopub.execute_input": "2025-09-02T07:29:35.666511Z",
     "iopub.status.busy": "2025-09-02T07:29:35.666318Z",
     "iopub.status.idle": "2025-09-02T07:29:35.748769Z",
     "shell.execute_reply": "2025-09-02T07:29:35.748409Z",
     "shell.execute_reply.started": "2025-09-02T07:29:35.666497Z"
    }
   },
   "outputs": [],
   "source": [
    "df_journeys.filter(\n",
    "    pl.col(\"passenger_first_trip_datetime\")\n",
    "    >= datetime(2024, 9, 1, tzinfo=ZoneInfo(\"GMT\")),\n",
    "    pl.col(\"passenger_first_trip_datetime\")\n",
    "    <= datetime.now(ZoneInfo(\"GMT\")) - timedelta(days=14),\n",
    ").group_by(\n",
    "    [\n",
    "        \"campaign_type\",\n",
    "        \"passenger_identity_key\",\n",
    "        pl.col(\"start_datetime\").dt.truncate(\"1w\"),\n",
    "    ]\n",
    ").agg(\n",
    "    pl.len().alias(\"num_journeys\"),\n",
    "    pl.concat_str(pl.col(\"operator_id\"), pl.lit(\"-\"), pl.col(\"operator_trip_id\"))\n",
    "    .n_unique()\n",
    "    .alias(\"num_trips\"),\n",
    ").group_by([\"campaign_type\", \"start_datetime\"]).agg(\n",
    "    pl.col(\"num_journeys\").mean().alias(\"Nombre moyen de journeys par semaine\"),\n",
    "    pl.col(\"num_trips\").mean().alias(\"Nombre moyen de trips par semaine\"),\n",
    ").group_by([\"campaign_type\"]).agg(\n",
    "    pl.col(\"Nombre moyen de journeys par semaine\").mean(),\n",
    "    pl.col(\"Nombre moyen de trips par semaine\").mean(),\n",
    ").sort(pl.col(\"campaign_type\").replace(campaign_order))"
   ]
  },
  {
   "cell_type": "code",
   "execution_count": null,
   "id": "df6ff317-d8d5-43a8-9efc-6cc3efa02940",
   "metadata": {
    "execution": {
     "iopub.execute_input": "2025-09-02T07:29:36.061316Z",
     "iopub.status.busy": "2025-09-02T07:29:36.061157Z",
     "iopub.status.idle": "2025-09-02T07:29:36.092233Z",
     "shell.execute_reply": "2025-09-02T07:29:36.091870Z",
     "shell.execute_reply.started": "2025-09-02T07:29:36.061304Z"
    }
   },
   "outputs": [],
   "source": [
    "df_journeys.filter(\n",
    "    pl.col(\"passenger_first_trip_datetime\")\n",
    "    >= datetime(2024, 9, 1, tzinfo=ZoneInfo(\"GMT\")),\n",
    "    pl.col(\"passenger_first_trip_datetime\")\n",
    "    <= datetime.now(ZoneInfo(\"GMT\")) - timedelta(days=30),\n",
    "    pl.col(\"start_datetime\")\n",
    "    <= pl.col(\"passenger_first_trip_datetime\") + pl.duration(days=30),\n",
    ").group_by([\"campaign_type\", \"passenger_identity_key\"]).agg(\n",
    "    pl.len().alias(\"num_journeys\"),\n",
    "    pl.concat_str(pl.col(\"operator_id\"), pl.lit(\"-\"), pl.col(\"operator_trip_id\"))\n",
    "    .n_unique()\n",
    "    .alias(\"num_trips\"),\n",
    ").group_by(\"campaign_type\").agg(\n",
    "    pl.col(\"num_journeys\").mean().alias(\"Nombre moyen de journeys sur 30 jours\"),\n",
    "    pl.col(\"num_trips\").mean().alias(\"Nombre moyen de trips sur 30 jours\"),\n",
    ").sort(pl.col(\"campaign_type\").replace(campaign_order))"
   ]
  },
  {
   "cell_type": "code",
   "execution_count": null,
   "id": "43b405e7-53dc-4f08-a0f5-200a7b6811a0",
   "metadata": {
    "execution": {
     "iopub.execute_input": "2025-09-02T07:29:36.464592Z",
     "iopub.status.busy": "2025-09-02T07:29:36.464405Z",
     "iopub.status.idle": "2025-09-02T07:29:36.913203Z",
     "shell.execute_reply": "2025-09-02T07:29:36.912713Z",
     "shell.execute_reply.started": "2025-09-02T07:29:36.464578Z"
    }
   },
   "outputs": [],
   "source": [
    "def create_num_passengers_by_num_trips_hist_fig(\n",
    "    df: pl.DataFrame, step_size: int, max_step: int\n",
    ") -> go.Figure:\n",
    "    breaks = range(1, max_step + 1, step_size)\n",
    "\n",
    "    campaign_types = df_journeys.select(\"campaign_type\").unique().to_series().to_list()\n",
    "    campaign_types = sorted(campaign_types, key=lambda x: campaign_order.get(x))\n",
    "\n",
    "    # Création du DataFrame de toutes les combinaisons possibles\n",
    "    combinations = pl.DataFrame(\n",
    "        product(campaign_types, breaks), schema=[\"campaign_type\", \"breaks_raw\"]\n",
    "    ).with_columns(\n",
    "        pl.col(\"breaks_raw\")\n",
    "        .cut(breaks, include_breaks=True, left_closed=True)\n",
    "        .struct.unnest()\n",
    "    )\n",
    "    data_agg = (\n",
    "        df.filter(\n",
    "            pl.col(\"passenger_first_trip_datetime\")\n",
    "            >= datetime(2024, 9, 1, tzinfo=ZoneInfo(\"GMT\")),\n",
    "            pl.col(\"passenger_first_trip_datetime\")\n",
    "            <= datetime.now(ZoneInfo(\"GMT\")) - timedelta(days=30),\n",
    "            pl.col(\"start_datetime\")\n",
    "            <= pl.col(\"passenger_first_trip_datetime\") + pl.duration(days=30),\n",
    "        )\n",
    "        .group_by([\"campaign_type\", \"passenger_identity_key\"])\n",
    "        .agg(\n",
    "            pl.len().alias(\"num_journeys\"),\n",
    "            pl.concat_str(\n",
    "                pl.col(\"operator_id\"), pl.lit(\"-\"), pl.col(\"operator_trip_id\")\n",
    "            )\n",
    "            .n_unique()\n",
    "            .alias(\"num_trips\"),\n",
    "        )\n",
    "        .with_columns(\n",
    "            pl.col(\"num_trips\").cut(\n",
    "                breaks=breaks, left_closed=True, include_breaks=True\n",
    "            )\n",
    "        )\n",
    "        .group_by([\"campaign_type\", \"num_trips\"])\n",
    "        .agg(pl.col(\"passenger_identity_key\").n_unique().alias(\"num_passengers\"))\n",
    "        .with_columns(pl.col(\"num_trips\").struct.unnest())\n",
    "    )\n",
    "\n",
    "    data_complete = (\n",
    "        combinations.join(\n",
    "            data_agg,\n",
    "            on=[\"campaign_type\", \"breakpoint\"],\n",
    "            how=\"left\",\n",
    "        )\n",
    "        .with_columns(pl.col(\"num_passengers\").fill_null(0))\n",
    "        .with_columns(\n",
    "            (\n",
    "                100\n",
    "                * pl.col(\"num_passengers\")\n",
    "                / pl.col(\"num_passengers\").sum().over(\"campaign_type\")\n",
    "            )\n",
    "            .round(2)\n",
    "            .alias(\"share_passengers\")\n",
    "        )\n",
    "        .sort([pl.col(\"campaign_type\").replace(campaign_order), \"breakpoint\"])\n",
    "    )\n",
    "\n",
    "    traces = []\n",
    "\n",
    "    for campaign_type in campaign_types:\n",
    "        data_filtered = data_complete.filter(pl.col(\"campaign_type\") == campaign_type)\n",
    "\n",
    "        trace = go.Bar(\n",
    "            x=data_filtered[\"category\"],\n",
    "            y=data_filtered[\"share_passengers\"],\n",
    "            marker_color=colors_map.get(campaign_type),\n",
    "            name=campaign_type,\n",
    "        )\n",
    "        traces.append(trace)\n",
    "\n",
    "    fig = go.Figure(traces)\n",
    "    fig.update_layout(\n",
    "        barmode=\"group\",\n",
    "        template=\"simple_white\",\n",
    "        title=\"Distribution du nombre de trips effectués sur 30 jours pour chaque campagne\",\n",
    "    )\n",
    "    fig.update_xaxes(title=\"Nombre de trajets\")\n",
    "    fig.update_yaxes(title=\"% des passagers\")\n",
    "\n",
    "    return fig, data_complete\n",
    "\n",
    "\n",
    "fig_passengers_by_trip_numbers_hist, data_complete = (\n",
    "    create_num_passengers_by_num_trips_hist_fig(df_journeys, step_size=3, max_step=30)\n",
    ")\n",
    "fig_passengers_by_trip_numbers_hist.show()\n",
    "\n",
    "fig_passengers_by_trip_numbers_hist.write_html(\n",
    "    \"outputs/fig_histo_trajets_passagers.html\"\n",
    ")\n",
    "fig_passengers_by_trip_numbers_hist.write_image(\n",
    "    \"outputs/fig_histo_trajets_passagers.svg\", width=1280, height=720\n",
    ")"
   ]
  },
  {
   "cell_type": "markdown",
   "id": "9319699a-b21f-4486-8606-fa073f9903c6",
   "metadata": {},
   "source": [
    "## Types de trajets\n"
   ]
  },
  {
   "cell_type": "code",
   "execution_count": null,
   "id": "d375ce02-5542-47b5-8d2e-dc7cf59ab3e7",
   "metadata": {
    "execution": {
     "iopub.execute_input": "2025-09-02T07:29:37.345610Z",
     "iopub.status.busy": "2025-09-02T07:29:37.345428Z",
     "iopub.status.idle": "2025-09-02T07:29:37.379222Z",
     "shell.execute_reply": "2025-09-02T07:29:37.378928Z",
     "shell.execute_reply.started": "2025-09-02T07:29:37.345597Z"
    }
   },
   "outputs": [],
   "source": [
    "df_journeys.filter(\n",
    "    pl.col(\"passenger_first_trip_datetime\")\n",
    "    >= datetime(2024, 9, 1, tzinfo=ZoneInfo(\"GMT\")),\n",
    "    pl.col(\"passenger_first_trip_datetime\")\n",
    "    <= datetime.now(ZoneInfo(\"GMT\")) - timedelta(days=30),\n",
    "    pl.col(\"start_datetime\")\n",
    "    <= pl.col(\"passenger_first_trip_datetime\") + pl.duration(days=30),\n",
    ").group_by([\"campaign_type\", \"passenger_identity_key\"]).agg(\n",
    "    (\n",
    "        (\n",
    "            pl.concat_str(\n",
    "                pl.col(\"operator_id\"), pl.lit(\"-\"), pl.col(\"operator_trip_id\")\n",
    "            )\n",
    "            .filter(pl.col(\"is_fully_inside_campaign_area\"))\n",
    "            .n_unique()\n",
    "        )\n",
    "        >= (\n",
    "            pl.concat_str(\n",
    "                pl.col(\"operator_id\"), pl.lit(\"-\"), pl.col(\"operator_trip_id\")\n",
    "            )\n",
    "            .filter(pl.col(\"is_fully_inside_campaign_area\").not_())\n",
    "            .n_unique()\n",
    "        )\n",
    "    ).alias(\"is_intra_passenger\")\n",
    ").group_by([\"campaign_type\"]).agg(\n",
    "    (100 * pl.col(\"is_intra_passenger\").sum() / pl.len()).alias(\n",
    "        \"% des passagers avec une majorité de journeys intra\"\n",
    "    )\n",
    ").sort(pl.col(\"campaign_type\").replace(campaign_order))"
   ]
  },
  {
   "cell_type": "code",
   "execution_count": null,
   "id": "66349e94-912e-48bd-a6e0-893808686fc1",
   "metadata": {
    "execution": {
     "iopub.execute_input": "2025-09-02T07:29:37.820651Z",
     "iopub.status.busy": "2025-09-02T07:29:37.820469Z",
     "iopub.status.idle": "2025-09-02T07:29:37.854241Z",
     "shell.execute_reply": "2025-09-02T07:29:37.853938Z",
     "shell.execute_reply.started": "2025-09-02T07:29:37.820636Z"
    }
   },
   "outputs": [],
   "source": [
    "df_passengers_journeys_trips_count_by_campagin_trip_type = (\n",
    "    df_journeys.filter(\n",
    "        pl.col(\"passenger_first_trip_datetime\")\n",
    "        >= datetime(2024, 9, 1, tzinfo=ZoneInfo(\"GMT\")),\n",
    "        pl.col(\"passenger_first_trip_datetime\")\n",
    "        <= datetime.now(ZoneInfo(\"GMT\")) - timedelta(days=30),\n",
    "        pl.col(\"start_datetime\")\n",
    "        <= pl.col(\"passenger_first_trip_datetime\") + pl.duration(days=30),\n",
    "    )\n",
    "    .group_by([\"campaign_type\", \"passenger_identity_key\"])\n",
    "    .agg(\n",
    "        (\n",
    "            (\n",
    "                pl.concat_str(\n",
    "                    pl.col(\"operator_id\"), pl.lit(\"-\"), pl.col(\"operator_trip_id\")\n",
    "                )\n",
    "                .filter(pl.col(\"is_fully_inside_campaign_area\"))\n",
    "                .n_unique()\n",
    "            )\n",
    "            >= (\n",
    "                pl.concat_str(\n",
    "                    pl.col(\"operator_id\"), pl.lit(\"-\"), pl.col(\"operator_trip_id\")\n",
    "                )\n",
    "                .filter(pl.col(\"is_fully_inside_campaign_area\").not_())\n",
    "                .n_unique()\n",
    "            )\n",
    "        ).alias(\"is_intra_passenger\"),\n",
    "        pl.len().alias(\"num_journeys\"),\n",
    "        pl.concat_str(pl.col(\"operator_id\"), pl.lit(\"-\"), pl.col(\"operator_trip_id\"))\n",
    "        .n_unique()\n",
    "        .alias(\"num_trips\"),\n",
    "    )\n",
    "    .group_by([\"campaign_type\", \"is_intra_passenger\"])\n",
    "    .agg(\n",
    "        pl.col(\"num_journeys\").mean().alias(\"Nombre moyen de journeys sur 30 jours\"),\n",
    "        pl.col(\"num_trips\").mean().alias(\"Nombre moyen de trips sur 30 jours\"),\n",
    "    )\n",
    "    .sort(pl.col(\"campaign_type\").replace(campaign_order), \"is_intra_passenger\")\n",
    ")\n",
    "df_journeys_trips_count_by_campagin_trip_type"
   ]
  },
  {
   "cell_type": "code",
   "execution_count": null,
   "id": "b5e7bf24-1227-4a6f-8f89-0e697df08b08",
   "metadata": {
    "execution": {
     "iopub.execute_input": "2025-09-02T07:29:42.562827Z",
     "iopub.status.busy": "2025-09-02T07:29:42.562528Z",
     "iopub.status.idle": "2025-09-02T07:29:43.005643Z",
     "shell.execute_reply": "2025-09-02T07:29:43.005115Z",
     "shell.execute_reply.started": "2025-09-02T07:29:42.562815Z"
    }
   },
   "outputs": [],
   "source": [
    "fig_passengers_journeys_count_by_driver_type_campaign = px.bar(\n",
    "    df_passengers_journeys_trips_count_by_campagin_trip_type.with_columns(\n",
    "        pl.when(pl.col(\"is_intra_passenger\"))\n",
    "        .then(pl.lit(\"Passager intra\"))\n",
    "        .otherwise(pl.lit(\"Passager inter\"))\n",
    "        .alias(\"passenger_type\")\n",
    "    ),\n",
    "    x=\"campaign_type\",\n",
    "    y=\"Nombre moyen de journeys sur 30 jours\",\n",
    "    color=\"passenger_type\",\n",
    "    text=\"Nombre moyen de journeys sur 30 jours\",\n",
    "    text_auto=\".1f\",\n",
    "    template=\"simple_white\",\n",
    "    barmode=\"group\",\n",
    "    labels=labels_map,\n",
    "    title=\"Nombre de journeys par type de passagers et campagne\",\n",
    ")\n",
    "fig_passengers_journeys_count_by_driver_type_campaign.update_layout(legend_title=None)\n",
    "fig_passengers_journeys_count_by_driver_type_campaign.show()\n",
    "fig_passengers_journeys_count_by_driver_type_campaign.write_html(\n",
    "    \"outputs/fig_journeys_par_type_passagers_et_campagne.html\"\n",
    ")\n",
    "fig_passengers_journeys_count_by_driver_type_campaign.write_image(\n",
    "    \"outputs/fig_journeys_par_type_passagers_et_campagne.svg\", width=1280, height=720\n",
    ")"
   ]
  },
  {
   "cell_type": "markdown",
   "id": "87ff4322-198d-41ea-b7eb-ec4f50aebcc5",
   "metadata": {},
   "source": [
    "## Nombre de conducteurs\n"
   ]
  },
  {
   "cell_type": "code",
   "execution_count": null,
   "id": "116eb185-2e62-4c45-a5f7-5326a1630de4",
   "metadata": {
    "execution": {
     "iopub.execute_input": "2025-09-02T07:29:43.360435Z",
     "iopub.status.busy": "2025-09-02T07:29:43.360230Z",
     "iopub.status.idle": "2025-09-02T07:29:43.395072Z",
     "shell.execute_reply": "2025-09-02T07:29:43.394768Z",
     "shell.execute_reply.started": "2025-09-02T07:29:43.360418Z"
    }
   },
   "outputs": [],
   "source": [
    "df_passengers_drivers_mean_by_campaign_trip_type = (\n",
    "    df_journeys.filter(\n",
    "        pl.col(\"passenger_first_trip_datetime\")\n",
    "        >= datetime(2024, 9, 1, tzinfo=ZoneInfo(\"GMT\")),\n",
    "        pl.col(\"passenger_first_trip_datetime\")\n",
    "        <= datetime.now(ZoneInfo(\"GMT\")) - timedelta(days=30),\n",
    "        pl.col(\"start_datetime\")\n",
    "        <= pl.col(\"passenger_first_trip_datetime\") + pl.duration(days=30),\n",
    "    )\n",
    "    .group_by(\n",
    "        [\n",
    "            pl.concat_str(\n",
    "                pl.col(\"operator_id\"), pl.lit(\"-\"), pl.col(\"operator_trip_id\")\n",
    "            ).alias(\"trip_id\"),\n",
    "        ]\n",
    "    )\n",
    "    .agg(\n",
    "        pl.col(\"is_fully_inside_campaign_area\").max(),\n",
    "        pl.col(\"passenger_seats\").sum(),\n",
    "        pl.col(\"campaign_type\").max(),\n",
    "        pl.col(\"driver_identity_key\").max(),\n",
    "        pl.col(\"passenger_identity_key\").max(),\n",
    "    )\n",
    "    .group_by([\"campaign_type\", \"passenger_identity_key\"])\n",
    "    .agg(\n",
    "        (\n",
    "            (\n",
    "                pl.col(\"trip_id\")\n",
    "                .filter(pl.col(\"is_fully_inside_campaign_area\"))\n",
    "                .n_unique()\n",
    "            )\n",
    "            >= (\n",
    "                pl.col(\"trip_id\")\n",
    "                .filter(pl.col(\"is_fully_inside_campaign_area\").not_())\n",
    "                .n_unique()\n",
    "            )\n",
    "        ).alias(\"is_intra_passenger\"),\n",
    "        pl.len().alias(\"num_journeys\"),\n",
    "        pl.col(\"driver_identity_key\").n_unique().alias(\"num_drivers\"),\n",
    "    )\n",
    "    .group_by([\"campaign_type\", \"is_intra_passenger\"])\n",
    "    .agg(\n",
    "        pl.col(\"num_drivers\").mean().alias(\"Nombre moyen de conducteurs différents\"),\n",
    "    )\n",
    "    .sort(pl.col(\"campaign_type\").replace(campaign_order), \"is_intra_passenger\")\n",
    ")\n",
    "df_passengers_drivers_mean_by_campaign_trip_type"
   ]
  },
  {
   "cell_type": "code",
   "execution_count": null,
   "id": "991e5ea4-dcb4-46c8-9efe-959fbe6bc250",
   "metadata": {
    "execution": {
     "iopub.execute_input": "2025-09-02T07:29:43.761710Z",
     "iopub.status.busy": "2025-09-02T07:29:43.761331Z",
     "iopub.status.idle": "2025-09-02T07:29:44.200207Z",
     "shell.execute_reply": "2025-09-02T07:29:44.199053Z",
     "shell.execute_reply.started": "2025-09-02T07:29:43.761695Z"
    }
   },
   "outputs": [],
   "source": [
    "fig_passengers_drivers_count_by_driver_type_campaign = px.bar(\n",
    "    df_passengers_drivers_mean_by_campaign_trip_type.with_columns(\n",
    "        pl.when(pl.col(\"is_intra_passenger\"))\n",
    "        .then(pl.lit(\"Passager intra\"))\n",
    "        .otherwise(pl.lit(\"Passager inter\"))\n",
    "        .alias(\"passenger_type\")\n",
    "    ),\n",
    "    x=\"campaign_type\",\n",
    "    y=\"Nombre moyen de conducteurs différents\",\n",
    "    color=\"passenger_type\",\n",
    "    text=\"Nombre moyen de conducteurs différents\",\n",
    "    text_auto=\".2f\",\n",
    "    template=\"simple_white\",\n",
    "    barmode=\"group\",\n",
    "    labels=labels_map,\n",
    "    title=\"Nombre moyen de conducteurs différents par type de passager et campagne\",\n",
    ")\n",
    "\n",
    "fig_passengers_drivers_count_by_driver_type_campaign.update_layout(legend_title=None)\n",
    "fig_passengers_drivers_count_by_driver_type_campaign.show()\n",
    "fig_passengers_drivers_count_by_driver_type_campaign.write_html(\n",
    "    \"outputs/fig_conducteurs_type_passager_et_campagne.html\"\n",
    ")\n",
    "fig_passengers_drivers_count_by_driver_type_campaign.write_image(\n",
    "    \"outputs/fig_conducteurs_type_passager_et_campagne.svg\", width=1280, height=720\n",
    ")"
   ]
  },
  {
   "cell_type": "markdown",
   "id": "6c953403-4f9f-4edc-a668-10a5a07a7e16",
   "metadata": {},
   "source": [
    "## Attrition\n"
   ]
  },
  {
   "cell_type": "code",
   "execution_count": null,
   "id": "dd2b8a4c-ee2e-433b-99bd-1e29de0751fd",
   "metadata": {
    "execution": {
     "iopub.execute_input": "2025-09-02T07:29:44.497259Z",
     "iopub.status.busy": "2025-09-02T07:29:44.496975Z",
     "iopub.status.idle": "2025-09-02T07:29:44.499814Z",
     "shell.execute_reply": "2025-09-02T07:29:44.499518Z",
     "shell.execute_reply.started": "2025-09-02T07:29:44.497246Z"
    }
   },
   "outputs": [],
   "source": [
    "CAMPAIGN_CHANGE_DATE"
   ]
  },
  {
   "cell_type": "code",
   "execution_count": null,
   "id": "2ad38397-b780-4e5a-aee7-02c979aa0822",
   "metadata": {
    "execution": {
     "iopub.execute_input": "2025-09-02T07:29:44.814767Z",
     "iopub.status.busy": "2025-09-02T07:29:44.814480Z",
     "iopub.status.idle": "2025-09-02T07:29:45.074372Z",
     "shell.execute_reply": "2025-09-02T07:29:45.074107Z",
     "shell.execute_reply.started": "2025-09-02T07:29:44.814753Z"
    }
   },
   "outputs": [],
   "source": [
    "df_acquisition_by_passenger_type = (\n",
    "    (\n",
    "        df_journeys.filter(\n",
    "            pl.col(\"passenger_first_trip_datetime\")\n",
    "            >= datetime(2024, 9, 1, tzinfo=ZoneInfo(\"GMT\")),\n",
    "            pl.col(\"passenger_first_trip_datetime\")\n",
    "            <= datetime.now(ZoneInfo(\"GMT\")) - timedelta(weeks=6),\n",
    "        )\n",
    "        .group_by([\"passenger_identity_key\"])\n",
    "        .agg(\n",
    "            pl.col(\"start_datetime\").min(),\n",
    "            pl.datetime_range(\n",
    "                pl.col(\"start_datetime\").min().dt.truncate(\"1w\"),\n",
    "                pl.col(\"start_datetime\").min().dt.truncate(\"1w\") + pl.duration(weeks=5),\n",
    "                \"1w\",\n",
    "            ).alias(\"week\"),\n",
    "        )\n",
    "        .with_columns(\n",
    "            (\n",
    "                pl.when(\n",
    "                    pl.col(\"start_datetime\")\n",
    "                    <= datetime(2025, 1, 1, tzinfo=ZoneInfo(\"GMT\"))\n",
    "                )\n",
    "                .then(pl.lit(\"Période 0\"))\n",
    "                .when(pl.col(\"start_datetime\") <= CAMPAIGN_CHANGE_DATE)\n",
    "                .then(pl.lit(\"Période 1\"))\n",
    "                .otherwise(pl.lit(\"Période 2\"))\n",
    "                .alias(\"passenger_campaign_type\")\n",
    "            )\n",
    "        )\n",
    "        .explode(\"week\")\n",
    "        .join(\n",
    "            df_journeys.filter(\n",
    "                pl.col(\"start_datetime\")\n",
    "                >= datetime(2024, 9, 1, tzinfo=ZoneInfo(\"GMT\")),\n",
    "            ),\n",
    "            left_on=[\"passenger_identity_key\", \"week\"],\n",
    "            right_on=[\n",
    "                \"passenger_identity_key\",\n",
    "                pl.col(\"start_datetime\").dt.truncate(\"1w\"),\n",
    "            ],\n",
    "            how=\"left\",\n",
    "        )\n",
    "    )\n",
    "    .group_by([pl.col(\"passenger_identity_key\"), \"week\"])\n",
    "    .agg(\n",
    "        (pl.col(\"_id\").count() > 0).alias(\"has_traveled\"),\n",
    "        pl.col(\"passenger_campaign_type\").max(),\n",
    "    )\n",
    "    .with_columns(\n",
    "        pl.col(\"week\")\n",
    "        .rank()\n",
    "        .over(partition_by=[\"passenger_identity_key\"], order_by=\"week\")\n",
    "        .alias(\"week_number\")\n",
    "    )\n",
    "    .group_by([\"passenger_campaign_type\", \"week_number\"])\n",
    "    .agg(\n",
    "        (100 * pl.col(\"has_traveled\").sum() / pl.col(\"has_traveled\").count()).alias(\n",
    "            \"passengers_share\"\n",
    "        )\n",
    "    )\n",
    "    .sort(\n",
    "        [\n",
    "            pl.col(\"passenger_campaign_type\").replace(campaign_order),\n",
    "            pl.col(\"week_number\"),\n",
    "        ]\n",
    "    )\n",
    ")\n",
    "df_acquisition_by_passenger_type"
   ]
  },
  {
   "cell_type": "code",
   "execution_count": null,
   "id": "9ec3a776-561c-48c6-bb23-fd05ae2c4282",
   "metadata": {
    "execution": {
     "iopub.execute_input": "2025-09-02T07:29:45.190847Z",
     "iopub.status.busy": "2025-09-02T07:29:45.190532Z",
     "iopub.status.idle": "2025-09-02T07:29:45.607091Z",
     "shell.execute_reply": "2025-09-02T07:29:45.606628Z",
     "shell.execute_reply.started": "2025-09-02T07:29:45.190833Z"
    }
   },
   "outputs": [],
   "source": [
    "fig_passenger_churn_by_campaign_type = px.line(\n",
    "    df_acquisition_by_passenger_type,\n",
    "    x=\"week_number\",\n",
    "    y=\"passengers_share\",\n",
    "    color=\"passenger_campaign_type\",\n",
    "    color_discrete_map=colors_map,\n",
    "    template=\"simple_white\",\n",
    "    labels=labels_map,\n",
    "    title=\"Attrition des passagers en fonction des différentes types de campagne\",\n",
    ")\n",
    "\n",
    "fig_passenger_churn_by_campaign_type.update_yaxes(showgrid=True)\n",
    "fig_passenger_churn_by_campaign_type.show()\n",
    "\n",
    "fig_passenger_churn_by_campaign_type.write_html(\n",
    "    \"outputs/fig_attrition_passagers_par_campagne.html\"\n",
    ")\n",
    "fig_passenger_churn_by_campaign_type.write_image(\n",
    "    \"outputs/fig_attrition_passagers_par_campagne.svg\", width=1280, height=720\n",
    ")"
   ]
  },
  {
   "cell_type": "markdown",
   "id": "d132a7bd-6d6d-43da-b389-e4dc0e624aa2",
   "metadata": {},
   "source": [
    "## Changements de profils\n"
   ]
  },
  {
   "cell_type": "code",
   "execution_count": null,
   "id": "036b0c28-77c0-40f2-a1d8-fc80869929cd",
   "metadata": {
    "execution": {
     "iopub.execute_input": "2025-09-02T07:29:45.881499Z",
     "iopub.status.busy": "2025-09-02T07:29:45.881318Z",
     "iopub.status.idle": "2025-09-02T07:29:45.901122Z",
     "shell.execute_reply": "2025-09-02T07:29:45.900822Z",
     "shell.execute_reply.started": "2025-09-02T07:29:45.881486Z"
    }
   },
   "outputs": [],
   "source": [
    "df_passenger_cat_changes_stats = (\n",
    "    df_journeys.group_by([\"campaign_type\", \"passenger_identity_key\"])\n",
    "    .agg(\n",
    "        (\n",
    "            (\n",
    "                pl.concat_str(\n",
    "                    pl.col(\"operator_id\"), pl.lit(\"-\"), pl.col(\"operator_trip_id\")\n",
    "                )\n",
    "                .filter(pl.col(\"is_fully_inside_campaign_area\"))\n",
    "                .n_unique()\n",
    "            )\n",
    "            >= (\n",
    "                pl.concat_str(\n",
    "                    pl.col(\"operator_id\"), pl.lit(\"-\"), pl.col(\"operator_trip_id\")\n",
    "                )\n",
    "                .filter(pl.col(\"is_fully_inside_campaign_area\").not_())\n",
    "                .n_unique()\n",
    "            )\n",
    "        ).alias(\"is_intra_passenger\")\n",
    "    )\n",
    "    .filter(pl.col(\"campaign_type\") != \"Période 0\")\n",
    "    .sort(pl.col(\"campaign_type\").replace(campaign_order))\n",
    "    .group_by(\"passenger_identity_key\", maintain_order=True)\n",
    "    .agg(pl.col(\"campaign_type\"), pl.col(\"is_intra_passenger\"))\n",
    "    .with_columns(\n",
    "        pl.when(pl.col(\"campaign_type\") == [\"Période 1\"])\n",
    "        .then(pl.lit(\"Passager a churné\"))\n",
    "        .when(pl.col(\"campaign_type\") == [\"Période 2\"])\n",
    "        .then(pl.lit(\"Nouveau passager\"))\n",
    "        .when(pl.col(\"is_intra_passenger\") == [False, True])\n",
    "        .then(pl.lit(\"Passager passé d'inter a intra\"))\n",
    "        .when(pl.col(\"is_intra_passenger\") == [True, False])\n",
    "        .then(pl.lit(\"Passager passé d'intra a inter\"))\n",
    "        .otherwise(pl.lit(\"Passager n'a pas changé de catégorie\"))\n",
    "        .alias(\"passenger_cat\")\n",
    "    )\n",
    "    .group_by(\"passenger_cat\")\n",
    "    .agg(pl.len().alias(\"num_passengers\"))\n",
    "    .with_columns(\n",
    "        (100 * pl.col(\"num_passengers\") / pl.col(\"num_passengers\").sum()).alias(\n",
    "            \"share_passengers\"\n",
    "        )\n",
    "    )\n",
    ")\n",
    "df_passenger_cat_changes_stats.sort(\"share_passengers\", descending=True)"
   ]
  },
  {
   "cell_type": "code",
   "execution_count": null,
   "id": "0c43e676-f57a-4ebb-8b6d-985a84538fb8",
   "metadata": {
    "execution": {
     "iopub.execute_input": "2025-09-02T07:29:46.241713Z",
     "iopub.status.busy": "2025-09-02T07:29:46.241398Z",
     "iopub.status.idle": "2025-09-02T07:29:46.244857Z",
     "shell.execute_reply": "2025-09-02T07:29:46.244477Z",
     "shell.execute_reply.started": "2025-09-02T07:29:46.241698Z"
    }
   },
   "outputs": [],
   "source": [
    "df_passenger_cat_changes_stats.sort(\n",
    "    \"share_passengers\", descending=True\n",
    ").write_clipboard()"
   ]
  },
  {
   "cell_type": "markdown",
   "id": "1e74fe1c-73ee-4dcf-86fc-45b78ccf0cdc",
   "metadata": {},
   "source": [
    "# Geo\n"
   ]
  },
  {
   "cell_type": "code",
   "execution_count": null,
   "id": "bc797e2d-365f-41e8-91d9-fb1ec3000c17",
   "metadata": {
    "execution": {
     "iopub.execute_input": "2025-09-02T07:29:46.987890Z",
     "iopub.status.busy": "2025-09-02T07:29:46.987572Z",
     "iopub.status.idle": "2025-09-02T07:29:47.068373Z",
     "shell.execute_reply": "2025-09-02T07:29:47.068067Z",
     "shell.execute_reply.started": "2025-09-02T07:29:46.987875Z"
    }
   },
   "outputs": [],
   "source": [
    "df_journeys.filter(pl.col(\"campaign_type\") == \"Période 1\").group_by(\n",
    "    [\"start_com\", \"end_com\"]\n",
    ").agg(pl.col(\"_id\").n_unique().alias(\"num_journeys\")).with_columns(\n",
    "    (100 * pl.col(\"num_journeys\") / pl.col(\"num_journeys\").sum()).alias(\"share\")\n",
    ").sort(\"num_journeys\", descending=True).head(10)"
   ]
  },
  {
   "cell_type": "code",
   "execution_count": null,
   "id": "b7dc9c33-cdd2-4037-8b86-3e93b343f44b",
   "metadata": {
    "execution": {
     "iopub.execute_input": "2025-09-02T07:29:47.306438Z",
     "iopub.status.busy": "2025-09-02T07:29:47.306118Z",
     "iopub.status.idle": "2025-09-02T07:29:47.345204Z",
     "shell.execute_reply": "2025-09-02T07:29:47.344914Z",
     "shell.execute_reply.started": "2025-09-02T07:29:47.306423Z"
    }
   },
   "outputs": [],
   "source": [
    "df_journeys.filter(pl.col(\"campaign_type\") == \"Période 2\").group_by(\n",
    "    [\"start_com\", \"end_com\"]\n",
    ").agg(pl.col(\"_id\").n_unique().alias(\"num_journeys\")).with_columns(\n",
    "    (100 * pl.col(\"num_journeys\") / pl.col(\"num_journeys\").sum()).alias(\"share\")\n",
    ").sort(\"num_journeys\", descending=True).head(10)"
   ]
  },
  {
   "cell_type": "code",
   "execution_count": null,
   "id": "a786be7b-17ce-43d3-89a9-58988fef5372",
   "metadata": {
    "execution": {
     "iopub.execute_input": "2025-09-02T07:29:47.649640Z",
     "iopub.status.busy": "2025-09-02T07:29:47.649240Z",
     "iopub.status.idle": "2025-09-02T07:29:47.821713Z",
     "shell.execute_reply": "2025-09-02T07:29:47.821352Z",
     "shell.execute_reply.started": "2025-09-02T07:29:47.649622Z"
    }
   },
   "outputs": [],
   "source": [
    "fig_density_map_start_campaign_before = px.density_map(\n",
    "    df_journeys.filter(pl.col(\"campaign_type\") == \"Période 1\").sample(20000),\n",
    "    lat=\"start_latitude\",\n",
    "    lon=\"start_longitude\",\n",
    "    radius=10,\n",
    "    center=dict(lat=46.2, lon=6.4),\n",
    "    zoom=9,\n",
    "    map_style=\"open-street-map\",\n",
    "    opacity=0.7,\n",
    ")\n",
    "fig_density_map_start_campaign_before.update_traces({\"name\": \"Période 1\"})\n",
    "fig_density_map_start_campaign_before.add_trace(\n",
    "    go.Choroplethmap(\n",
    "        geojson=geojson,\n",
    "        z=[1] * len(geojson[\"features\"]),\n",
    "        locations=[feature[\"id\"] for feature in geojson[\"features\"]],\n",
    "        colorscale=[[0, \"rgba(41, 128, 185,1.0)\"], [1, \"rgba(41, 128, 185,1.0)\"]],\n",
    "        marker_opacity=0.4,\n",
    "        marker_line_width=0,\n",
    "        marker_line_color=\"white\",\n",
    "        name=\"Territoire campagne\",\n",
    "    )\n",
    ")\n",
    "fig_density_map_start_campaign_before.update_layout(height=1000, showlegend=True)\n",
    "fig_density_map_start_campaign_before.show()"
   ]
  },
  {
   "cell_type": "code",
   "execution_count": null,
   "id": "9e2cc955-6fa5-4395-bb1d-5e84dab2a364",
   "metadata": {
    "execution": {
     "iopub.execute_input": "2025-09-02T07:29:48.093542Z",
     "iopub.status.busy": "2025-09-02T07:29:48.093319Z",
     "iopub.status.idle": "2025-09-02T07:29:48.189426Z",
     "shell.execute_reply": "2025-09-02T07:29:48.189153Z",
     "shell.execute_reply.started": "2025-09-02T07:29:48.093526Z"
    }
   },
   "outputs": [],
   "source": [
    "fig_density_map_start_campaign_after = px.density_map(\n",
    "    df_journeys.filter(pl.col(\"campaign_type\") == \"Période 2\").sample(20000),\n",
    "    lat=\"start_latitude\",\n",
    "    lon=\"start_longitude\",\n",
    "    radius=10,\n",
    "    center=dict(lat=46.2, lon=6.4),\n",
    "    zoom=9,\n",
    "    map_style=\"open-street-map\",\n",
    "    opacity=0.7,\n",
    ")\n",
    "fig_density_map_start_campaign_after.add_trace(\n",
    "    go.Choroplethmap(\n",
    "        geojson=geojson,\n",
    "        z=[1] * len(geojson[\"features\"]),\n",
    "        locations=[feature[\"id\"] for feature in geojson[\"features\"]],\n",
    "        colorscale=[[0, \"rgba(41, 128, 185,1.0)\"], [1, \"rgba(41, 128, 185,1.0)\"]],\n",
    "        marker_opacity=0.4,\n",
    "        marker_line_width=0,\n",
    "        marker_line_color=\"white\",\n",
    "        name=\"Territoire campagne\",\n",
    "    )\n",
    ")\n",
    "fig_density_map_start_campaign_after.update_layout(height=1000)\n",
    "fig_density_map_start_campaign_after.show()"
   ]
  },
  {
   "cell_type": "code",
   "execution_count": null,
   "id": "6874f35a-3796-4747-b754-00bb06363992",
   "metadata": {
    "execution": {
     "iopub.execute_input": "2025-09-02T07:29:48.775005Z",
     "iopub.status.busy": "2025-09-02T07:29:48.774733Z",
     "iopub.status.idle": "2025-09-02T07:29:48.917438Z",
     "shell.execute_reply": "2025-09-02T07:29:48.917076Z",
     "shell.execute_reply.started": "2025-09-02T07:29:48.774988Z"
    }
   },
   "outputs": [],
   "source": [
    "fig_density_map_end_campaign_before = px.density_map(\n",
    "    df_journeys.filter(pl.col(\"campaign_type\") == \"Période 1\").sample(20000),\n",
    "    lat=\"end_latitude\",\n",
    "    lon=\"end_longitude\",\n",
    "    radius=10,\n",
    "    center=dict(lat=46.2, lon=6.4),\n",
    "    zoom=9,\n",
    "    map_style=\"open-street-map\",\n",
    "    opacity=0.7,\n",
    ")\n",
    "fig_density_map_end_campaign_before.add_trace(\n",
    "    go.Choroplethmap(\n",
    "        geojson=geojson,\n",
    "        z=[1] * len(geojson[\"features\"]),\n",
    "        locations=[feature[\"id\"] for feature in geojson[\"features\"]],\n",
    "        colorscale=[[0, \"rgba(41, 128, 185,1.0)\"], [1, \"rgba(41, 128, 185,1.0)\"]],\n",
    "        marker_opacity=0.4,\n",
    "        marker_line_width=0,\n",
    "        marker_line_color=\"white\",\n",
    "        name=\"Territoire campagne\",\n",
    "    )\n",
    ")\n",
    "fig_density_map_end_campaign_before.update_layout(height=1000)\n",
    "fig_density_map_end_campaign_before.show()"
   ]
  },
  {
   "cell_type": "code",
   "execution_count": null,
   "id": "18dd4188-e1a4-42ee-9025-fd31e31974c2",
   "metadata": {
    "execution": {
     "iopub.execute_input": "2025-09-02T07:29:49.233926Z",
     "iopub.status.busy": "2025-09-02T07:29:49.233738Z",
     "iopub.status.idle": "2025-09-02T07:29:49.335057Z",
     "shell.execute_reply": "2025-09-02T07:29:49.334669Z",
     "shell.execute_reply.started": "2025-09-02T07:29:49.233911Z"
    }
   },
   "outputs": [],
   "source": [
    "fig_density_map_end_campaign_after = px.density_map(\n",
    "    df_journeys.filter(pl.col(\"campaign_type\") == \"Période 2\").sample(20000),\n",
    "    lat=\"end_latitude\",\n",
    "    lon=\"end_longitude\",\n",
    "    radius=10,\n",
    "    center=dict(lat=46.2, lon=6.4),\n",
    "    zoom=9,\n",
    "    map_style=\"open-street-map\",\n",
    "    opacity=0.7,\n",
    ")\n",
    "fig_density_map_end_campaign_after.add_trace(\n",
    "    go.Choroplethmap(\n",
    "        geojson=geojson,\n",
    "        z=[1] * len(geojson[\"features\"]),\n",
    "        locations=[feature[\"id\"] for feature in geojson[\"features\"]],\n",
    "        colorscale=[[0, \"rgba(41, 128, 185,1.0)\"], [1, \"rgba(41, 128, 185,1.0)\"]],\n",
    "        marker_opacity=0.4,\n",
    "        marker_line_width=0,\n",
    "        marker_line_color=\"white\",\n",
    "        name=\"Territoire campagne\",\n",
    "    )\n",
    ")\n",
    "fig_density_map_end_campaign_after.update_layout(height=1000)\n",
    "fig_density_map_end_campaign_after.show()"
   ]
  },
  {
   "cell_type": "code",
   "execution_count": null,
   "id": "818ad18c-954e-46ee-83bf-dce5f518d106",
   "metadata": {
    "execution": {
     "iopub.execute_input": "2025-09-02T07:29:49.637864Z",
     "iopub.status.busy": "2025-09-02T07:29:49.637549Z",
     "iopub.status.idle": "2025-09-02T07:29:49.796639Z",
     "shell.execute_reply": "2025-09-02T07:29:49.796299Z",
     "shell.execute_reply.started": "2025-09-02T07:29:49.637850Z"
    }
   },
   "outputs": [],
   "source": [
    "lats = []\n",
    "lons = []\n",
    "names = []\n",
    "for row in (\n",
    "    df_journeys.filter(pl.col(\"campaign_type\") == \"Période 1\")\n",
    "    .sample(500)\n",
    "    .iter_rows(named=True)\n",
    "):\n",
    "    lats.extend([row[\"start_latitude\"], row[\"end_latitude\"]])\n",
    "    lons.extend([row[\"start_longitude\"], row[\"end_longitude\"]])\n",
    "    names.extend([row[\"_id\"], row[\"_id\"]])\n",
    "    lats.append(\n",
    "        [\n",
    "            None,\n",
    "        ]\n",
    "    )\n",
    "    lons.append(None)\n",
    "    names.append(None)\n",
    "\n",
    "fig_trips_map_campaign_after = px.line_map(\n",
    "    lat=lats,\n",
    "    lon=lons,\n",
    "    hover_name=names,\n",
    "    center=dict(lat=46.2, lon=6.4),\n",
    "    zoom=8.5,\n",
    "    map_style=\"open-street-map\",\n",
    ")\n",
    "fig_trips_map_campaign_after.update_traces({\"line_width\": 0.5, \"line_color\": \"black\"})\n",
    "\n",
    "fig_trips_map_campaign_after.add_trace(\n",
    "    go.Choroplethmap(\n",
    "        geojson=geojson,\n",
    "        z=[1] * len(geojson[\"features\"]),\n",
    "        locations=[feature[\"id\"] for feature in geojson[\"features\"]],\n",
    "        colorscale=[[0, \"rgba(41, 128, 185,1.0)\"], [1, \"rgba(41, 128, 185,1.0)\"]],\n",
    "        marker_opacity=0.4,\n",
    "        marker_line_width=0,\n",
    "        marker_line_color=\"white\",\n",
    "        name=\"Territoire campagne\",\n",
    "    )\n",
    ")\n",
    "fig_trips_map_campaign_after.update_layout(height=1000)\n",
    "fig_trips_map_campaign_after.show()"
   ]
  },
  {
   "cell_type": "markdown",
   "id": "1f43b7e1-f275-452a-b05e-8ef2f5b2e002",
   "metadata": {},
   "source": [
    "## H3\n"
   ]
  },
  {
   "cell_type": "code",
   "execution_count": null,
   "id": "86acadcd-4357-4e0a-9780-96f616e8e542",
   "metadata": {
    "execution": {
     "iopub.execute_input": "2025-09-02T07:29:50.470502Z",
     "iopub.status.busy": "2025-09-02T07:29:50.470145Z",
     "iopub.status.idle": "2025-09-02T07:29:50.519383Z",
     "shell.execute_reply": "2025-09-02T07:29:50.519007Z",
     "shell.execute_reply.started": "2025-09-02T07:29:50.470485Z"
    }
   },
   "outputs": [],
   "source": [
    "df_journeys_by_campaign_h3 = (\n",
    "    df_journeys.with_columns(\n",
    "        plh3.latlng_to_cell(\n",
    "            lat=\"start_latitude\", lng=\"start_longitude\", resolution=7\n",
    "        ).alias(\"h3_cell\")\n",
    "    )\n",
    "    .group_by([\"campaign_type\", \"h3_cell\"])\n",
    "    .agg(pl.col(\"_id\").n_unique().alias(\"num_journeys\"))\n",
    "    .with_columns(\n",
    "        (\n",
    "            100\n",
    "            * pl.col(\"num_journeys\")\n",
    "            / pl.col(\"num_journeys\").sum().over(\"campaign_type\")\n",
    "        ).alias(\"share_journeys\")\n",
    "    )\n",
    ")"
   ]
  },
  {
   "cell_type": "code",
   "execution_count": null,
   "id": "95351dc9-408a-47b7-b64c-ba5a5d3d6f82",
   "metadata": {
    "execution": {
     "iopub.execute_input": "2025-09-02T07:29:50.781728Z",
     "iopub.status.busy": "2025-09-02T07:29:50.781367Z",
     "iopub.status.idle": "2025-09-02T07:29:51.463216Z",
     "shell.execute_reply": "2025-09-02T07:29:51.462887Z",
     "shell.execute_reply.started": "2025-09-02T07:29:50.781714Z"
    },
    "scrolled": true
   },
   "outputs": [],
   "source": [
    "variation_case_expr = (\n",
    "    pl.when((pl.col(\"share_journeys\") == 0) & (pl.col(\"share_journeys_right\") == 0))\n",
    "    .then(pl.lit(0))\n",
    "    .when((pl.col(\"share_journeys\") == 0) & (pl.col(\"share_journeys_right\") != 0))\n",
    "    .then(pl.lit(float(\"+inf\")))\n",
    "    .when((pl.col(\"share_journeys\") != 0) & (pl.col(\"share_journeys_right\") == 0))\n",
    "    .then(pl.lit(float(\"-inf\")))\n",
    ")\n",
    "\n",
    "df_journeys_variation_h3 = (\n",
    "    df_journeys_by_campaign_h3.filter(pl.col(\"campaign_type\") == \"Période 1\")\n",
    "    .join(\n",
    "        df_journeys_by_campaign_h3.filter(pl.col(\"campaign_type\") == \"Période 2\"),\n",
    "        on=\"h3_cell\",\n",
    "        how=\"full\",\n",
    "        validate=\"1:1\",\n",
    "    )\n",
    "    .with_columns(\n",
    "        pl.col(\"share_journeys\").fill_null(0),\n",
    "        pl.col(\"share_journeys_right\").fill_null(0),\n",
    "        pl.col(\"num_journeys\").fill_null(0),\n",
    "        pl.col(\"num_journeys_right\").fill_null(0),\n",
    "        pl.coalesce(pl.col(\"h3_cell\"), pl.col(\"h3_cell_right\")).alias(\"cell_joined\"),\n",
    "    )\n",
    "    .with_columns(\n",
    "        (\n",
    "            pl.col(\"num_journeys_right\").cast(pl.Float64)\n",
    "            - pl.col(\"num_journeys\").cast(pl.Float64)\n",
    "        ).alias(\"variation_absolue\"),\n",
    "        (pl.col(\"share_journeys_right\") - pl.col(\"share_journeys\")).alias(\n",
    "            \"diff_variation\"\n",
    "        ),\n",
    "        variation_case_expr.otherwise(\n",
    "            100\n",
    "            * (pl.col(\"share_journeys_right\") - pl.col(\"share_journeys\"))\n",
    "            / pl.col(\"share_journeys\")\n",
    "        ).alias(\"taux_variation\"),\n",
    "        (\n",
    "            100\n",
    "            * (\n",
    "                pl.col(\"share_journeys_right\").fill_null(0)\n",
    "                - pl.col(\"share_journeys\").fill_null(0)\n",
    "            )\n",
    "            / pl.col(\"share_journeys\")\n",
    "        ).alias(\"taux_variation_clean\"),\n",
    "        plh3.cell_to_boundary(\"cell_joined\").alias(\"cell_geom\"),\n",
    "    )\n",
    "    .with_columns(\n",
    "        pl.col(\"cell_geom\").map_elements(\n",
    "            lambda x: shapely.Polygon([[e[1], e[0]] for e in x]), return_dtype=pl.Object\n",
    "        ),\n",
    "        pl.col(\"cell_joined\").cast(pl.String),\n",
    "    )\n",
    ")\n",
    "\n",
    "valid_values = df_journeys_variation_h3.filter(\n",
    "    (pl.col(\"share_journeys\") > 0) & (pl.col(\"share_journeys_right\") > 0)\n",
    ")[\"diff_variation\"].to_list()\n",
    "\n",
    "\n",
    "# Fonction pour assigner une couleur en hex\n",
    "def assign_color(taux, vmin: float, vmax: float):\n",
    "    # Créer la normalisation et la colormap\n",
    "    norm = mcolors.Normalize(vmin=vmin, vmax=vmax)\n",
    "    cmap = cm.get_cmap(\"PiYG\")\n",
    "    if taux == float(\"+inf\"):  # Apparition\n",
    "        return mcolors.to_hex(cmap.get_over())\n",
    "    elif taux == float(\"-inf\"):  # Disparition\n",
    "        return mcolors.to_hex(cmap.get_under())\n",
    "    else:\n",
    "        rgba = cmap(norm(taux))\n",
    "        return mcolors.to_hex(rgba)\n",
    "\n",
    "\n",
    "df_journeys_variation_h3 = df_journeys_variation_h3.with_columns(\n",
    "    pl.col(\"variation_absolue\")\n",
    "    .map_elements(\n",
    "        lambda row: assign_color(row, -2000, 2000),\n",
    "        return_dtype=pl.String,\n",
    "    )\n",
    "    .alias(\"color_variation_absolue\"),\n",
    "    pl.col(\"diff_variation\")\n",
    "    .map_elements(\n",
    "        lambda row: assign_color(row, -1, 1),\n",
    "        return_dtype=pl.String,\n",
    "    )\n",
    "    .alias(\"color_diff_variation\"),\n",
    "    pl.col(\"taux_variation\")\n",
    "    .map_elements(\n",
    "        lambda row: assign_color(\n",
    "            row,\n",
    "            -100,\n",
    "            100,\n",
    "        ),\n",
    "        return_dtype=pl.String,\n",
    "    )\n",
    "    .alias(\"color_taux_variation\"),\n",
    "    pl.col(\"taux_variation_clean\")\n",
    "    .map_elements(\n",
    "        lambda row: assign_color(\n",
    "            row,\n",
    "            -100,\n",
    "            100,\n",
    "        ),\n",
    "        return_dtype=pl.String,\n",
    "    )\n",
    "    .alias(\"color_taux_variation_clean\"),\n",
    ")\n",
    "\n",
    "gdf_journeys_variation_h3 = gpd.GeoDataFrame(\n",
    "    df_journeys_variation_h3.to_pandas()\n",
    ").set_geometry(\"cell_geom\", crs=4356)"
   ]
  },
  {
   "cell_type": "code",
   "execution_count": null,
   "id": "dbe5ea90-ea59-49e5-a69b-9e5e5fdd082c",
   "metadata": {
    "execution": {
     "iopub.execute_input": "2025-09-02T07:29:51.463970Z",
     "iopub.status.busy": "2025-09-02T07:29:51.463813Z",
     "iopub.status.idle": "2025-09-02T07:29:51.467924Z",
     "shell.execute_reply": "2025-09-02T07:29:51.467588Z",
     "shell.execute_reply.started": "2025-09-02T07:29:51.463954Z"
    }
   },
   "outputs": [],
   "source": [
    "def create_map_h3(\n",
    "    gdf: gpd.GeoDataFrame,\n",
    "    metric_colname: str,\n",
    "    color_colname: str,\n",
    "    values_interval: list[float],\n",
    "    colorscale_title: str,\n",
    ") -> folium.Map:\n",
    "    center = gdf.cell_geom.unary_union.centroid.coords[0][::-1]  # (lat, lon)\n",
    "    cmap = cm.get_cmap(\"PiYG\")\n",
    "    # Convertir vers une LinearColormap de branca\n",
    "    color_scale = bcm.LinearColormap(\n",
    "        colors=[mcolors.to_hex(cmap(i)) for i in [0.0, 0.25, 0.5, 0.75, 1.0]],\n",
    "        vmin=values_interval[0],\n",
    "        vmax=values_interval[1],\n",
    "    )\n",
    "    color_scale.caption = colorscale_title\n",
    "\n",
    "    # Créer la carte folium\n",
    "    m = folium.Map(location=center, zoom_start=9, tiles=\"cartodbpositron\")\n",
    "    folium.GeoJson(\n",
    "        geojson,\n",
    "        style_function=lambda feature: {\n",
    "            \"weight\": 2,\n",
    "            \"fillOpacity\": 0.2,\n",
    "        },\n",
    "    ).add_to(m)\n",
    "    # Ajouter les zones avec coloration\n",
    "    folium.GeoJson(\n",
    "        gdf.to_json(),\n",
    "        style_function=lambda feature: {\n",
    "            \"fillColor\": feature[\"properties\"][color_colname],\n",
    "            \"color\": \"black\",\n",
    "            \"weight\": 1,\n",
    "            \"fillOpacity\": 0.7,\n",
    "        },\n",
    "        tooltip=folium.GeoJsonTooltip(\n",
    "            fields=[\n",
    "                \"cell_joined\",\n",
    "                \"share_journeys\",\n",
    "                \"share_journeys_right\",\n",
    "                metric_colname,\n",
    "            ],\n",
    "            aliases=[\"Zone\", \"Avant\", \"Après\", \"Différence\"],\n",
    "            localize=True,\n",
    "        ),\n",
    "    ).add_to(m)\n",
    "    # Ajout de la colorbar à la carte\n",
    "    color_scale.add_to(m)\n",
    "\n",
    "    return m"
   ]
  },
  {
   "cell_type": "code",
   "execution_count": null,
   "id": "a720e27c-f5dd-4898-87f2-2c9fb06f2ffe",
   "metadata": {
    "execution": {
     "iopub.execute_input": "2025-09-02T07:29:51.590369Z",
     "iopub.status.busy": "2025-09-02T07:29:51.590076Z",
     "iopub.status.idle": "2025-09-02T07:29:51.616038Z",
     "shell.execute_reply": "2025-09-02T07:29:51.615640Z",
     "shell.execute_reply.started": "2025-09-02T07:29:51.590356Z"
    }
   },
   "outputs": [],
   "source": [
    "m = create_map_h3(gdf_journeys_variation_h3, \"diff_variation\", \"color_diff_variation\")\n",
    "\n",
    "m.save(\"map_diff_variation_start.html\")\n",
    "m"
   ]
  },
  {
   "cell_type": "code",
   "execution_count": null,
   "id": "66c62cf6-d546-4969-9e97-9448d57b9b65",
   "metadata": {
    "execution": {
     "iopub.execute_input": "2025-09-02T07:29:52.028978Z",
     "iopub.status.busy": "2025-09-02T07:29:52.028669Z",
     "iopub.status.idle": "2025-09-02T07:29:52.202823Z",
     "shell.execute_reply": "2025-09-02T07:29:52.202542Z",
     "shell.execute_reply.started": "2025-09-02T07:29:52.028963Z"
    }
   },
   "outputs": [],
   "source": [
    "m = create_map_h3(\n",
    "    gdf_journeys_variation_h3,\n",
    "    \"variation_absolue\",\n",
    "    \"color_variation_absolue\",\n",
    "    [-2000, 2000],\n",
    "    \"Différence de nombre de trajets\",\n",
    ")\n",
    "\n",
    "m.save(\"map_variation_absolu_start.html\")\n",
    "m"
   ]
  },
  {
   "cell_type": "code",
   "execution_count": null,
   "id": "0f6e3138-1a23-4dab-a1d3-21a002fff5c4",
   "metadata": {
    "execution": {
     "iopub.execute_input": "2025-09-02T07:29:52.450830Z",
     "iopub.status.busy": "2025-09-02T07:29:52.450404Z",
     "iopub.status.idle": "2025-09-02T07:29:52.465623Z",
     "shell.execute_reply": "2025-09-02T07:29:52.465194Z",
     "shell.execute_reply.started": "2025-09-02T07:29:52.450809Z"
    }
   },
   "outputs": [],
   "source": [
    "m = create_map_h3(\n",
    "    gdf_journeys_variation_h3, \"taux_variation_clean\", \"color_taux_variation_clean\"\n",
    ")\n",
    "\n",
    "m.save(\"map_taux_vairation_start.html\")\n",
    "m"
   ]
  },
  {
   "cell_type": "markdown",
   "id": "f7d43723-a241-4606-902e-5ac5c6d3eb9c",
   "metadata": {},
   "source": [
    "# Questions Marianne\n"
   ]
  },
  {
   "cell_type": "markdown",
   "id": "0ce2dd06-da3a-439c-8c1e-af902f44f690",
   "metadata": {},
   "source": [
    "## Êtes-vous certains que l’opérateur Blablacar Daily, entre mars et juin a subventionné en propre des trajets ?\n",
    "\n",
    "Si OUI, il est essentiel que nous sachions lesquels , dans quelle mesure et si des commissions aux trajets nous ont été facturés pour ces trajets qui n’auraient pas dû l’être ?\n"
   ]
  },
  {
   "cell_type": "code",
   "execution_count": null,
   "id": "65118463-4956-48b1-b3fa-4270e520c1f9",
   "metadata": {
    "execution": {
     "iopub.execute_input": "2025-09-02T07:29:54.008163Z",
     "iopub.status.busy": "2025-09-02T07:29:54.007755Z",
     "iopub.status.idle": "2025-09-02T07:29:54.011195Z",
     "shell.execute_reply": "2025-09-02T07:29:54.010846Z",
     "shell.execute_reply.started": "2025-09-02T07:29:54.008148Z"
    },
    "scrolled": true
   },
   "outputs": [],
   "source": [
    "df_journeys.columns"
   ]
  },
  {
   "cell_type": "code",
   "execution_count": null,
   "id": "cd6b0acf-5263-4650-82da-97ba0e7f9986",
   "metadata": {
    "execution": {
     "iopub.execute_input": "2025-09-02T07:29:54.504959Z",
     "iopub.status.busy": "2025-09-02T07:29:54.504657Z",
     "iopub.status.idle": "2025-09-02T07:29:54.526581Z",
     "shell.execute_reply": "2025-09-02T07:29:54.526219Z",
     "shell.execute_reply.started": "2025-09-02T07:29:54.504946Z"
    }
   },
   "outputs": [],
   "source": [
    "df_journeys_multi_incentives_by_month = df_journeys.group_by(\n",
    "    pl.col(\"start_datetime\").dt.truncate(\"1mo\")\n",
    ").agg(\n",
    "    pl.col(\"_id\").n_unique().alias(\"journey_count\"),\n",
    "    pl.col(\"_id\")\n",
    "    .filter((pl.col(\"amount_bbc\") > 0) & (pl.col(\"amount_aom\") > 0))\n",
    "    .n_unique()\n",
    "    .alias(\"journey_count_with_aom_and_bbc_incentive\"),\n",
    "    pl.col(\"_id\")\n",
    "    .filter(pl.col(\"amount_bbc\").is_null() & (pl.col(\"amount_aom\") > 0))\n",
    "    .n_unique()\n",
    "    .alias(\"journey_count_with_aom_incentive_only\"),\n",
    "    pl.col(\"_id\")\n",
    "    .filter((pl.col(\"amount_bbc\") > 0) & pl.col(\"amount_aom\").is_null())\n",
    "    .n_unique()\n",
    "    .alias(\"journey_count_with_bbc_incentive_only\"),\n",
    "    pl.col(\"_id\")\n",
    "    .filter((pl.col(\"amount_bbc\").is_null()) & pl.col(\"amount_aom\").is_null())\n",
    "    .n_unique()\n",
    "    .alias(\"journey_count_without_incentive\"),\n",
    ")\n",
    "df_journeys_multi_incentives_by_month.unpivot(\n",
    "    pl.selectors.numeric(), index=\"start_datetime\"\n",
    ")"
   ]
  },
  {
   "cell_type": "code",
   "execution_count": null,
   "id": "94df66cd-b8d1-49e0-b7ce-62a85c863c1a",
   "metadata": {
    "execution": {
     "iopub.execute_input": "2025-09-02T07:29:55.043657Z",
     "iopub.status.busy": "2025-09-02T07:29:55.043353Z",
     "iopub.status.idle": "2025-09-02T07:29:55.249158Z",
     "shell.execute_reply": "2025-09-02T07:29:55.248887Z",
     "shell.execute_reply.started": "2025-09-02T07:29:55.043643Z"
    }
   },
   "outputs": [],
   "source": [
    "px.line(\n",
    "    df_journeys_multi_incentives_by_month.unpivot(\n",
    "        pl.selectors.numeric(), index=\"start_datetime\"\n",
    "    ).sort(\"start_datetime\"),\n",
    "    x=\"start_datetime\",\n",
    "    y=\"value\",\n",
    "    color=\"variable\",\n",
    "    template=\"simple_white\",\n",
    ")"
   ]
  },
  {
   "cell_type": "markdown",
   "id": "abd94aaf-498d-4329-adfe-2d13776f24c6",
   "metadata": {},
   "source": [
    "-> Bug, Blablacar a commencé à envoyer des amount=0 sans que je n'ai d'explication\n"
   ]
  },
  {
   "cell_type": "markdown",
   "id": "d8548120-5bae-4e84-8de1-313fdeee1a1f",
   "metadata": {},
   "source": [
    "| month                         | num_journeys_at_0 |\n",
    "| ----------------------------- | ----------------- |\n",
    "| 2025-07-01 00:00:00.000 +0200 | 0                 |\n",
    "| 2025-06-01 00:00:00.000 +0200 | 17                |\n",
    "| 2025-05-01 00:00:00.000 +0200 | 12 213            |\n",
    "| 2025-04-01 00:00:00.000 +0200 | 6 373             |\n",
    "| 2025-03-01 00:00:00.000 +0100 | 699               |\n",
    "| 2025-02-01 00:00:00.000 +0100 | 0                 |\n",
    "| 2025-01-01 00:00:00.000 +0100 | 0                 |\n",
    "| 2024-12-01 00:00:00.000 +0100 | 0                 |\n",
    "| 2024-11-01 00:00:00.000 +0100 | 0                 |\n",
    "| 2024-10-01 00:00:00.000 +0200 | 0                 |\n",
    "| 2024-09-01 00:00:00.000 +0200 | 0                 |\n"
   ]
  },
  {
   "cell_type": "markdown",
   "id": "4ec25f94-c64b-407f-849f-08fe9f3374ee",
   "metadata": {},
   "source": [
    "## Montants moyens au km : comment expliquez-vous le pic en hausse du coût au km début juin ? avec un passager qui ne contribue plus… ?\n"
   ]
  },
  {
   "cell_type": "code",
   "execution_count": null,
   "id": "9758a6c1-5781-45a4-9372-37ff8867d139",
   "metadata": {
    "execution": {
     "iopub.execute_input": "2025-09-02T07:29:56.710476Z",
     "iopub.status.busy": "2025-09-02T07:29:56.710296Z",
     "iopub.status.idle": "2025-09-02T07:29:56.731313Z",
     "shell.execute_reply": "2025-09-02T07:29:56.731059Z",
     "shell.execute_reply.started": "2025-09-02T07:29:56.710464Z"
    }
   },
   "outputs": [],
   "source": [
    "df_journeys.filter(\n",
    "    pl.col(\"start_datetime\").dt.truncate(\"1w\")\n",
    "    == datetime(2025, 6, 16, tzinfo=ZoneInfo(\"GMT\"))\n",
    ")"
   ]
  },
  {
   "cell_type": "code",
   "execution_count": null,
   "id": "1f8aecbc-26d9-4681-a365-27b08e382aa5",
   "metadata": {
    "execution": {
     "iopub.execute_input": "2025-09-02T07:29:57.189986Z",
     "iopub.status.busy": "2025-09-02T07:29:57.189658Z",
     "iopub.status.idle": "2025-09-02T07:29:57.208359Z",
     "shell.execute_reply": "2025-09-02T07:29:57.208052Z",
     "shell.execute_reply.started": "2025-09-02T07:29:57.189970Z"
    }
   },
   "outputs": [],
   "source": [
    "df_journeys.filter(\n",
    "    pl.col(\"start_datetime\").dt.truncate(\"1w\")\n",
    "    == datetime(2025, 6, 16, tzinfo=ZoneInfo(\"GMT\"))\n",
    ").select(\n",
    "    pl.col(\"incentive_amount\").mean() / 100,\n",
    "    pl.col(\"passenger_contribution\").mean() / 100,\n",
    "    pl.col(\"driver_revenue\").mean() / 100,\n",
    "    pl.col(\"distance\").mean() / 1000,\n",
    "    pl.col(\"is_fully_inside_campaign_area\").sum() / pl.len(),\n",
    ")"
   ]
  },
  {
   "cell_type": "code",
   "execution_count": null,
   "id": "cf036203-e5b9-4679-970c-8c59e157da33",
   "metadata": {
    "execution": {
     "iopub.execute_input": "2025-09-02T07:29:57.558793Z",
     "iopub.status.busy": "2025-09-02T07:29:57.558623Z",
     "iopub.status.idle": "2025-09-02T07:29:57.619934Z",
     "shell.execute_reply": "2025-09-02T07:29:57.619635Z",
     "shell.execute_reply.started": "2025-09-02T07:29:57.558780Z"
    }
   },
   "outputs": [],
   "source": [
    "lats = []\n",
    "lons = []\n",
    "names = []\n",
    "for row in df_journeys.filter(\n",
    "    pl.col(\"start_datetime\").dt.truncate(\"1w\")\n",
    "    == datetime(2025, 6, 16, tzinfo=ZoneInfo(\"GMT\"))\n",
    ").iter_rows(named=True):\n",
    "    lats.extend([row[\"start_latitude\"], row[\"end_latitude\"]])\n",
    "    lons.extend([row[\"start_longitude\"], row[\"end_longitude\"]])\n",
    "    names.extend([row[\"_id\"], row[\"_id\"]])\n",
    "    lats.append(\n",
    "        [\n",
    "            None,\n",
    "        ]\n",
    "    )\n",
    "    lons.append(None)\n",
    "    names.append(None)\n",
    "\n",
    "fig_trips_map_campaign_after = px.line_map(\n",
    "    lat=lats,\n",
    "    lon=lons,\n",
    "    hover_name=names,\n",
    "    center=dict(lat=46.2, lon=6.4),\n",
    "    zoom=8.5,\n",
    "    map_style=\"open-street-map\",\n",
    ")\n",
    "fig_trips_map_campaign_after.update_traces({\"line_width\": 0.5, \"line_color\": \"black\"})\n",
    "\n",
    "fig_trips_map_campaign_after.add_trace(\n",
    "    go.Choroplethmap(\n",
    "        geojson=geojson,\n",
    "        z=[1] * len(geojson[\"features\"]),\n",
    "        locations=[feature[\"id\"] for feature in geojson[\"features\"]],\n",
    "        colorscale=[[0, \"rgba(41, 128, 185,1.0)\"], [1, \"rgba(41, 128, 185,1.0)\"]],\n",
    "        marker_opacity=0.4,\n",
    "        marker_line_width=0,\n",
    "        marker_line_color=\"white\",\n",
    "        name=\"Territoire campagne\",\n",
    "    )\n",
    ")\n",
    "fig_trips_map_campaign_after.update_layout(height=1000)\n",
    "fig_trips_map_campaign_after.show()"
   ]
  },
  {
   "cell_type": "code",
   "execution_count": null,
   "id": "ab4fbace-3e8d-4288-a324-d6c1d1beef64",
   "metadata": {
    "execution": {
     "iopub.execute_input": "2025-09-02T07:29:57.957202Z",
     "iopub.status.busy": "2025-09-02T07:29:57.956763Z",
     "iopub.status.idle": "2025-09-02T07:29:57.978851Z",
     "shell.execute_reply": "2025-09-02T07:29:57.978544Z",
     "shell.execute_reply.started": "2025-09-02T07:29:57.957181Z"
    }
   },
   "outputs": [],
   "source": [
    "df_journeys.filter(\n",
    "    pl.col(\"start_datetime\").dt.truncate(\"1w\")\n",
    "    == datetime(2025, 6, 9, tzinfo=ZoneInfo(\"GMT\"))\n",
    ").explode(\"incentive_sirets\").group_by(\"incentive_sirets\").agg(\n",
    "    pl.len(),\n",
    "    pl.col(\"incentive_amount\").mean() / 100,\n",
    "    pl.col(\"passenger_contribution\").mean() / 100,\n",
    "    pl.col(\"driver_revenue\").mean() / 100,\n",
    "    pl.col(\"distance\").mean() / 1000,\n",
    "    pl.col(\"is_fully_inside_campaign_area\").sum() / pl.len(),\n",
    ").with_columns((pl.col(\"len\") / pl.len().sum()).alias(\"share\")).sort(\n",
    "    \"len\", descending=True\n",
    ")"
   ]
  },
  {
   "cell_type": "code",
   "execution_count": null,
   "id": "b74d3b81-d319-4120-8f43-a497e0d1bff3",
   "metadata": {
    "execution": {
     "iopub.execute_input": "2025-09-02T07:29:58.363071Z",
     "iopub.status.busy": "2025-09-02T07:29:58.362884Z",
     "iopub.status.idle": "2025-09-02T07:29:58.384033Z",
     "shell.execute_reply": "2025-09-02T07:29:58.383626Z",
     "shell.execute_reply.started": "2025-09-02T07:29:58.363056Z"
    }
   },
   "outputs": [],
   "source": [
    "df_journeys.filter(\n",
    "    pl.col(\"start_datetime\").dt.truncate(\"1w\")\n",
    "    == datetime(2025, 6, 16, tzinfo=ZoneInfo(\"GMT\"))\n",
    ").explode(\"incentive_sirets\").group_by(\"incentive_sirets\").agg(\n",
    "    pl.len(),\n",
    "    pl.col(\"incentive_amount\").mean() / 100,\n",
    "    pl.col(\"passenger_contribution\").mean() / 100,\n",
    "    pl.col(\"driver_revenue\").mean() / 100,\n",
    "    pl.col(\"distance\").mean() / 1000,\n",
    "    pl.col(\"is_fully_inside_campaign_area\").sum() / pl.len(),\n",
    ").with_columns((pl.col(\"len\") / pl.col(\"len\").sum()).alias(\"share\")).sort(\n",
    "    \"len\", descending=True\n",
    ")"
   ]
  },
  {
   "cell_type": "code",
   "execution_count": null,
   "id": "d13fc40d-3080-4932-b634-a401d6a1360b",
   "metadata": {
    "execution": {
     "iopub.execute_input": "2025-09-02T07:29:58.919560Z",
     "iopub.status.busy": "2025-09-02T07:29:58.919380Z",
     "iopub.status.idle": "2025-09-02T07:29:58.938804Z",
     "shell.execute_reply": "2025-09-02T07:29:58.938517Z",
     "shell.execute_reply.started": "2025-09-02T07:29:58.919547Z"
    }
   },
   "outputs": [],
   "source": [
    "df_journeys.filter(\n",
    "    pl.col(\"start_datetime\").dt.truncate(\"1w\")\n",
    "    == datetime(2025, 6, 16, tzinfo=ZoneInfo(\"GMT\"))\n",
    ").explode(\"incentive_sirets\").filter(\n",
    "    pl.col(\"incentive_sirets\") == \"80820346700051\"\n",
    ").head(1)[\"operator_journey_id\"].item()"
   ]
  },
  {
   "cell_type": "markdown",
   "id": "8a10890d-97b7-43ce-bc46-8de337d6d1c7",
   "metadata": {},
   "source": [
    "80820346700051 = Ecov / France Covoit\n",
    "20007196700018 = \"COMMUNAUTE DE COMMUNES PAYS D'EVIAN VALLEE D'ABONDANCE (CCPEVA)\"\n"
   ]
  },
  {
   "cell_type": "code",
   "execution_count": null,
   "id": "990dbeca-a6c2-419f-8988-d87b5408a7bc",
   "metadata": {
    "execution": {
     "iopub.execute_input": "2025-09-02T07:30:01.158386Z",
     "iopub.status.busy": "2025-09-02T07:30:01.158216Z",
     "iopub.status.idle": "2025-09-02T07:30:01.175714Z",
     "shell.execute_reply": "2025-09-02T07:30:01.175297Z",
     "shell.execute_reply.started": "2025-09-02T07:30:01.158374Z"
    }
   },
   "outputs": [],
   "source": [
    "pxdf_journeys.filter(\n",
    "    pl.col(\"start_datetime\").dt.truncate(\"1w\")\n",
    "    >= datetime(2025, 4, 1, tzinfo=ZoneInfo(\"GMT\"))\n",
    ").group_by([pl.col(\"start_datetime\").dt.truncate(\"1mo\"), \"operator_id\"]).agg(\n",
    "    pl.len(),\n",
    "    pl.col(\"incentive_amount\").mean() / 100,\n",
    "    pl.col(\"passenger_contribution\").mean() / 100,\n",
    "    pl.col(\"driver_revenue\").mean() / 100,\n",
    "    pl.col(\"distance\").mean() / 1000,\n",
    "    pl.col(\"is_fully_inside_campaign_area\").sum() / pl.len(),\n",
    ").join(df_operators, left_on=\"operator_id\", right_on=\"_id\", validate=\"m:1\").sort(\n",
    "    \"start_datetime\", descending=True\n",
    ")"
   ]
  },
  {
   "cell_type": "code",
   "execution_count": null,
   "id": "9801d00c-4df1-404b-a27f-429cc8f8205e",
   "metadata": {},
   "outputs": [],
   "source": []
  },
  {
   "cell_type": "code",
   "execution_count": null,
   "id": "bbdbb790-e67b-4d6e-b915-75f390f07f66",
   "metadata": {},
   "outputs": [],
   "source": []
  }
 ],
 "metadata": {
  "kernelspec": {
   "display_name": "Python 3 (ipykernel)",
   "language": "python",
   "name": "python3"
  },
  "language_info": {
   "codemirror_mode": {
    "name": "ipython",
    "version": 3
   },
   "file_extension": ".py",
   "mimetype": "text/x-python",
   "name": "python",
   "nbconvert_exporter": "python",
   "pygments_lexer": "ipython3",
   "version": "3.13.2"
  }
 },
 "nbformat": 4,
 "nbformat_minor": 5
}
