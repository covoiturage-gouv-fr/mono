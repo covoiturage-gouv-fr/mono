{
 "cells": [
  {
   "cell_type": "code",
   "execution_count": null,
   "id": "4cdfd5d0-c5a4-4700-a02a-27b6626d539a",
   "metadata": {
    "execution": {
     "iopub.execute_input": "2025-08-21T08:38:52.952453Z",
     "iopub.status.busy": "2025-08-21T08:38:52.952327Z",
     "iopub.status.idle": "2025-08-21T08:38:52.956384Z",
     "shell.execute_reply": "2025-08-21T08:38:52.956176Z",
     "shell.execute_reply.started": "2025-08-21T08:38:52.952442Z"
    }
   },
   "outputs": [],
   "source": [
    "%config SqlMagic.autopolars = True\n",
    "%config SqlMagic.feedback = False\n",
    "%config SqlMagic.displaycon = False"
   ]
  },
  {
   "cell_type": "code",
   "execution_count": null,
   "id": "740379b8-6d17-45e4-98d4-08d936b4cd04",
   "metadata": {
    "execution": {
     "iopub.execute_input": "2025-08-21T08:38:52.956676Z",
     "iopub.status.busy": "2025-08-21T08:38:52.956621Z",
     "iopub.status.idle": "2025-08-21T08:38:53.773364Z",
     "shell.execute_reply": "2025-08-21T08:38:53.773173Z",
     "shell.execute_reply.started": "2025-08-21T08:38:52.956669Z"
    }
   },
   "outputs": [],
   "source": [
    "%load_ext sql"
   ]
  },
  {
   "cell_type": "markdown",
   "id": "23387ea2-365b-4617-b669-1d915740b9a1",
   "metadata": {},
   "source": [
    "# Dépendances\n"
   ]
  },
  {
   "cell_type": "code",
   "execution_count": null,
   "id": "3acccb24-0a9b-4597-b84e-9ae5f00e092c",
   "metadata": {
    "execution": {
     "iopub.execute_input": "2025-08-21T08:38:55.631806Z",
     "iopub.status.busy": "2025-08-21T08:38:55.631257Z",
     "iopub.status.idle": "2025-08-21T08:38:56.231394Z",
     "shell.execute_reply": "2025-08-21T08:38:56.231176Z",
     "shell.execute_reply.started": "2025-08-21T08:38:55.631765Z"
    }
   },
   "outputs": [],
   "source": [
    "import json\n",
    "import math\n",
    "import os\n",
    "from datetime import datetime, timedelta\n",
    "from itertools import product\n",
    "from pathlib import Path\n",
    "from zoneinfo import ZoneInfo\n",
    "\n",
    "import branca.colormap as bcm\n",
    "import duckdb\n",
    "import folium\n",
    "import geopandas as gpd\n",
    "import matplotlib.cm as cm\n",
    "import matplotlib.colors as mcolors\n",
    "import matplotlib.pyplot as plt\n",
    "import plotly.express as px\n",
    "import plotly.graph_objects as go\n",
    "import polars as pl\n",
    "import polars_h3 as plh3\n",
    "import polars_st as st\n",
    "import shapely\n",
    "from folium import plugins\n",
    "from sqlalchemy import create_engine"
   ]
  },
  {
   "cell_type": "markdown",
   "id": "4defced7-504f-4bdd-a75c-0f0140662a03",
   "metadata": {},
   "source": [
    "# Configuration\n"
   ]
  },
  {
   "cell_type": "code",
   "execution_count": null,
   "id": "a7a04cac-28a0-4ea7-a4e0-0593836c0ce3",
   "metadata": {
    "execution": {
     "iopub.execute_input": "2025-08-21T08:38:56.299343Z",
     "iopub.status.busy": "2025-08-21T08:38:56.299159Z",
     "iopub.status.idle": "2025-08-21T08:38:56.301200Z",
     "shell.execute_reply": "2025-08-21T08:38:56.300934Z",
     "shell.execute_reply.started": "2025-08-21T08:38:56.299329Z"
    }
   },
   "outputs": [],
   "source": [
    "USE_CACHED_ARTIFACTS = True"
   ]
  },
  {
   "cell_type": "code",
   "execution_count": null,
   "id": "fa3de18b-c169-4b8e-b47a-20e7ecb981ad",
   "metadata": {
    "execution": {
     "iopub.execute_input": "2025-08-21T08:38:57.064817Z",
     "iopub.status.busy": "2025-08-21T08:38:57.064411Z",
     "iopub.status.idle": "2025-08-21T08:38:57.068579Z",
     "shell.execute_reply": "2025-08-21T08:38:57.067559Z",
     "shell.execute_reply.started": "2025-08-21T08:38:57.064790Z"
    }
   },
   "outputs": [],
   "source": [
    "DB_URL = os.environ[\"DB_URL\"]"
   ]
  },
  {
   "cell_type": "code",
   "execution_count": null,
   "id": "45f9754a-c81b-4132-900d-ba20a5cb4f17",
   "metadata": {
    "execution": {
     "iopub.execute_input": "2025-08-21T08:38:57.292581Z",
     "iopub.status.busy": "2025-08-21T08:38:57.292064Z",
     "iopub.status.idle": "2025-08-21T08:38:57.297577Z",
     "shell.execute_reply": "2025-08-21T08:38:57.296177Z",
     "shell.execute_reply.started": "2025-08-21T08:38:57.292549Z"
    }
   },
   "outputs": [],
   "source": [
    "AOM_SIRET = \"28750007800020\""
   ]
  },
  {
   "cell_type": "code",
   "execution_count": null,
   "id": "0bcb660c-c94d-497e-8ebc-712b5e4841e6",
   "metadata": {
    "execution": {
     "iopub.execute_input": "2025-08-21T08:38:57.499519Z",
     "iopub.status.busy": "2025-08-21T08:38:57.499063Z",
     "iopub.status.idle": "2025-08-21T08:38:57.502687Z",
     "shell.execute_reply": "2025-08-21T08:38:57.501956Z",
     "shell.execute_reply.started": "2025-08-21T08:38:57.499498Z"
    }
   },
   "outputs": [],
   "source": [
    "OUTPUT_PATH = Path(\"outputs_idfm\")"
   ]
  },
  {
   "cell_type": "code",
   "execution_count": null,
   "id": "5d88a37c-3e28-4c68-9d0b-4650f2198cd3",
   "metadata": {
    "execution": {
     "iopub.execute_input": "2025-08-21T08:38:57.865090Z",
     "iopub.status.busy": "2025-08-21T08:38:57.864675Z",
     "iopub.status.idle": "2025-08-21T08:38:57.873807Z",
     "shell.execute_reply": "2025-08-21T08:38:57.872766Z",
     "shell.execute_reply.started": "2025-08-21T08:38:57.865052Z"
    }
   },
   "outputs": [],
   "source": [
    "labels_map = {\n",
    "    \"month\": \"Mois\",\n",
    "    \"num_journeys\": \"Nombre de journeys\",\n",
    "    \"share_journeys\": \"% des journeys\",\n",
    "    \"num_journeys_incentived\": \"Nombre de journey avec incitation\",\n",
    "    \"num_journeys_with_incentive\": \"Nombre de journey avec incitation\",\n",
    "    \"num_journeys_intra_territory_incentived_trips\": \"Nombre de journeys incitées intra\",\n",
    "    \"num_journeys_inter_territory_incentived_trips\": \"Nombre de journeys incitées inter\",\n",
    "    \"operator\": \"Opérateur\",\n",
    "    \"incentive_amount_avg\": \"Incitation moyenne\",\n",
    "    \"driver_revenue_avg\": \"Revenu moyen conducteur\",\n",
    "    \"passenger_contribution_avg\": \"Contribution moyenne passager\",\n",
    "    \"incentive_amount_intra_avg\": \"Incitation moyenne intra\",\n",
    "    \"driver_revenue_intra_avg\": \"Revenu moyen conducteur intra\",\n",
    "    \"passenger_contribution_intra_avg\": \"Contribution moyenne passager intra\",\n",
    "    \"incentive_amount_inter_avg\": \"Incitation moyenne inter\",\n",
    "    \"driver_revenue_inter_avg\": \"Revenu moyen conducteur inter\",\n",
    "    \"passenger_contribution_inter_avg\": \"Contribution moyenne passager inter\",\n",
    "    \"incentive_amount_per_km_avg\": \"Montant moyen d'incitation par km\",\n",
    "    \"passenger_contribution_per_km_avg\": \"Contribution moyenne passager par km\",\n",
    "    \"driver_revenue_per_km_avg\": \"Revenu moyen conducteur par km\",\n",
    "    \"week\": \"Semaine\",\n",
    "    \"month\": \"Mois\",\n",
    "    \"distance_avg\": \"Distance moyenne\",\n",
    "    \"campaign_type\": \"Campagne\",\n",
    "    \"distance\": \"Distance\",\n",
    "    \"num_journeys_with_aom_incentive\": \"Nombre de journeys incitées par l'AOM\",\n",
    "    \"num_journeys_with_operator_incentive\": \"Nombre de journeys incitées par un opérateur\",\n",
    "    \"num_journeys_intra_territory\": \"Nombre de journeys intra-territoire\",\n",
    "    \"num_journeys_inter_territory\": \"Nombre de journeys inter-territoires\",\n",
    "    \"share_journeys_intra_territory\": \"% de journeys intra-territoire\",\n",
    "    \"share_journeys_inter_territory\": \"% de journeys inter-territoires\",\n",
    "    \"share_drivers\": \"% des conducteurs\",\n",
    "    \"num_trips\": \"Nombre de trips\",\n",
    "    \"is_intra_driver\": \"Conducteur intra\",\n",
    "    \"driver_campaign_type\": \"Type de campagne du conducteur\",\n",
    "    \"passenger_campaign_type\": \"Type de campagne du passager\",\n",
    "    \"drivers_share\": \"% des conducteurs\",\n",
    "    \"week_number\": \"Semaine n°\",\n",
    "    \"passengers_share\": \"% des passagers\",\n",
    "}"
   ]
  },
  {
   "cell_type": "markdown",
   "id": "69a0f885-7350-4b5e-9403-7f9a75452793",
   "metadata": {},
   "source": [
    "## duckdb\n"
   ]
  },
  {
   "cell_type": "code",
   "execution_count": null,
   "id": "2f83721f-5de7-4c81-bb21-1b1527296a33",
   "metadata": {
    "execution": {
     "iopub.execute_input": "2025-08-21T08:38:59.377185Z",
     "iopub.status.busy": "2025-08-21T08:38:59.376386Z",
     "iopub.status.idle": "2025-08-21T08:38:59.437533Z",
     "shell.execute_reply": "2025-08-21T08:38:59.437088Z",
     "shell.execute_reply.started": "2025-08-21T08:38:59.377149Z"
    }
   },
   "outputs": [],
   "source": [
    "conn = duckdb.connect(\n",
    "    \"db.duckdb\",\n",
    "    config={\"memory_limit\": \"24GiB\", \"threads\": 8, \"preserve_insertion_order\": False},\n",
    ")\n",
    "%sql conn --alias duckdb"
   ]
  },
  {
   "cell_type": "code",
   "execution_count": null,
   "id": "cc69e9f9-9557-42be-9c0d-60b161fe628a",
   "metadata": {
    "execution": {
     "iopub.execute_input": "2025-08-21T08:38:59.761083Z",
     "iopub.status.busy": "2025-08-21T08:38:59.760246Z",
     "iopub.status.idle": "2025-08-21T08:38:59.864610Z",
     "shell.execute_reply": "2025-08-21T08:38:59.864293Z",
     "shell.execute_reply.started": "2025-08-21T08:38:59.761040Z"
    }
   },
   "outputs": [],
   "source": [
    "%%sql\n",
    "INSTALL spatial;\n",
    "\n",
    "LOAD spatial;"
   ]
  },
  {
   "cell_type": "markdown",
   "id": "2767c77f-2e93-4505-91af-99c710590019",
   "metadata": {},
   "source": [
    "# Queries\n"
   ]
  },
  {
   "cell_type": "code",
   "execution_count": null,
   "id": "0d4abf55-26cb-483d-9d25-e15ecdaa4c3a",
   "metadata": {
    "execution": {
     "iopub.execute_input": "2025-08-21T08:39:00.594996Z",
     "iopub.status.busy": "2025-08-21T08:39:00.594429Z",
     "iopub.status.idle": "2025-08-21T08:39:00.707740Z",
     "shell.execute_reply": "2025-08-21T08:39:00.707341Z",
     "shell.execute_reply.started": "2025-08-21T08:39:00.594958Z"
    }
   },
   "outputs": [],
   "source": [
    "SQL_ENGINE = create_engine(DB_URL)"
   ]
  },
  {
   "cell_type": "markdown",
   "id": "a088a2ab-16b2-4faf-9ccf-f2a4e4c6f9e9",
   "metadata": {},
   "source": [
    "## Journeys\n"
   ]
  },
  {
   "cell_type": "code",
   "execution_count": null,
   "id": "2545442f-da91-4a60-8aa7-6f2c19ff4d90",
   "metadata": {
    "execution": {
     "iopub.execute_input": "2025-08-21T08:39:01.446644Z",
     "iopub.status.busy": "2025-08-21T08:39:01.446224Z",
     "iopub.status.idle": "2025-08-21T08:39:01.452818Z",
     "shell.execute_reply": "2025-08-21T08:39:01.451843Z",
     "shell.execute_reply.started": "2025-08-21T08:39:01.446609Z"
    }
   },
   "outputs": [],
   "source": [
    "SQL = \"\"\"\n",
    "with idfm_perimeter as \n",
    "(\n",
    "select\n",
    "\tp.arr,\n",
    "\tmax(p.com) as com,\n",
    "\tmax(p.geom_simple) as geom_simple\n",
    "from\n",
    "\tgeo.perimeters p\n",
    "where\n",
    "\tp.reg = '11'\n",
    "\tand year = 2024\n",
    "group by\n",
    "\t1\n",
    "),\n",
    "geo_filtered as (\n",
    "select\n",
    "\tg.carpool_id,\n",
    "\tg.start_geo_code,\n",
    "\tg.end_geo_code,\n",
    "\t(substring(g.start_geo_code for 2) in ('94', '78', '92', '91', '75', '93', '95', '77')\n",
    "\t\tand substring(g.end_geo_code for 2) in ('94', '78', '92', '91', '75', '93', '95', '77')) as is_fully_inside_campaign_area\n",
    "from\n",
    "\tcarpool_v2.geo g\n",
    "where\n",
    "\t(substring(g.start_geo_code for 2) in ('94', '78', '92', '91', '75', '93', '95', '77')\n",
    "\t\tor substring(g.end_geo_code for 2) in ('94', '78', '92', '91', '75', '93', '95', '77'))\n",
    "\t\t\tand g.updated_at >= '2024-09-01'\n",
    "),\n",
    "first_trip as (\n",
    "select\n",
    "    driver_identity_key,\n",
    "    min(c.start_datetime) as first_trip_datetime\n",
    "from carpool_v2.carpools c\n",
    "group by 1\n",
    "),\n",
    "first_trip_passengers as (\n",
    "select\n",
    "    passenger_identity_key,\n",
    "    min(c.start_datetime) as first_trip_datetime\n",
    "from carpool_v2.carpools c\n",
    "group by 1\n",
    "),\n",
    "incentives as (\n",
    "select\n",
    "\toi.carpool_id,\n",
    "\tsum(oi.amount) as incentive_amount,\n",
    "    sum(oi.amount) filter (where siret='28750007800020') as amount_aom,\n",
    "\tarray_agg(distinct oi.siret) as incentive_sirets\n",
    "from\n",
    "\tcarpool_v2.operator_incentives oi\n",
    "inner join geo_filtered g on\n",
    "\toi.carpool_id = g.carpool_id\n",
    "where amount>0\n",
    "group by\n",
    "\t1\n",
    "),\n",
    "journeys as \n",
    "(\n",
    "select\n",
    "\tc.\"_id\",\n",
    "\tc.operator_id,\n",
    "\tc.operator_journey_id,\n",
    "\tc.operator_trip_id,\n",
    "    c.driver_identity_key,\n",
    "    ft.first_trip_datetime,\n",
    "    c.passenger_identity_key,\n",
    "    ftp.first_trip_datetime as passenger_first_trip_datetime,\n",
    "\tc.start_datetime,\n",
    "\tc.end_datetime,\n",
    "\tc.distance,\n",
    "\tc.driver_revenue,\n",
    "\tc.passenger_contribution,\n",
    "\ti.incentive_amount,\n",
    "    i.amount_aom,\n",
    "\ti.incentive_sirets,\n",
    "\tc.start_position,\n",
    "\tc.end_position,\n",
    "    c.passenger_seats,\n",
    "    c.passenger_travelpass_name,\n",
    "    c.passenger_travelpass_user_id,\n",
    "    is_fully_inside_campaign_area,\n",
    "\tST_MAKELINE(c.start_position::geometry,c.end_position::geometry) as journey_line\t\n",
    "from\n",
    "\tcarpool_v2.carpools c\n",
    "inner join geo_filtered g on\n",
    "\tc.\"_id\" = g.carpool_id\n",
    "left join incentives i on\n",
    "\tc.\"_id\" = i.carpool_id\n",
    "left join first_trip ft on ft.driver_identity_key=c.driver_identity_key\n",
    "left join first_trip_passengers ftp on ftp.passenger_identity_key=c.passenger_identity_key\n",
    "left join carpool_v2.status s on s.\"carpool_id\"=c.\"_id\" \n",
    "where\n",
    "\t(c.start_datetime between '2024-09-01' and '2025-07-20')\n",
    "    and s.acquisition_status='processed'\n",
    "    and s.fraud_status='passed'\n",
    "    and s.anomaly_status='passed'\n",
    "    )\n",
    "SELECT\n",
    "    j.*,\n",
    "    CASE WHEN p.l_arr = p.country THEN p.l_country ELSE p.l_arr END as start_com,\n",
    "    CASE WHEN p2.l_arr = p2.country THEN p2.l_country ELSE p2.l_arr END as end_com\n",
    "from journeys j\n",
    "left join carpool_v2.geo g on j.\"_id\"=g.\"carpool_id\"\n",
    "left join geo.perimeters p on g.\"start_geo_code\"=p.arr and p.year=2024\n",
    "left join geo.perimeters p2 on g.\"end_geo_code\"=p2.arr and p2.year=2024\n",
    "\"\"\""
   ]
  },
  {
   "cell_type": "code",
   "execution_count": null,
   "id": "cf95cb33-a53d-4bad-a10c-0d181159db94",
   "metadata": {
    "execution": {
     "iopub.execute_input": "2025-08-21T08:39:03.401374Z",
     "iopub.status.busy": "2025-08-21T08:39:03.400816Z",
     "iopub.status.idle": "2025-08-21T08:39:03.901350Z",
     "shell.execute_reply": "2025-08-21T08:39:03.900356Z",
     "shell.execute_reply.started": "2025-08-21T08:39:03.401336Z"
    }
   },
   "outputs": [],
   "source": [
    "if USE_CACHED_ARTIFACTS:\n",
    "    df_journeys_raw = pl.read_parquet(\"df_journeys_raw.parquet\")\n",
    "else:\n",
    "    df_journeys_raw = pl.read_database(\n",
    "        query=SQL,\n",
    "        connection=SQL_ENGINE,\n",
    "        schema_overrides={\n",
    "            \"passenger_travelpass_name\": pl.String,\n",
    "            \"passenger_travelpass_user_id\": pl.String,\n",
    "        },\n",
    "    )\n",
    "    df_journeys_raw.write_parquet(\"df_journeys_raw.parquet\", compression_level=6)"
   ]
  },
  {
   "cell_type": "code",
   "execution_count": null,
   "id": "83f88697-5d52-4887-90e1-aa58d4fe38ac",
   "metadata": {
    "execution": {
     "iopub.execute_input": "2025-08-21T08:39:04.447830Z",
     "iopub.status.busy": "2025-08-21T08:39:04.447387Z",
     "iopub.status.idle": "2025-08-21T08:39:04.454698Z",
     "shell.execute_reply": "2025-08-21T08:39:04.453937Z",
     "shell.execute_reply.started": "2025-08-21T08:39:04.447802Z"
    }
   },
   "outputs": [],
   "source": [
    "df_journeys_raw.schema"
   ]
  },
  {
   "cell_type": "code",
   "execution_count": null,
   "id": "cd371fb0-a808-49dd-be78-ffb7624c1dcf",
   "metadata": {
    "execution": {
     "iopub.execute_input": "2025-08-21T08:39:05.034294Z",
     "iopub.status.busy": "2025-08-21T08:39:05.033779Z",
     "iopub.status.idle": "2025-08-21T08:39:05.152982Z",
     "shell.execute_reply": "2025-08-21T08:39:05.152624Z",
     "shell.execute_reply.started": "2025-08-21T08:39:05.034263Z"
    }
   },
   "outputs": [],
   "source": [
    "df_journeys_raw.estimated_size() / 1e7"
   ]
  },
  {
   "cell_type": "code",
   "execution_count": null,
   "id": "feb48f20-cb35-4108-af6b-30c0f2344b30",
   "metadata": {
    "execution": {
     "iopub.execute_input": "2025-08-21T08:39:05.489219Z",
     "iopub.status.busy": "2025-08-21T08:39:05.488752Z",
     "iopub.status.idle": "2025-08-21T08:39:05.498701Z",
     "shell.execute_reply": "2025-08-21T08:39:05.498083Z",
     "shell.execute_reply.started": "2025-08-21T08:39:05.489193Z"
    }
   },
   "outputs": [],
   "source": [
    "df_journeys_raw.head()"
   ]
  },
  {
   "cell_type": "code",
   "execution_count": null,
   "id": "118056e8-7894-4294-bdf6-25a5adc23485",
   "metadata": {
    "execution": {
     "iopub.execute_input": "2025-08-21T08:39:06.889057Z",
     "iopub.status.busy": "2025-08-21T08:39:06.888620Z",
     "iopub.status.idle": "2025-08-21T08:39:07.349258Z",
     "shell.execute_reply": "2025-08-21T08:39:07.348960Z",
     "shell.execute_reply.started": "2025-08-21T08:39:06.889025Z"
    }
   },
   "outputs": [],
   "source": [
    "df_journeys_raw.describe()"
   ]
  },
  {
   "cell_type": "markdown",
   "id": "6dd869c0-e89f-4fa2-9ed3-bcc1985a4e42",
   "metadata": {},
   "source": [
    "## Opérateurs\n"
   ]
  },
  {
   "cell_type": "code",
   "execution_count": null,
   "id": "b95038f5-3140-4aa0-a611-d56533d49d85",
   "metadata": {
    "execution": {
     "iopub.execute_input": "2025-08-21T08:39:08.064212Z",
     "iopub.status.busy": "2025-08-21T08:39:08.063847Z",
     "iopub.status.idle": "2025-08-21T08:40:35.268853Z",
     "shell.execute_reply": "2025-08-21T08:40:35.266920Z",
     "shell.execute_reply.started": "2025-08-21T08:39:08.064188Z"
    }
   },
   "outputs": [],
   "source": [
    "df_operators = pl.read_database(\n",
    "    query=\"\"\"\n",
    "SELECT\n",
    "    \"_id\",\n",
    "    \"name\",\n",
    "    \"siret\"\n",
    "from operator.operators\n",
    "where deleted_at is null\n",
    "and name!='BlaBlaCar'\n",
    "\"\"\",\n",
    "    connection=SQL_ENGINE,\n",
    ")"
   ]
  },
  {
   "cell_type": "code",
   "execution_count": null,
   "id": "95236d28-e7e6-4731-b89f-bdcc43a689b6",
   "metadata": {
    "execution": {
     "iopub.execute_input": "2025-08-21T08:40:35.274092Z",
     "iopub.status.busy": "2025-08-21T08:40:35.273187Z",
     "iopub.status.idle": "2025-08-21T08:40:35.285303Z",
     "shell.execute_reply": "2025-08-21T08:40:35.284775Z",
     "shell.execute_reply.started": "2025-08-21T08:40:35.274046Z"
    }
   },
   "outputs": [],
   "source": [
    "df_operators"
   ]
  },
  {
   "cell_type": "markdown",
   "id": "651fef20-2752-4a78-a786-ab3806dd8277",
   "metadata": {},
   "source": [
    "# Reseau IDFM\n"
   ]
  },
  {
   "cell_type": "code",
   "execution_count": null,
   "id": "15f9e1e7-6b66-4577-9a99-7db402e4eea3",
   "metadata": {
    "execution": {
     "iopub.execute_input": "2025-08-21T08:40:38.050049Z",
     "iopub.status.busy": "2025-08-21T08:40:38.049468Z",
     "iopub.status.idle": "2025-08-21T08:40:38.115287Z",
     "shell.execute_reply": "2025-08-21T08:40:38.114961Z",
     "shell.execute_reply.started": "2025-08-21T08:40:38.050013Z"
    }
   },
   "outputs": [],
   "source": [
    "%%sql\n",
    "CREATE TABLE\n",
    "  IF NOT EXISTS gares_idfm AS\n",
    "SELECT\n",
    "  id_gares,\n",
    "  nom_gares,\n",
    "  nom_so_gar,\n",
    "  nom_su_gar,\n",
    "  id_ref_zdc,\n",
    "  nom_zdc,\n",
    "  id_ref_zda,\n",
    "  nom_zda,\n",
    "  idrefliga,\n",
    "  idrefligc,\n",
    "  res_com,\n",
    "  indice_lig,\n",
    "  mode,\n",
    "  tertrain,\n",
    "  terrer,\n",
    "  termetro,\n",
    "  tertram,\n",
    "  terval,\n",
    "  exploitant,\n",
    "  idf,\n",
    "  ST_FlipCoordinates (geom) AS geom --  EPSG:4326 coordinate system (WGS84), with [latitude, longitude] axis order\n",
    "FROM\n",
    "  ST_Read (\n",
    "    '/Users/luis/projets/beta.gouv/rpc/data/notebooks/campaigns/emplacement-des-gares-idf.geojson'\n",
    "  )\n",
    "WHERE\n",
    "  mode IN ('TRAIN', 'RER');"
   ]
  },
  {
   "cell_type": "code",
   "execution_count": null,
   "id": "38fae318-2ae6-4b68-96f6-6b06a1770ab3",
   "metadata": {
    "execution": {
     "iopub.execute_input": "2025-08-21T08:40:38.567191Z",
     "iopub.status.busy": "2025-08-21T08:40:38.566334Z",
     "iopub.status.idle": "2025-08-21T08:40:38.585238Z",
     "shell.execute_reply": "2025-08-21T08:40:38.584825Z",
     "shell.execute_reply.started": "2025-08-21T08:40:38.567146Z"
    }
   },
   "outputs": [],
   "source": [
    "%%sql\n",
    "SELECT\n",
    "  COUNT(*)\n",
    "FROM\n",
    "  gares_idfm;"
   ]
  },
  {
   "cell_type": "code",
   "execution_count": null,
   "id": "08967cc8-9c26-4902-9575-1ad1a1edceba",
   "metadata": {
    "execution": {
     "iopub.execute_input": "2025-08-21T08:40:39.863966Z",
     "iopub.status.busy": "2025-08-21T08:40:39.863293Z",
     "iopub.status.idle": "2025-08-21T08:40:39.876456Z",
     "shell.execute_reply": "2025-08-21T08:40:39.875707Z",
     "shell.execute_reply.started": "2025-08-21T08:40:39.863919Z"
    }
   },
   "outputs": [],
   "source": [
    "%%sql\n",
    "CREATE INDEX IF NOT EXISTS gares_geom_index ON gares_idfm USING RTREE (geom);"
   ]
  },
  {
   "cell_type": "code",
   "execution_count": null,
   "id": "d57d0035-2e6a-4de1-a685-323c0e88b6e4",
   "metadata": {
    "execution": {
     "iopub.execute_input": "2025-08-21T08:40:40.287667Z",
     "iopub.status.busy": "2025-08-21T08:40:40.287074Z",
     "iopub.status.idle": "2025-08-21T08:40:40.304318Z",
     "shell.execute_reply": "2025-08-21T08:40:40.303616Z",
     "shell.execute_reply.started": "2025-08-21T08:40:40.287635Z"
    }
   },
   "outputs": [],
   "source": [
    "%%sql\n",
    "FROM\n",
    "  (DESCRIBE gares_idfm);"
   ]
  },
  {
   "cell_type": "code",
   "execution_count": null,
   "id": "b913772e-697c-4aa3-9882-94a25e15c1f9",
   "metadata": {
    "execution": {
     "iopub.execute_input": "2025-08-21T08:40:40.987663Z",
     "iopub.status.busy": "2025-08-21T08:40:40.987317Z",
     "iopub.status.idle": "2025-08-21T08:40:41.007824Z",
     "shell.execute_reply": "2025-08-21T08:40:41.007442Z",
     "shell.execute_reply.started": "2025-08-21T08:40:40.987637Z"
    }
   },
   "outputs": [],
   "source": [
    "%%sql df_idfm_stations <<\n",
    "SELECT\n",
    "    *,\n",
    "    ST_asText(geom) as geom_wkt\n",
    "FROM gares_idfm"
   ]
  },
  {
   "cell_type": "code",
   "execution_count": null,
   "id": "2bc8ee37-8f11-4271-b7d4-e804d59c1be2",
   "metadata": {
    "execution": {
     "iopub.execute_input": "2025-08-21T08:40:41.500341Z",
     "iopub.status.busy": "2025-08-21T08:40:41.499638Z",
     "iopub.status.idle": "2025-08-21T08:40:41.512549Z",
     "shell.execute_reply": "2025-08-21T08:40:41.511793Z",
     "shell.execute_reply.started": "2025-08-21T08:40:41.500300Z"
    }
   },
   "outputs": [],
   "source": [
    "df_idfm_stations"
   ]
  },
  {
   "cell_type": "markdown",
   "id": "2926a2ad-8aba-48b7-86d2-27ec2fcdab53",
   "metadata": {},
   "source": [
    "# Identification incitateurs\n"
   ]
  },
  {
   "cell_type": "code",
   "execution_count": null,
   "id": "961509cd-98fe-4cdd-a368-0edac8d8e9b3",
   "metadata": {
    "execution": {
     "iopub.execute_input": "2025-08-21T08:40:48.585473Z",
     "iopub.status.busy": "2025-08-21T08:40:48.584913Z",
     "iopub.status.idle": "2025-08-21T08:40:48.722092Z",
     "shell.execute_reply": "2025-08-21T08:40:48.721721Z",
     "shell.execute_reply.started": "2025-08-21T08:40:48.585441Z"
    }
   },
   "outputs": [],
   "source": [
    "df_journeys_raw = df_journeys_raw.with_columns(\n",
    "    pl.col(\"incentive_sirets\").list.contains(AOM_SIRET).alias(\"incentived_by_aom\"),\n",
    "    (\n",
    "        pl.col(\"incentive_sirets\")\n",
    "        .list.set_intersection(df_operators[\"siret\"].to_list())\n",
    "        .list.len()\n",
    "        > 0\n",
    "    ).alias(\"incentived_by_operator\"),\n",
    ")"
   ]
  },
  {
   "cell_type": "markdown",
   "id": "10488368-bd9f-41cc-aef9-5a726a221851",
   "metadata": {},
   "source": [
    "# Traitements geo\n"
   ]
  },
  {
   "cell_type": "code",
   "execution_count": null,
   "id": "741ff920-4d4f-4b1d-8383-e94a3686f6a3",
   "metadata": {
    "execution": {
     "iopub.execute_input": "2025-08-21T08:40:49.271949Z",
     "iopub.status.busy": "2025-08-21T08:40:49.271491Z",
     "iopub.status.idle": "2025-08-21T08:41:21.449537Z",
     "shell.execute_reply": "2025-08-21T08:41:21.448949Z",
     "shell.execute_reply.started": "2025-08-21T08:40:49.271921Z"
    }
   },
   "outputs": [],
   "source": [
    "df_journeys_raw = df_journeys_raw.with_columns(\n",
    "    pl.col(\"start_position\")\n",
    "    .map_elements(lambda x: shapely.from_wkb(x).wkt, return_dtype=pl.String)\n",
    "    .alias(\"start_pos\"),\n",
    "    pl.col(\"end_position\")\n",
    "    .map_elements(lambda x: shapely.from_wkb(x).wkt, return_dtype=pl.String)\n",
    "    .alias(\"end_pos\"),\n",
    ")"
   ]
  },
  {
   "cell_type": "markdown",
   "id": "094cb1c8-0ee5-423b-b288-474252b53999",
   "metadata": {},
   "source": [
    "# Filtrage des journeys sans incitations\n"
   ]
  },
  {
   "cell_type": "code",
   "execution_count": null,
   "id": "c20e75ba-8dea-470d-9265-ee120895a53b",
   "metadata": {
    "execution": {
     "iopub.execute_input": "2025-08-21T08:41:21.451230Z",
     "iopub.status.busy": "2025-08-21T08:41:21.451038Z",
     "iopub.status.idle": "2025-08-21T08:41:22.330151Z",
     "shell.execute_reply": "2025-08-21T08:41:22.329640Z",
     "shell.execute_reply.started": "2025-08-21T08:41:21.451219Z"
    }
   },
   "outputs": [],
   "source": [
    "df_journeys = df_journeys_raw.filter((pl.col(\"incentive_amount\") > 0))"
   ]
  },
  {
   "cell_type": "markdown",
   "id": "6aa2e606-9de1-47ce-a80b-384e141a1c7f",
   "metadata": {},
   "source": [
    "# Création de la table des journeys sur duckdb\n"
   ]
  },
  {
   "cell_type": "code",
   "execution_count": null,
   "id": "71b737a8-e07d-4478-ac4b-3b31c5cf4e28",
   "metadata": {
    "execution": {
     "iopub.execute_input": "2025-08-21T08:41:22.330678Z",
     "iopub.status.busy": "2025-08-21T08:41:22.330607Z",
     "iopub.status.idle": "2025-08-21T08:41:23.292143Z",
     "shell.execute_reply": "2025-08-21T08:41:23.291209Z",
     "shell.execute_reply.started": "2025-08-21T08:41:22.330670Z"
    }
   },
   "outputs": [],
   "source": [
    "%%sql\n",
    "CREATE TABLE\n",
    "  if NOT EXISTS journeys_raw AS\n",
    "SELECT\n",
    "  _id,\n",
    "  operator_id,\n",
    "  operator_journey_id,\n",
    "  operator_trip_id,\n",
    "  driver_identity_key,\n",
    "  first_trip_datetime,\n",
    "  passenger_identity_key,\n",
    "  passenger_first_trip_datetime,\n",
    "  start_datetime,\n",
    "  end_datetime,\n",
    "  distance,\n",
    "  driver_revenue,\n",
    "  passenger_contribution,\n",
    "  incentive_amount,\n",
    "  amount_aom,\n",
    "  incentive_sirets,\n",
    "  start_position,\n",
    "  end_position,\n",
    "  passenger_seats,\n",
    "  is_fully_inside_campaign_area,\n",
    "  journey_line,\n",
    "  start_com,\n",
    "  end_com,\n",
    "  incentived_by_aom,\n",
    "  incentived_by_operator,\n",
    "  ST_FlipCoordinates (ST_GeomFromText (start_pos)) AS start_pos,\n",
    "  ST_FlipCoordinates (ST_GeomFromText (end_pos)) AS end_pos\n",
    "FROM\n",
    "  df_journeys_raw"
   ]
  },
  {
   "cell_type": "code",
   "execution_count": null,
   "id": "2dc20a60-3958-4c87-9051-981e2643c80c",
   "metadata": {
    "execution": {
     "iopub.execute_input": "2025-08-21T08:41:23.294575Z",
     "iopub.status.busy": "2025-08-21T08:41:23.294414Z",
     "iopub.status.idle": "2025-08-21T08:41:23.301111Z",
     "shell.execute_reply": "2025-08-21T08:41:23.300892Z",
     "shell.execute_reply.started": "2025-08-21T08:41:23.294566Z"
    }
   },
   "outputs": [],
   "source": [
    "%%sql\n",
    "CREATE INDEX IF NOT EXISTS start_pos_idx ON journeys_raw USING RTREE (start_pos);\n",
    "\n",
    "CREATE INDEX IF NOT EXISTS end_pos_idx ON journeys_raw USING RTREE (end_pos);"
   ]
  },
  {
   "cell_type": "code",
   "execution_count": null,
   "id": "daf05c1c-9977-41f4-860e-2d4a3ff0c3ae",
   "metadata": {
    "execution": {
     "iopub.execute_input": "2025-08-21T08:41:23.301644Z",
     "iopub.status.busy": "2025-08-21T08:41:23.301525Z",
     "iopub.status.idle": "2025-08-21T08:41:23.307143Z",
     "shell.execute_reply": "2025-08-21T08:41:23.306937Z",
     "shell.execute_reply.started": "2025-08-21T08:41:23.301637Z"
    }
   },
   "outputs": [],
   "source": [
    "%%sql\n",
    "FROM\n",
    "  (DESCRIBE journeys_raw)"
   ]
  },
  {
   "cell_type": "code",
   "execution_count": null,
   "id": "77db35c0-d191-414b-8d67-73072ac62cc6",
   "metadata": {
    "execution": {
     "iopub.execute_input": "2025-08-21T08:41:23.307614Z",
     "iopub.status.busy": "2025-08-21T08:41:23.307529Z",
     "iopub.status.idle": "2025-08-21T08:41:23.364074Z",
     "shell.execute_reply": "2025-08-21T08:41:23.363843Z",
     "shell.execute_reply.started": "2025-08-21T08:41:23.307607Z"
    }
   },
   "outputs": [],
   "source": [
    "%%sql\n",
    "SELECT\n",
    "  *\n",
    "FROM\n",
    "  journeys_raw\n",
    "LIMIT\n",
    "  5"
   ]
  },
  {
   "cell_type": "code",
   "execution_count": null,
   "id": "07a23c2a-d6bf-44f5-b538-fc78f6004c45",
   "metadata": {
    "execution": {
     "iopub.execute_input": "2025-08-21T08:41:23.364521Z",
     "iopub.status.busy": "2025-08-21T08:41:23.364437Z",
     "iopub.status.idle": "2025-08-21T08:41:23.368862Z",
     "shell.execute_reply": "2025-08-21T08:41:23.368658Z",
     "shell.execute_reply.started": "2025-08-21T08:41:23.364513Z"
    }
   },
   "outputs": [],
   "source": [
    "%%sql\n",
    "SELECT\n",
    "  COUNT(*)\n",
    "FROM\n",
    "  journeys_raw"
   ]
  },
  {
   "cell_type": "markdown",
   "id": "35ee77da-9eb6-4f61-a334-09380fd09d48",
   "metadata": {},
   "source": [
    "# Statistiques globales\n"
   ]
  },
  {
   "cell_type": "code",
   "execution_count": null,
   "id": "431b7b25-d518-4b6e-a756-039166099c81",
   "metadata": {
    "execution": {
     "iopub.execute_input": "2025-08-21T08:48:01.822994Z",
     "iopub.status.busy": "2025-08-21T08:48:01.820884Z",
     "iopub.status.idle": "2025-08-21T08:48:01.847931Z",
     "shell.execute_reply": "2025-08-21T08:48:01.847377Z",
     "shell.execute_reply.started": "2025-08-21T08:48:01.822882Z"
    }
   },
   "outputs": [],
   "source": [
    "incentived_trip_filter_expr = pl.col(\"incentive_amount\") > 0\n",
    "\n",
    "agg_expressions = [\n",
    "    pl.col(\"_id\").n_unique().alias(\"num_journeys\"),\n",
    "    pl.col(\"_id\")\n",
    "    .filter(pl.col(\"is_fully_inside_campaign_area\"))\n",
    "    .n_unique()\n",
    "    .alias(\"num_journeys_intra_territory\"),\n",
    "    pl.col(\"_id\")\n",
    "    .filter(pl.col(\"is_fully_inside_campaign_area\") & incentived_trip_filter_expr)\n",
    "    .n_unique()\n",
    "    .alias(\"num_journeys_intra_territory_incentived_trips\"),\n",
    "    pl.col(\"_id\")\n",
    "    .filter(incentived_trip_filter_expr)\n",
    "    .n_unique()\n",
    "    .alias(\"num_journeys_incentived\"),\n",
    "    pl.col(\"_id\")\n",
    "    .filter(pl.col(\"incentived_by_aom\"))\n",
    "    .n_unique()\n",
    "    .alias(\"num_journeys_with_aom_incentive\"),\n",
    "    pl.col(\"_id\")\n",
    "    .filter(pl.col(\"incentived_by_operator\"))\n",
    "    .n_unique()\n",
    "    .alias(\"num_journeys_with_operator_incentive\"),\n",
    "    pl.col(\"_id\")\n",
    "    .filter(pl.col(\"is_fully_inside_campaign_area\"))\n",
    "    .n_unique()\n",
    "    .alias(\"num_journeys_intra\"),\n",
    "    (pl.col(\"distance\") / 1000).mean().alias(\"distance_avg\"),\n",
    "    (pl.col(\"distance\").filter(incentived_trip_filter_expr) / 1000)\n",
    "    .mean()\n",
    "    .alias(\"distance_incentived_trips_avg\"),\n",
    "    (pl.col(\"incentive_amount\").mean() / 100).alias(\"incentive_amount_avg\"),\n",
    "    (pl.col(\"passenger_contribution\").filter(incentived_trip_filter_expr.not_()) / 100)\n",
    "    .mean()\n",
    "    .alias(\"passenger_contribution_avg\"),\n",
    "    (pl.col(\"passenger_contribution\").filter(incentived_trip_filter_expr) / 100)\n",
    "    .mean()\n",
    "    .alias(\"passenger_contribution_incentived_trips_avg\"),\n",
    "    (\n",
    "        pl.col(\"driver_revenue\").filter(incentived_trip_filter_expr.not_()).mean() / 100\n",
    "    ).alias(\"driver_revenue_avg\"),\n",
    "    (pl.col(\"driver_revenue\").filter(incentived_trip_filter_expr).mean() / 100).alias(\n",
    "        \"driver_revenue_incentived_trips_avg\"\n",
    "    ),\n",
    "    (\n",
    "        pl.col(\"incentive_amount\")\n",
    "        .filter(pl.col(\"is_fully_inside_campaign_area\"))\n",
    "        .mean()\n",
    "        / 100\n",
    "    ).alias(\"incentive_amount_intra_avg\"),\n",
    "    (\n",
    "        pl.col(\"passenger_contribution\")\n",
    "        .filter(pl.col(\"is_fully_inside_campaign_area\") & incentived_trip_filter_expr)\n",
    "        .mean()\n",
    "        / 100\n",
    "    ).alias(\"passenger_contribution_intra_avg\"),\n",
    "    (\n",
    "        pl.col(\"driver_revenue\")\n",
    "        .filter(pl.col(\"is_fully_inside_campaign_area\") & incentived_trip_filter_expr)\n",
    "        .mean()\n",
    "        / 100\n",
    "    ).alias(\"driver_revenue_intra_avg\"),\n",
    "    (\n",
    "        pl.col(\"incentive_amount\")\n",
    "        .filter(\n",
    "            pl.col(\"is_fully_inside_campaign_area\").not_() & incentived_trip_filter_expr\n",
    "        )\n",
    "        .mean()\n",
    "        / 100\n",
    "    ).alias(\"incentive_amount_inter_avg\"),\n",
    "    (\n",
    "        pl.col(\"passenger_contribution\")\n",
    "        .filter(\n",
    "            pl.col(\"is_fully_inside_campaign_area\").not_() & incentived_trip_filter_expr\n",
    "        )\n",
    "        .mean()\n",
    "        / 100\n",
    "    ).alias(\"passenger_contribution_inter_avg\"),\n",
    "    (\n",
    "        pl.col(\"driver_revenue\")\n",
    "        .filter(\n",
    "            pl.col(\"is_fully_inside_campaign_area\").not_() & incentived_trip_filter_expr\n",
    "        )\n",
    "        .mean()\n",
    "        / 100\n",
    "    ).alias(\"driver_revenue_inter_avg\"),\n",
    "    (10 * (pl.col(\"incentive_amount\") / pl.col(\"distance\")))\n",
    "    .mean()\n",
    "    .alias(\"incentive_amount_per_km_avg\"),\n",
    "    (\n",
    "        10\n",
    "        * (pl.col(\"passenger_contribution\") / pl.col(\"distance\")).filter(\n",
    "            incentived_trip_filter_expr.not_()\n",
    "        )\n",
    "    )\n",
    "    .mean()\n",
    "    .alias(\"passenger_contribution_per_km_avg\"),\n",
    "    (\n",
    "        10\n",
    "        * (pl.col(\"passenger_contribution\") / pl.col(\"distance\")).filter(\n",
    "            incentived_trip_filter_expr\n",
    "        )\n",
    "    )\n",
    "    .mean()\n",
    "    .alias(\"passenger_contribution_per_km_incentived_trips_avg\"),\n",
    "    (\n",
    "        10\n",
    "        * (pl.col(\"driver_revenue\") / pl.col(\"distance\")).filter(\n",
    "            incentived_trip_filter_expr.not_()\n",
    "        )\n",
    "    )\n",
    "    .mean()\n",
    "    .alias(\"driver_revenue_per_km_avg\"),\n",
    "    (\n",
    "        10\n",
    "        * (pl.col(\"driver_revenue\") / pl.col(\"distance\")).filter(\n",
    "            incentived_trip_filter_expr\n",
    "        )\n",
    "    )\n",
    "    .mean()\n",
    "    .alias(\"driver_revenue_per_km_incentived_trips_avg\"),\n",
    "]"
   ]
  },
  {
   "cell_type": "code",
   "execution_count": null,
   "id": "0984f8c1-7d46-413e-9a88-7ce13898d77d",
   "metadata": {
    "execution": {
     "iopub.execute_input": "2025-08-21T08:50:48.103893Z",
     "iopub.status.busy": "2025-08-21T08:50:48.101493Z",
     "iopub.status.idle": "2025-08-21T08:50:48.601496Z",
     "shell.execute_reply": "2025-08-21T08:50:48.601132Z",
     "shell.execute_reply.started": "2025-08-21T08:50:48.103789Z"
    }
   },
   "outputs": [],
   "source": [
    "df_stats_by_month = (\n",
    "    df_journeys_raw.group_by(pl.col(\"start_datetime\").dt.truncate(\"1mo\").alias(\"month\"))\n",
    "    .agg(agg_expressions)\n",
    "    .sort(pl.col(\"month\"))\n",
    ")"
   ]
  },
  {
   "cell_type": "code",
   "execution_count": null,
   "id": "acd82802-19bc-4440-a822-7e93461fca25",
   "metadata": {
    "execution": {
     "iopub.execute_input": "2025-08-21T08:50:48.602232Z",
     "iopub.status.busy": "2025-08-21T08:50:48.602143Z",
     "iopub.status.idle": "2025-08-21T08:50:49.512039Z",
     "shell.execute_reply": "2025-08-21T08:50:49.511630Z",
     "shell.execute_reply.started": "2025-08-21T08:50:48.602224Z"
    }
   },
   "outputs": [],
   "source": [
    "df_stats_by_week = (\n",
    "    df_journeys_raw.filter(\n",
    "        pl.col(\"start_datetime\") <= datetime(2025, 7, 20, tzinfo=ZoneInfo(\"GMT\"))\n",
    "    )\n",
    "    .group_by(pl.col(\"start_datetime\").dt.truncate(\"1w\").alias(\"week\"))\n",
    "    .agg(agg_expressions)\n",
    "    .sort(pl.col(\"week\"))\n",
    ")"
   ]
  },
  {
   "cell_type": "markdown",
   "id": "e71a17ef-4a91-44c8-9d8c-42fd7498afa9",
   "metadata": {},
   "source": [
    "## Nombre de journeys\n"
   ]
  },
  {
   "cell_type": "code",
   "execution_count": null,
   "id": "1f31636f-633e-4932-9671-9c1a85f3f063",
   "metadata": {
    "execution": {
     "iopub.execute_input": "2025-08-21T08:50:49.684293Z",
     "iopub.status.busy": "2025-08-21T08:50:49.683898Z",
     "iopub.status.idle": "2025-08-21T08:50:49.846144Z",
     "shell.execute_reply": "2025-08-21T08:50:49.845882Z",
     "shell.execute_reply.started": "2025-08-21T08:50:49.684265Z"
    }
   },
   "outputs": [],
   "source": [
    "with pl.Config(set_fmt_str_lengths=120, set_tbl_width_chars=1000):\n",
    "    print(\n",
    "        df_journeys_raw.select(\n",
    "            pl.col(\"_id\").n_unique().alias(\"Nombre de journeys\"),\n",
    "            pl.col(\"_id\")\n",
    "            .filter(pl.col(\"incentive_amount\") > 0)\n",
    "            .n_unique()\n",
    "            .alias(\"Nombre de journeys avec incitation\"),\n",
    "            (\n",
    "                100\n",
    "                * pl.col(\"_id\").filter(pl.col(\"incentive_amount\") > 0).n_unique()\n",
    "                / pl.col(\"_id\").n_unique()\n",
    "            ).alias(\"% journeys avec incitation\"),\n",
    "            pl.col(\"_id\")\n",
    "            .filter(pl.col(\"incentived_by_aom\"))\n",
    "            .n_unique()\n",
    "            .alias(\"Nombre de journeys avec incitation AOM\"),\n",
    "            (\n",
    "                100\n",
    "                * pl.col(\"_id\").filter(pl.col(\"incentived_by_aom\")).n_unique()\n",
    "                / pl.col(\"_id\").n_unique()\n",
    "            ).alias(\"% journeys avec incitation AOM\"),\n",
    "            pl.col(\"_id\")\n",
    "            .filter(pl.col(\"incentived_by_operator\"))\n",
    "            .n_unique()\n",
    "            .alias(\"Nombre de journeys avec incitation opérateur\"),\n",
    "            (\n",
    "                100\n",
    "                * pl.col(\"_id\").filter(pl.col(\"incentived_by_operator\")).n_unique()\n",
    "                / pl.col(\"_id\").n_unique()\n",
    "            ).alias(\"% journeys avec incitation opérateur\"),\n",
    "        )\n",
    "        .with_columns(pl.selectors.all().round(2))\n",
    "        .unpivot()\n",
    "    )"
   ]
  },
  {
   "cell_type": "markdown",
   "id": "57ee0905-ed11-427a-a268-ceeb558b73a1",
   "metadata": {},
   "source": [
    "### Evolution\n"
   ]
  },
  {
   "cell_type": "markdown",
   "id": "776f594a-cdbb-45a3-bdd2-16a3de3e3feb",
   "metadata": {},
   "source": [
    "#### Globale\n"
   ]
  },
  {
   "cell_type": "code",
   "execution_count": null,
   "id": "f2e51bf3-b878-4b12-a6aa-2ae515c7f26b",
   "metadata": {
    "execution": {
     "iopub.execute_input": "2025-08-21T12:38:34.202235Z",
     "iopub.status.busy": "2025-08-21T12:38:34.199625Z",
     "iopub.status.idle": "2025-08-21T12:38:34.211885Z",
     "shell.execute_reply": "2025-08-21T12:38:34.211488Z",
     "shell.execute_reply.started": "2025-08-21T12:38:34.202176Z"
    }
   },
   "outputs": [],
   "source": [
    "def create_num_journeys_fig(\n",
    "    df: pl.DataFrame,\n",
    "    x_col: str = \"month\",\n",
    "    title: str = \"IDFM - Nombre de journeys par mois\",\n",
    ") -> go.Figure:\n",
    "    traces = []\n",
    "    max_y = 0\n",
    "\n",
    "    df_grouped = df.group_by()\n",
    "    for name in [\n",
    "        \"num_journeys\",\n",
    "        \"num_journeys_incentived\",\n",
    "        \"num_journeys_with_aom_incentive\",\n",
    "        \"num_journeys_with_operator_incentive\",\n",
    "    ]:\n",
    "        trace = go.Scatter(\n",
    "            x=df[x_col],\n",
    "            y=df[name],\n",
    "            mode=\"lines+text\" if name == \"num_journeys\" else \"lines\",\n",
    "            textposition=\"top center\",\n",
    "            text=df[name] if name == \"num_journeys\" else None,\n",
    "            name=labels_map.get(name, name),\n",
    "        )\n",
    "        traces.append(trace)\n",
    "        max_y = max(max_y, df[name].max())\n",
    "\n",
    "    fig = go.Figure(traces)\n",
    "\n",
    "    fig.update_layout(\n",
    "        template=\"simple_white\",\n",
    "        title=title,\n",
    "        legend_orientation=\"h\",\n",
    "        legend_y=0.6,\n",
    "        legend_yref=\"container\",\n",
    "    )\n",
    "    fig.update_xaxes(title=\"Mois\" if x_col == \"month\" else \"Semaine\")\n",
    "    fig.update_yaxes(range=[0, max_y * 1.2], showgrid=True, title=\"Nombre de journeys\")\n",
    "\n",
    "    return fig"
   ]
  },
  {
   "cell_type": "code",
   "execution_count": null,
   "id": "1e98075b-b46d-4297-a49c-6e8fb140cace",
   "metadata": {
    "execution": {
     "iopub.execute_input": "2025-08-21T12:34:40.648639Z",
     "iopub.status.busy": "2025-08-21T12:34:40.647297Z",
     "iopub.status.idle": "2025-08-21T12:34:46.818518Z",
     "shell.execute_reply": "2025-08-21T12:34:46.817935Z",
     "shell.execute_reply.started": "2025-08-21T12:34:40.648606Z"
    }
   },
   "outputs": [],
   "source": [
    "fig_journeys_by_month = create_num_journeys_fig(df_stats_by_month)\n",
    "fig_journeys_by_month.show()\n",
    "\n",
    "fig_journeys_by_month.write_html(OUTPUT_PATH / \"fig_journeys_par_mois.html\")\n",
    "fig_journeys_by_month.write_image(\n",
    "    OUTPUT_PATH / \"fig_journeys_par_mois.svg\", width=1280, height=720\n",
    ")"
   ]
  },
  {
   "cell_type": "markdown",
   "id": "ff019482-413d-4911-955b-876460f79104",
   "metadata": {},
   "source": [
    "#### Opérateur incitateurs\n"
   ]
  },
  {
   "cell_type": "code",
   "execution_count": null,
   "id": "cca2ed00-71a8-45d6-b1ab-d37072d3cd0c",
   "metadata": {
    "execution": {
     "iopub.execute_input": "2025-08-21T08:50:54.965273Z",
     "iopub.status.busy": "2025-08-21T08:50:54.964830Z",
     "iopub.status.idle": "2025-08-21T08:50:58.300133Z",
     "shell.execute_reply": "2025-08-21T08:50:58.299747Z",
     "shell.execute_reply.started": "2025-08-21T08:50:54.965262Z"
    }
   },
   "outputs": [],
   "source": [
    "fig_journeys_by_operator = px.line(\n",
    "    df_journeys.explode(\"incentive_sirets\")\n",
    "    .join(df_operators, left_on=\"incentive_sirets\", right_on=\"siret\", how=\"left\")\n",
    "    .group_by([\"name\", pl.col(\"start_datetime\").dt.truncate(\"1mo\")])\n",
    "    .agg(pl.col(\"operator_journey_id\").n_unique().alias(\"num_journeys\"))\n",
    "    .rename({\"name\": \"operator\", \"start_datetime\": \"month\"})\n",
    "    .sort(\"month\"),\n",
    "    x=\"month\",\n",
    "    y=\"num_journeys\",\n",
    "    color=\"operator\",\n",
    "    template=\"simple_white\",\n",
    "    labels=labels_map,\n",
    "    title=\"Nombre de journeys incités par opérateur\",\n",
    ")\n",
    "fig_journeys_by_operator.update_yaxes(showgrid=True)\n",
    "fig_journeys_by_operator.show()\n",
    "\n",
    "\n",
    "fig_journeys_by_operator.write_html(\"outputs_idfm/fig_journeys_par_operateur_mois.html\")\n",
    "fig_journeys_by_operator.write_image(\n",
    "    \"outputs_idfm/fig_journeys_par_operateur_mois.svg\", width=1280, height=720\n",
    ")"
   ]
  },
  {
   "cell_type": "markdown",
   "id": "e1fc5427-e93a-4a98-8df6-f2605a7b3bd7",
   "metadata": {},
   "source": [
    "#### intra vs inter\n"
   ]
  },
  {
   "cell_type": "code",
   "execution_count": null,
   "id": "5948878a-b8ce-44df-b597-ec6dd6a6a821",
   "metadata": {
    "execution": {
     "iopub.execute_input": "2025-08-21T08:50:58.301033Z",
     "iopub.status.busy": "2025-08-21T08:50:58.300925Z",
     "iopub.status.idle": "2025-08-21T08:50:59.716347Z",
     "shell.execute_reply": "2025-08-21T08:50:59.715996Z",
     "shell.execute_reply.started": "2025-08-21T08:50:58.301023Z"
    }
   },
   "outputs": [],
   "source": [
    "fig_journeys_by_journey_type = px.line(\n",
    "    df_stats_by_week.with_columns(\n",
    "        (pl.col(\"num_journeys\") - pl.col(\"num_journeys_intra_territory\")).alias(\n",
    "            \"num_journeys_inter_territory\"\n",
    "        )\n",
    "    ),\n",
    "    x=\"week\",\n",
    "    y=[\"num_journeys_intra_territory\", \"num_journeys_inter_territory\"],\n",
    "    template=\"simple_white\",\n",
    "    labels=labels_map,\n",
    "    title=\"Nombre de journeys par type de trajets\",\n",
    ")\n",
    "fig_journeys_by_journey_type.update_traces(\n",
    "    {\"name\": labels_map[\"num_journeys_intra_territory\"]},\n",
    "    selector={\"name\": \"num_journeys_intra_territory\"},\n",
    ")\n",
    "fig_journeys_by_journey_type.update_traces(\n",
    "    {\"name\": labels_map[\"num_journeys_inter_territory\"]},\n",
    "    selector={\"name\": \"num_journeys_inter_territory\"},\n",
    ")\n",
    "fig_journeys_by_journey_type.update_yaxes(showgrid=True, title=\"Nombre de journeys\")\n",
    "fig_journeys_by_journey_type.update_layout(\n",
    "    legend_title=\"\", legend_orientation=\"h\", legend_y=0.7, legend_yref=\"container\"\n",
    ")\n",
    "fig_journeys_by_journey_type.show()\n",
    "\n",
    "\n",
    "fig_journeys_by_journey_type.write_html(\n",
    "    OUTPUT_PATH / \"fig_journeys_par_type_semaine.html\"\n",
    ")\n",
    "fig_journeys_by_journey_type.write_image(\n",
    "    OUTPUT_PATH / \"fig_journeys_par_type_semaine.svg\", width=1280, height=720\n",
    ")"
   ]
  },
  {
   "cell_type": "code",
   "execution_count": null,
   "id": "d43c913c-e94d-404c-94ef-9a2967dca6c0",
   "metadata": {
    "execution": {
     "iopub.execute_input": "2025-08-21T08:51:04.294969Z",
     "iopub.status.busy": "2025-08-21T08:51:04.294466Z",
     "iopub.status.idle": "2025-08-21T08:51:05.615021Z",
     "shell.execute_reply": "2025-08-21T08:51:05.614648Z",
     "shell.execute_reply.started": "2025-08-21T08:51:04.294927Z"
    }
   },
   "outputs": [],
   "source": [
    "fig_journeys_by_journey_type_incentived_trips = px.line(\n",
    "    df_stats_by_week.with_columns(\n",
    "        (\n",
    "            pl.col(\"num_journeys_incentived\")\n",
    "            - pl.col(\"num_journeys_intra_territory_incentived_trips\")\n",
    "        ).alias(\"num_journeys_inter_territory_incentived_trips\")\n",
    "    ),\n",
    "    x=\"week\",\n",
    "    y=[\n",
    "        \"num_journeys_intra_territory_incentived_trips\",\n",
    "        \"num_journeys_inter_territory_incentived_trips\",\n",
    "    ],\n",
    "    template=\"simple_white\",\n",
    "    labels=labels_map,\n",
    "    title=\"Nombre de journeys par type de trajets - Trajets incités\",\n",
    ")\n",
    "\n",
    "for e in [\n",
    "    \"num_journeys_intra_territory_incentived_trips\",\n",
    "    \"num_journeys_inter_territory_incentived_trips\",\n",
    "]:\n",
    "    fig_journeys_by_journey_type_incentived_trips.update_traces(\n",
    "        {\"name\": labels_map.get(e)},\n",
    "        selector={\"name\": e},\n",
    "    )\n",
    "fig_journeys_by_journey_type_incentived_trips.update_yaxes(\n",
    "    showgrid=True, title=\"Nombre de journeys\"\n",
    ")\n",
    "fig_journeys_by_journey_type_incentived_trips.update_layout(\n",
    "    legend_title=\"\", legend_orientation=\"h\", legend_y=0.7, legend_yref=\"container\"\n",
    ")\n",
    "fig_journeys_by_journey_type_incentived_trips.show()\n",
    "\n",
    "\n",
    "fig_journeys_by_journey_type_incentived_trips.write_html(\n",
    "    \"outputs_idfm/fig_journeys_par_type_semaine_trajets_incites.html\"\n",
    ")\n",
    "fig_journeys_by_journey_type_incentived_trips.write_image(\n",
    "    \"outputs_idfm/fig_journeys_par_type_semaine_trajets_incites.svg\",\n",
    "    width=1280,\n",
    "    height=720,\n",
    ")"
   ]
  },
  {
   "cell_type": "markdown",
   "id": "1c186fed-5245-4b3b-9e55-58b88f261463",
   "metadata": {},
   "source": [
    "## Par opérateurs\n"
   ]
  },
  {
   "cell_type": "code",
   "execution_count": null,
   "id": "d8a11272-80b7-4eae-8f3e-ed911db6c9b6",
   "metadata": {
    "execution": {
     "iopub.execute_input": "2025-08-21T13:01:15.867844Z",
     "iopub.status.busy": "2025-08-21T13:01:15.865714Z",
     "iopub.status.idle": "2025-08-21T13:01:16.191200Z",
     "shell.execute_reply": "2025-08-21T13:01:16.190928Z",
     "shell.execute_reply.started": "2025-08-21T13:01:15.867736Z"
    }
   },
   "outputs": [],
   "source": [
    "px.line(\n",
    "    df_journeys.group_by([\"operator_id\", pl.col(\"start_datetime\").dt.truncate(\"1w\")])\n",
    "    .agg(pl.col(\"_id\").n_unique().alias(\"num_journeys\"))\n",
    "    .join(df_operators, left_on=\"operator_id\", right_on=\"_id\", validate=\"m:1\")\n",
    "    .sort([\"start_datetime\", \"operator_id\"]),\n",
    "    x=\"start_datetime\",\n",
    "    y=\"num_journeys\",\n",
    "    color=\"name\",\n",
    "    labels=labels_map,\n",
    "    template=\"simple_white\",\n",
    "    title=\"Nombre de journeys par opérateur<br><sub>Uniquement les trajets incités</sub>\",\n",
    ")"
   ]
  },
  {
   "cell_type": "markdown",
   "id": "46c3d3a8-4bc8-4039-a641-7edb33529aad",
   "metadata": {},
   "source": [
    "## Distance\n"
   ]
  },
  {
   "cell_type": "code",
   "execution_count": null,
   "id": "cb72f5ad-cfd3-4bf0-b30e-7100c12382d4",
   "metadata": {
    "execution": {
     "iopub.execute_input": "2025-08-21T10:03:32.257583Z",
     "iopub.status.busy": "2025-08-21T10:03:32.255505Z",
     "iopub.status.idle": "2025-08-21T10:03:32.307918Z",
     "shell.execute_reply": "2025-08-21T10:03:32.307439Z",
     "shell.execute_reply.started": "2025-08-21T10:03:32.257483Z"
    }
   },
   "outputs": [],
   "source": [
    "fig_distance_by_month = px.line(\n",
    "    df_stats_by_month.with_columns(\n",
    "        pl.col(\"distance_avg\").round(1).alias(\"distance_avg_fmt\")\n",
    "    ),\n",
    "    x=\"month\",\n",
    "    y=\"distance_avg\",\n",
    "    text=\"distance_avg_fmt\",\n",
    "    template=\"simple_white\",\n",
    "    labels=labels_map,\n",
    "    title=\"Evolution de la distance moyenne par trajets\",\n",
    ")\n",
    "fig_distance_by_month.update_traces(textposition=\"top center\")\n",
    "fig_distance_by_month.update_yaxes(\n",
    "    range=[0, df_stats_by_month[\"distance_avg\"].max() * 1.1], zeroline=True\n",
    ")\n",
    "fig_distance_by_month.show()"
   ]
  },
  {
   "cell_type": "markdown",
   "id": "aca10301-2ad1-415c-8a3a-80334de26be0",
   "metadata": {},
   "source": [
    "## Prix, revenus et incitations\n"
   ]
  },
  {
   "cell_type": "markdown",
   "id": "eea5e57c-44e3-43dc-bfd0-3ff6b827836d",
   "metadata": {},
   "source": [
    "### Trajets Incités\n"
   ]
  },
  {
   "cell_type": "code",
   "execution_count": null,
   "id": "4f167e63-d0e2-49d3-98cd-111aeb1bf94f",
   "metadata": {
    "execution": {
     "iopub.execute_input": "2025-08-20T08:33:09.811124Z",
     "iopub.status.busy": "2025-08-20T08:33:09.811049Z",
     "iopub.status.idle": "2025-08-20T08:33:09.813674Z",
     "shell.execute_reply": "2025-08-20T08:33:09.813462Z",
     "shell.execute_reply.started": "2025-08-20T08:33:09.811117Z"
    }
   },
   "outputs": [],
   "source": [
    "def create_scatter_fig_prices(\n",
    "    df: pl.DataFrame,\n",
    "    stats_cols: list[str],\n",
    "    x_col: str,\n",
    "    title: str,\n",
    "    labels_map: dict[str, str],\n",
    "    x_title: str = \"Montant (euros)\",\n",
    ") -> go.Figure:\n",
    "    traces = []\n",
    "    for name in stats_cols:\n",
    "        trace = go.Scatter(\n",
    "            x=df[x_col],\n",
    "            y=df[name],\n",
    "            name=labels_map.get(name, name),\n",
    "            mode=\"lines+markers\",\n",
    "            marker_size=4,\n",
    "        )\n",
    "        traces.append(trace)\n",
    "    fig = go.Figure(traces)\n",
    "    fig.update_layout(\n",
    "        template=\"simple_white\",\n",
    "        title=title,\n",
    "        legend_orientation=\"h\",\n",
    "        legend_y=0.7,\n",
    "        legend_yref=\"container\",\n",
    "    )\n",
    "\n",
    "    max_y = df.select(stats_cols).max().max_horizontal().item()\n",
    "\n",
    "    fig.update_yaxes(\n",
    "        range=[0, max_y * 1.2],\n",
    "        title=x_title,\n",
    "        showgrid=True,\n",
    "        gridwidth=2,\n",
    "        ticksuffix=\"€\",\n",
    "    )\n",
    "    fig.update_xaxes(title=\"Mois\" if x_col == \"month\" else \"Semaine\")\n",
    "\n",
    "    return fig"
   ]
  },
  {
   "cell_type": "code",
   "execution_count": null,
   "id": "6093182f-c8e9-4545-a5fb-653ce70736e3",
   "metadata": {
    "execution": {
     "iopub.execute_input": "2025-08-20T08:33:09.814035Z",
     "iopub.status.busy": "2025-08-20T08:33:09.813965Z",
     "iopub.status.idle": "2025-08-20T08:33:11.435226Z",
     "shell.execute_reply": "2025-08-20T08:33:11.434907Z",
     "shell.execute_reply.started": "2025-08-20T08:33:09.814028Z"
    }
   },
   "outputs": [],
   "source": [
    "fig_prices_by_week = create_scatter_fig_prices(\n",
    "    df_stats_by_week,\n",
    "    [\n",
    "        \"incentive_amount_avg\",\n",
    "        \"passenger_contribution_incentived_trips_avg\",\n",
    "        \"driver_revenue_incentived_trips_avg\",\n",
    "    ],\n",
    "    \"week\",\n",
    "    (\n",
    "        \"Montants moyens par trajet des incitations,\"\n",
    "        \"<br>contributions passagers et revenus conducteurs - Trajets incités\"\n",
    "    ),\n",
    "    {\n",
    "        **labels_map,\n",
    "        \"passenger_contribution_incentived_trips_avg\": \"Contribution moyenne passager\",\n",
    "        \"driver_revenue_incentived_trips_avg\": \"Revenu moyen conducteur\",\n",
    "    },\n",
    ")\n",
    "fig_prices_by_week.show()\n",
    "\n",
    "\n",
    "fig_prices_by_week.write_html(OUTPUT_PATH / \"fig_prix_par_semaine.html\")\n",
    "fig_prices_by_week.write_image(\n",
    "    OUTPUT_PATH / \"fig_prix_par_semaine.svg\", width=1280, height=720\n",
    ")"
   ]
  },
  {
   "cell_type": "markdown",
   "id": "78d37df8-589a-475f-b276-22810292780b",
   "metadata": {},
   "source": [
    "#### Intra\n"
   ]
  },
  {
   "cell_type": "code",
   "execution_count": null,
   "id": "ee394865-bad8-458a-b9ff-49a7be464fed",
   "metadata": {
    "execution": {
     "iopub.execute_input": "2025-08-20T08:33:11.435813Z",
     "iopub.status.busy": "2025-08-20T08:33:11.435700Z",
     "iopub.status.idle": "2025-08-20T08:33:12.810281Z",
     "shell.execute_reply": "2025-08-20T08:33:12.809911Z",
     "shell.execute_reply.started": "2025-08-20T08:33:11.435804Z"
    }
   },
   "outputs": [],
   "source": [
    "fig_prices_by_week_intra = create_scatter_fig_prices(\n",
    "    df_stats_by_week,\n",
    "    [\n",
    "        \"incentive_amount_intra_avg\",\n",
    "        \"passenger_contribution_intra_avg\",\n",
    "        \"driver_revenue_intra_avg\",\n",
    "    ],\n",
    "    \"week\",\n",
    "    (\n",
    "        \"Montants moyens par trajet <b>intra</b> des incitations,\"\n",
    "        \"<br>contributions passagers et revenus conducteurs\"\n",
    "    ),\n",
    "    labels_map,\n",
    ")\n",
    "fig_prices_by_week_intra.show()\n",
    "\n",
    "\n",
    "fig_prices_by_week_intra.write_html(OUTPUT_PATH / \"fig_prix_intra_par_semaine.html\")\n",
    "fig_prices_by_week_intra.write_image(\n",
    "    OUTPUT_PATH / \"fig_prix_intra_par_semaine.svg\", width=1280, height=720\n",
    ")"
   ]
  },
  {
   "cell_type": "markdown",
   "id": "c040f65a-2ab6-411b-987d-d89f2f0e3c1d",
   "metadata": {},
   "source": [
    "#### Inter\n"
   ]
  },
  {
   "cell_type": "code",
   "execution_count": null,
   "id": "c8838222-0242-4768-91e1-a83a00659f9b",
   "metadata": {
    "execution": {
     "iopub.execute_input": "2025-08-20T08:33:12.810702Z",
     "iopub.status.busy": "2025-08-20T08:33:12.810628Z",
     "iopub.status.idle": "2025-08-20T08:33:14.245074Z",
     "shell.execute_reply": "2025-08-20T08:33:14.244730Z",
     "shell.execute_reply.started": "2025-08-20T08:33:12.810693Z"
    }
   },
   "outputs": [],
   "source": [
    "fig_prices_by_week_inter = create_scatter_fig_prices(\n",
    "    df_stats_by_week,\n",
    "    [\n",
    "        \"incentive_amount_inter_avg\",\n",
    "        \"passenger_contribution_inter_avg\",\n",
    "        \"driver_revenue_inter_avg\",\n",
    "    ],\n",
    "    \"week\",\n",
    "    (\n",
    "        \"Montants moyens par trajet <b>inter</b> des incitations,\"\n",
    "        \"<br>contributions passagers et revenus conducteurs\"\n",
    "    ),\n",
    "    labels_map,\n",
    ")\n",
    "fig_prices_by_week_inter.show()\n",
    "\n",
    "\n",
    "fig_prices_by_week_inter.write_html(OUTPUT_PATH / \"fig_prix_inter_par_semaine.html\")\n",
    "fig_prices_by_week_inter.write_image(\n",
    "    OUTPUT_PATH / \"fig_prix_inter_par_semaine.svg\", width=1280, height=720\n",
    ")"
   ]
  },
  {
   "cell_type": "markdown",
   "id": "6c7bddb0-9a3e-418f-9021-6d2baffd2363",
   "metadata": {},
   "source": [
    "#### Au kilomètre\n"
   ]
  },
  {
   "cell_type": "code",
   "execution_count": null,
   "id": "ecc2db09-9d74-4a39-b1cf-df0bc87c9427",
   "metadata": {
    "execution": {
     "iopub.execute_input": "2025-08-20T08:36:32.300255Z",
     "iopub.status.busy": "2025-08-20T08:36:32.299699Z",
     "iopub.status.idle": "2025-08-20T08:36:33.719480Z",
     "shell.execute_reply": "2025-08-20T08:36:33.719121Z",
     "shell.execute_reply.started": "2025-08-20T08:36:32.300218Z"
    }
   },
   "outputs": [],
   "source": [
    "fig_prices_per_km_by_week = create_scatter_fig_prices(\n",
    "    df_stats_by_week,\n",
    "    [\n",
    "        \"incentive_amount_per_km_avg\",\n",
    "        \"passenger_contribution_per_km_incentived_trips_avg\",\n",
    "        \"driver_revenue_per_km_incentived_trips_avg\",\n",
    "    ],\n",
    "    \"week\",\n",
    "    (\n",
    "        \"Montants moyens <b>par km</b> des incitations,\"\n",
    "        \"contributions passagers et revenus conducteurs\"\n",
    "        \"<br><sub>Uniquement les trajets incités</sub>\"\n",
    "    ),\n",
    "    {\n",
    "        **labels_map,\n",
    "        \"incentive_amount_per_km_avg\": \"Incitation moyenne\",\n",
    "        \"passenger_contribution_per_km_incentived_trips_avg\": \"Contribution moyenne passager\",\n",
    "        \"driver_revenue_per_km_incentived_trips_avg\": \"Revenu moyen conducteur\",\n",
    "    },\n",
    "    x_title=\"Montant (euros/km)\",\n",
    ")\n",
    "fig_prices_per_km_by_week.show()\n",
    "\n",
    "\n",
    "fig_prices_per_km_by_week.write_html(OUTPUT_PATH / \"fig_prix_par_km_par_semaine.html\")\n",
    "fig_prices_per_km_by_week.write_image(\n",
    "    OUTPUT_PATH / \"fig_prix_par_km_par_semaine.svg\", width=1280, height=720\n",
    ")"
   ]
  },
  {
   "cell_type": "markdown",
   "id": "1efd5338-5202-4659-b096-a0304c6572c7",
   "metadata": {},
   "source": [
    "### Incitation par rapport à la distance\n"
   ]
  },
  {
   "cell_type": "code",
   "execution_count": null,
   "id": "4cbdba39-c22d-4bdc-9472-7877cf902071",
   "metadata": {
    "execution": {
     "iopub.execute_input": "2025-08-20T08:33:15.709834Z",
     "iopub.status.busy": "2025-08-20T08:33:15.709755Z",
     "iopub.status.idle": "2025-08-20T08:33:16.087682Z",
     "shell.execute_reply": "2025-08-20T08:33:16.087467Z",
     "shell.execute_reply.started": "2025-08-20T08:33:15.709825Z"
    }
   },
   "outputs": [],
   "source": [
    "px.scatter(\n",
    "    df_journeys.filter(\n",
    "        pl.col(\"amount_aom\").is_not_null()\n",
    "        & (pl.col(\"incentive_sirets\") == [AOM_SIRET])\n",
    "        & (pl.col(\"is_fully_inside_campaign_area\").not_())\n",
    "    )\n",
    "    .with_columns(pl.col(\"distance\") / 1000)\n",
    "    .unpivot(\n",
    "        on=[\"amount_aom\", \"passenger_contribution\", \"driver_revenue\"],\n",
    "        index=[\"_id\", \"distance\"],\n",
    "    )\n",
    "    .sort(\"distance\"),\n",
    "    x=\"distance\",\n",
    "    y=\"value\",\n",
    "    color=\"variable\",\n",
    "    template=\"simple_white\",\n",
    ")"
   ]
  },
  {
   "cell_type": "code",
   "execution_count": null,
   "id": "fc5f1645-b943-48e3-9ab9-3d95beebe0e3",
   "metadata": {
    "execution": {
     "iopub.execute_input": "2025-08-20T08:33:16.088223Z",
     "iopub.status.busy": "2025-08-20T08:33:16.088107Z",
     "iopub.status.idle": "2025-08-20T08:33:16.668867Z",
     "shell.execute_reply": "2025-08-20T08:33:16.668469Z",
     "shell.execute_reply.started": "2025-08-20T08:33:16.088215Z"
    }
   },
   "outputs": [],
   "source": [
    "df_incentive_aom_by_distance = (\n",
    "    df_journeys.filter(\n",
    "        (pl.col(\"incentive_sirets\") == [AOM_SIRET])\n",
    "        & (pl.col(\"is_fully_inside_campaign_area\"))\n",
    "    )\n",
    "    .with_columns(\n",
    "        pl.col(\"distance\") / 1000,\n",
    "        pl.col(\"driver_revenue\")\n",
    "        .cum_sum()\n",
    "        .over(\n",
    "            partition_by=[\n",
    "                \"driver_identity_key\",\n",
    "                pl.col(\"start_datetime\").dt.truncate(\"1mo\"),\n",
    "            ],\n",
    "            order_by=\"start_datetime\",\n",
    "        )\n",
    "        .alias(\"driver_revenue_cumsum\"),\n",
    "    )\n",
    "    .filter(pl.col(\"driver_revenue_cumsum\") <= 5000)\n",
    "    .group_by(\n",
    "        [\n",
    "            pl.col(\"distance\").cut(\n",
    "                list(range(0, 100, 5)), include_breaks=True, left_closed=True\n",
    "            ),\n",
    "        ]\n",
    "    )\n",
    "    .agg(\n",
    "        pl.len(),\n",
    "        (pl.col(\"amount_aom\") / 100).mean().alias(\"Incitation AOM\"),\n",
    "        (pl.col(\"passenger_contribution\") / 100).alias(\"Contribution passager\").mean(),\n",
    "        (pl.col(\"driver_revenue\") / 100).alias(\"Revenu conducteur\").mean(),\n",
    "    )\n",
    "    .with_columns(pl.col(\"distance\").struct.unnest())\n",
    "    .unpivot(\n",
    "        on=[\"Incitation AOM\", \"Contribution passager\", \"Revenu conducteur\"],\n",
    "        index=[\n",
    "            \"breakpoint\",\n",
    "            \"category\",\n",
    "        ],\n",
    "    )\n",
    "    .sort([\"breakpoint\"])\n",
    ")"
   ]
  },
  {
   "cell_type": "code",
   "execution_count": null,
   "id": "a4837363-c0aa-40c3-a375-fc982aaaafa8",
   "metadata": {
    "execution": {
     "iopub.execute_input": "2025-08-20T08:33:16.669459Z",
     "iopub.status.busy": "2025-08-20T08:33:16.669349Z",
     "iopub.status.idle": "2025-08-20T08:33:18.276823Z",
     "shell.execute_reply": "2025-08-20T08:33:18.276479Z",
     "shell.execute_reply.started": "2025-08-20T08:33:16.669450Z"
    }
   },
   "outputs": [],
   "source": [
    "fig_incentive_aom_by_distance = px.line(\n",
    "    df_incentive_aom_by_distance,\n",
    "    x=\"breakpoint\",\n",
    "    y=\"value\",\n",
    "    color=\"variable\",\n",
    "    template=\"simple_white\",\n",
    "    height=800,\n",
    "    labels={**labels_map, \"breakpoint\": \"Distance\", \"value\": \"Montant (€)\"},\n",
    ")\n",
    "\n",
    "fig_incentive_aom_by_distance.update_layout(\n",
    "    legend_title=\"\",\n",
    "    title=\"Montants moyens du revenu conducteur, contribution passager et incitation AOM en fonction de la distance\"\n",
    "    \"<br><sub>Uniquement les trajets inter, intervalles de distance de 5km.</sub>\",\n",
    ")\n",
    "fig_incentive_aom_by_distance.show()\n",
    "\n",
    "fig_incentive_aom_by_distance.write_html(\n",
    "    \"outputs_idfm/fig_incitation_aom_par_distance.html\"\n",
    ")\n",
    "fig_incentive_aom_by_distance.write_image(\n",
    "    \"outputs_idfm/fig_incitation_aom_par_distance.svg\", width=1280, height=720\n",
    ")"
   ]
  },
  {
   "cell_type": "markdown",
   "id": "7c473f28-64e0-4ccf-a186-6e6d0c496660",
   "metadata": {},
   "source": [
    "# Conducteurs\n"
   ]
  },
  {
   "cell_type": "code",
   "execution_count": null,
   "id": "d36e2ec7-4862-4e09-b5bf-d0bce83d89dd",
   "metadata": {
    "execution": {
     "iopub.execute_input": "2025-08-20T09:07:18.069114Z",
     "iopub.status.busy": "2025-08-20T09:07:18.068313Z",
     "iopub.status.idle": "2025-08-20T09:07:18.465980Z",
     "shell.execute_reply": "2025-08-20T09:07:18.465748Z",
     "shell.execute_reply.started": "2025-08-20T09:07:18.069058Z"
    }
   },
   "outputs": [],
   "source": [
    "print(\n",
    "    f\"Nombre de conducteurs uniques : {\n",
    "        df_journeys_raw.select(pl.col('driver_identity_key').n_unique()).item()\n",
    "    }\"\n",
    ")"
   ]
  },
  {
   "cell_type": "markdown",
   "id": "9618a7ad-692b-4bde-918b-c3d24823bc26",
   "metadata": {},
   "source": [
    "# Passagers\n"
   ]
  },
  {
   "cell_type": "code",
   "execution_count": null,
   "id": "d7a0930c-d0c3-46ee-a1ab-104045f286a2",
   "metadata": {
    "execution": {
     "iopub.execute_input": "2025-08-20T09:06:54.113709Z",
     "iopub.status.busy": "2025-08-20T09:06:54.109887Z",
     "iopub.status.idle": "2025-08-20T09:06:54.333819Z",
     "shell.execute_reply": "2025-08-20T09:06:54.333359Z",
     "shell.execute_reply.started": "2025-08-20T09:06:54.113467Z"
    }
   },
   "outputs": [],
   "source": [
    "print(\n",
    "    f\"Nombre de passagers uniques : {\n",
    "        df_journeys_raw.select(pl.col('passenger_identity_key').n_unique()).item()\n",
    "    }\"\n",
    ")"
   ]
  },
  {
   "cell_type": "markdown",
   "id": "e790ee53-f4e2-49e1-9799-61086dd05c4a",
   "metadata": {},
   "source": [
    "## Pass Navigo\n"
   ]
  },
  {
   "cell_type": "code",
   "execution_count": null,
   "id": "44877200-5bff-44d9-bed8-011a50b88fff",
   "metadata": {
    "execution": {
     "iopub.execute_input": "2025-08-20T09:14:58.408850Z",
     "iopub.status.busy": "2025-08-20T09:14:58.408341Z",
     "iopub.status.idle": "2025-08-20T09:14:58.494625Z",
     "shell.execute_reply": "2025-08-20T09:14:58.494244Z",
     "shell.execute_reply.started": "2025-08-20T09:14:58.408812Z"
    }
   },
   "outputs": [],
   "source": [
    "df_passengers_navigo = df_journeys_raw.group_by(\"passenger_identity_key\").agg(\n",
    "    pl.col(\"passenger_travelpass_name\").max(),\n",
    "    pl.col(\"passenger_travelpass_user_id\").max(),\n",
    ")\n",
    "df_passengers_navigo"
   ]
  },
  {
   "cell_type": "code",
   "execution_count": null,
   "id": "0caef737-63d5-42df-8b15-965ea1c0cfd9",
   "metadata": {
    "execution": {
     "iopub.execute_input": "2025-08-20T09:22:47.864555Z",
     "iopub.status.busy": "2025-08-20T09:22:47.864093Z",
     "iopub.status.idle": "2025-08-20T09:22:47.870734Z",
     "shell.execute_reply": "2025-08-20T09:22:47.869733Z",
     "shell.execute_reply.started": "2025-08-20T09:22:47.864523Z"
    }
   },
   "outputs": [],
   "source": [
    "f\"Nombre de passagers avec un pass navigo : {\n",
    "    df_passengers_navigo.select(\n",
    "        pl.col('passenger_travelpass_user_id').is_not_null().sum()\n",
    "    ).item()\n",
    "}\""
   ]
  },
  {
   "cell_type": "markdown",
   "id": "795cfe05-9752-452c-b3fc-4fbf822e7682",
   "metadata": {},
   "source": [
    "**NOTE** : J'ai identifié que il n'y a pas de trajets avec le pass navigo renseigné depuis septembre 2020 si on exclut 9 trajets en 2025\n"
   ]
  },
  {
   "cell_type": "markdown",
   "id": "60d6f1f6-1ede-47da-9e27-8bd1869090a1",
   "metadata": {},
   "source": [
    "# Autour des gares\n"
   ]
  },
  {
   "cell_type": "markdown",
   "id": "460fe52d-6713-4130-945a-ec3e7932f657",
   "metadata": {},
   "source": [
    "## Transformations spatiales\n"
   ]
  },
  {
   "cell_type": "code",
   "execution_count": null,
   "id": "fce9442a-1657-44bb-a299-79bed427d8e1",
   "metadata": {
    "execution": {
     "iopub.execute_input": "2025-08-20T13:11:07.572140Z",
     "iopub.status.busy": "2025-08-20T13:11:07.569578Z",
     "iopub.status.idle": "2025-08-20T13:11:07.692044Z",
     "shell.execute_reply": "2025-08-20T13:11:07.691715Z",
     "shell.execute_reply.started": "2025-08-20T13:11:07.572099Z"
    }
   },
   "outputs": [],
   "source": [
    "%%sql\n",
    "FROM\n",
    "  (DESCRIBE gares_idfm)"
   ]
  },
  {
   "cell_type": "code",
   "execution_count": null,
   "id": "e47358b4-7a04-4180-b8e0-0725f6dc6b56",
   "metadata": {
    "execution": {
     "iopub.execute_input": "2025-08-20T13:11:07.835156Z",
     "iopub.status.busy": "2025-08-20T13:11:07.834938Z",
     "iopub.status.idle": "2025-08-20T13:11:29.741841Z",
     "shell.execute_reply": "2025-08-20T13:11:29.741339Z",
     "shell.execute_reply.started": "2025-08-20T13:11:07.835143Z"
    }
   },
   "outputs": [],
   "source": [
    "conn.sql(\n",
    "    \"\"\"\n",
    "create or replace table journeys_raw_with_stations_start as (\n",
    "SELECT\n",
    "      jr.\"_id\",\n",
    "      jr.start_pos,\n",
    "      jr.end_pos,\n",
    "      g.id_gares as id_gares_start,\n",
    "      g.nom_gares as nom_gares_start,\n",
    "      g.mode as mode_start,\n",
    "      g.geom as geom_start,\n",
    "      ST_DISTANCE(jr.start_pos,g.geom) as distance_to_station_start,\n",
    "      ST_DISTANCE_SPHERE(jr.start_pos,g.geom) as distance_to_station_sphere_start,\n",
    "      ST_Distance_Spheroid(jr.start_pos,g.geom) as distance_to_station_spheroid_start\n",
    "  FROM journeys_raw jr\n",
    "  left join gares_idfm g on ST_DWithin(jr.start_pos,g.geom,0.1)\n",
    ")\n",
    "\n",
    "    \"\"\"\n",
    ")"
   ]
  },
  {
   "cell_type": "code",
   "execution_count": null,
   "id": "eb5a0943-2f40-4bb1-8f9c-795e03f90d05",
   "metadata": {
    "execution": {
     "iopub.execute_input": "2025-08-20T13:11:29.868169Z",
     "iopub.status.busy": "2025-08-20T13:11:29.868049Z",
     "iopub.status.idle": "2025-08-20T13:14:00.654386Z",
     "shell.execute_reply": "2025-08-20T13:14:00.652044Z",
     "shell.execute_reply.started": "2025-08-20T13:11:29.868161Z"
    }
   },
   "outputs": [],
   "source": [
    "conn.sql(\n",
    "    \"\"\"\n",
    "create or replace table journeys_raw_with_nearest_stations_start as (\n",
    "SELECT\n",
    "      *\n",
    "FROM journeys_raw_with_stations_start\n",
    "qualify (row_number() over (partition by \"_id\" order by distance_to_station_sphere_start asc nulls last))=1\n",
    ")\n",
    "    \"\"\"\n",
    ")"
   ]
  },
  {
   "cell_type": "code",
   "execution_count": null,
   "id": "63ac56fb-0ed3-47ef-aa00-85b4351c42cf",
   "metadata": {
    "execution": {
     "iopub.execute_input": "2025-08-20T13:14:00.660411Z",
     "iopub.status.busy": "2025-08-20T13:14:00.660192Z",
     "iopub.status.idle": "2025-08-20T13:14:00.721605Z",
     "shell.execute_reply": "2025-08-20T13:14:00.721352Z",
     "shell.execute_reply.started": "2025-08-20T13:14:00.660400Z"
    }
   },
   "outputs": [],
   "source": [
    "%%sql\n",
    "DROP TABLE journeys_raw_with_stations_start"
   ]
  },
  {
   "cell_type": "code",
   "execution_count": null,
   "id": "9fa29991-ed84-498c-ac25-f0f2ecf54fc0",
   "metadata": {
    "execution": {
     "iopub.execute_input": "2025-08-20T13:14:00.722758Z",
     "iopub.status.busy": "2025-08-20T13:14:00.722676Z",
     "iopub.status.idle": "2025-08-20T13:14:00.754722Z",
     "shell.execute_reply": "2025-08-20T13:14:00.754476Z",
     "shell.execute_reply.started": "2025-08-20T13:14:00.722751Z"
    }
   },
   "outputs": [],
   "source": [
    "%sql CHECKPOINT"
   ]
  },
  {
   "cell_type": "code",
   "execution_count": null,
   "id": "d2e9c5f4-7bbd-4888-89fd-74fb4271428c",
   "metadata": {
    "execution": {
     "iopub.execute_input": "2025-08-20T13:14:00.755157Z",
     "iopub.status.busy": "2025-08-20T13:14:00.755079Z",
     "iopub.status.idle": "2025-08-20T13:14:00.775779Z",
     "shell.execute_reply": "2025-08-20T13:14:00.775559Z",
     "shell.execute_reply.started": "2025-08-20T13:14:00.755150Z"
    }
   },
   "outputs": [],
   "source": [
    "%%sql\n",
    "SELECT\n",
    "  COUNT(*)\n",
    "FROM\n",
    "  journeys_raw_with_nearest_stations_start"
   ]
  },
  {
   "cell_type": "code",
   "execution_count": null,
   "id": "89ce34ba-9b46-456c-808a-d427b79d1cb9",
   "metadata": {
    "execution": {
     "iopub.execute_input": "2025-08-20T13:14:00.777429Z",
     "iopub.status.busy": "2025-08-20T13:14:00.777317Z",
     "iopub.status.idle": "2025-08-20T13:14:00.797067Z",
     "shell.execute_reply": "2025-08-20T13:14:00.796626Z",
     "shell.execute_reply.started": "2025-08-20T13:14:00.777420Z"
    }
   },
   "outputs": [],
   "source": [
    "%%sql\n",
    "FROM\n",
    "  (DESCRIBE journeys_raw_with_nearest_stations_start)"
   ]
  },
  {
   "cell_type": "code",
   "execution_count": null,
   "id": "49c7c292-c274-4bbe-a44d-a0c0348d9c00",
   "metadata": {
    "execution": {
     "iopub.execute_input": "2025-08-20T13:14:00.797422Z",
     "iopub.status.busy": "2025-08-20T13:14:00.797360Z",
     "iopub.status.idle": "2025-08-20T13:14:29.053761Z",
     "shell.execute_reply": "2025-08-20T13:14:29.053152Z",
     "shell.execute_reply.started": "2025-08-20T13:14:00.797415Z"
    }
   },
   "outputs": [],
   "source": [
    "conn.sql(\n",
    "    \"\"\"\n",
    "create or replace table journeys_raw_with_stations_end as (\n",
    "SELECT\n",
    "      jr.*,\n",
    "      g.id_gares as id_gares_end,\n",
    "      g.nom_gares as nom_gares_end,\n",
    "      g.mode as mode_end,\n",
    "      g.geom as geom_end,\n",
    "      ST_DISTANCE(jr.end_pos,g.geom) as distance_to_station_end,\n",
    "      ST_DISTANCE_SPHERE(jr.end_pos,g.geom) as distance_to_station_sphere_end,\n",
    "      ST_Distance_Spheroid(jr.end_pos,g.geom) as distance_to_station_spheroid_end\n",
    "  FROM journeys_raw_with_nearest_stations_start jr\n",
    "  left join gares_idfm g on ST_DWithin(jr.end_pos,g.geom,0.1)\n",
    ")\n",
    "\"\"\"\n",
    ")"
   ]
  },
  {
   "cell_type": "code",
   "execution_count": null,
   "id": "f751da07-8072-4cca-89f5-7884c25820b4",
   "metadata": {
    "execution": {
     "iopub.execute_input": "2025-08-20T13:14:29.054767Z",
     "iopub.status.busy": "2025-08-20T13:14:29.054596Z",
     "iopub.status.idle": "2025-08-20T13:14:29.085987Z",
     "shell.execute_reply": "2025-08-20T13:14:29.085720Z",
     "shell.execute_reply.started": "2025-08-20T13:14:29.054753Z"
    },
    "scrolled": true
   },
   "outputs": [],
   "source": [
    "%%sql\n",
    "SELECT\n",
    "  COUNT(*)\n",
    "FROM\n",
    "  journeys_raw_with_stations_end"
   ]
  },
  {
   "cell_type": "code",
   "execution_count": null,
   "id": "2cd923fc-e7bc-4cfb-8582-ba09bab42746",
   "metadata": {
    "execution": {
     "iopub.execute_input": "2025-08-20T13:14:29.088006Z",
     "iopub.status.busy": "2025-08-20T13:14:29.087888Z",
     "iopub.status.idle": "2025-08-20T13:14:29.108389Z",
     "shell.execute_reply": "2025-08-20T13:14:29.108115Z",
     "shell.execute_reply.started": "2025-08-20T13:14:29.087997Z"
    }
   },
   "outputs": [],
   "source": [
    "%%sql\n",
    "DROP TABLE journeys_raw_with_nearest_stations_start"
   ]
  },
  {
   "cell_type": "code",
   "execution_count": null,
   "id": "858f5ff1-bdca-4b8b-9db4-72bc6ede42e2",
   "metadata": {
    "execution": {
     "iopub.execute_input": "2025-08-20T13:14:29.108860Z",
     "iopub.status.busy": "2025-08-20T13:14:29.108774Z",
     "iopub.status.idle": "2025-08-20T13:14:29.227223Z",
     "shell.execute_reply": "2025-08-20T13:14:29.227009Z",
     "shell.execute_reply.started": "2025-08-20T13:14:29.108853Z"
    }
   },
   "outputs": [],
   "source": [
    "%%sql\n",
    "checkpoint"
   ]
  },
  {
   "cell_type": "code",
   "execution_count": null,
   "id": "5c483db8-46ba-4fbc-8474-50596e6bed22",
   "metadata": {
    "execution": {
     "iopub.execute_input": "2025-08-20T13:14:29.230833Z",
     "iopub.status.busy": "2025-08-20T13:14:29.227643Z",
     "iopub.status.idle": "2025-08-20T13:16:59.370857Z",
     "shell.execute_reply": "2025-08-20T13:16:59.368974Z",
     "shell.execute_reply.started": "2025-08-20T13:14:29.230820Z"
    }
   },
   "outputs": [],
   "source": [
    "conn.sql(\n",
    "    \"\"\"\n",
    "create or replace table journeys_raw_with_nearest_stations as (\n",
    "SELECT\n",
    "      *\n",
    "FROM journeys_raw_with_stations_end\n",
    "qualify (row_number() over (partition by \"_id\" order by distance_to_station_sphere_end asc nulls last))=1\n",
    ")\n",
    "    \"\"\"\n",
    ")"
   ]
  },
  {
   "cell_type": "code",
   "execution_count": null,
   "id": "9344893d-19a3-4cca-9681-c18d054cadb4",
   "metadata": {
    "execution": {
     "iopub.execute_input": "2025-08-20T13:16:59.375829Z",
     "iopub.status.busy": "2025-08-20T13:16:59.375428Z",
     "iopub.status.idle": "2025-08-20T13:16:59.479712Z",
     "shell.execute_reply": "2025-08-20T13:16:59.479475Z",
     "shell.execute_reply.started": "2025-08-20T13:16:59.375816Z"
    }
   },
   "outputs": [],
   "source": [
    "%%sql \n",
    "DROP TABLE journeys_raw_with_stations_end"
   ]
  },
  {
   "cell_type": "code",
   "execution_count": null,
   "id": "4a6cbd98-cd63-4e7a-aba7-da882d3733b2",
   "metadata": {
    "execution": {
     "iopub.execute_input": "2025-08-20T13:16:59.480308Z",
     "iopub.status.busy": "2025-08-20T13:16:59.480142Z",
     "iopub.status.idle": "2025-08-20T13:16:59.495666Z",
     "shell.execute_reply": "2025-08-20T13:16:59.495455Z",
     "shell.execute_reply.started": "2025-08-20T13:16:59.480298Z"
    }
   },
   "outputs": [],
   "source": [
    "%%sql\n",
    "SELECT\n",
    "  COUNT(*)\n",
    "FROM\n",
    "  journeys_raw_with_nearest_stations"
   ]
  },
  {
   "cell_type": "code",
   "execution_count": null,
   "id": "a6e4223a-6e0e-40fe-8f3f-4571b0ef84a4",
   "metadata": {
    "execution": {
     "iopub.execute_input": "2025-08-20T13:16:59.496304Z",
     "iopub.status.busy": "2025-08-20T13:16:59.496137Z",
     "iopub.status.idle": "2025-08-20T13:16:59.511562Z",
     "shell.execute_reply": "2025-08-20T13:16:59.511311Z",
     "shell.execute_reply.started": "2025-08-20T13:16:59.496294Z"
    }
   },
   "outputs": [],
   "source": [
    "%%sql\n",
    "FROM\n",
    "  (DESCRIBE journeys_raw_with_nearest_stations)"
   ]
  },
  {
   "cell_type": "code",
   "execution_count": null,
   "id": "946f3b6b-11c4-4142-a63c-e951bce9d1ee",
   "metadata": {
    "execution": {
     "iopub.execute_input": "2025-08-21T10:04:04.390399Z",
     "iopub.status.busy": "2025-08-21T10:04:04.388261Z",
     "iopub.status.idle": "2025-08-21T10:04:06.932851Z",
     "shell.execute_reply": "2025-08-21T10:04:06.932129Z",
     "shell.execute_reply.started": "2025-08-21T10:04:04.390313Z"
    }
   },
   "outputs": [],
   "source": [
    "%%sql df_journeys_raw_with_nearest_stations <<\n",
    "SELECT\n",
    "  *,\n",
    "  ST_AsText(start_pos) as start_pos_wkt,\n",
    "  ST_AsText(end_pos) as end_pos_wkt,\n",
    "  ST_AsText (geom_start) AS geom_start_wkt,\n",
    "  ST_AsText (geom_end) AS geom_end_wkt\n",
    "FROM\n",
    "  journeys_raw_with_nearest_stations"
   ]
  },
  {
   "cell_type": "code",
   "execution_count": null,
   "id": "64bf81db-440c-4733-8015-6924b9530514",
   "metadata": {
    "execution": {
     "iopub.execute_input": "2025-08-21T10:04:07.553405Z",
     "iopub.status.busy": "2025-08-21T10:04:07.552761Z",
     "iopub.status.idle": "2025-08-21T10:04:07.648310Z",
     "shell.execute_reply": "2025-08-21T10:04:07.647999Z",
     "shell.execute_reply.started": "2025-08-21T10:04:07.553344Z"
    }
   },
   "outputs": [],
   "source": [
    "df_journeys_raw_with_nearest_stations = (\n",
    "    df_journeys_raw_with_nearest_stations.with_columns(\n",
    "        pl.selectors.starts_with(\"distance_to_station\").fill_null(float(\"+inf\"))\n",
    "    )\n",
    ")"
   ]
  },
  {
   "cell_type": "markdown",
   "id": "83730f5f-f97e-47b1-8571-5ec3af098184",
   "metadata": {},
   "source": [
    "## Distribution des distances à la gare la plus proche\n"
   ]
  },
  {
   "cell_type": "markdown",
   "id": "49a50a5b-7224-4e69-8177-aa7a698a83d1",
   "metadata": {
    "execution": {
     "iopub.execute_input": "2025-08-14T09:22:39.447979Z",
     "iopub.status.busy": "2025-08-14T09:22:39.447056Z",
     "iopub.status.idle": "2025-08-14T09:22:39.452813Z",
     "shell.execute_reply": "2025-08-14T09:22:39.451483Z",
     "shell.execute_reply.started": "2025-08-14T09:22:39.447940Z"
    }
   },
   "source": [
    "### Point de départ\n"
   ]
  },
  {
   "cell_type": "code",
   "execution_count": null,
   "id": "8d8b79e3-85b3-42db-8647-8716e24245a5",
   "metadata": {
    "execution": {
     "iopub.execute_input": "2025-08-21T10:04:18.218969Z",
     "iopub.status.busy": "2025-08-21T10:04:18.215279Z",
     "iopub.status.idle": "2025-08-21T10:04:18.543948Z",
     "shell.execute_reply": "2025-08-21T10:04:18.543665Z",
     "shell.execute_reply.started": "2025-08-21T10:04:18.218842Z"
    }
   },
   "outputs": [],
   "source": [
    "breaks = [100, 200, 500] + list(range(1000, 11000, 1000))\n",
    "\n",
    "df_journeys_count_by_distance_to_nearest_station_start = (\n",
    "    df_journeys_raw_with_nearest_stations.group_by(\n",
    "        pl.col(\"distance_to_station_spheroid_start\").cut(\n",
    "            breaks=breaks, include_breaks=True\n",
    "        )\n",
    "    )\n",
    "    .agg(pl.col(\"_id\").n_unique().alias(\"num_journeys\"))\n",
    "    .with_columns(\n",
    "        (pl.col(\"num_journeys\") / pl.col(\"num_journeys\").sum()).alias(\"share_journeys\"),\n",
    "        pl.col(\"distance_to_station_spheroid_start\").struct.unnest(),\n",
    "    )\n",
    "    .with_columns(\n",
    "        pl.format(\"{}%\", (100 * pl.col(\"share_journeys\")).round(2)).alias(\n",
    "            \"share_journeys_fmt\"\n",
    "        )\n",
    "    )\n",
    "    .sort(\"category\")\n",
    ")"
   ]
  },
  {
   "cell_type": "code",
   "execution_count": null,
   "id": "cb778ea2-5f26-4b35-bbea-7de445335b87",
   "metadata": {
    "execution": {
     "iopub.execute_input": "2025-08-21T10:04:20.551685Z",
     "iopub.status.busy": "2025-08-21T10:04:20.551087Z",
     "iopub.status.idle": "2025-08-21T10:04:20.605572Z",
     "shell.execute_reply": "2025-08-21T10:04:20.605265Z",
     "shell.execute_reply.started": "2025-08-21T10:04:20.551643Z"
    }
   },
   "outputs": [],
   "source": [
    "px.bar(\n",
    "    df_journeys_count_by_distance_to_nearest_station_start,\n",
    "    x=\"category\",\n",
    "    y=\"num_journeys\",\n",
    "    text=\"share_journeys_fmt\",\n",
    "    labels={**labels_map, \"category\": \"Catégorie de distance (en mètres)\"},\n",
    "    template=\"simple_white\",\n",
    "    title=\"Distribution du nombre de trajets en fonction de la distance à la gare RER/Transilien la plus proche\"\n",
    "    \"<br><sub>Par rapport au point de départ du trajet</sub>\",\n",
    ")"
   ]
  },
  {
   "cell_type": "markdown",
   "id": "12c1aeff-4429-440f-a2ad-333e4e0cec46",
   "metadata": {
    "execution": {
     "iopub.execute_input": "2025-08-14T09:22:39.447979Z",
     "iopub.status.busy": "2025-08-14T09:22:39.447056Z",
     "iopub.status.idle": "2025-08-14T09:22:39.452813Z",
     "shell.execute_reply": "2025-08-14T09:22:39.451483Z",
     "shell.execute_reply.started": "2025-08-14T09:22:39.447940Z"
    }
   },
   "source": [
    "### Point d'arrivée\n"
   ]
  },
  {
   "cell_type": "code",
   "execution_count": null,
   "id": "94258563-02d6-4e10-9c55-e44a17fe02c0",
   "metadata": {
    "execution": {
     "iopub.execute_input": "2025-08-21T10:04:28.521701Z",
     "iopub.status.busy": "2025-08-21T10:04:28.518821Z",
     "iopub.status.idle": "2025-08-21T10:04:28.807493Z",
     "shell.execute_reply": "2025-08-21T10:04:28.807124Z",
     "shell.execute_reply.started": "2025-08-21T10:04:28.521602Z"
    }
   },
   "outputs": [],
   "source": [
    "df_journeys_count_by_distance_to_nearest_station_end = (\n",
    "    df_journeys_raw_with_nearest_stations.group_by(\n",
    "        pl.col(\"distance_to_station_spheroid_end\").cut(\n",
    "            breaks=[100, 200, 500] + list(range(1000, 11000, 1000)), include_breaks=True\n",
    "        )\n",
    "    )\n",
    "    .agg(pl.col(\"_id\").n_unique().alias(\"num_journeys\"))\n",
    "    .with_columns(\n",
    "        (pl.col(\"num_journeys\") / pl.col(\"num_journeys\").sum()).alias(\"share_journeys\"),\n",
    "        pl.col(\"distance_to_station_spheroid_end\").struct.unnest(),\n",
    "    )\n",
    "    .with_columns(\n",
    "        pl.format(\"{}%\", (100 * pl.col(\"share_journeys\")).round(2)).alias(\n",
    "            \"share_journeys_fmt\"\n",
    "        )\n",
    "    )\n",
    "    .sort(\"category\")\n",
    ")"
   ]
  },
  {
   "cell_type": "code",
   "execution_count": null,
   "id": "e25a056f-e253-49d5-802d-7c7dff45ae37",
   "metadata": {
    "execution": {
     "iopub.execute_input": "2025-08-21T10:04:31.993742Z",
     "iopub.status.busy": "2025-08-21T10:04:31.993528Z",
     "iopub.status.idle": "2025-08-21T10:04:32.025809Z",
     "shell.execute_reply": "2025-08-21T10:04:32.025507Z",
     "shell.execute_reply.started": "2025-08-21T10:04:31.993726Z"
    }
   },
   "outputs": [],
   "source": [
    "px.bar(\n",
    "    df_journeys_count_by_distance_to_nearest_station_end,\n",
    "    x=\"category\",\n",
    "    y=\"num_journeys\",\n",
    "    text=\"share_journeys_fmt\",\n",
    "    labels={**labels_map, \"category\": \"Catégorie de distance (en mètres)\"},\n",
    "    template=\"simple_white\",\n",
    "    title=\"Distribution du nombre de trajets en fonction de la distance à la gare RER/Transilien la plus proche\"\n",
    "    \"<br><sub>Par rapport au point d'arrivée du trajet</sub>\",\n",
    ")"
   ]
  },
  {
   "cell_type": "markdown",
   "id": "b0d0d9da-33bb-44cf-bb2d-8d754ee94a82",
   "metadata": {},
   "source": [
    "## Origine et destination\n"
   ]
  },
  {
   "cell_type": "code",
   "execution_count": null,
   "id": "a3e8e828-0de3-468b-b5f6-325ab6312dcd",
   "metadata": {
    "execution": {
     "iopub.execute_input": "2025-08-21T10:04:45.745157Z",
     "iopub.status.busy": "2025-08-21T10:04:45.743034Z",
     "iopub.status.idle": "2025-08-21T10:04:46.003212Z",
     "shell.execute_reply": "2025-08-21T10:04:46.002880Z",
     "shell.execute_reply.started": "2025-08-21T10:04:45.745046Z"
    }
   },
   "outputs": [],
   "source": [
    "breaks = [100, 200, 500] + list(range(1000, 11000, 1000))\n",
    "df_journeys_count_by_distance_to_nearest_station = (\n",
    "    df_journeys_raw_with_nearest_stations.with_columns(\n",
    "        pl.max_horizontal(\n",
    "            [\"distance_to_station_spheroid_start\", \"distance_to_station_spheroid_end\"]\n",
    "        ).alias(\"max_distance_to_nearest_station\")\n",
    "    )\n",
    "    .group_by(\n",
    "        pl.col(\"max_distance_to_nearest_station\").cut(\n",
    "            breaks=[100, 200, 500] + list(range(1000, 11000, 1000)), include_breaks=True\n",
    "        )\n",
    "    )\n",
    "    .agg(pl.col(\"_id\").n_unique().alias(\"num_journeys\"))\n",
    "    .with_columns(\n",
    "        (pl.col(\"num_journeys\") / pl.col(\"num_journeys\").sum()).alias(\"share_journeys\"),\n",
    "        pl.col(\"max_distance_to_nearest_station\").struct.unnest(),\n",
    "    )\n",
    "    .with_columns(\n",
    "        pl.format(\"{}%\", (100 * pl.col(\"share_journeys\")).round(2)).alias(\n",
    "            \"share_journeys_fmt\"\n",
    "        )\n",
    "    )\n",
    "    .sort(\"category\")\n",
    ")"
   ]
  },
  {
   "cell_type": "code",
   "execution_count": null,
   "id": "e6013ed0-c93e-4eb5-83fd-6a9cdacd4722",
   "metadata": {
    "execution": {
     "iopub.execute_input": "2025-08-21T10:04:46.549306Z",
     "iopub.status.busy": "2025-08-21T10:04:46.548820Z",
     "iopub.status.idle": "2025-08-21T10:04:46.607314Z",
     "shell.execute_reply": "2025-08-21T10:04:46.606965Z",
     "shell.execute_reply.started": "2025-08-21T10:04:46.549274Z"
    }
   },
   "outputs": [],
   "source": [
    "px.bar(\n",
    "    df_journeys_count_by_distance_to_nearest_station,\n",
    "    x=\"category\",\n",
    "    y=\"num_journeys\",\n",
    "    text=\"share_journeys_fmt\",\n",
    "    labels={**labels_map, \"category\": \"Catégorie de distance (en mètres)\"},\n",
    "    template=\"simple_white\",\n",
    "    title=\"Distribution du nombre de trajets en fonction de la distance à la gare RER/Transilien la plus proche\"\n",
    "    \"<br><sub>Par rapport au point de départ ET d'arrivée du trajet</sub>\",\n",
    ")"
   ]
  },
  {
   "cell_type": "markdown",
   "id": "6d4456f3-5c22-4560-bb79-3966e6d305e1",
   "metadata": {},
   "source": [
    "### Multi point\n"
   ]
  },
  {
   "cell_type": "code",
   "execution_count": null,
   "id": "c06d7795-a128-43f9-8c1c-210a12e057a6",
   "metadata": {
    "execution": {
     "iopub.execute_input": "2025-08-21T10:06:14.396529Z",
     "iopub.status.busy": "2025-08-21T10:06:14.395077Z",
     "iopub.status.idle": "2025-08-21T10:06:14.682841Z",
     "shell.execute_reply": "2025-08-21T10:06:14.682489Z",
     "shell.execute_reply.started": "2025-08-21T10:06:14.396468Z"
    }
   },
   "outputs": [],
   "source": [
    "df_journeys_count_by_distance_to_nearest_stations = (\n",
    "    df_journeys_raw_with_nearest_stations.group_by(\n",
    "        pl.col(\"distance_to_station_spheroid_start\").cut(\n",
    "            breaks=[100, 200, 500] + list(range(1000, 11000, 1000)), include_breaks=True\n",
    "        )\n",
    "    )\n",
    "    .agg(pl.col(\"_id\").n_unique().alias(\"num_journeys\"))\n",
    "    .with_columns(\n",
    "        (pl.col(\"num_journeys\") / pl.col(\"num_journeys\").sum()).alias(\"share_journeys\"),\n",
    "        pl.col(\"distance_to_station_spheroid_start\").struct.unnest(),\n",
    "    )\n",
    "    .with_columns(\n",
    "        pl.format(\"{}%\", (100 * pl.col(\"share_journeys\")).round(2)).alias(\n",
    "            \"share_journeys_fmt\"\n",
    "        )\n",
    "    )\n",
    "    .sort(\"category\")\n",
    ")"
   ]
  },
  {
   "cell_type": "code",
   "execution_count": null,
   "id": "d6448aa4-0ff0-48fd-89e1-58491f73d90c",
   "metadata": {
    "execution": {
     "iopub.execute_input": "2025-08-21T10:06:27.308714Z",
     "iopub.status.busy": "2025-08-21T10:06:27.307045Z",
     "iopub.status.idle": "2025-08-21T10:06:27.545939Z",
     "shell.execute_reply": "2025-08-21T10:06:27.545539Z",
     "shell.execute_reply.started": "2025-08-21T10:06:27.308643Z"
    }
   },
   "outputs": [],
   "source": [
    "px.scatter(\n",
    "    df_journeys_raw_with_nearest_stations.group_by(\n",
    "        (\n",
    "            pl.col(\"distance_to_station_spheroid_start\").fill_null(float(\"inf\")) / 100\n",
    "        ).round(0),\n",
    "        (\n",
    "            pl.col(\"distance_to_station_spheroid_end\").fill_null(float(\"inf\")) / 100\n",
    "        ).round(0),\n",
    "    ).agg(pl.col(\"_id\").n_unique().alias(\"num_journeys\")),\n",
    "    x=\"distance_to_station_spheroid_start\",\n",
    "    y=\"distance_to_station_spheroid_end\",\n",
    "    size=\"num_journeys\",\n",
    "    template=\"simple_white\",\n",
    ")"
   ]
  },
  {
   "cell_type": "markdown",
   "id": "9bbc3ab6-f2c7-4ee5-aa46-46bc3a51f2d8",
   "metadata": {},
   "source": [
    "## Top des gares\n"
   ]
  },
  {
   "cell_type": "markdown",
   "id": "3788e9e6-8f40-4819-8505-5fb780e8d960",
   "metadata": {
    "execution": {
     "iopub.execute_input": "2025-08-14T13:16:44.725392Z",
     "iopub.status.busy": "2025-08-14T13:16:44.722278Z",
     "iopub.status.idle": "2025-08-14T13:16:44.734197Z",
     "shell.execute_reply": "2025-08-14T13:16:44.733524Z",
     "shell.execute_reply.started": "2025-08-14T13:16:44.725314Z"
    }
   },
   "source": [
    "### Au point de départ\n"
   ]
  },
  {
   "cell_type": "code",
   "execution_count": null,
   "id": "637b60bd-b05f-47ae-b2db-6015ddf79880",
   "metadata": {
    "execution": {
     "iopub.execute_input": "2025-08-21T10:08:59.010678Z",
     "iopub.status.busy": "2025-08-21T10:08:59.009449Z",
     "iopub.status.idle": "2025-08-21T10:09:00.048002Z",
     "shell.execute_reply": "2025-08-21T10:09:00.047504Z",
     "shell.execute_reply.started": "2025-08-21T10:08:59.010640Z"
    }
   },
   "outputs": [],
   "source": [
    "df_top_nearest_stations_start = (\n",
    "    df_journeys_raw_with_nearest_stations.filter(\n",
    "        pl.col(\"distance_to_station_spheroid_start\").is_finite()\n",
    "    )\n",
    "    .group_by(\"nom_gares_start\")\n",
    "    .agg(\n",
    "        pl.col(\"_id\").n_unique().alias(\"num_journeys\"),\n",
    "        pl.col(\"geom_start_wkt\").max(),\n",
    "        pl.col(\"distance_to_station_spheroid_start\").mean(),\n",
    "    )\n",
    "    .with_columns(\n",
    "        (pl.col(\"num_journeys\") / pl.col(\"num_journeys\").sum()).alias(\"share_journeys\")\n",
    "    )\n",
    "    .with_columns(\n",
    "        pl.format(\n",
    "            \"{}%<br>{}m\",\n",
    "            (100 * pl.col(\"share_journeys\")).round(2),\n",
    "            pl.col(\"distance_to_station_spheroid_start\").round(0).cast(pl.Int64),\n",
    "        ).alias(\"share_journeys_fmt\")\n",
    "    )\n",
    "    .sort(\"num_journeys\", descending=True)\n",
    "    .drop_nulls()\n",
    ")"
   ]
  },
  {
   "cell_type": "code",
   "execution_count": null,
   "id": "10df5a44-53e7-4c03-ae7f-ff119200d77c",
   "metadata": {
    "execution": {
     "iopub.execute_input": "2025-08-21T10:09:03.947590Z",
     "iopub.status.busy": "2025-08-21T10:09:03.946650Z",
     "iopub.status.idle": "2025-08-21T10:09:04.015432Z",
     "shell.execute_reply": "2025-08-21T10:09:04.015056Z",
     "shell.execute_reply.started": "2025-08-21T10:09:03.947555Z"
    }
   },
   "outputs": [],
   "source": [
    "px.bar(\n",
    "    df_top_nearest_stations_start.head(10),\n",
    "    x=\"nom_gares_start\",\n",
    "    y=\"num_journeys\",\n",
    "    text=\"share_journeys_fmt\",\n",
    "    template=\"simple_white\",\n",
    "    labels=labels_map,\n",
    "    title=\"TOP 10 des gares les plus proches des points de départ\"\n",
    "    \"<br><sub>Dans les barres sont affichées la proportion au regard du total des trajets et la distance moyenne au départ.</sub>\",\n",
    "    height=500,\n",
    ")"
   ]
  },
  {
   "cell_type": "markdown",
   "id": "8772d839-16d5-4fa8-a118-79dca4f953f5",
   "metadata": {},
   "source": [
    "#### Carto\n"
   ]
  },
  {
   "cell_type": "code",
   "execution_count": null,
   "id": "8010004f-59ef-421d-83c5-62b1c637ae96",
   "metadata": {
    "execution": {
     "iopub.execute_input": "2025-08-14T12:30:37.539100Z",
     "iopub.status.busy": "2025-08-14T12:30:37.538359Z",
     "iopub.status.idle": "2025-08-14T12:30:37.552322Z",
     "shell.execute_reply": "2025-08-14T12:30:37.551505Z",
     "shell.execute_reply.started": "2025-08-14T12:30:37.539065Z"
    }
   },
   "outputs": [],
   "source": [
    "df_top_nearest_stations_start = df_top_nearest_stations_start.with_columns(\n",
    "    pl.col(\"geom_start_wkt\").map_elements(shapely.from_wkt, return_dtype=pl.Object)\n",
    ")"
   ]
  },
  {
   "cell_type": "code",
   "execution_count": null,
   "id": "2cab5c80-9bb9-4197-ab9a-658232ec8817",
   "metadata": {
    "execution": {
     "iopub.execute_input": "2025-08-14T12:47:01.592281Z",
     "iopub.status.busy": "2025-08-14T12:47:01.591826Z",
     "iopub.status.idle": "2025-08-14T12:47:01.600856Z",
     "shell.execute_reply": "2025-08-14T12:47:01.600040Z",
     "shell.execute_reply.started": "2025-08-14T12:47:01.592246Z"
    }
   },
   "outputs": [],
   "source": [
    "# Method 2: More robust approach using shapely (if you have it installed)\n",
    "def create_top_k_nearest_station_map(df: pl.DataFrame, top_k: int = 10):\n",
    "    df = df.head(top_k)\n",
    "    # Create folium map centered on data\n",
    "    center_lat = 48.866667\n",
    "    center_lon = 2.333333\n",
    "\n",
    "    m = folium.Map(location=[center_lat, center_lon], zoom_start=9)\n",
    "\n",
    "    # Process each row\n",
    "    for row in df.iter_rows(named=True):\n",
    "        point = row[\"geom_start_wkt\"]  # geometry column\n",
    "        num_journeys = row[\"num_journeys\"]  # num_journeys column\n",
    "        station_name = row[\"nom_gares_start\"]\n",
    "        try:\n",
    "            # Extract coordinates\n",
    "            lon, lat = point.y, point.x\n",
    "            text = f\"{station_name},<br>{num_journeys} Journeys\"\n",
    "            # Create bubble with size proportional to num_journeys\n",
    "            folium.CircleMarker(\n",
    "                location=[lat, lon],\n",
    "                radius=max(10, num_journeys / 2000),  # Adjust scaling factor\n",
    "                popup=text,\n",
    "                tooltip=text,\n",
    "                fill=True,\n",
    "                fill_color=\"cornflowerblue\",\n",
    "                fill_opacity=0.7,\n",
    "                stroke=False,\n",
    "            ).add_to(m)\n",
    "\n",
    "        except Exception as e:\n",
    "            print(f\"Error processing point: {e}\")\n",
    "            continue\n",
    "\n",
    "    return m"
   ]
  },
  {
   "cell_type": "code",
   "execution_count": null,
   "id": "ec8d961a-ca13-4320-b89f-018a779553f5",
   "metadata": {
    "execution": {
     "iopub.execute_input": "2025-08-14T12:47:02.324467Z",
     "iopub.status.busy": "2025-08-14T12:47:02.324044Z",
     "iopub.status.idle": "2025-08-14T12:47:02.375356Z",
     "shell.execute_reply": "2025-08-14T12:47:02.374984Z",
     "shell.execute_reply.started": "2025-08-14T12:47:02.324439Z"
    }
   },
   "outputs": [],
   "source": [
    "m = create_top_k_nearest_station_map(df_top_nearest_stations_start, 50)\n",
    "m"
   ]
  },
  {
   "cell_type": "markdown",
   "id": "905a8823-bd01-4a3a-a456-7ca099dc8fdb",
   "metadata": {},
   "source": [
    "## À moins d'un kilometre\n"
   ]
  },
  {
   "cell_type": "code",
   "execution_count": null,
   "id": "1b47eb86-432d-4e46-bce5-6da741860cbf",
   "metadata": {
    "execution": {
     "iopub.execute_input": "2025-08-21T10:09:37.642426Z",
     "iopub.status.busy": "2025-08-21T10:09:37.640908Z",
     "iopub.status.idle": "2025-08-21T10:09:38.159817Z",
     "shell.execute_reply": "2025-08-21T10:09:38.159446Z",
     "shell.execute_reply.started": "2025-08-21T10:09:37.642350Z"
    }
   },
   "outputs": [],
   "source": [
    "df_top_nearest_stations_start_1km = (\n",
    "    df_journeys_raw_with_nearest_stations.filter(\n",
    "        pl.col(\"distance_to_station_spheroid_start\") <= 1000\n",
    "    )\n",
    "    .group_by(\"nom_gares_start\")\n",
    "    .agg(\n",
    "        pl.col(\"_id\").n_unique().alias(\"num_journeys\"),\n",
    "        pl.col(\"geom_start_wkt\").max(),\n",
    "        pl.col(\"distance_to_station_spheroid_start\").mean(),\n",
    "    )\n",
    "    .with_columns(\n",
    "        (pl.col(\"num_journeys\") / pl.col(\"num_journeys\").sum()).alias(\"share_journeys\")\n",
    "    )\n",
    "    .with_columns(\n",
    "        pl.format(\n",
    "            \"{}%<br>{}m\",\n",
    "            (100 * pl.col(\"share_journeys\")).round(2),\n",
    "            pl.col(\"distance_to_station_spheroid_start\").round(0).cast(pl.Int64),\n",
    "        ).alias(\"share_journeys_fmt\")\n",
    "    )\n",
    "    .sort(\"num_journeys\", descending=True)\n",
    "    .drop_nulls()\n",
    ")"
   ]
  },
  {
   "cell_type": "code",
   "execution_count": null,
   "id": "e7de7b4c-94b0-455f-9c33-ce1cfb2cf2fa",
   "metadata": {
    "execution": {
     "iopub.execute_input": "2025-08-21T10:09:38.160830Z",
     "iopub.status.busy": "2025-08-21T10:09:38.160727Z",
     "iopub.status.idle": "2025-08-21T10:09:38.186061Z",
     "shell.execute_reply": "2025-08-21T10:09:38.185856Z",
     "shell.execute_reply.started": "2025-08-21T10:09:38.160819Z"
    }
   },
   "outputs": [],
   "source": [
    "px.bar(\n",
    "    df_top_nearest_stations_start_1km.head(10),\n",
    "    x=\"nom_gares_start\",\n",
    "    y=\"num_journeys\",\n",
    "    text=\"share_journeys_fmt\",\n",
    "    template=\"simple_white\",\n",
    "    labels=labels_map,\n",
    "    title=\"TOP 10 des gares dans un rayon d'un kilomètre des points de départ\"\n",
    "    \"<br><sub>Dans les barres sont affichées la proportion au regard du total des trajets et la distance moyenne au départ.</sub>\",\n",
    "    height=500,\n",
    ")"
   ]
  },
  {
   "cell_type": "markdown",
   "id": "ac10ebc1-a212-4211-a5e3-00123b620354",
   "metadata": {},
   "source": [
    "## heatmap\n"
   ]
  },
  {
   "cell_type": "code",
   "execution_count": null,
   "id": "0a38ffbe-f5ff-46da-8d5a-6821d8bc8821",
   "metadata": {
    "execution": {
     "iopub.execute_input": "2025-08-21T12:12:44.949010Z",
     "iopub.status.busy": "2025-08-21T12:12:44.946844Z",
     "iopub.status.idle": "2025-08-21T12:12:44.964641Z",
     "shell.execute_reply": "2025-08-21T12:12:44.963435Z",
     "shell.execute_reply.started": "2025-08-21T12:12:44.948939Z"
    }
   },
   "outputs": [],
   "source": [
    "def create_trip_heatmap_map(\n",
    "    df_journeys_raw_with_nearest_stations, stations_df, distance_filter: int = 1000\n",
    "):\n",
    "    # Create a folium map centered on Paris\n",
    "    m = folium.Map(\n",
    "        location=[48.8566, 2.3522],  # Paris coordinates\n",
    "        zoom_start=9,\n",
    "        tiles=\"Cartodb Positron\",\n",
    "        control_scale=True,\n",
    "    )\n",
    "\n",
    "    # Prepare trip data for heatmap\n",
    "    trips_data = []\n",
    "    for row in df_journeys_raw_with_nearest_stations.filter(\n",
    "        pl.max_horizontal(\n",
    "            pl.col(\"distance_to_station_spheroid_start\"),\n",
    "            pl.col(\"distance_to_station_spheroid_end\"),\n",
    "        )\n",
    "        <= distance_filter\n",
    "    ).iter_rows(named=True):\n",
    "        start_point = shapely.from_wkt(row[\"start_pos_wkt\"])\n",
    "        start_lat, start_lon = (\n",
    "            start_point.x,\n",
    "            start_point.y,\n",
    "        )\n",
    "        trips_data.append([start_lat, start_lon])\n",
    "\n",
    "    # Create heatmap layer\n",
    "    if trips_data:\n",
    "        heat_data = [[point[0], point[1]] for point in trips_data]\n",
    "        plugins.HeatMap(heat_data, min_opacity=0.4, radius=15, blur=20).add_to(m)\n",
    "\n",
    "    # Add station points\n",
    "    for row in stations_df.iter_rows(named=True):\n",
    "        point = shapely.from_wkt(row[\"geom_wkt\"])\n",
    "        station_lat, station_lon = point.x, point.y\n",
    "        folium.CircleMarker(\n",
    "            location=[station_lat, station_lon],\n",
    "            radius=2,\n",
    "            color=\"black\",\n",
    "            fillOpacity=0.7,\n",
    "            tooltip=row[\"nom_gares\"],\n",
    "        ).add_to(m)\n",
    "\n",
    "    paris_wkt_str = \"\"\n",
    "    with open(\"paris_wkt.txt\", \"r\") as f:\n",
    "        paris_wkt_str = f.read()\n",
    "    paris_polygon = shapely.from_wkt(paris_wkt_str).exterior\n",
    "\n",
    "    # Create polygon layer\n",
    "    folium.Polygon(\n",
    "        locations=[[y, x] for x, y in list(paris_polygon.coords)],\n",
    "        color=\"white\",\n",
    "        weight=3,\n",
    "        fill=False,\n",
    "        tooltip=\"Paris\",\n",
    "    ).add_to(m)\n",
    "\n",
    "    return m"
   ]
  },
  {
   "cell_type": "code",
   "execution_count": null,
   "id": "e233b5e3-d045-41c6-9b45-ce1042003c08",
   "metadata": {
    "execution": {
     "iopub.execute_input": "2025-08-21T12:12:45.250670Z",
     "iopub.status.busy": "2025-08-21T12:12:45.250286Z",
     "iopub.status.idle": "2025-08-21T12:12:52.398108Z",
     "shell.execute_reply": "2025-08-21T12:12:52.397556Z",
     "shell.execute_reply.started": "2025-08-21T12:12:45.250644Z"
    }
   },
   "outputs": [],
   "source": [
    "m = create_trip_heatmap_map(df_journeys_raw_with_nearest_stations, df_idfm_stations)\n",
    "m"
   ]
  },
  {
   "cell_type": "markdown",
   "id": "628fa5d0-995d-431c-8823-f3deefa35a10",
   "metadata": {},
   "source": [
    "## Analyse des trajets avec O et D à proximité d'une gare\n"
   ]
  },
  {
   "cell_type": "code",
   "execution_count": null,
   "id": "029d133e-121e-48ba-8d0c-8c3d80136a6f",
   "metadata": {
    "execution": {
     "iopub.execute_input": "2025-08-21T12:09:43.638275Z",
     "iopub.status.busy": "2025-08-21T12:09:43.637351Z",
     "iopub.status.idle": "2025-08-21T12:09:43.659212Z",
     "shell.execute_reply": "2025-08-21T12:09:43.658103Z",
     "shell.execute_reply.started": "2025-08-21T12:09:43.638216Z"
    }
   },
   "outputs": [],
   "source": [
    "MAX_DISTANCE = 1000  # 1 km"
   ]
  },
  {
   "cell_type": "code",
   "execution_count": null,
   "id": "f0660e3d-0e19-4ba6-bbda-bff70640f247",
   "metadata": {
    "execution": {
     "iopub.execute_input": "2025-08-21T13:46:47.976512Z",
     "iopub.status.busy": "2025-08-21T13:46:47.975626Z",
     "iopub.status.idle": "2025-08-21T13:46:48.559598Z",
     "shell.execute_reply": "2025-08-21T13:46:48.559280Z",
     "shell.execute_reply.started": "2025-08-21T13:46:47.976480Z"
    }
   },
   "outputs": [],
   "source": [
    "df_journeys_raw_with_nearest_stations_full = (\n",
    "    df_journeys_raw.join(\n",
    "        df_journeys_raw_with_nearest_stations.filter(\n",
    "            pl.max_horizontal(\n",
    "                \"distance_to_station_spheroid_start\", \"distance_to_station_spheroid_end\"\n",
    "            )\n",
    "            <= MAX_DISTANCE\n",
    "        ),\n",
    "        on=\"_id\",\n",
    "        how=\"left\",\n",
    "        validate=\"1:1\",\n",
    "        coalesce=False,\n",
    "    )\n",
    "    .with_columns(pl.col(\"_id_right\").is_not_null().alias(\"is_near_station\"))\n",
    "    .with_columns(\n",
    "        pl.when(pl.col(\"is_near_station\"))\n",
    "        .then(pl.lit(\"Trajets proche d'une gare\"))\n",
    "        .otherwise(pl.lit(\"Trajet éloigné d'une gare\"))\n",
    "        .alias(\"is_near_station_fmt\")\n",
    "    )\n",
    ")\n",
    "df_journeys_raw_with_nearest_stations_full.shape"
   ]
  },
  {
   "cell_type": "code",
   "execution_count": null,
   "id": "e6d64c54-1b24-41b3-a72a-f13f3a3b58c0",
   "metadata": {
    "execution": {
     "iopub.execute_input": "2025-08-21T13:46:55.595914Z",
     "iopub.status.busy": "2025-08-21T13:46:55.595315Z",
     "iopub.status.idle": "2025-08-21T13:46:56.225851Z",
     "shell.execute_reply": "2025-08-21T13:46:56.225509Z",
     "shell.execute_reply.started": "2025-08-21T13:46:55.595865Z"
    }
   },
   "outputs": [],
   "source": [
    "with pl.Config(set_fmt_str_lengths=120, set_tbl_width_chars=1000):\n",
    "    print(\n",
    "        df_journeys_raw_with_nearest_stations_full.filter(pl.col(\"is_near_station\"))\n",
    "        .select(\n",
    "            pl.col(\"_id\").n_unique().alias(\"Nombre de journeys\"),\n",
    "            pl.col(\"_id\")\n",
    "            .filter(pl.col(\"incentive_amount\") > 0)\n",
    "            .n_unique()\n",
    "            .alias(\"Nombre de journeys avec incitation\"),\n",
    "            (\n",
    "                100\n",
    "                * pl.col(\"_id\").filter(pl.col(\"incentive_amount\") > 0).n_unique()\n",
    "                / pl.col(\"_id\").n_unique()\n",
    "            ).alias(\"% journeys avec incitation\"),\n",
    "            pl.col(\"_id\")\n",
    "            .filter(pl.col(\"incentived_by_aom\"))\n",
    "            .n_unique()\n",
    "            .alias(\"Nombre de journeys avec incitation AOM\"),\n",
    "            (\n",
    "                100\n",
    "                * pl.col(\"_id\").filter(pl.col(\"incentived_by_aom\")).n_unique()\n",
    "                / pl.col(\"_id\").n_unique()\n",
    "            ).alias(\"% journeys avec incitation AOM\"),\n",
    "            pl.col(\"_id\")\n",
    "            .filter(pl.col(\"incentived_by_operator\"))\n",
    "            .n_unique()\n",
    "            .alias(\"Nombre de journeys avec incitation opérateur\"),\n",
    "            (\n",
    "                100\n",
    "                * pl.col(\"_id\").filter(pl.col(\"incentived_by_operator\")).n_unique()\n",
    "                / pl.col(\"_id\").n_unique()\n",
    "            ).alias(\"% journeys avec incitation opérateur\"),\n",
    "        )\n",
    "        .with_columns(pl.selectors.all().round(2))\n",
    "        .unpivot()\n",
    "    )"
   ]
  },
  {
   "cell_type": "code",
   "execution_count": null,
   "id": "fc393474-c4a4-49c0-9d2c-7ed3c65711d4",
   "metadata": {
    "execution": {
     "iopub.execute_input": "2025-08-21T13:47:34.340368Z",
     "iopub.status.busy": "2025-08-21T13:47:34.338659Z",
     "iopub.status.idle": "2025-08-21T13:47:34.912302Z",
     "shell.execute_reply": "2025-08-21T13:47:34.911977Z",
     "shell.execute_reply.started": "2025-08-21T13:47:34.340276Z"
    }
   },
   "outputs": [],
   "source": [
    "df_stats_by_month_full = (\n",
    "    df_journeys_raw_with_nearest_stations_full.group_by(\n",
    "        [\n",
    "            pl.col(\"start_datetime\").dt.truncate(\"1mo\").alias(\"month\"),\n",
    "            \"is_near_station_fmt\",\n",
    "        ]\n",
    "    )\n",
    "    .agg(agg_expressions)\n",
    "    .sort(pl.col(\"month\"))\n",
    ")"
   ]
  },
  {
   "cell_type": "code",
   "execution_count": null,
   "id": "99dd8e27-fc8d-4417-b2ed-195d412db7f1",
   "metadata": {
    "execution": {
     "iopub.execute_input": "2025-08-21T13:47:40.690857Z",
     "iopub.status.busy": "2025-08-21T13:47:40.689389Z",
     "iopub.status.idle": "2025-08-21T13:47:42.044879Z",
     "shell.execute_reply": "2025-08-21T13:47:42.044024Z",
     "shell.execute_reply.started": "2025-08-21T13:47:40.690784Z"
    }
   },
   "outputs": [],
   "source": [
    "df_stats_by_week_filtered = (\n",
    "    df_journeys_raw_with_nearest_stations_full.filter(\n",
    "        pl.col(\"start_datetime\") <= datetime(2025, 7, 20, tzinfo=ZoneInfo(\"GMT\"))\n",
    "    )\n",
    "    .group_by(\n",
    "        [\n",
    "            pl.col(\"start_datetime\").dt.truncate(\"1w\").alias(\"week\"),\n",
    "            \"is_near_station_fmt\",\n",
    "        ]\n",
    "    )\n",
    "    .agg(agg_expressions)\n",
    "    .sort(pl.col(\"week\"))\n",
    ")"
   ]
  },
  {
   "cell_type": "markdown",
   "id": "c3718e26-cbdf-4337-b02f-8c6218940528",
   "metadata": {},
   "source": [
    "### Evolution\n"
   ]
  },
  {
   "cell_type": "markdown",
   "id": "7848bd0a-4a64-4bdc-a3ca-116a41fbe290",
   "metadata": {},
   "source": [
    "#### Globale\n"
   ]
  },
  {
   "cell_type": "code",
   "execution_count": null,
   "id": "dfafab85-7db0-4f21-a085-b939f6196fa3",
   "metadata": {
    "execution": {
     "iopub.execute_input": "2025-08-21T14:11:41.609529Z",
     "iopub.status.busy": "2025-08-21T14:11:41.608725Z",
     "iopub.status.idle": "2025-08-21T14:11:44.059790Z",
     "shell.execute_reply": "2025-08-21T14:11:44.059365Z",
     "shell.execute_reply.started": "2025-08-21T14:11:41.609500Z"
    }
   },
   "outputs": [],
   "source": [
    "fig_journeys_by_month_near_vs_far = px.line(\n",
    "    df_stats_by_month_full,\n",
    "    x=\"month\",\n",
    "    y=\"num_journeys_incentived\",\n",
    "    color=\"is_near_station_fmt\",\n",
    "    template=\"simple_white\",\n",
    "    labels=labels_map,\n",
    "    title=\"Nombre de journeys par mois - \"\n",
    "    f'<br><sub>Les trajets dits \"proches\" sont ceux avec O/D à moins de {MAX_DISTANCE / 1000:.0f} km d\\'une gare<sub>',\n",
    ")\n",
    "fig_journeys_by_month_near_vs_far.show()\n",
    "\n",
    "fig_journeys_by_month_near_vs_far\n",
    "fig_journeys_by_month_near_vs_far.update_yaxes(\n",
    "    range=[0, df_stats_by_month_full[\"num_journeys_incentived\"].max() - 1.1]\n",
    ")\n",
    "\n",
    "fig_journeys_by_month_near_vs_far.write_html(\n",
    "    OUTPUT_PATH / \"fig_journeys_par_mois_near_vs_far.html\"\n",
    ")\n",
    "fig_journeys_by_month_near_vs_far.write_image(\n",
    "    OUTPUT_PATH / \"fig_journeys_par_mois_near_vs_far.svg\", width=1280, height=720\n",
    ")"
   ]
  },
  {
   "cell_type": "markdown",
   "id": "a0973ed0-6478-496f-b45a-0123ec537184",
   "metadata": {},
   "source": [
    "#### Opérateur incitateurs\n"
   ]
  },
  {
   "cell_type": "code",
   "execution_count": null,
   "id": "5c52f19f-ce28-4626-95ae-9c744cf2d134",
   "metadata": {
    "execution": {
     "iopub.execute_input": "2025-08-21T14:24:44.186220Z",
     "iopub.status.busy": "2025-08-21T14:24:44.184496Z",
     "iopub.status.idle": "2025-08-21T14:24:47.188202Z",
     "shell.execute_reply": "2025-08-21T14:24:47.187768Z",
     "shell.execute_reply.started": "2025-08-21T14:24:44.186132Z"
    }
   },
   "outputs": [],
   "source": [
    "fig_journeys_by_operator_filtered = px.line(\n",
    "    df_journeys_raw_with_nearest_stations_full.filter(pl.col(\"is_near_station\"))\n",
    "    .explode(\"incentive_sirets\")\n",
    "    .join(\n",
    "        df_operators,\n",
    "        left_on=\"incentive_sirets\",\n",
    "        right_on=\"siret\",\n",
    "        how=\"left\",\n",
    "        suffix=\"_operators\",\n",
    "    )\n",
    "    .group_by([\"name\", pl.col(\"start_datetime\").dt.truncate(\"1mo\")])\n",
    "    .agg(pl.col(\"operator_journey_id\").n_unique().alias(\"num_journeys\"))\n",
    "    .rename({\"name\": \"operator\", \"start_datetime\": \"month\"})\n",
    "    .sort(\"month\"),\n",
    "    x=\"month\",\n",
    "    y=\"num_journeys\",\n",
    "    color=\"operator\",\n",
    "    template=\"simple_white\",\n",
    "    labels=labels_map,\n",
    "    title=\"Nombre de journeys incités par opérateur\"\n",
    "    f\"<br><sub>Uniquement les trajets avec O/D à moins de {MAX_DISTANCE / 1000:.0f} km d'une gare</sub>\",\n",
    ")\n",
    "fig_journeys_by_operator_filtered.update_yaxes(showgrid=True)\n",
    "fig_journeys_by_operator_filtered.show()\n",
    "\n",
    "\n",
    "fig_journeys_by_operator_filtered.write_html(\n",
    "    \"outputs_idfm/fig_journeys_par_operateur_mois_filtered.html\"\n",
    ")\n",
    "fig_journeys_by_operator_filtered.write_image(\n",
    "    \"outputs_idfm/fig_journeys_par_operateur_mois_filtered.svg\", width=1280, height=720\n",
    ")"
   ]
  },
  {
   "cell_type": "markdown",
   "id": "1e6c96cf-8a2a-4ec6-bc90-ee1bf2ffd6b7",
   "metadata": {},
   "source": [
    "## Par opérateurs\n"
   ]
  },
  {
   "cell_type": "code",
   "execution_count": null,
   "id": "fb4f8a7b-f06e-40d1-83ab-f285f25cf1f3",
   "metadata": {
    "execution": {
     "iopub.execute_input": "2025-08-21T14:25:38.233568Z",
     "iopub.status.busy": "2025-08-21T14:25:38.231769Z",
     "iopub.status.idle": "2025-08-21T14:25:38.966248Z",
     "shell.execute_reply": "2025-08-21T14:25:38.965956Z",
     "shell.execute_reply.started": "2025-08-21T14:25:38.233508Z"
    }
   },
   "outputs": [],
   "source": [
    "px.line(\n",
    "    (\n",
    "        df_journeys_raw_with_nearest_stations_full.filter(\n",
    "            incentived_trip_filter_expr & pl.col(\"is_near_station\")\n",
    "        )\n",
    "        .group_by([\"operator_id\", pl.col(\"start_datetime\").dt.truncate(\"1w\")])\n",
    "        .agg(pl.col(\"_id\").n_unique().alias(\"num_journeys\"))\n",
    "        .join(\n",
    "            df_operators,\n",
    "            left_on=\"operator_id\",\n",
    "            right_on=\"_id\",\n",
    "            validate=\"m:1\",\n",
    "            suffix=\"_operators\",\n",
    "        )\n",
    "        .sort([\"start_datetime\", \"operator_id\"])\n",
    "    ),\n",
    "    title=\"Nombre de journeys par opérateur\"\n",
    "    f\"<br><sub>Uniquement les trajets avec O/D à moins de {MAX_DISTANCE / 1000:.0f} km d'une gare</sub>\",\n",
    "    x=\"start_datetime\",\n",
    "    y=\"num_journeys\",\n",
    "    color=\"name\",\n",
    "    labels=labels_map,\n",
    "    template=\"simple_white\",\n",
    ")"
   ]
  },
  {
   "cell_type": "markdown",
   "id": "0a459e6d-5f0e-43b6-aafc-3bb7f3cc7600",
   "metadata": {},
   "source": [
    "## Distance\n"
   ]
  },
  {
   "cell_type": "code",
   "execution_count": null,
   "id": "14216a3d-0e00-472c-a5c1-24a38c4cd3c0",
   "metadata": {
    "execution": {
     "iopub.execute_input": "2025-08-21T13:21:44.513681Z",
     "iopub.status.busy": "2025-08-21T13:21:44.507815Z",
     "iopub.status.idle": "2025-08-21T13:21:44.525848Z",
     "shell.execute_reply": "2025-08-21T13:21:44.525531Z",
     "shell.execute_reply.started": "2025-08-21T13:21:44.513621Z"
    }
   },
   "outputs": [],
   "source": [
    "df_stats_by_month_filtered.select([\"month\", \"distance_avg\"]).join(\n",
    "    df_stats_by_month.select([\"month\", \"distance_avg\"]),\n",
    "    on=\"month\",\n",
    "    validate=\"1:1\",\n",
    "    suffix=\"_all_trips\",\n",
    ").with_columns(pl.selectors.starts_with(\"distance_avg\").round(1)).unpivot(index=\"month\")"
   ]
  },
  {
   "cell_type": "code",
   "execution_count": null,
   "id": "b2ea5235-c8a3-48bd-a829-0eacad22bbd8",
   "metadata": {},
   "outputs": [],
   "source": []
  }
 ],
 "metadata": {
  "kernelspec": {
   "display_name": "Python 3 (ipykernel)",
   "language": "python",
   "name": "python3"
  },
  "language_info": {
   "codemirror_mode": {
    "name": "ipython",
    "version": 3
   },
   "file_extension": ".py",
   "mimetype": "text/x-python",
   "name": "python",
   "nbconvert_exporter": "python",
   "pygments_lexer": "ipython3",
   "version": "3.12.7"
  }
 },
 "nbformat": 4,
 "nbformat_minor": 5
}
