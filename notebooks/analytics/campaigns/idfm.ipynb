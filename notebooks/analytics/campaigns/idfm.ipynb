{
 "cells": [
  {
   "cell_type": "code",
   "execution_count": null,
   "id": "4cdfd5d0-c5a4-4700-a02a-27b6626d539a",
   "metadata": {
    "execution": {
     "iopub.execute_input": "2025-09-02T06:22:50.290740Z",
     "iopub.status.busy": "2025-09-02T06:22:50.290428Z",
     "iopub.status.idle": "2025-09-02T06:22:50.295939Z",
     "shell.execute_reply": "2025-09-02T06:22:50.295642Z",
     "shell.execute_reply.started": "2025-09-02T06:22:50.290725Z"
    }
   },
   "outputs": [],
   "source": [
    "%config SqlMagic.autopolars = True\n",
    "%config SqlMagic.feedback = False\n",
    "%config SqlMagic.displaycon = False"
   ]
  },
  {
   "cell_type": "code",
   "execution_count": null,
   "id": "740379b8-6d17-45e4-98d4-08d936b4cd04",
   "metadata": {
    "execution": {
     "iopub.execute_input": "2025-09-02T06:22:51.077319Z",
     "iopub.status.busy": "2025-09-02T06:22:51.077143Z",
     "iopub.status.idle": "2025-09-02T06:22:51.704480Z",
     "shell.execute_reply": "2025-09-02T06:22:51.704094Z",
     "shell.execute_reply.started": "2025-09-02T06:22:51.077305Z"
    }
   },
   "outputs": [],
   "source": [
    "%load_ext sql"
   ]
  },
  {
   "cell_type": "markdown",
   "id": "23387ea2-365b-4617-b669-1d915740b9a1",
   "metadata": {},
   "source": [
    "# Dépendances\n"
   ]
  },
  {
   "cell_type": "code",
   "execution_count": null,
   "id": "3acccb24-0a9b-4597-b84e-9ae5f00e092c",
   "metadata": {
    "execution": {
     "iopub.execute_input": "2025-09-02T06:22:52.443030Z",
     "iopub.status.busy": "2025-09-02T06:22:52.442771Z",
     "iopub.status.idle": "2025-09-02T06:22:53.129586Z",
     "shell.execute_reply": "2025-09-02T06:22:53.129285Z",
     "shell.execute_reply.started": "2025-09-02T06:22:52.443015Z"
    }
   },
   "outputs": [],
   "source": [
    "import json\n",
    "import math\n",
    "import os\n",
    "from datetime import datetime, timedelta\n",
    "from itertools import product\n",
    "from pathlib import Path\n",
    "from zoneinfo import ZoneInfo\n",
    "\n",
    "import branca.colormap as bcm\n",
    "import duckdb\n",
    "import folium\n",
    "import geopandas as gpd\n",
    "import matplotlib.cm as cm\n",
    "import matplotlib.colors as mcolors\n",
    "import matplotlib.pyplot as plt\n",
    "import plotly.express as px\n",
    "import plotly.graph_objects as go\n",
    "import polars as pl\n",
    "import polars_h3 as plh3\n",
    "import polars_st as st\n",
    "import shapely\n",
    "from dotenv import load_dotenv\n",
    "from folium import plugins\n",
    "from sqlalchemy import create_engine"
   ]
  },
  {
   "cell_type": "markdown",
   "id": "4defced7-504f-4bdd-a75c-0f0140662a03",
   "metadata": {},
   "source": [
    "# Configuration\n"
   ]
  },
  {
   "cell_type": "code",
   "execution_count": null,
   "id": "a7a04cac-28a0-4ea7-a4e0-0593836c0ce3",
   "metadata": {
    "execution": {
     "iopub.execute_input": "2025-09-02T06:22:56.123443Z",
     "iopub.status.busy": "2025-09-02T06:22:56.123276Z",
     "iopub.status.idle": "2025-09-02T06:22:56.125529Z",
     "shell.execute_reply": "2025-09-02T06:22:56.125158Z",
     "shell.execute_reply.started": "2025-09-02T06:22:56.123432Z"
    }
   },
   "outputs": [],
   "source": [
    "USE_CACHED_ARTIFACTS = True"
   ]
  },
  {
   "cell_type": "code",
   "execution_count": null,
   "id": "fa3de18b-c169-4b8e-b47a-20e7ecb981ad",
   "metadata": {
    "execution": {
     "iopub.execute_input": "2025-09-02T06:22:56.521645Z",
     "iopub.status.busy": "2025-09-02T06:22:56.521464Z",
     "iopub.status.idle": "2025-09-02T06:22:56.526809Z",
     "shell.execute_reply": "2025-09-02T06:22:56.526518Z",
     "shell.execute_reply.started": "2025-09-02T06:22:56.521631Z"
    }
   },
   "outputs": [],
   "source": [
    "load_dotenv()\n",
    "DB_URL = os.environ.get(\"DB_URL\")"
   ]
  },
  {
   "cell_type": "code",
   "execution_count": null,
   "id": "45f9754a-c81b-4132-900d-ba20a5cb4f17",
   "metadata": {
    "execution": {
     "iopub.execute_input": "2025-09-02T06:22:57.081803Z",
     "iopub.status.busy": "2025-09-02T06:22:57.081629Z",
     "iopub.status.idle": "2025-09-02T06:22:57.083865Z",
     "shell.execute_reply": "2025-09-02T06:22:57.083574Z",
     "shell.execute_reply.started": "2025-09-02T06:22:57.081789Z"
    }
   },
   "outputs": [],
   "source": [
    "AOM_SIRET = \"28750007800020\""
   ]
  },
  {
   "cell_type": "code",
   "execution_count": null,
   "id": "0bcb660c-c94d-497e-8ebc-712b5e4841e6",
   "metadata": {
    "execution": {
     "iopub.execute_input": "2025-09-02T06:22:57.634837Z",
     "iopub.status.busy": "2025-09-02T06:22:57.634542Z",
     "iopub.status.idle": "2025-09-02T06:22:57.636728Z",
     "shell.execute_reply": "2025-09-02T06:22:57.636407Z",
     "shell.execute_reply.started": "2025-09-02T06:22:57.634822Z"
    }
   },
   "outputs": [],
   "source": [
    "OUTPUT_PATH = Path(\"outputs_idfm\")"
   ]
  },
  {
   "cell_type": "code",
   "execution_count": null,
   "id": "5d88a37c-3e28-4c68-9d0b-4650f2198cd3",
   "metadata": {
    "execution": {
     "iopub.execute_input": "2025-09-02T06:22:58.200471Z",
     "iopub.status.busy": "2025-09-02T06:22:58.200269Z",
     "iopub.status.idle": "2025-09-02T06:22:58.203482Z",
     "shell.execute_reply": "2025-09-02T06:22:58.203178Z",
     "shell.execute_reply.started": "2025-09-02T06:22:58.200459Z"
    }
   },
   "outputs": [],
   "source": [
    "labels_map = {\n",
    "    \"month\": \"Mois\",\n",
    "    \"num_journeys\": \"Nombre de journeys\",\n",
    "    \"share_journeys\": \"% des journeys\",\n",
    "    \"num_journeys_incentived\": \"Nombre de journey avec incitation\",\n",
    "    \"num_journeys_with_incentive\": \"Nombre de journey avec incitation\",\n",
    "    \"num_journeys_intra_territory_incentived_trips\": \"Nombre de journeys incitées intra\",\n",
    "    \"num_journeys_inter_territory_incentived_trips\": \"Nombre de journeys incitées inter\",\n",
    "    \"operator\": \"Opérateur\",\n",
    "    \"incentive_amount_avg\": \"Incitation moyenne\",\n",
    "    \"driver_revenue_avg\": \"Revenu moyen conducteur\",\n",
    "    \"passenger_contribution_avg\": \"Contribution moyenne passager\",\n",
    "    \"incentive_amount_intra_avg\": \"Incitation moyenne intra\",\n",
    "    \"driver_revenue_intra_avg\": \"Revenu moyen conducteur intra\",\n",
    "    \"passenger_contribution_intra_avg\": \"Contribution moyenne passager intra\",\n",
    "    \"incentive_amount_inter_avg\": \"Incitation moyenne inter\",\n",
    "    \"driver_revenue_inter_avg\": \"Revenu moyen conducteur inter\",\n",
    "    \"passenger_contribution_inter_avg\": \"Contribution moyenne passager inter\",\n",
    "    \"incentive_amount_per_km_avg\": \"Montant moyen d'incitation par km\",\n",
    "    \"passenger_contribution_per_km_avg\": \"Contribution moyenne passager par km\",\n",
    "    \"driver_revenue_per_km_avg\": \"Revenu moyen conducteur par km\",\n",
    "    \"week\": \"Semaine\",\n",
    "    \"month\": \"Mois\",\n",
    "    \"distance_avg\": \"Distance moyenne\",\n",
    "    \"distance_incentived_trips_avg\": \"Distance moyenne [km] - journeys avec incentives\",\n",
    "    \"campaign_type\": \"Campagne\",\n",
    "    \"distance\": \"Distance\",\n",
    "    \"num_journeys_with_aom_incentive\": \"Nombre de journeys incitées par l'AOM\",\n",
    "    \"num_journeys_with_operator_incentive\": \"Nombre de journeys incitées par un opérateur\",\n",
    "    \"num_journeys_intra_territory\": \"Nombre de journeys intra-territoire\",\n",
    "    \"num_journeys_inter_territory\": \"Nombre de journeys inter-territoires\",\n",
    "    \"share_journeys_intra_territory\": \"% de journeys intra-territoire\",\n",
    "    \"share_journeys_inter_territory\": \"% de journeys inter-territoires\",\n",
    "    \"share_drivers\": \"% des conducteurs\",\n",
    "    \"num_trips\": \"Nombre de trips\",\n",
    "    \"is_intra_driver\": \"Conducteur intra\",\n",
    "    \"driver_campaign_type\": \"Type de campagne du conducteur\",\n",
    "    \"passenger_campaign_type\": \"Type de campagne du passager\",\n",
    "    \"drivers_share\": \"% des conducteurs\",\n",
    "    \"week_number\": \"Semaine n°\",\n",
    "    \"passengers_share\": \"% des passagers\",\n",
    "}"
   ]
  },
  {
   "cell_type": "markdown",
   "id": "69a0f885-7350-4b5e-9403-7f9a75452793",
   "metadata": {},
   "source": [
    "## duckdb\n"
   ]
  },
  {
   "cell_type": "code",
   "execution_count": null,
   "id": "2f83721f-5de7-4c81-bb21-1b1527296a33",
   "metadata": {
    "execution": {
     "iopub.execute_input": "2025-09-02T06:23:01.116173Z",
     "iopub.status.busy": "2025-09-02T06:23:01.115952Z",
     "iopub.status.idle": "2025-09-02T06:23:01.202273Z",
     "shell.execute_reply": "2025-09-02T06:23:01.201906Z",
     "shell.execute_reply.started": "2025-09-02T06:23:01.116152Z"
    }
   },
   "outputs": [],
   "source": [
    "conn = duckdb.connect(\n",
    "    \"db.duckdb\",\n",
    "    config={\"memory_limit\": \"16GiB\", \"threads\": 4, \"preserve_insertion_order\": False},\n",
    ")\n",
    "%sql conn --alias duckdb"
   ]
  },
  {
   "cell_type": "code",
   "execution_count": null,
   "id": "cc69e9f9-9557-42be-9c0d-60b161fe628a",
   "metadata": {
    "execution": {
     "iopub.execute_input": "2025-09-02T06:23:01.685976Z",
     "iopub.status.busy": "2025-09-02T06:23:01.685807Z",
     "iopub.status.idle": "2025-09-02T06:23:01.876385Z",
     "shell.execute_reply": "2025-09-02T06:23:01.876022Z",
     "shell.execute_reply.started": "2025-09-02T06:23:01.685964Z"
    }
   },
   "outputs": [],
   "source": [
    "%%sql\n",
    "INSTALL spatial;\n",
    "\n",
    "LOAD spatial;"
   ]
  },
  {
   "cell_type": "markdown",
   "id": "2767c77f-2e93-4505-91af-99c710590019",
   "metadata": {},
   "source": [
    "# Queries\n"
   ]
  },
  {
   "cell_type": "code",
   "execution_count": null,
   "id": "0d4abf55-26cb-483d-9d25-e15ecdaa4c3a",
   "metadata": {
    "execution": {
     "iopub.execute_input": "2025-09-02T06:23:03.218053Z",
     "iopub.status.busy": "2025-09-02T06:23:03.217871Z",
     "iopub.status.idle": "2025-09-02T06:23:03.298755Z",
     "shell.execute_reply": "2025-09-02T06:23:03.298468Z",
     "shell.execute_reply.started": "2025-09-02T06:23:03.218039Z"
    }
   },
   "outputs": [],
   "source": [
    "SQL_ENGINE = create_engine(DB_URL)"
   ]
  },
  {
   "cell_type": "markdown",
   "id": "a088a2ab-16b2-4faf-9ccf-f2a4e4c6f9e9",
   "metadata": {},
   "source": [
    "## Journeys\n"
   ]
  },
  {
   "cell_type": "code",
   "execution_count": null,
   "id": "2545442f-da91-4a60-8aa7-6f2c19ff4d90",
   "metadata": {
    "execution": {
     "iopub.execute_input": "2025-09-02T06:23:03.903248Z",
     "iopub.status.busy": "2025-09-02T06:23:03.903069Z",
     "iopub.status.idle": "2025-09-02T06:23:03.905952Z",
     "shell.execute_reply": "2025-09-02T06:23:03.905560Z",
     "shell.execute_reply.started": "2025-09-02T06:23:03.903233Z"
    }
   },
   "outputs": [],
   "source": [
    "SQL = \"\"\"\n",
    "with idfm_perimeter as \n",
    "(\n",
    "select\n",
    "\tp.arr,\n",
    "\tmax(p.com) as com,\n",
    "\tmax(p.geom_simple) as geom_simple\n",
    "from\n",
    "\tgeo.perimeters p\n",
    "where\n",
    "\tp.reg = '11'\n",
    "\tand year = 2024\n",
    "group by\n",
    "\t1\n",
    "),\n",
    "geo_filtered as (\n",
    "select\n",
    "\tg.carpool_id,\n",
    "\tg.start_geo_code,\n",
    "\tg.end_geo_code,\n",
    "\t(substring(g.start_geo_code for 2) in ('94', '78', '92', '91', '75', '93', '95', '77')\n",
    "\t\tand substring(g.end_geo_code for 2) in ('94', '78', '92', '91', '75', '93', '95', '77')) as is_fully_inside_campaign_area\n",
    "from\n",
    "\tcarpool_v2.geo g\n",
    "where\n",
    "\t(substring(g.start_geo_code for 2) in ('94', '78', '92', '91', '75', '93', '95', '77')\n",
    "\t\tor substring(g.end_geo_code for 2) in ('94', '78', '92', '91', '75', '93', '95', '77'))\n",
    "\t\t\tand g.updated_at >= '2024-09-01'\n",
    "),\n",
    "first_trip as (\n",
    "select\n",
    "    driver_identity_key,\n",
    "    min(c.start_datetime) as first_trip_datetime\n",
    "from carpool_v2.carpools c\n",
    "group by 1\n",
    "),\n",
    "first_trip_passengers as (\n",
    "select\n",
    "    passenger_identity_key,\n",
    "    min(c.start_datetime) as first_trip_datetime\n",
    "from carpool_v2.carpools c\n",
    "group by 1\n",
    "),\n",
    "incentives as (\n",
    "select\n",
    "\toi.carpool_id,\n",
    "\tsum(oi.amount) as incentive_amount,\n",
    "    sum(oi.amount) filter (where siret='28750007800020') as amount_aom,\n",
    "\tarray_agg(distinct oi.siret) as incentive_sirets\n",
    "from\n",
    "\tcarpool_v2.operator_incentives oi\n",
    "inner join geo_filtered g on\n",
    "\toi.carpool_id = g.carpool_id\n",
    "where amount>0\n",
    "group by\n",
    "\t1\n",
    "),\n",
    "journeys as \n",
    "(\n",
    "select\n",
    "\tc.\"_id\",\n",
    "\tc.operator_id,\n",
    "\tc.operator_journey_id,\n",
    "\tc.operator_trip_id,\n",
    "    c.driver_identity_key,\n",
    "    ft.first_trip_datetime,\n",
    "    c.passenger_identity_key,\n",
    "    ftp.first_trip_datetime as passenger_first_trip_datetime,\n",
    "\tc.start_datetime,\n",
    "\tc.end_datetime,\n",
    "\tc.distance,\n",
    "\tc.driver_revenue,\n",
    "\tc.passenger_contribution,\n",
    "\ti.incentive_amount,\n",
    "    i.amount_aom,\n",
    "\ti.incentive_sirets,\n",
    "\tc.start_position,\n",
    "\tc.end_position,\n",
    "    c.passenger_seats,\n",
    "    c.passenger_travelpass_name,\n",
    "    c.passenger_travelpass_user_id,\n",
    "    is_fully_inside_campaign_area,\n",
    "\tST_MAKELINE(c.start_position::geometry,c.end_position::geometry) as journey_line\t\n",
    "from\n",
    "\tcarpool_v2.carpools c\n",
    "inner join geo_filtered g on\n",
    "\tc.\"_id\" = g.carpool_id\n",
    "left join incentives i on\n",
    "\tc.\"_id\" = i.carpool_id\n",
    "left join first_trip ft on ft.driver_identity_key=c.driver_identity_key\n",
    "left join first_trip_passengers ftp on ftp.passenger_identity_key=c.passenger_identity_key\n",
    "left join carpool_v2.status s on s.\"carpool_id\"=c.\"_id\" \n",
    "where\n",
    "\t(c.start_datetime between '2024-09-01' and '2025-07-20')\n",
    "    and s.acquisition_status='processed'\n",
    "    and s.fraud_status='passed'\n",
    "    and s.anomaly_status='passed'\n",
    "    )\n",
    "SELECT\n",
    "    j.*,\n",
    "    CASE WHEN p.l_arr = p.country THEN p.l_country ELSE p.l_arr END as start_com,\n",
    "    CASE WHEN p2.l_arr = p2.country THEN p2.l_country ELSE p2.l_arr END as end_com\n",
    "from journeys j\n",
    "left join carpool_v2.geo g on j.\"_id\"=g.\"carpool_id\"\n",
    "left join geo.perimeters p on g.\"start_geo_code\"=p.arr and p.year=2024\n",
    "left join geo.perimeters p2 on g.\"end_geo_code\"=p2.arr and p2.year=2024\n",
    "\"\"\""
   ]
  },
  {
   "cell_type": "code",
   "execution_count": null,
   "id": "cf95cb33-a53d-4bad-a10c-0d181159db94",
   "metadata": {
    "execution": {
     "iopub.execute_input": "2025-09-02T06:23:13.936403Z",
     "iopub.status.busy": "2025-09-02T06:23:13.936216Z",
     "iopub.status.idle": "2025-09-02T06:23:14.682561Z",
     "shell.execute_reply": "2025-09-02T06:23:14.682213Z",
     "shell.execute_reply.started": "2025-09-02T06:23:13.936379Z"
    }
   },
   "outputs": [],
   "source": [
    "if USE_CACHED_ARTIFACTS:\n",
    "    df_journeys_raw = pl.read_parquet(\"df_journeys_raw.parquet\")\n",
    "else:\n",
    "    df_journeys_raw = pl.read_database(\n",
    "        query=SQL,\n",
    "        connection=SQL_ENGINE,\n",
    "        schema_overrides={\n",
    "            \"passenger_travelpass_name\": pl.String,\n",
    "            \"passenger_travelpass_user_id\": pl.String,\n",
    "        },\n",
    "    )\n",
    "    df_journeys_raw.write_parquet(\"df_journeys_raw.parquet\", compression_level=6)"
   ]
  },
  {
   "cell_type": "code",
   "execution_count": null,
   "id": "83f88697-5d52-4887-90e1-aa58d4fe38ac",
   "metadata": {
    "execution": {
     "iopub.execute_input": "2025-09-02T06:23:14.683214Z",
     "iopub.status.busy": "2025-09-02T06:23:14.683091Z",
     "iopub.status.idle": "2025-09-02T06:23:14.686437Z",
     "shell.execute_reply": "2025-09-02T06:23:14.686137Z",
     "shell.execute_reply.started": "2025-09-02T06:23:14.683203Z"
    }
   },
   "outputs": [],
   "source": [
    "df_journeys_raw.schema"
   ]
  },
  {
   "cell_type": "code",
   "execution_count": null,
   "id": "cd371fb0-a808-49dd-be78-ffb7624c1dcf",
   "metadata": {
    "execution": {
     "iopub.execute_input": "2025-09-02T06:23:14.896118Z",
     "iopub.status.busy": "2025-09-02T06:23:14.895931Z",
     "iopub.status.idle": "2025-09-02T06:23:14.923019Z",
     "shell.execute_reply": "2025-09-02T06:23:14.922726Z",
     "shell.execute_reply.started": "2025-09-02T06:23:14.896104Z"
    }
   },
   "outputs": [],
   "source": [
    "df_journeys_raw.estimated_size() / 1e7"
   ]
  },
  {
   "cell_type": "code",
   "execution_count": null,
   "id": "feb48f20-cb35-4108-af6b-30c0f2344b30",
   "metadata": {
    "execution": {
     "iopub.execute_input": "2025-09-02T06:23:15.491944Z",
     "iopub.status.busy": "2025-09-02T06:23:15.491753Z",
     "iopub.status.idle": "2025-09-02T06:23:15.498630Z",
     "shell.execute_reply": "2025-09-02T06:23:15.498286Z",
     "shell.execute_reply.started": "2025-09-02T06:23:15.491930Z"
    }
   },
   "outputs": [],
   "source": [
    "df_journeys_raw.head()"
   ]
  },
  {
   "cell_type": "code",
   "execution_count": null,
   "id": "118056e8-7894-4294-bdf6-25a5adc23485",
   "metadata": {
    "execution": {
     "iopub.execute_input": "2025-09-02T06:23:15.994006Z",
     "iopub.status.busy": "2025-09-02T06:23:15.993819Z",
     "iopub.status.idle": "2025-09-02T06:23:16.191419Z",
     "shell.execute_reply": "2025-09-02T06:23:16.191074Z",
     "shell.execute_reply.started": "2025-09-02T06:23:15.993992Z"
    }
   },
   "outputs": [],
   "source": [
    "df_journeys_raw.describe()"
   ]
  },
  {
   "cell_type": "markdown",
   "id": "6dd869c0-e89f-4fa2-9ed3-bcc1985a4e42",
   "metadata": {},
   "source": [
    "## Opérateurs\n"
   ]
  },
  {
   "cell_type": "code",
   "execution_count": null,
   "id": "b95038f5-3140-4aa0-a611-d56533d49d85",
   "metadata": {
    "execution": {
     "iopub.execute_input": "2025-09-02T06:23:54.157082Z",
     "iopub.status.busy": "2025-09-02T06:23:54.156742Z",
     "iopub.status.idle": "2025-09-02T06:23:54.507530Z",
     "shell.execute_reply": "2025-09-02T06:23:54.506178Z",
     "shell.execute_reply.started": "2025-09-02T06:23:54.157070Z"
    }
   },
   "outputs": [],
   "source": [
    "df_operators = pl.read_database(\n",
    "    query=\"\"\"\n",
    "SELECT\n",
    "    \"_id\",\n",
    "    \"name\",\n",
    "    \"siret\"\n",
    "from operator.operators\n",
    "where deleted_at is null\n",
    "and name!='BlaBlaCar'\n",
    "\"\"\",\n",
    "    connection=SQL_ENGINE,\n",
    ")"
   ]
  },
  {
   "cell_type": "code",
   "execution_count": null,
   "id": "95236d28-e7e6-4731-b89f-bdcc43a689b6",
   "metadata": {
    "execution": {
     "iopub.execute_input": "2025-09-02T06:23:57.654619Z",
     "iopub.status.busy": "2025-09-02T06:23:57.654291Z",
     "iopub.status.idle": "2025-09-02T06:23:57.657525Z",
     "shell.execute_reply": "2025-09-02T06:23:57.657226Z",
     "shell.execute_reply.started": "2025-09-02T06:23:57.654607Z"
    }
   },
   "outputs": [],
   "source": [
    "df_operators"
   ]
  },
  {
   "cell_type": "markdown",
   "id": "651fef20-2752-4a78-a786-ab3806dd8277",
   "metadata": {},
   "source": [
    "# Reseau IDFM\n"
   ]
  },
  {
   "cell_type": "code",
   "execution_count": null,
   "id": "15f9e1e7-6b66-4577-9a99-7db402e4eea3",
   "metadata": {
    "execution": {
     "iopub.execute_input": "2025-09-02T06:23:59.558744Z",
     "iopub.status.busy": "2025-09-02T06:23:59.558574Z",
     "iopub.status.idle": "2025-09-02T06:23:59.592272Z",
     "shell.execute_reply": "2025-09-02T06:23:59.591948Z",
     "shell.execute_reply.started": "2025-09-02T06:23:59.558730Z"
    }
   },
   "outputs": [],
   "source": [
    "%%sql\n",
    "CREATE TABLE\n",
    "  IF NOT EXISTS gares_idfm AS\n",
    "SELECT\n",
    "  id_gares,\n",
    "  nom_gares,\n",
    "  nom_so_gar,\n",
    "  nom_su_gar,\n",
    "  id_ref_zdc,\n",
    "  nom_zdc,\n",
    "  id_ref_zda,\n",
    "  nom_zda,\n",
    "  idrefliga,\n",
    "  idrefligc,\n",
    "  res_com,\n",
    "  indice_lig,\n",
    "  mode,\n",
    "  tertrain,\n",
    "  terrer,\n",
    "  termetro,\n",
    "  tertram,\n",
    "  terval,\n",
    "  exploitant,\n",
    "  idf,\n",
    "  ST_FlipCoordinates (geom) AS geom --  EPSG:4326 coordinate system (WGS84), with [latitude, longitude] axis order\n",
    "FROM\n",
    "  ST_Read (\n",
    "    '/home/toto/Documents/Grammaticorp/covoiturage/preuve-covoiturage/notebooks/analytics/campaigns/emplacement-des-gares-idf.geojson'\n",
    "  )\n",
    "WHERE\n",
    "  mode IN ('TRAIN', 'RER');"
   ]
  },
  {
   "cell_type": "code",
   "execution_count": null,
   "id": "38fae318-2ae6-4b68-96f6-6b06a1770ab3",
   "metadata": {
    "execution": {
     "iopub.execute_input": "2025-09-02T06:24:00.538201Z",
     "iopub.status.busy": "2025-09-02T06:24:00.537787Z",
     "iopub.status.idle": "2025-09-02T06:24:00.550321Z",
     "shell.execute_reply": "2025-09-02T06:24:00.549959Z",
     "shell.execute_reply.started": "2025-09-02T06:24:00.538185Z"
    }
   },
   "outputs": [],
   "source": [
    "%%sql\n",
    "SELECT\n",
    "  COUNT(*)\n",
    "FROM\n",
    "  gares_idfm;"
   ]
  },
  {
   "cell_type": "code",
   "execution_count": null,
   "id": "08967cc8-9c26-4902-9575-1ad1a1edceba",
   "metadata": {
    "execution": {
     "iopub.execute_input": "2025-09-02T06:24:01.235798Z",
     "iopub.status.busy": "2025-09-02T06:24:01.235620Z",
     "iopub.status.idle": "2025-09-02T06:24:01.241032Z",
     "shell.execute_reply": "2025-09-02T06:24:01.240725Z",
     "shell.execute_reply.started": "2025-09-02T06:24:01.235785Z"
    }
   },
   "outputs": [],
   "source": [
    "%%sql\n",
    "CREATE INDEX IF NOT EXISTS gares_geom_index ON gares_idfm USING RTREE (geom);"
   ]
  },
  {
   "cell_type": "code",
   "execution_count": null,
   "id": "d57d0035-2e6a-4de1-a685-323c0e88b6e4",
   "metadata": {
    "execution": {
     "iopub.execute_input": "2025-09-02T06:24:15.684978Z",
     "iopub.status.busy": "2025-09-02T06:24:15.684803Z",
     "iopub.status.idle": "2025-09-02T06:24:15.697337Z",
     "shell.execute_reply": "2025-09-02T06:24:15.697053Z",
     "shell.execute_reply.started": "2025-09-02T06:24:15.684965Z"
    }
   },
   "outputs": [],
   "source": [
    "%%sql\n",
    "FROM\n",
    "  (DESCRIBE gares_idfm);"
   ]
  },
  {
   "cell_type": "code",
   "execution_count": null,
   "id": "b913772e-697c-4aa3-9882-94a25e15c1f9",
   "metadata": {
    "execution": {
     "iopub.execute_input": "2025-09-02T06:24:19.610931Z",
     "iopub.status.busy": "2025-09-02T06:24:19.610508Z",
     "iopub.status.idle": "2025-09-02T06:24:19.627593Z",
     "shell.execute_reply": "2025-09-02T06:24:19.627281Z",
     "shell.execute_reply.started": "2025-09-02T06:24:19.610914Z"
    }
   },
   "outputs": [],
   "source": [
    "%%sql df_idfm_stations <<\n",
    "SELECT\n",
    "    *,\n",
    "    ST_asText(geom) as geom_wkt\n",
    "FROM gares_idfm"
   ]
  },
  {
   "cell_type": "code",
   "execution_count": null,
   "id": "2bc8ee37-8f11-4271-b7d4-e804d59c1be2",
   "metadata": {
    "execution": {
     "iopub.execute_input": "2025-09-02T06:24:20.050126Z",
     "iopub.status.busy": "2025-09-02T06:24:20.049815Z",
     "iopub.status.idle": "2025-09-02T06:24:20.054324Z",
     "shell.execute_reply": "2025-09-02T06:24:20.054010Z",
     "shell.execute_reply.started": "2025-09-02T06:24:20.050112Z"
    }
   },
   "outputs": [],
   "source": [
    "df_idfm_stations"
   ]
  },
  {
   "cell_type": "markdown",
   "id": "2926a2ad-8aba-48b7-86d2-27ec2fcdab53",
   "metadata": {},
   "source": [
    "# Identification incitateurs\n"
   ]
  },
  {
   "cell_type": "code",
   "execution_count": null,
   "id": "961509cd-98fe-4cdd-a368-0edac8d8e9b3",
   "metadata": {
    "execution": {
     "iopub.execute_input": "2025-09-02T06:24:21.979929Z",
     "iopub.status.busy": "2025-09-02T06:24:21.979749Z",
     "iopub.status.idle": "2025-09-02T06:24:22.017325Z",
     "shell.execute_reply": "2025-09-02T06:24:22.016924Z",
     "shell.execute_reply.started": "2025-09-02T06:24:21.979914Z"
    }
   },
   "outputs": [],
   "source": [
    "df_journeys_raw = df_journeys_raw.with_columns(\n",
    "    pl.col(\"incentive_sirets\").list.contains(AOM_SIRET).alias(\"incentived_by_aom\"),\n",
    "    (\n",
    "        pl.col(\"incentive_sirets\")\n",
    "        .list.set_intersection(df_operators[\"siret\"].to_list())\n",
    "        .list.len()\n",
    "        > 0\n",
    "    ).alias(\"incentived_by_operator\"),\n",
    ")"
   ]
  },
  {
   "cell_type": "markdown",
   "id": "10488368-bd9f-41cc-aef9-5a726a221851",
   "metadata": {},
   "source": [
    "# Traitements geo\n"
   ]
  },
  {
   "cell_type": "code",
   "execution_count": null,
   "id": "741ff920-4d4f-4b1d-8383-e94a3686f6a3",
   "metadata": {
    "execution": {
     "iopub.execute_input": "2025-09-02T06:24:23.641434Z",
     "iopub.status.busy": "2025-09-02T06:24:23.641249Z",
     "iopub.status.idle": "2025-09-02T06:25:13.599692Z",
     "shell.execute_reply": "2025-09-02T06:25:13.599326Z",
     "shell.execute_reply.started": "2025-09-02T06:24:23.641418Z"
    }
   },
   "outputs": [],
   "source": [
    "df_journeys_raw = df_journeys_raw.with_columns(\n",
    "    pl.col(\"start_position\")\n",
    "    .map_elements(lambda x: shapely.from_wkb(x).wkt, return_dtype=pl.String)\n",
    "    .alias(\"start_pos\"),\n",
    "    pl.col(\"end_position\")\n",
    "    .map_elements(lambda x: shapely.from_wkb(x).wkt, return_dtype=pl.String)\n",
    "    .alias(\"end_pos\"),\n",
    ")"
   ]
  },
  {
   "cell_type": "markdown",
   "id": "094cb1c8-0ee5-423b-b288-474252b53999",
   "metadata": {},
   "source": [
    "# Filtrage des journeys sans incitations\n"
   ]
  },
  {
   "cell_type": "code",
   "execution_count": null,
   "id": "c20e75ba-8dea-470d-9265-ee120895a53b",
   "metadata": {
    "execution": {
     "iopub.execute_input": "2025-09-02T06:25:13.600225Z",
     "iopub.status.busy": "2025-09-02T06:25:13.600128Z",
     "iopub.status.idle": "2025-09-02T06:25:13.847686Z",
     "shell.execute_reply": "2025-09-02T06:25:13.847334Z",
     "shell.execute_reply.started": "2025-09-02T06:25:13.600215Z"
    }
   },
   "outputs": [],
   "source": [
    "df_journeys = df_journeys_raw.filter((pl.col(\"incentive_amount\") > 0))"
   ]
  },
  {
   "cell_type": "markdown",
   "id": "6aa2e606-9de1-47ce-a80b-384e141a1c7f",
   "metadata": {},
   "source": [
    "# Création de la table des journeys sur duckdb\n"
   ]
  },
  {
   "cell_type": "code",
   "execution_count": null,
   "id": "71b737a8-e07d-4478-ac4b-3b31c5cf4e28",
   "metadata": {
    "execution": {
     "iopub.execute_input": "2025-09-02T06:32:11.659581Z",
     "iopub.status.busy": "2025-09-02T06:32:11.659378Z",
     "iopub.status.idle": "2025-09-02T06:32:12.006260Z",
     "shell.execute_reply": "2025-09-02T06:32:12.005907Z",
     "shell.execute_reply.started": "2025-09-02T06:32:11.659567Z"
    }
   },
   "outputs": [],
   "source": [
    "%%sql\n",
    "CREATE TABLE\n",
    "  if NOT EXISTS journeys_raw AS\n",
    "SELECT\n",
    "  _id,\n",
    "  operator_id,\n",
    "  operator_journey_id,\n",
    "  operator_trip_id,\n",
    "  driver_identity_key,\n",
    "  first_trip_datetime,\n",
    "  passenger_identity_key,\n",
    "  passenger_first_trip_datetime,\n",
    "  start_datetime,\n",
    "  end_datetime,\n",
    "  distance,\n",
    "  driver_revenue,\n",
    "  passenger_contribution,\n",
    "  incentive_amount,\n",
    "  amount_aom,\n",
    "  incentive_sirets,\n",
    "  start_position,\n",
    "  end_position,\n",
    "  passenger_seats,\n",
    "  is_fully_inside_campaign_area,\n",
    "  journey_line,\n",
    "  start_com,\n",
    "  end_com,\n",
    "  incentived_by_aom,\n",
    "  incentived_by_operator,\n",
    "  ST_FlipCoordinates (ST_GeomFromText (start_pos)) AS start_pos,\n",
    "  ST_FlipCoordinates (ST_GeomFromText (end_pos)) AS end_pos\n",
    "FROM\n",
    "  df_journeys_raw"
   ]
  },
  {
   "cell_type": "code",
   "execution_count": null,
   "id": "2dc20a60-3958-4c87-9051-981e2643c80c",
   "metadata": {
    "execution": {
     "iopub.execute_input": "2025-09-02T06:32:12.050094Z",
     "iopub.status.busy": "2025-09-02T06:32:12.049773Z",
     "iopub.status.idle": "2025-09-02T06:32:12.056435Z",
     "shell.execute_reply": "2025-09-02T06:32:12.056117Z",
     "shell.execute_reply.started": "2025-09-02T06:32:12.050076Z"
    }
   },
   "outputs": [],
   "source": [
    "%%sql\n",
    "CREATE INDEX IF NOT EXISTS start_pos_idx ON journeys_raw USING RTREE (start_pos);\n",
    "\n",
    "CREATE INDEX IF NOT EXISTS end_pos_idx ON journeys_raw USING RTREE (end_pos);"
   ]
  },
  {
   "cell_type": "code",
   "execution_count": null,
   "id": "daf05c1c-9977-41f4-860e-2d4a3ff0c3ae",
   "metadata": {
    "execution": {
     "iopub.execute_input": "2025-09-02T06:32:12.339006Z",
     "iopub.status.busy": "2025-09-02T06:32:12.338709Z",
     "iopub.status.idle": "2025-09-02T06:32:12.344962Z",
     "shell.execute_reply": "2025-09-02T06:32:12.344658Z",
     "shell.execute_reply.started": "2025-09-02T06:32:12.338993Z"
    }
   },
   "outputs": [],
   "source": [
    "%%sql\n",
    "FROM\n",
    "  (DESCRIBE journeys_raw)"
   ]
  },
  {
   "cell_type": "code",
   "execution_count": null,
   "id": "77db35c0-d191-414b-8d67-73072ac62cc6",
   "metadata": {
    "execution": {
     "iopub.execute_input": "2025-09-02T06:32:12.626930Z",
     "iopub.status.busy": "2025-09-02T06:32:12.626631Z",
     "iopub.status.idle": "2025-09-02T06:32:12.738744Z",
     "shell.execute_reply": "2025-09-02T06:32:12.738466Z",
     "shell.execute_reply.started": "2025-09-02T06:32:12.626916Z"
    }
   },
   "outputs": [],
   "source": [
    "%%sql\n",
    "SELECT\n",
    "  *\n",
    "FROM\n",
    "  journeys_raw\n",
    "LIMIT\n",
    "  5"
   ]
  },
  {
   "cell_type": "code",
   "execution_count": null,
   "id": "07a23c2a-d6bf-44f5-b538-fc78f6004c45",
   "metadata": {
    "execution": {
     "iopub.execute_input": "2025-09-02T06:32:12.879496Z",
     "iopub.status.busy": "2025-09-02T06:32:12.879243Z",
     "iopub.status.idle": "2025-09-02T06:32:12.884255Z",
     "shell.execute_reply": "2025-09-02T06:32:12.883988Z",
     "shell.execute_reply.started": "2025-09-02T06:32:12.879481Z"
    }
   },
   "outputs": [],
   "source": [
    "%%sql\n",
    "SELECT\n",
    "  COUNT(*)\n",
    "FROM\n",
    "  journeys_raw"
   ]
  },
  {
   "cell_type": "markdown",
   "id": "35ee77da-9eb6-4f61-a334-09380fd09d48",
   "metadata": {},
   "source": [
    "# Statistiques globales\n"
   ]
  },
  {
   "cell_type": "code",
   "execution_count": null,
   "id": "431b7b25-d518-4b6e-a756-039166099c81",
   "metadata": {
    "execution": {
     "iopub.execute_input": "2025-09-02T07:53:52.056455Z",
     "iopub.status.busy": "2025-09-02T07:53:52.056048Z",
     "iopub.status.idle": "2025-09-02T07:53:52.062658Z",
     "shell.execute_reply": "2025-09-02T07:53:52.062288Z",
     "shell.execute_reply.started": "2025-09-02T07:53:52.056440Z"
    }
   },
   "outputs": [],
   "source": [
    "incentived_trip_filter_expr = pl.col(\"incentive_amount\") > 0\n",
    "\n",
    "agg_expressions = [\n",
    "    pl.col(\"_id\").n_unique().alias(\"num_journeys\"),\n",
    "    pl.col(\"_id\")\n",
    "    .filter(pl.col(\"is_fully_inside_campaign_area\"))\n",
    "    .n_unique()\n",
    "    .alias(\"num_journeys_intra_territory\"),\n",
    "    pl.col(\"_id\")\n",
    "    .filter(pl.col(\"is_fully_inside_campaign_area\") & incentived_trip_filter_expr)\n",
    "    .n_unique()\n",
    "    .alias(\"num_journeys_intra_territory_incentived_trips\"),\n",
    "    pl.col(\"_id\")\n",
    "    .filter(incentived_trip_filter_expr)\n",
    "    .n_unique()\n",
    "    .alias(\"num_journeys_incentived\"),\n",
    "    pl.col(\"_id\")\n",
    "    .filter(pl.col(\"incentived_by_aom\"))\n",
    "    .n_unique()\n",
    "    .alias(\"num_journeys_with_aom_incentive\"),\n",
    "    pl.col(\"_id\")\n",
    "    .filter(pl.col(\"incentived_by_operator\"))\n",
    "    .n_unique()\n",
    "    .alias(\"num_journeys_with_operator_incentive\"),\n",
    "    pl.col(\"_id\")\n",
    "    .filter(pl.col(\"is_fully_inside_campaign_area\"))\n",
    "    .n_unique()\n",
    "    .alias(\"num_journeys_intra\"),\n",
    "    (pl.col(\"distance\") / 1000).mean().alias(\"distance_avg\"),\n",
    "    (pl.col(\"distance\").filter(incentived_trip_filter_expr) / 1000)\n",
    "    .mean()\n",
    "    .alias(\"distance_incentived_trips_avg\"),\n",
    "    (pl.col(\"incentive_amount\").mean() / 100).alias(\"incentive_amount_avg\"),\n",
    "    (pl.col(\"passenger_contribution\").filter(incentived_trip_filter_expr.not_()) / 100)\n",
    "    .mean()\n",
    "    .alias(\"passenger_contribution_avg\"),\n",
    "    (pl.col(\"passenger_contribution\").filter(incentived_trip_filter_expr) / 100)\n",
    "    .mean()\n",
    "    .alias(\"passenger_contribution_incentived_trips_avg\"),\n",
    "    (\n",
    "        pl.col(\"driver_revenue\").filter(incentived_trip_filter_expr.not_()).mean() / 100\n",
    "    ).alias(\"driver_revenue_avg\"),\n",
    "    (pl.col(\"driver_revenue\").filter(incentived_trip_filter_expr).mean() / 100).alias(\n",
    "        \"driver_revenue_incentived_trips_avg\"\n",
    "    ),\n",
    "    (\n",
    "        pl.col(\"incentive_amount\")\n",
    "        .filter(pl.col(\"is_fully_inside_campaign_area\"))\n",
    "        .mean()\n",
    "        / 100\n",
    "    ).alias(\"incentive_amount_intra_avg\"),\n",
    "    (\n",
    "        pl.col(\"passenger_contribution\")\n",
    "        .filter(pl.col(\"is_fully_inside_campaign_area\") & incentived_trip_filter_expr)\n",
    "        .mean()\n",
    "        / 100\n",
    "    ).alias(\"passenger_contribution_intra_avg\"),\n",
    "    (\n",
    "        pl.col(\"driver_revenue\")\n",
    "        .filter(pl.col(\"is_fully_inside_campaign_area\") & incentived_trip_filter_expr)\n",
    "        .mean()\n",
    "        / 100\n",
    "    ).alias(\"driver_revenue_intra_avg\"),\n",
    "    (\n",
    "        pl.col(\"incentive_amount\")\n",
    "        .filter(\n",
    "            pl.col(\"is_fully_inside_campaign_area\").not_() & incentived_trip_filter_expr\n",
    "        )\n",
    "        .mean()\n",
    "        / 100\n",
    "    ).alias(\"incentive_amount_inter_avg\"),\n",
    "    (\n",
    "        pl.col(\"passenger_contribution\")\n",
    "        .filter(\n",
    "            pl.col(\"is_fully_inside_campaign_area\").not_() & incentived_trip_filter_expr\n",
    "        )\n",
    "        .mean()\n",
    "        / 100\n",
    "    ).alias(\"passenger_contribution_inter_avg\"),\n",
    "    (\n",
    "        pl.col(\"driver_revenue\")\n",
    "        .filter(\n",
    "            pl.col(\"is_fully_inside_campaign_area\").not_() & incentived_trip_filter_expr\n",
    "        )\n",
    "        .mean()\n",
    "        / 100\n",
    "    ).alias(\"driver_revenue_inter_avg\"),\n",
    "    (10 * (pl.col(\"incentive_amount\") / pl.col(\"distance\")))\n",
    "    .mean()\n",
    "    .alias(\"incentive_amount_per_km_avg\"),\n",
    "    (\n",
    "        10\n",
    "        * (pl.col(\"passenger_contribution\") / pl.col(\"distance\")).filter(\n",
    "            incentived_trip_filter_expr.not_()\n",
    "        )\n",
    "    )\n",
    "    .mean()\n",
    "    .alias(\"passenger_contribution_per_km_avg\"),\n",
    "    (\n",
    "        10\n",
    "        * (pl.col(\"passenger_contribution\") / pl.col(\"distance\")).filter(\n",
    "            incentived_trip_filter_expr\n",
    "        )\n",
    "    )\n",
    "    .mean()\n",
    "    .alias(\"passenger_contribution_per_km_incentived_trips_avg\"),\n",
    "    (\n",
    "        10\n",
    "        * (pl.col(\"driver_revenue\") / pl.col(\"distance\")).filter(\n",
    "            incentived_trip_filter_expr.not_()\n",
    "        )\n",
    "    )\n",
    "    .mean()\n",
    "    .alias(\"driver_revenue_per_km_avg\"),\n",
    "    (\n",
    "        10\n",
    "        * (pl.col(\"driver_revenue\") / pl.col(\"distance\")).filter(\n",
    "            incentived_trip_filter_expr\n",
    "        )\n",
    "    )\n",
    "    .mean()\n",
    "    .alias(\"driver_revenue_per_km_incentived_trips_avg\"),\n",
    "    pl.col(\"driver_identity_key\").n_unique().alias(\"number_of_unique_driver\"),\n",
    "    pl.col(\"passenger_identity_key\").n_unique().alias(\"number_of_unique_passenger\"),\n",
    "]"
   ]
  },
  {
   "cell_type": "code",
   "execution_count": null,
   "id": "0984f8c1-7d46-413e-9a88-7ce13898d77d",
   "metadata": {
    "execution": {
     "iopub.execute_input": "2025-09-02T06:32:13.560651Z",
     "iopub.status.busy": "2025-09-02T06:32:13.560268Z",
     "iopub.status.idle": "2025-09-02T06:32:14.039026Z",
     "shell.execute_reply": "2025-09-02T06:32:14.038681Z",
     "shell.execute_reply.started": "2025-09-02T06:32:13.560638Z"
    }
   },
   "outputs": [],
   "source": [
    "df_stats_by_month = (\n",
    "    df_journeys_raw.group_by(pl.col(\"start_datetime\").dt.truncate(\"1mo\").alias(\"month\"))\n",
    "    .agg(agg_expressions)\n",
    "    .sort(pl.col(\"month\"))\n",
    ")"
   ]
  },
  {
   "cell_type": "code",
   "execution_count": null,
   "id": "acd82802-19bc-4440-a822-7e93461fca25",
   "metadata": {
    "execution": {
     "iopub.execute_input": "2025-09-02T06:32:14.039672Z",
     "iopub.status.busy": "2025-09-02T06:32:14.039560Z",
     "iopub.status.idle": "2025-09-02T06:32:14.608562Z",
     "shell.execute_reply": "2025-09-02T06:32:14.608175Z",
     "shell.execute_reply.started": "2025-09-02T06:32:14.039662Z"
    }
   },
   "outputs": [],
   "source": [
    "df_stats_by_week = (\n",
    "    df_journeys_raw.filter(\n",
    "        pl.col(\"start_datetime\") <= datetime(2025, 7, 20, tzinfo=ZoneInfo(\"GMT\"))\n",
    "    )\n",
    "    .group_by(pl.col(\"start_datetime\").dt.truncate(\"1w\").alias(\"week\"))\n",
    "    .agg(agg_expressions)\n",
    "    .sort(pl.col(\"week\"))\n",
    ")"
   ]
  },
  {
   "cell_type": "markdown",
   "id": "e71a17ef-4a91-44c8-9d8c-42fd7498afa9",
   "metadata": {},
   "source": [
    "## Nombre de journeys\n"
   ]
  },
  {
   "cell_type": "code",
   "execution_count": null,
   "id": "1f31636f-633e-4932-9671-9c1a85f3f063",
   "metadata": {
    "execution": {
     "iopub.execute_input": "2025-09-02T06:32:14.609153Z",
     "iopub.status.busy": "2025-09-02T06:32:14.609048Z",
     "iopub.status.idle": "2025-09-02T06:32:14.724613Z",
     "shell.execute_reply": "2025-09-02T06:32:14.724304Z",
     "shell.execute_reply.started": "2025-09-02T06:32:14.609143Z"
    }
   },
   "outputs": [],
   "source": [
    "with pl.Config(set_fmt_str_lengths=120, set_tbl_width_chars=1000):\n",
    "    print(\n",
    "        df_journeys_raw.select(\n",
    "            pl.col(\"_id\").n_unique().alias(\"Nombre de journeys\"),\n",
    "            pl.col(\"_id\")\n",
    "            .filter(pl.col(\"incentive_amount\") > 0)\n",
    "            .n_unique()\n",
    "            .alias(\"Nombre de journeys avec incitation\"),\n",
    "            (\n",
    "                100\n",
    "                * pl.col(\"_id\").filter(pl.col(\"incentive_amount\") > 0).n_unique()\n",
    "                / pl.col(\"_id\").n_unique()\n",
    "            ).alias(\"% journeys avec incitation\"),\n",
    "            pl.col(\"_id\")\n",
    "            .filter(pl.col(\"incentived_by_aom\"))\n",
    "            .n_unique()\n",
    "            .alias(\"Nombre de journeys avec incitation AOM\"),\n",
    "            (\n",
    "                100\n",
    "                * pl.col(\"_id\").filter(pl.col(\"incentived_by_aom\")).n_unique()\n",
    "                / pl.col(\"_id\").n_unique()\n",
    "            ).alias(\"% journeys avec incitation AOM\"),\n",
    "            pl.col(\"_id\")\n",
    "            .filter(pl.col(\"incentived_by_operator\"))\n",
    "            .n_unique()\n",
    "            .alias(\"Nombre de journeys avec incitation opérateur\"),\n",
    "            (\n",
    "                100\n",
    "                * pl.col(\"_id\").filter(pl.col(\"incentived_by_operator\")).n_unique()\n",
    "                / pl.col(\"_id\").n_unique()\n",
    "            ).alias(\"% journeys avec incitation opérateur\"),\n",
    "        )\n",
    "        .with_columns(pl.selectors.all().round(2))\n",
    "        .unpivot()\n",
    "    )"
   ]
  },
  {
   "cell_type": "markdown",
   "id": "57ee0905-ed11-427a-a268-ceeb558b73a1",
   "metadata": {},
   "source": [
    "### Evolution\n"
   ]
  },
  {
   "cell_type": "markdown",
   "id": "776f594a-cdbb-45a3-bdd2-16a3de3e3feb",
   "metadata": {},
   "source": [
    "#### Globale\n"
   ]
  },
  {
   "cell_type": "code",
   "execution_count": null,
   "id": "f2e51bf3-b878-4b12-a6aa-2ae515c7f26b",
   "metadata": {
    "execution": {
     "iopub.execute_input": "2025-09-02T06:32:14.759393Z",
     "iopub.status.busy": "2025-09-02T06:32:14.759026Z",
     "iopub.status.idle": "2025-09-02T06:32:14.762448Z",
     "shell.execute_reply": "2025-09-02T06:32:14.762155Z",
     "shell.execute_reply.started": "2025-09-02T06:32:14.759374Z"
    }
   },
   "outputs": [],
   "source": [
    "def create_num_journeys_fig(\n",
    "    df: pl.DataFrame,\n",
    "    x_col: str = \"month\",\n",
    "    title: str = \"IDFM - Nombre de journeys par mois\",\n",
    ") -> go.Figure:\n",
    "    traces = []\n",
    "    max_y = 0\n",
    "\n",
    "    df_grouped = df.group_by()\n",
    "    for name in [\n",
    "        \"num_journeys\",\n",
    "        \"num_journeys_incentived\",\n",
    "        \"num_journeys_with_aom_incentive\",\n",
    "        \"num_journeys_with_operator_incentive\",\n",
    "    ]:\n",
    "        trace = go.Scatter(\n",
    "            x=df[x_col],\n",
    "            y=df[name],\n",
    "            mode=\"lines+text\" if name == \"num_journeys\" else \"lines\",\n",
    "            textposition=\"top center\",\n",
    "            text=df[name] if name == \"num_journeys\" else None,\n",
    "            name=labels_map.get(name, name),\n",
    "        )\n",
    "        traces.append(trace)\n",
    "        max_y = max(max_y, df[name].max())\n",
    "\n",
    "    fig = go.Figure(traces)\n",
    "\n",
    "    fig.update_layout(\n",
    "        template=\"simple_white\",\n",
    "        title=title,\n",
    "        legend_orientation=\"h\",\n",
    "        legend_y=0.6,\n",
    "        legend_yref=\"container\",\n",
    "    )\n",
    "    fig.update_xaxes(title=\"Mois\" if x_col == \"month\" else \"Semaine\")\n",
    "    fig.update_yaxes(range=[0, max_y * 1.2], showgrid=True, title=\"Nombre de journeys\")\n",
    "\n",
    "    return fig"
   ]
  },
  {
   "cell_type": "code",
   "execution_count": null,
   "id": "1e98075b-b46d-4297-a49c-6e8fb140cace",
   "metadata": {
    "execution": {
     "iopub.execute_input": "2025-09-02T06:32:14.943762Z",
     "iopub.status.busy": "2025-09-02T06:32:14.943453Z",
     "iopub.status.idle": "2025-09-02T06:32:15.998432Z",
     "shell.execute_reply": "2025-09-02T06:32:15.997870Z",
     "shell.execute_reply.started": "2025-09-02T06:32:14.943748Z"
    }
   },
   "outputs": [],
   "source": [
    "fig_journeys_by_month = create_num_journeys_fig(df_stats_by_month)\n",
    "fig_journeys_by_month.show()\n",
    "\n",
    "fig_journeys_by_month.write_html(OUTPUT_PATH / \"fig_journeys_par_mois.html\")\n",
    "fig_journeys_by_month.write_image(\n",
    "    OUTPUT_PATH / \"fig_journeys_par_mois.svg\", width=1280, height=720\n",
    ")"
   ]
  },
  {
   "cell_type": "markdown",
   "id": "ff019482-413d-4911-955b-876460f79104",
   "metadata": {},
   "source": [
    "#### Opérateur incitateurs\n"
   ]
  },
  {
   "cell_type": "code",
   "execution_count": null,
   "id": "cca2ed00-71a8-45d6-b1ab-d37072d3cd0c",
   "metadata": {
    "execution": {
     "iopub.status.busy": "2025-09-02T06:32:15.998634Z",
     "iopub.status.idle": "2025-09-02T06:32:15.998748Z",
     "shell.execute_reply": "2025-09-02T06:32:15.998696Z",
     "shell.execute_reply.started": "2025-09-02T06:32:15.998690Z"
    }
   },
   "outputs": [],
   "source": [
    "fig_journeys_by_operator = px.line(\n",
    "    df_journeys.explode(\"incentive_sirets\")\n",
    "    .join(df_operators, left_on=\"incentive_sirets\", right_on=\"siret\", how=\"left\")\n",
    "    .group_by([\"name\", pl.col(\"start_datetime\").dt.truncate(\"1mo\")])\n",
    "    .agg(pl.col(\"operator_journey_id\").n_unique().alias(\"num_journeys\"))\n",
    "    .rename({\"name\": \"operator\", \"start_datetime\": \"month\"})\n",
    "    .sort(\"month\"),\n",
    "    x=\"month\",\n",
    "    y=\"num_journeys\",\n",
    "    color=\"operator\",\n",
    "    template=\"simple_white\",\n",
    "    labels=labels_map,\n",
    "    title=\"Nombre de journeys incités par opérateur\",\n",
    ")\n",
    "fig_journeys_by_operator.update_yaxes(showgrid=True)\n",
    "fig_journeys_by_operator.show()\n",
    "\n",
    "\n",
    "fig_journeys_by_operator.write_html(\"outputs_idfm/fig_journeys_par_operateur_mois.html\")\n",
    "fig_journeys_by_operator.write_image(\n",
    "    \"outputs_idfm/fig_journeys_par_operateur_mois.svg\", width=1280, height=720\n",
    ")"
   ]
  },
  {
   "cell_type": "markdown",
   "id": "e1fc5427-e93a-4a98-8df6-f2605a7b3bd7",
   "metadata": {},
   "source": [
    "#### intra vs inter\n"
   ]
  },
  {
   "cell_type": "code",
   "execution_count": null,
   "id": "5948878a-b8ce-44df-b597-ec6dd6a6a821",
   "metadata": {
    "execution": {
     "iopub.status.busy": "2025-09-02T06:32:15.999012Z",
     "iopub.status.idle": "2025-09-02T06:32:15.999120Z",
     "shell.execute_reply": "2025-09-02T06:32:15.999070Z",
     "shell.execute_reply.started": "2025-09-02T06:32:15.999065Z"
    }
   },
   "outputs": [],
   "source": [
    "fig_journeys_by_journey_type = px.line(\n",
    "    df_stats_by_week.with_columns(\n",
    "        (pl.col(\"num_journeys\") - pl.col(\"num_journeys_intra_territory\")).alias(\n",
    "            \"num_journeys_inter_territory\"\n",
    "        )\n",
    "    ),\n",
    "    x=\"week\",\n",
    "    y=[\"num_journeys_intra_territory\", \"num_journeys_inter_territory\"],\n",
    "    template=\"simple_white\",\n",
    "    labels=labels_map,\n",
    "    title=\"Nombre de journeys par type de trajets\",\n",
    ")\n",
    "fig_journeys_by_journey_type.update_traces(\n",
    "    {\"name\": labels_map[\"num_journeys_intra_territory\"]},\n",
    "    selector={\"name\": \"num_journeys_intra_territory\"},\n",
    ")\n",
    "fig_journeys_by_journey_type.update_traces(\n",
    "    {\"name\": labels_map[\"num_journeys_inter_territory\"]},\n",
    "    selector={\"name\": \"num_journeys_inter_territory\"},\n",
    ")\n",
    "fig_journeys_by_journey_type.update_yaxes(showgrid=True, title=\"Nombre de journeys\")\n",
    "fig_journeys_by_journey_type.update_layout(\n",
    "    legend_title=\"\", legend_orientation=\"h\", legend_y=0.7, legend_yref=\"container\"\n",
    ")\n",
    "fig_journeys_by_journey_type.show()\n",
    "\n",
    "\n",
    "fig_journeys_by_journey_type.write_html(\n",
    "    OUTPUT_PATH / \"fig_journeys_par_type_semaine.html\"\n",
    ")\n",
    "fig_journeys_by_journey_type.write_image(\n",
    "    OUTPUT_PATH / \"fig_journeys_par_type_semaine.svg\", width=1280, height=720\n",
    ")"
   ]
  },
  {
   "cell_type": "code",
   "execution_count": null,
   "id": "d43c913c-e94d-404c-94ef-9a2967dca6c0",
   "metadata": {
    "execution": {
     "iopub.status.busy": "2025-09-02T06:32:15.999356Z",
     "iopub.status.idle": "2025-09-02T06:32:15.999468Z",
     "shell.execute_reply": "2025-09-02T06:32:15.999419Z",
     "shell.execute_reply.started": "2025-09-02T06:32:15.999413Z"
    }
   },
   "outputs": [],
   "source": [
    "fig_journeys_by_journey_type_incentived_trips = px.line(\n",
    "    df_stats_by_week.with_columns(\n",
    "        (\n",
    "            pl.col(\"num_journeys_incentived\")\n",
    "            - pl.col(\"num_journeys_intra_territory_incentived_trips\")\n",
    "        ).alias(\"num_journeys_inter_territory_incentived_trips\")\n",
    "    ),\n",
    "    x=\"week\",\n",
    "    y=[\n",
    "        \"num_journeys_intra_territory_incentived_trips\",\n",
    "        \"num_journeys_inter_territory_incentived_trips\",\n",
    "    ],\n",
    "    template=\"simple_white\",\n",
    "    labels=labels_map,\n",
    "    title=\"Nombre de journeys par type de trajets - Trajets incités\",\n",
    ")\n",
    "\n",
    "for e in [\n",
    "    \"num_journeys_intra_territory_incentived_trips\",\n",
    "    \"num_journeys_inter_territory_incentived_trips\",\n",
    "]:\n",
    "    fig_journeys_by_journey_type_incentived_trips.update_traces(\n",
    "        {\"name\": labels_map.get(e)},\n",
    "        selector={\"name\": e},\n",
    "    )\n",
    "fig_journeys_by_journey_type_incentived_trips.update_yaxes(\n",
    "    showgrid=True, title=\"Nombre de journeys\"\n",
    ")\n",
    "fig_journeys_by_journey_type_incentived_trips.update_layout(\n",
    "    legend_title=\"\", legend_orientation=\"h\", legend_y=0.7, legend_yref=\"container\"\n",
    ")\n",
    "fig_journeys_by_journey_type_incentived_trips.show()\n",
    "\n",
    "\n",
    "fig_journeys_by_journey_type_incentived_trips.write_html(\n",
    "    \"outputs_idfm/fig_journeys_par_type_semaine_trajets_incites.html\"\n",
    ")\n",
    "fig_journeys_by_journey_type_incentived_trips.write_image(\n",
    "    \"outputs_idfm/fig_journeys_par_type_semaine_trajets_incites.svg\",\n",
    "    width=1280,\n",
    "    height=720,\n",
    ")"
   ]
  },
  {
   "cell_type": "markdown",
   "id": "1c186fed-5245-4b3b-9e55-58b88f261463",
   "metadata": {},
   "source": [
    "## Par opérateurs\n"
   ]
  },
  {
   "cell_type": "code",
   "execution_count": null,
   "id": "d8a11272-80b7-4eae-8f3e-ed911db6c9b6",
   "metadata": {
    "execution": {
     "iopub.execute_input": "2025-09-02T06:32:16.706923Z",
     "iopub.status.busy": "2025-09-02T06:32:16.706567Z",
     "iopub.status.idle": "2025-09-02T06:32:17.075712Z",
     "shell.execute_reply": "2025-09-02T06:32:17.075400Z",
     "shell.execute_reply.started": "2025-09-02T06:32:16.706911Z"
    }
   },
   "outputs": [],
   "source": [
    "px.line(\n",
    "    df_journeys.group_by([\"operator_id\", pl.col(\"start_datetime\").dt.truncate(\"1w\")])\n",
    "    .agg(pl.col(\"_id\").n_unique().alias(\"num_journeys\"))\n",
    "    .join(df_operators, left_on=\"operator_id\", right_on=\"_id\", validate=\"m:1\")\n",
    "    .sort([\"start_datetime\", \"operator_id\"]),\n",
    "    x=\"start_datetime\",\n",
    "    y=\"num_journeys\",\n",
    "    color=\"name\",\n",
    "    labels=labels_map,\n",
    "    template=\"simple_white\",\n",
    "    title=\"Nombre de journeys par opérateur<br><sub>Uniquement les trajets incités</sub>\",\n",
    ")"
   ]
  },
  {
   "cell_type": "markdown",
   "id": "46c3d3a8-4bc8-4039-a641-7edb33529aad",
   "metadata": {},
   "source": [
    "## Distance\n"
   ]
  },
  {
   "cell_type": "code",
   "execution_count": null,
   "id": "cb72f5ad-cfd3-4bf0-b30e-7100c12382d4",
   "metadata": {
    "execution": {
     "iopub.execute_input": "2025-09-02T06:32:17.413218Z",
     "iopub.status.busy": "2025-09-02T06:32:17.412917Z",
     "iopub.status.idle": "2025-09-02T06:32:17.435178Z",
     "shell.execute_reply": "2025-09-02T06:32:17.434911Z",
     "shell.execute_reply.started": "2025-09-02T06:32:17.413200Z"
    }
   },
   "outputs": [],
   "source": [
    "fig_distance_by_month = px.line(\n",
    "    df_stats_by_month.with_columns(\n",
    "        pl.col(\"distance_avg\").round(1).alias(\"distance_avg_fmt\")\n",
    "    ),\n",
    "    x=\"month\",\n",
    "    y=\"distance_avg\",\n",
    "    text=\"distance_avg_fmt\",\n",
    "    template=\"simple_white\",\n",
    "    labels=labels_map,\n",
    "    title=\"Evolution de la distance moyenne par trajets\",\n",
    ")\n",
    "fig_distance_by_month.update_traces(textposition=\"top center\")\n",
    "fig_distance_by_month.update_yaxes(\n",
    "    range=[0, df_stats_by_month[\"distance_avg\"].max() * 1.1], zeroline=True\n",
    ")\n",
    "fig_distance_by_month.show()"
   ]
  },
  {
   "cell_type": "markdown",
   "id": "aca10301-2ad1-415c-8a3a-80334de26be0",
   "metadata": {},
   "source": [
    "## Prix, revenus et incitations\n"
   ]
  },
  {
   "cell_type": "markdown",
   "id": "eea5e57c-44e3-43dc-bfd0-3ff6b827836d",
   "metadata": {},
   "source": [
    "### Trajets Incités\n"
   ]
  },
  {
   "cell_type": "code",
   "execution_count": null,
   "id": "4f167e63-d0e2-49d3-98cd-111aeb1bf94f",
   "metadata": {
    "execution": {
     "iopub.execute_input": "2025-09-02T06:32:18.826656Z",
     "iopub.status.busy": "2025-09-02T06:32:18.826467Z",
     "iopub.status.idle": "2025-09-02T06:32:18.830105Z",
     "shell.execute_reply": "2025-09-02T06:32:18.829769Z",
     "shell.execute_reply.started": "2025-09-02T06:32:18.826641Z"
    }
   },
   "outputs": [],
   "source": [
    "def create_scatter_fig_prices(\n",
    "    df: pl.DataFrame,\n",
    "    stats_cols: list[str],\n",
    "    x_col: str,\n",
    "    title: str,\n",
    "    labels_map: dict[str, str],\n",
    "    x_title: str = \"Montant (euros)\",\n",
    ") -> go.Figure:\n",
    "    traces = []\n",
    "    for name in stats_cols:\n",
    "        trace = go.Scatter(\n",
    "            x=df[x_col],\n",
    "            y=df[name],\n",
    "            name=labels_map.get(name, name),\n",
    "            mode=\"lines+markers\",\n",
    "            marker_size=4,\n",
    "        )\n",
    "        traces.append(trace)\n",
    "    fig = go.Figure(traces)\n",
    "    fig.update_layout(\n",
    "        template=\"simple_white\",\n",
    "        title=title,\n",
    "        legend_orientation=\"h\",\n",
    "        legend_y=0.7,\n",
    "        legend_yref=\"container\",\n",
    "    )\n",
    "\n",
    "    max_y = df.select(stats_cols).max().max_horizontal().item()\n",
    "\n",
    "    fig.update_yaxes(\n",
    "        range=[0, max_y * 1.2],\n",
    "        title=x_title,\n",
    "        showgrid=True,\n",
    "        gridwidth=2,\n",
    "        ticksuffix=\"€\",\n",
    "    )\n",
    "    fig.update_xaxes(title=\"Mois\" if x_col == \"month\" else \"Semaine\")\n",
    "\n",
    "    return fig"
   ]
  },
  {
   "cell_type": "code",
   "execution_count": null,
   "id": "6093182f-c8e9-4545-a5fb-653ce70736e3",
   "metadata": {
    "execution": {
     "iopub.execute_input": "2025-09-02T06:32:19.327637Z",
     "iopub.status.busy": "2025-09-02T06:32:19.327432Z",
     "iopub.status.idle": "2025-09-02T06:32:19.745254Z",
     "shell.execute_reply": "2025-09-02T06:32:19.744745Z",
     "shell.execute_reply.started": "2025-09-02T06:32:19.327622Z"
    }
   },
   "outputs": [],
   "source": [
    "fig_prices_by_week = create_scatter_fig_prices(\n",
    "    df_stats_by_week,\n",
    "    [\n",
    "        \"incentive_amount_avg\",\n",
    "        \"passenger_contribution_incentived_trips_avg\",\n",
    "        \"driver_revenue_incentived_trips_avg\",\n",
    "    ],\n",
    "    \"week\",\n",
    "    (\n",
    "        \"Montants moyens par trajet des incitations,\"\n",
    "        \"<br>contributions passagers et revenus conducteurs - Trajets incités\"\n",
    "    ),\n",
    "    {\n",
    "        **labels_map,\n",
    "        \"passenger_contribution_incentived_trips_avg\": \"Contribution moyenne passager\",\n",
    "        \"driver_revenue_incentived_trips_avg\": \"Revenu moyen conducteur\",\n",
    "    },\n",
    ")\n",
    "fig_prices_by_week.show()\n",
    "\n",
    "\n",
    "fig_prices_by_week.write_html(OUTPUT_PATH / \"fig_prix_par_semaine.html\")\n",
    "fig_prices_by_week.write_image(\n",
    "    OUTPUT_PATH / \"fig_prix_par_semaine.svg\", width=1280, height=720\n",
    ")"
   ]
  },
  {
   "cell_type": "markdown",
   "id": "78d37df8-589a-475f-b276-22810292780b",
   "metadata": {},
   "source": [
    "#### Intra\n"
   ]
  },
  {
   "cell_type": "code",
   "execution_count": null,
   "id": "ee394865-bad8-458a-b9ff-49a7be464fed",
   "metadata": {
    "execution": {
     "iopub.execute_input": "2025-09-02T06:32:21.498732Z",
     "iopub.status.busy": "2025-09-02T06:32:21.498527Z",
     "iopub.status.idle": "2025-09-02T06:32:21.908230Z",
     "shell.execute_reply": "2025-09-02T06:32:21.907751Z",
     "shell.execute_reply.started": "2025-09-02T06:32:21.498718Z"
    }
   },
   "outputs": [],
   "source": [
    "fig_prices_by_week_intra = create_scatter_fig_prices(\n",
    "    df_stats_by_week,\n",
    "    [\n",
    "        \"incentive_amount_intra_avg\",\n",
    "        \"passenger_contribution_intra_avg\",\n",
    "        \"driver_revenue_intra_avg\",\n",
    "    ],\n",
    "    \"week\",\n",
    "    (\n",
    "        \"Montants moyens par trajet <b>intra</b> des incitations,\"\n",
    "        \"<br>contributions passagers et revenus conducteurs\"\n",
    "    ),\n",
    "    labels_map,\n",
    ")\n",
    "fig_prices_by_week_intra.show()\n",
    "\n",
    "\n",
    "fig_prices_by_week_intra.write_html(OUTPUT_PATH / \"fig_prix_intra_par_semaine.html\")\n",
    "fig_prices_by_week_intra.write_image(\n",
    "    OUTPUT_PATH / \"fig_prix_intra_par_semaine.svg\", width=1280, height=720\n",
    ")"
   ]
  },
  {
   "cell_type": "markdown",
   "id": "c040f65a-2ab6-411b-987d-d89f2f0e3c1d",
   "metadata": {},
   "source": [
    "#### Inter\n"
   ]
  },
  {
   "cell_type": "code",
   "execution_count": null,
   "id": "c8838222-0242-4768-91e1-a83a00659f9b",
   "metadata": {
    "execution": {
     "iopub.execute_input": "2025-09-02T06:32:22.746962Z",
     "iopub.status.busy": "2025-09-02T06:32:22.746777Z",
     "iopub.status.idle": "2025-09-02T06:32:23.150149Z",
     "shell.execute_reply": "2025-09-02T06:32:23.149630Z",
     "shell.execute_reply.started": "2025-09-02T06:32:22.746948Z"
    }
   },
   "outputs": [],
   "source": [
    "fig_prices_by_week_inter = create_scatter_fig_prices(\n",
    "    df_stats_by_week,\n",
    "    [\n",
    "        \"incentive_amount_inter_avg\",\n",
    "        \"passenger_contribution_inter_avg\",\n",
    "        \"driver_revenue_inter_avg\",\n",
    "    ],\n",
    "    \"week\",\n",
    "    (\n",
    "        \"Montants moyens par trajet <b>inter</b> des incitations,\"\n",
    "        \"<br>contributions passagers et revenus conducteurs\"\n",
    "    ),\n",
    "    labels_map,\n",
    ")\n",
    "fig_prices_by_week_inter.show()\n",
    "\n",
    "\n",
    "fig_prices_by_week_inter.write_html(OUTPUT_PATH / \"fig_prix_inter_par_semaine.html\")\n",
    "fig_prices_by_week_inter.write_image(\n",
    "    OUTPUT_PATH / \"fig_prix_inter_par_semaine.svg\", width=1280, height=720\n",
    ")"
   ]
  },
  {
   "cell_type": "markdown",
   "id": "6c7bddb0-9a3e-418f-9021-6d2baffd2363",
   "metadata": {},
   "source": [
    "#### Au kilomètre\n"
   ]
  },
  {
   "cell_type": "code",
   "execution_count": null,
   "id": "ecc2db09-9d74-4a39-b1cf-df0bc87c9427",
   "metadata": {
    "execution": {
     "iopub.execute_input": "2025-09-02T06:32:23.740418Z",
     "iopub.status.busy": "2025-09-02T06:32:23.740151Z",
     "iopub.status.idle": "2025-09-02T06:32:24.135796Z",
     "shell.execute_reply": "2025-09-02T06:32:24.135304Z",
     "shell.execute_reply.started": "2025-09-02T06:32:23.740397Z"
    }
   },
   "outputs": [],
   "source": [
    "fig_prices_per_km_by_week = create_scatter_fig_prices(\n",
    "    df_stats_by_week,\n",
    "    [\n",
    "        \"incentive_amount_per_km_avg\",\n",
    "        \"passenger_contribution_per_km_incentived_trips_avg\",\n",
    "        \"driver_revenue_per_km_incentived_trips_avg\",\n",
    "    ],\n",
    "    \"week\",\n",
    "    (\n",
    "        \"Montants moyens <b>par km</b> des incitations,\"\n",
    "        \"contributions passagers et revenus conducteurs\"\n",
    "        \"<br><sub>Uniquement les trajets incités</sub>\"\n",
    "    ),\n",
    "    {\n",
    "        **labels_map,\n",
    "        \"incentive_amount_per_km_avg\": \"Incitation moyenne\",\n",
    "        \"passenger_contribution_per_km_incentived_trips_avg\": \"Contribution moyenne passager\",\n",
    "        \"driver_revenue_per_km_incentived_trips_avg\": \"Revenu moyen conducteur\",\n",
    "    },\n",
    "    x_title=\"Montant (euros/km)\",\n",
    ")\n",
    "fig_prices_per_km_by_week.show()\n",
    "\n",
    "\n",
    "fig_prices_per_km_by_week.write_html(OUTPUT_PATH / \"fig_prix_par_km_par_semaine.html\")\n",
    "fig_prices_per_km_by_week.write_image(\n",
    "    OUTPUT_PATH / \"fig_prix_par_km_par_semaine.svg\", width=1280, height=720\n",
    ")"
   ]
  },
  {
   "cell_type": "markdown",
   "id": "1efd5338-5202-4659-b096-a0304c6572c7",
   "metadata": {},
   "source": [
    "### Incitation par rapport à la distance\n"
   ]
  },
  {
   "cell_type": "code",
   "execution_count": null,
   "id": "4cbdba39-c22d-4bdc-9472-7877cf902071",
   "metadata": {
    "execution": {
     "iopub.execute_input": "2025-09-02T06:32:24.872099Z",
     "iopub.status.busy": "2025-09-02T06:32:24.871677Z",
     "iopub.status.idle": "2025-09-02T06:32:25.021761Z",
     "shell.execute_reply": "2025-09-02T06:32:25.021483Z",
     "shell.execute_reply.started": "2025-09-02T06:32:24.872082Z"
    }
   },
   "outputs": [],
   "source": [
    "px.scatter(\n",
    "    df_journeys.filter(\n",
    "        pl.col(\"amount_aom\").is_not_null()\n",
    "        & (pl.col(\"incentive_sirets\") == [AOM_SIRET])\n",
    "        & (pl.col(\"is_fully_inside_campaign_area\").not_())\n",
    "    )\n",
    "    .with_columns(pl.col(\"distance\") / 1000)\n",
    "    .unpivot(\n",
    "        on=[\"amount_aom\", \"passenger_contribution\", \"driver_revenue\"],\n",
    "        index=[\"_id\", \"distance\"],\n",
    "    )\n",
    "    .sort(\"distance\"),\n",
    "    x=\"distance\",\n",
    "    y=\"value\",\n",
    "    color=\"variable\",\n",
    "    template=\"simple_white\",\n",
    ")"
   ]
  },
  {
   "cell_type": "code",
   "execution_count": null,
   "id": "fc5f1645-b943-48e3-9ab9-3d95beebe0e3",
   "metadata": {
    "execution": {
     "iopub.execute_input": "2025-09-02T06:32:25.471950Z",
     "iopub.status.busy": "2025-09-02T06:32:25.471618Z",
     "iopub.status.idle": "2025-09-02T06:32:25.953722Z",
     "shell.execute_reply": "2025-09-02T06:32:25.953251Z",
     "shell.execute_reply.started": "2025-09-02T06:32:25.471936Z"
    }
   },
   "outputs": [],
   "source": [
    "df_incentive_aom_by_distance = (\n",
    "    df_journeys.filter(\n",
    "        (pl.col(\"incentive_sirets\") == [AOM_SIRET])\n",
    "        & (pl.col(\"is_fully_inside_campaign_area\"))\n",
    "    )\n",
    "    .with_columns(\n",
    "        pl.col(\"distance\") / 1000,\n",
    "        pl.col(\"driver_revenue\")\n",
    "        .cum_sum()\n",
    "        .over(\n",
    "            partition_by=[\n",
    "                \"driver_identity_key\",\n",
    "                pl.col(\"start_datetime\").dt.truncate(\"1mo\"),\n",
    "            ],\n",
    "            order_by=\"start_datetime\",\n",
    "        )\n",
    "        .alias(\"driver_revenue_cumsum\"),\n",
    "    )\n",
    "    .filter(pl.col(\"driver_revenue_cumsum\") <= 5000)\n",
    "    .group_by(\n",
    "        [\n",
    "            pl.col(\"distance\").cut(\n",
    "                list(range(0, 100, 5)), include_breaks=True, left_closed=True\n",
    "            ),\n",
    "        ]\n",
    "    )\n",
    "    .agg(\n",
    "        pl.len(),\n",
    "        (pl.col(\"amount_aom\") / 100).mean().alias(\"Incitation AOM\"),\n",
    "        (pl.col(\"passenger_contribution\") / 100).alias(\"Contribution passager\").mean(),\n",
    "        (pl.col(\"driver_revenue\") / 100).alias(\"Revenu conducteur\").mean(),\n",
    "    )\n",
    "    .with_columns(pl.col(\"distance\").struct.unnest())\n",
    "    .unpivot(\n",
    "        on=[\"Incitation AOM\", \"Contribution passager\", \"Revenu conducteur\"],\n",
    "        index=[\n",
    "            \"breakpoint\",\n",
    "            \"category\",\n",
    "        ],\n",
    "    )\n",
    "    .sort([\"breakpoint\"])\n",
    ")"
   ]
  },
  {
   "cell_type": "code",
   "execution_count": null,
   "id": "a4837363-c0aa-40c3-a375-fc982aaaafa8",
   "metadata": {
    "execution": {
     "iopub.execute_input": "2025-09-02T06:32:25.988273Z",
     "iopub.status.busy": "2025-09-02T06:32:25.987957Z",
     "iopub.status.idle": "2025-09-02T06:32:26.406637Z",
     "shell.execute_reply": "2025-09-02T06:32:26.406116Z",
     "shell.execute_reply.started": "2025-09-02T06:32:25.988257Z"
    },
    "scrolled": true
   },
   "outputs": [],
   "source": [
    "fig_incentive_aom_by_distance = px.line(\n",
    "    df_incentive_aom_by_distance,\n",
    "    x=\"breakpoint\",\n",
    "    y=\"value\",\n",
    "    color=\"variable\",\n",
    "    template=\"simple_white\",\n",
    "    height=800,\n",
    "    labels={**labels_map, \"breakpoint\": \"Distance\", \"value\": \"Montant (€)\"},\n",
    ")\n",
    "\n",
    "fig_incentive_aom_by_distance.update_layout(\n",
    "    legend_title=\"\",\n",
    "    title=\"Montants moyens du revenu conducteur, contribution passager et incitation AOM en fonction de la distance\"\n",
    "    \"<br><sub>Uniquement les trajets inter, intervalles de distance de 5km.</sub>\",\n",
    ")\n",
    "fig_incentive_aom_by_distance.show()\n",
    "\n",
    "fig_incentive_aom_by_distance.write_html(\n",
    "    \"outputs_idfm/fig_incitation_aom_par_distance.html\"\n",
    ")\n",
    "fig_incentive_aom_by_distance.write_image(\n",
    "    \"outputs_idfm/fig_incitation_aom_par_distance.svg\", width=1280, height=720\n",
    ")"
   ]
  },
  {
   "cell_type": "markdown",
   "id": "7c473f28-64e0-4ccf-a186-6e6d0c496660",
   "metadata": {},
   "source": [
    "# Conducteurs\n"
   ]
  },
  {
   "cell_type": "code",
   "execution_count": null,
   "id": "d36e2ec7-4862-4e09-b5bf-d0bce83d89dd",
   "metadata": {
    "execution": {
     "iopub.execute_input": "2025-09-08T05:46:08.713126Z",
     "iopub.status.busy": "2025-09-08T05:46:08.711414Z",
     "iopub.status.idle": "2025-09-08T05:46:09.888678Z",
     "shell.execute_reply": "2025-09-08T05:46:09.888290Z",
     "shell.execute_reply.started": "2025-09-08T05:46:08.713033Z"
    }
   },
   "outputs": [],
   "source": [
    "print(\n",
    "    f\"Nombre de conducteurs uniques : {\n",
    "        df_journeys_raw.select(pl.col('driver_identity_key').n_unique()).item()\n",
    "    }\"\n",
    ")"
   ]
  },
  {
   "cell_type": "code",
   "execution_count": null,
   "id": "65605667-6bdc-417e-8f3f-efde776e79d5",
   "metadata": {
    "execution": {
     "iopub.execute_input": "2025-09-08T05:54:38.905147Z",
     "iopub.status.busy": "2025-09-08T05:54:38.903981Z",
     "iopub.status.idle": "2025-09-08T05:54:44.272157Z",
     "shell.execute_reply": "2025-09-08T05:54:44.271587Z",
     "shell.execute_reply.started": "2025-09-08T05:54:38.905107Z"
    }
   },
   "outputs": [],
   "source": [
    "fig_new_drivers_count_by_week = px.bar(\n",
    "    df_journeys_raw.filter(\n",
    "        pl.col(\"first_trip_datetime\") >= datetime(2024, 9, 1, tzinfo=ZoneInfo(\"GMT\"))\n",
    "    )\n",
    "    .group_by(pl.col(\"first_trip_datetime\").dt.truncate(\"1w\").alias(\"week\"))\n",
    "    .agg(pl.len())\n",
    "    .sort(pl.col(\"week\")),\n",
    "    x=\"week\",\n",
    "    y=\"len\",\n",
    "    labels={**labels_map, \"len\": \"Nombre de nouveaux conducteurs\"},\n",
    "    template=\"simple_white\",\n",
    "    title=\"Evolution de l'acquisition des conducteurs\",\n",
    ")\n",
    "fig_new_drivers_count_by_week.update_yaxes(showgrid=True)\n",
    "\n",
    "fig_new_drivers_count_by_week.show()\n",
    "\n",
    "fig_new_drivers_count_by_week.write_html(\n",
    "    OUTPUT_PATH / \"fig_conducteurs_par_semaine.html\"\n",
    ")\n",
    "fig_new_drivers_count_by_week.write_image(\n",
    "    OUTPUT_PATH / \"fig_conducteurs_par_semaine.svg\", width=1280, height=720\n",
    ")"
   ]
  },
  {
   "cell_type": "markdown",
   "id": "5d2c9226-4552-4e49-8659-0c1e72c6795e",
   "metadata": {},
   "source": [
    "## Nombre de trajets\n"
   ]
  },
  {
   "cell_type": "code",
   "execution_count": null,
   "id": "d33cd0f1-da38-4069-8a6e-edffdd33bb21",
   "metadata": {
    "execution": {
     "iopub.execute_input": "2025-09-08T06:18:36.081110Z",
     "iopub.status.busy": "2025-09-08T06:18:36.080548Z",
     "iopub.status.idle": "2025-09-08T06:18:37.787711Z",
     "shell.execute_reply": "2025-09-08T06:18:37.786969Z",
     "shell.execute_reply.started": "2025-09-08T06:18:36.081076Z"
    }
   },
   "outputs": [],
   "source": [
    "df_journeys_raw.filter(\n",
    "    pl.col(\"first_trip_datetime\") >= datetime(2024, 9, 1, tzinfo=ZoneInfo(\"GMT\")),\n",
    "    pl.col(\"first_trip_datetime\") <= datetime.now(ZoneInfo(\"GMT\")) - timedelta(days=14),\n",
    ").group_by([\"driver_identity_key\", pl.col(\"start_datetime\").dt.truncate(\"1w\")]).agg(\n",
    "    pl.len().alias(\"num_journeys\"),\n",
    "    pl.concat_str(pl.col(\"operator_id\"), pl.lit(\"-\"), pl.col(\"operator_trip_id\"))\n",
    "    .n_unique()\n",
    "    .alias(\"num_trips\"),\n",
    ").group_by([\"start_datetime\"]).agg(\n",
    "    pl.col(\"num_journeys\").mean().alias(\"Nombre moyen de journeys par semaine\"),\n",
    "    pl.col(\"num_trips\").mean().alias(\"Nombre moyen de trips par semaine\"),\n",
    ").select(\n",
    "    pl.col(\"Nombre moyen de journeys par semaine\").mean(),\n",
    "    pl.col(\"Nombre moyen de trips par semaine\").mean(),\n",
    ")"
   ]
  },
  {
   "cell_type": "code",
   "execution_count": null,
   "id": "8421473b-9c5f-401f-9e70-78f96e34a2df",
   "metadata": {
    "execution": {
     "iopub.execute_input": "2025-09-08T06:23:43.137434Z",
     "iopub.status.busy": "2025-09-08T06:23:43.135532Z",
     "iopub.status.idle": "2025-09-08T06:23:44.057727Z",
     "shell.execute_reply": "2025-09-08T06:23:44.057322Z",
     "shell.execute_reply.started": "2025-09-08T06:23:43.137395Z"
    }
   },
   "outputs": [],
   "source": [
    "df_journeys.filter(\n",
    "    pl.col(\"first_trip_datetime\") >= datetime(2024, 9, 1, tzinfo=ZoneInfo(\"GMT\")),\n",
    "    pl.col(\"first_trip_datetime\") <= datetime.now(ZoneInfo(\"GMT\")) - timedelta(days=30),\n",
    "    pl.col(\"start_datetime\") <= pl.col(\"first_trip_datetime\") + pl.duration(days=30),\n",
    ").group_by([\"driver_identity_key\"]).agg(\n",
    "    pl.len().alias(\"num_journeys\"),\n",
    "    pl.concat_str(pl.col(\"operator_id\"), pl.lit(\"-\"), pl.col(\"operator_trip_id\"))\n",
    "    .n_unique()\n",
    "    .alias(\"num_trips\"),\n",
    ").select(\n",
    "    pl.col(\"num_journeys\").mean().alias(\"Nombre moyen de journeys sur 30 jours\"),\n",
    "    pl.col(\"num_trips\").mean().alias(\"Nombre moyen de trips sur 30 jours\"),\n",
    ")"
   ]
  },
  {
   "cell_type": "code",
   "execution_count": null,
   "id": "5ab93068-d47b-4b1a-82a6-29b0d4aac2f6",
   "metadata": {
    "execution": {
     "iopub.execute_input": "2025-09-08T06:48:13.204082Z",
     "iopub.status.busy": "2025-09-08T06:48:13.203386Z",
     "iopub.status.idle": "2025-09-08T06:48:17.159573Z",
     "shell.execute_reply": "2025-09-08T06:48:17.159000Z",
     "shell.execute_reply.started": "2025-09-08T06:48:13.204050Z"
    }
   },
   "outputs": [],
   "source": [
    "breaks = range(1, 31, 2)\n",
    "data_agg = (\n",
    "    df_journeys_raw.filter(\n",
    "        pl.col(\"first_trip_datetime\") >= datetime(2024, 9, 1, tzinfo=ZoneInfo(\"GMT\")),\n",
    "        pl.col(\"first_trip_datetime\")\n",
    "        <= datetime.now(ZoneInfo(\"GMT\")) - timedelta(days=30),\n",
    "        pl.col(\"start_datetime\")\n",
    "        <= pl.col(\"first_trip_datetime\") + pl.duration(days=30),\n",
    "    )\n",
    "    .group_by([\"driver_identity_key\"])\n",
    "    .agg(\n",
    "        pl.len().alias(\"num_journeys\"),\n",
    "        pl.concat_str(pl.col(\"operator_id\"), pl.lit(\"-\"), pl.col(\"operator_trip_id\"))\n",
    "        .n_unique()\n",
    "        .alias(\"num_trips\"),\n",
    "    )\n",
    "    .with_columns(\n",
    "        pl.col(\"num_trips\").cut(breaks=breaks, left_closed=True, include_breaks=True)\n",
    "    )\n",
    "    .group_by([\"num_trips\"])\n",
    "    .agg(pl.col(\"driver_identity_key\").n_unique().alias(\"num_drivers\"))\n",
    "    .with_columns(\n",
    "        pl.col(\"num_trips\").struct.unnest(),\n",
    "        (100 * pl.col(\"num_drivers\") / pl.col(\"num_drivers\").sum())\n",
    "        .round(2)\n",
    "        .alias(\"share_drivers\"),\n",
    "    )\n",
    "    .sort(\"breakpoint\")\n",
    ")\n",
    "\n",
    "fig_drivers_by_trip_numbers_hist = px.bar(\n",
    "    data_agg,\n",
    "    x=data_agg[\"category\"],\n",
    "    y=data_agg[\"share_drivers\"],\n",
    "    labels={**labels_map},\n",
    "    text=\"share_drivers\",\n",
    "    text_auto=\".1f\",\n",
    "    template=\"simple_white\",\n",
    "    title=\"Distribution du nombre de conducteurs en fonction du nombre de trajets effectués <br><sub>Période de 30 jour</sub>\",\n",
    ")\n",
    "\n",
    "fig_drivers_by_trip_numbers_hist.update_yaxes(showgrid=True)\n",
    "fig_drivers_by_trip_numbers_hist.show()\n",
    "\n",
    "fig_drivers_by_trip_numbers_hist.write_html(\n",
    "    OUTPUT_PATH / \"fig_histo_trajets_conducteurs.html\"\n",
    ")\n",
    "fig_drivers_by_trip_numbers_hist.write_image(\n",
    "    OUTPUT_PATH / \"fig_histo_trajets_conducteurs.svg\", width=1280, height=720\n",
    ")"
   ]
  },
  {
   "cell_type": "markdown",
   "id": "55383fa2-4927-4a4f-9246-2b0dbbd53693",
   "metadata": {},
   "source": [
    "## Rétention\n"
   ]
  },
  {
   "cell_type": "code",
   "execution_count": null,
   "id": "c26ed2f4-d47c-4e67-b01e-1b13740adab3",
   "metadata": {
    "execution": {
     "iopub.execute_input": "2025-09-08T07:10:26.086958Z",
     "iopub.status.busy": "2025-09-08T07:10:26.085000Z",
     "iopub.status.idle": "2025-09-08T07:10:28.429849Z",
     "shell.execute_reply": "2025-09-08T07:10:28.428696Z",
     "shell.execute_reply.started": "2025-09-08T07:10:26.086911Z"
    }
   },
   "outputs": [],
   "source": [
    "NUM_WEEKS = 3 * 4\n",
    "df_acquisition_by_driver_type = (\n",
    "    (\n",
    "        df_journeys.filter(\n",
    "            pl.col(\"first_trip_datetime\")\n",
    "            >= datetime(2024, 9, 1, tzinfo=ZoneInfo(\"GMT\")),\n",
    "            pl.col(\"first_trip_datetime\")\n",
    "            <= datetime.now(ZoneInfo(\"GMT\")) - timedelta(weeks=NUM_WEEKS),\n",
    "        )\n",
    "        .group_by([\"driver_identity_key\"])\n",
    "        .agg(\n",
    "            pl.col(\"start_datetime\").min(),\n",
    "            pl.datetime_range(\n",
    "                pl.col(\"start_datetime\").min().dt.truncate(\"1w\"),\n",
    "                pl.col(\"start_datetime\").min().dt.truncate(\"1w\")\n",
    "                + pl.duration(weeks=NUM_WEEKS),\n",
    "                \"1w\",\n",
    "            ).alias(\"week\"),\n",
    "        )\n",
    "        .explode(\"week\")\n",
    "        .join(\n",
    "            df_journeys.filter(\n",
    "                pl.col(\"start_datetime\")\n",
    "                >= datetime(2024, 9, 1, tzinfo=ZoneInfo(\"GMT\")),\n",
    "            ),\n",
    "            left_on=[\"driver_identity_key\", \"week\"],\n",
    "            right_on=[\n",
    "                \"driver_identity_key\",\n",
    "                pl.col(\"start_datetime\").dt.truncate(\"1w\"),\n",
    "            ],\n",
    "            how=\"left\",\n",
    "        )\n",
    "    )\n",
    "    .group_by([pl.col(\"driver_identity_key\"), \"week\"])\n",
    "    .agg(\n",
    "        (pl.col(\"_id\").count() > 0).alias(\"has_traveled\"),\n",
    "    )\n",
    "    .with_columns(\n",
    "        pl.col(\"week\")\n",
    "        .rank()\n",
    "        .over(partition_by=[\"driver_identity_key\"], order_by=\"week\")\n",
    "        .alias(\"week_number\")\n",
    "    )\n",
    "    .group_by([\"week_number\"])\n",
    "    .agg(\n",
    "        (100 * pl.col(\"has_traveled\").sum() / pl.col(\"has_traveled\").count()).alias(\n",
    "            \"drivers_share\"\n",
    "        )\n",
    "    )\n",
    "    .sort([pl.col(\"week_number\")])\n",
    ")\n",
    "df_acquisition_by_driver_type"
   ]
  },
  {
   "cell_type": "code",
   "execution_count": null,
   "id": "13702a4b-f0d8-4a6e-87be-b1d76f63d409",
   "metadata": {
    "execution": {
     "iopub.execute_input": "2025-09-08T07:13:29.676681Z",
     "iopub.status.busy": "2025-09-08T07:13:29.675115Z",
     "iopub.status.idle": "2025-09-08T07:13:37.863870Z",
     "shell.execute_reply": "2025-09-08T07:13:37.863186Z",
     "shell.execute_reply.started": "2025-09-08T07:13:29.676642Z"
    }
   },
   "outputs": [],
   "source": [
    "fig_churn_by_campaign_type = px.line(\n",
    "    df_acquisition_by_driver_type,\n",
    "    x=\"week_number\",\n",
    "    y=\"drivers_share\",\n",
    "    template=\"simple_white\",\n",
    "    labels=labels_map,\n",
    "    title=\"Attrition des conducteurs - Période de 12 semaines\",\n",
    ")\n",
    "\n",
    "fig_churn_by_campaign_type.update_yaxes(showgrid=True)\n",
    "fig_churn_by_campaign_type.show()\n",
    "\n",
    "fig_churn_by_campaign_type.write_html(OUTPUT_PATH / \"fig_attrition_par_campagne.html\")\n",
    "fig_churn_by_campaign_type.write_image(\n",
    "    OUTPUT_PATH / \"fig_attrition_par_campagne.svg\", width=1280, height=720\n",
    ")"
   ]
  },
  {
   "cell_type": "markdown",
   "id": "9618a7ad-692b-4bde-918b-c3d24823bc26",
   "metadata": {},
   "source": [
    "# Passagers\n"
   ]
  },
  {
   "cell_type": "code",
   "execution_count": null,
   "id": "d7a0930c-d0c3-46ee-a1ab-104045f286a2",
   "metadata": {
    "execution": {
     "iopub.execute_input": "2025-09-02T06:32:27.531157Z",
     "iopub.status.busy": "2025-09-02T06:32:27.530760Z",
     "iopub.status.idle": "2025-09-02T06:32:27.677923Z",
     "shell.execute_reply": "2025-09-02T06:32:27.677596Z",
     "shell.execute_reply.started": "2025-09-02T06:32:27.531141Z"
    }
   },
   "outputs": [],
   "source": [
    "print(\n",
    "    f\"Nombre de passagers uniques : {\n",
    "        df_journeys_raw.select(pl.col('passenger_identity_key').n_unique()).item()\n",
    "    }\"\n",
    ")"
   ]
  },
  {
   "cell_type": "markdown",
   "id": "e790ee53-f4e2-49e1-9799-61086dd05c4a",
   "metadata": {},
   "source": [
    "## Pass Navigo\n"
   ]
  },
  {
   "cell_type": "code",
   "execution_count": null,
   "id": "44877200-5bff-44d9-bed8-011a50b88fff",
   "metadata": {
    "execution": {
     "iopub.execute_input": "2025-09-02T06:32:28.248575Z",
     "iopub.status.busy": "2025-09-02T06:32:28.248306Z",
     "iopub.status.idle": "2025-09-02T06:32:28.285271Z",
     "shell.execute_reply": "2025-09-02T06:32:28.284954Z",
     "shell.execute_reply.started": "2025-09-02T06:32:28.248563Z"
    }
   },
   "outputs": [],
   "source": [
    "df_passengers_navigo = df_journeys_raw.group_by(\"passenger_identity_key\").agg(\n",
    "    pl.col(\"passenger_travelpass_name\").max(),\n",
    "    pl.col(\"passenger_travelpass_user_id\").max(),\n",
    ")\n",
    "df_passengers_navigo"
   ]
  },
  {
   "cell_type": "code",
   "execution_count": null,
   "id": "0caef737-63d5-42df-8b15-965ea1c0cfd9",
   "metadata": {
    "execution": {
     "iopub.execute_input": "2025-09-02T06:32:28.571492Z",
     "iopub.status.busy": "2025-09-02T06:32:28.571199Z",
     "iopub.status.idle": "2025-09-02T06:32:28.574465Z",
     "shell.execute_reply": "2025-09-02T06:32:28.574118Z",
     "shell.execute_reply.started": "2025-09-02T06:32:28.571480Z"
    }
   },
   "outputs": [],
   "source": [
    "f\"Nombre de passagers avec un pass navigo : {\n",
    "    df_passengers_navigo.select(\n",
    "        pl.col('passenger_travelpass_user_id').is_not_null().sum()\n",
    "    ).item()\n",
    "}\""
   ]
  },
  {
   "cell_type": "markdown",
   "id": "795cfe05-9752-452c-b3fc-4fbf822e7682",
   "metadata": {},
   "source": [
    "**NOTE** : J'ai identifié que il n'y a pas de trajets avec le pass navigo renseigné depuis septembre 2020 si on exclut 9 trajets en 2025\n"
   ]
  },
  {
   "cell_type": "markdown",
   "id": "60d6f1f6-1ede-47da-9e27-8bd1869090a1",
   "metadata": {},
   "source": [
    "# Autour des gares\n"
   ]
  },
  {
   "cell_type": "markdown",
   "id": "460fe52d-6713-4130-945a-ec3e7932f657",
   "metadata": {},
   "source": [
    "## Transformations spatiales\n"
   ]
  },
  {
   "cell_type": "code",
   "execution_count": null,
   "id": "fce9442a-1657-44bb-a299-79bed427d8e1",
   "metadata": {
    "execution": {
     "iopub.execute_input": "2025-09-02T06:32:29.771441Z",
     "iopub.status.busy": "2025-09-02T06:32:29.771089Z",
     "iopub.status.idle": "2025-09-02T06:32:29.779595Z",
     "shell.execute_reply": "2025-09-02T06:32:29.779257Z",
     "shell.execute_reply.started": "2025-09-02T06:32:29.771428Z"
    }
   },
   "outputs": [],
   "source": [
    "%%sql\n",
    "FROM\n",
    "  (DESCRIBE gares_idfm)"
   ]
  },
  {
   "cell_type": "code",
   "execution_count": null,
   "id": "e47358b4-7a04-4180-b8e0-0725f6dc6b56",
   "metadata": {
    "execution": {
     "iopub.execute_input": "2025-09-02T06:32:30.100382Z",
     "iopub.status.busy": "2025-09-02T06:32:30.100018Z",
     "iopub.status.idle": "2025-09-02T06:33:06.243252Z",
     "shell.execute_reply": "2025-09-02T06:33:06.242879Z",
     "shell.execute_reply.started": "2025-09-02T06:32:30.100370Z"
    }
   },
   "outputs": [],
   "source": [
    "conn.sql(\n",
    "    \"\"\"\n",
    "create or replace table journeys_raw_with_stations_start as (\n",
    "SELECT\n",
    "      jr.\"_id\",\n",
    "      jr.start_pos,\n",
    "      jr.end_pos,\n",
    "      g.id_gares as id_gares_start,\n",
    "      g.nom_gares as nom_gares_start,\n",
    "      g.mode as mode_start,\n",
    "      g.geom as geom_start,\n",
    "      ST_DISTANCE(jr.start_pos,g.geom) as distance_to_station_start,\n",
    "      ST_DISTANCE_SPHERE(jr.start_pos,g.geom) as distance_to_station_sphere_start,\n",
    "      ST_Distance_Spheroid(jr.start_pos,g.geom) as distance_to_station_spheroid_start\n",
    "  FROM journeys_raw jr\n",
    "  left join gares_idfm g on ST_DWithin(jr.start_pos,g.geom,0.1)\n",
    ")\n",
    "\n",
    "    \"\"\"\n",
    ")"
   ]
  },
  {
   "cell_type": "code",
   "execution_count": null,
   "id": "eb5a0943-2f40-4bb1-8f9c-795e03f90d05",
   "metadata": {
    "execution": {
     "iopub.execute_input": "2025-09-02T06:33:06.243961Z",
     "iopub.status.busy": "2025-09-02T06:33:06.243848Z",
     "iopub.status.idle": "2025-09-02T06:35:10.943031Z",
     "shell.execute_reply": "2025-09-02T06:35:10.929870Z",
     "shell.execute_reply.started": "2025-09-02T06:33:06.243950Z"
    }
   },
   "outputs": [],
   "source": [
    "conn.sql(\n",
    "    \"\"\"\n",
    "create or replace table journeys_raw_with_nearest_stations_start as (\n",
    "SELECT\n",
    "      *\n",
    "FROM journeys_raw_with_stations_start\n",
    "qualify (row_number() over (partition by \"_id\" order by distance_to_station_sphere_start asc nulls last))=1\n",
    ")\n",
    "    \"\"\"\n",
    ")"
   ]
  },
  {
   "cell_type": "code",
   "execution_count": null,
   "id": "63ac56fb-0ed3-47ef-aa00-85b4351c42cf",
   "metadata": {
    "execution": {
     "iopub.execute_input": "2025-09-02T06:35:10.968013Z",
     "iopub.status.busy": "2025-09-02T06:35:10.965913Z",
     "iopub.status.idle": "2025-09-02T06:35:11.380255Z",
     "shell.execute_reply": "2025-09-02T06:35:11.379883Z",
     "shell.execute_reply.started": "2025-09-02T06:35:10.967864Z"
    }
   },
   "outputs": [],
   "source": [
    "%%sql\n",
    "DROP TABLE journeys_raw_with_stations_start"
   ]
  },
  {
   "cell_type": "code",
   "execution_count": null,
   "id": "9fa29991-ed84-498c-ac25-f0f2ecf54fc0",
   "metadata": {
    "execution": {
     "iopub.execute_input": "2025-09-02T06:35:11.384609Z",
     "iopub.status.busy": "2025-09-02T06:35:11.384471Z",
     "iopub.status.idle": "2025-09-02T06:35:11.457597Z",
     "shell.execute_reply": "2025-09-02T06:35:11.456934Z",
     "shell.execute_reply.started": "2025-09-02T06:35:11.384597Z"
    }
   },
   "outputs": [],
   "source": [
    "%sql CHECKPOINT"
   ]
  },
  {
   "cell_type": "code",
   "execution_count": null,
   "id": "d2e9c5f4-7bbd-4888-89fd-74fb4271428c",
   "metadata": {
    "execution": {
     "iopub.execute_input": "2025-09-02T06:35:11.458292Z",
     "iopub.status.busy": "2025-09-02T06:35:11.458171Z",
     "iopub.status.idle": "2025-09-02T06:35:11.497179Z",
     "shell.execute_reply": "2025-09-02T06:35:11.496723Z",
     "shell.execute_reply.started": "2025-09-02T06:35:11.458281Z"
    }
   },
   "outputs": [],
   "source": [
    "%%sql\n",
    "SELECT\n",
    "  COUNT(*)\n",
    "FROM\n",
    "  journeys_raw_with_nearest_stations_start"
   ]
  },
  {
   "cell_type": "code",
   "execution_count": null,
   "id": "89ce34ba-9b46-456c-808a-d427b79d1cb9",
   "metadata": {
    "execution": {
     "iopub.execute_input": "2025-09-02T06:35:11.497913Z",
     "iopub.status.busy": "2025-09-02T06:35:11.497792Z",
     "iopub.status.idle": "2025-09-02T06:35:11.529689Z",
     "shell.execute_reply": "2025-09-02T06:35:11.529359Z",
     "shell.execute_reply.started": "2025-09-02T06:35:11.497901Z"
    }
   },
   "outputs": [],
   "source": [
    "%%sql\n",
    "FROM\n",
    "  (DESCRIBE journeys_raw_with_nearest_stations_start)"
   ]
  },
  {
   "cell_type": "code",
   "execution_count": null,
   "id": "49c7c292-c274-4bbe-a44d-a0c0348d9c00",
   "metadata": {
    "execution": {
     "iopub.execute_input": "2025-09-02T06:35:11.530661Z",
     "iopub.status.busy": "2025-09-02T06:35:11.530426Z",
     "iopub.status.idle": "2025-09-02T06:35:56.205749Z",
     "shell.execute_reply": "2025-09-02T06:35:56.205372Z",
     "shell.execute_reply.started": "2025-09-02T06:35:11.530649Z"
    }
   },
   "outputs": [],
   "source": [
    "conn.sql(\n",
    "    \"\"\"\n",
    "create or replace table journeys_raw_with_stations_end as (\n",
    "SELECT\n",
    "      jr.*,\n",
    "      g.id_gares as id_gares_end,\n",
    "      g.nom_gares as nom_gares_end,\n",
    "      g.mode as mode_end,\n",
    "      g.geom as geom_end,\n",
    "      ST_DISTANCE(jr.end_pos,g.geom) as distance_to_station_end,\n",
    "      ST_DISTANCE_SPHERE(jr.end_pos,g.geom) as distance_to_station_sphere_end,\n",
    "      ST_Distance_Spheroid(jr.end_pos,g.geom) as distance_to_station_spheroid_end\n",
    "  FROM journeys_raw_with_nearest_stations_start jr\n",
    "  left join gares_idfm g on ST_DWithin(jr.end_pos,g.geom,0.1)\n",
    ")\n",
    "\"\"\"\n",
    ")"
   ]
  },
  {
   "cell_type": "code",
   "execution_count": null,
   "id": "f751da07-8072-4cca-89f5-7884c25820b4",
   "metadata": {
    "execution": {
     "iopub.execute_input": "2025-09-02T06:35:56.206432Z",
     "iopub.status.busy": "2025-09-02T06:35:56.206312Z",
     "iopub.status.idle": "2025-09-02T06:35:56.222121Z",
     "shell.execute_reply": "2025-09-02T06:35:56.221834Z",
     "shell.execute_reply.started": "2025-09-02T06:35:56.206421Z"
    },
    "scrolled": true
   },
   "outputs": [],
   "source": [
    "%%sql\n",
    "SELECT\n",
    "  COUNT(*)\n",
    "FROM\n",
    "  journeys_raw_with_stations_end"
   ]
  },
  {
   "cell_type": "code",
   "execution_count": null,
   "id": "2cd923fc-e7bc-4cfb-8582-ba09bab42746",
   "metadata": {
    "execution": {
     "iopub.execute_input": "2025-09-02T06:35:56.223000Z",
     "iopub.status.busy": "2025-09-02T06:35:56.222664Z",
     "iopub.status.idle": "2025-09-02T06:35:56.270924Z",
     "shell.execute_reply": "2025-09-02T06:35:56.270555Z",
     "shell.execute_reply.started": "2025-09-02T06:35:56.222989Z"
    }
   },
   "outputs": [],
   "source": [
    "%%sql\n",
    "DROP TABLE journeys_raw_with_nearest_stations_start"
   ]
  },
  {
   "cell_type": "code",
   "execution_count": null,
   "id": "858f5ff1-bdca-4b8b-9db4-72bc6ede42e2",
   "metadata": {
    "execution": {
     "iopub.execute_input": "2025-09-02T06:35:56.275336Z",
     "iopub.status.busy": "2025-09-02T06:35:56.275201Z",
     "iopub.status.idle": "2025-09-02T06:35:56.373048Z",
     "shell.execute_reply": "2025-09-02T06:35:56.372700Z",
     "shell.execute_reply.started": "2025-09-02T06:35:56.275325Z"
    }
   },
   "outputs": [],
   "source": [
    "%%sql\n",
    "checkpoint"
   ]
  },
  {
   "cell_type": "code",
   "execution_count": null,
   "id": "5c483db8-46ba-4fbc-8474-50596e6bed22",
   "metadata": {
    "execution": {
     "iopub.execute_input": "2025-09-02T06:35:56.373722Z",
     "iopub.status.busy": "2025-09-02T06:35:56.373614Z",
     "iopub.status.idle": "2025-09-02T06:39:27.630116Z",
     "shell.execute_reply": "2025-09-02T06:39:27.629731Z",
     "shell.execute_reply.started": "2025-09-02T06:35:56.373713Z"
    }
   },
   "outputs": [],
   "source": [
    "conn.sql(\n",
    "    \"\"\"\n",
    "create or replace table journeys_raw_with_nearest_stations as (\n",
    "SELECT\n",
    "      *\n",
    "FROM journeys_raw_with_stations_end\n",
    "qualify (row_number() over (partition by \"_id\" order by distance_to_station_sphere_end asc nulls last))=1\n",
    ")\n",
    "    \"\"\"\n",
    ")"
   ]
  },
  {
   "cell_type": "code",
   "execution_count": null,
   "id": "9344893d-19a3-4cca-9681-c18d054cadb4",
   "metadata": {
    "execution": {
     "iopub.execute_input": "2025-09-02T06:39:27.630850Z",
     "iopub.status.busy": "2025-09-02T06:39:27.630739Z",
     "iopub.status.idle": "2025-09-02T06:39:27.731847Z",
     "shell.execute_reply": "2025-09-02T06:39:27.731568Z",
     "shell.execute_reply.started": "2025-09-02T06:39:27.630839Z"
    }
   },
   "outputs": [],
   "source": [
    "%%sql \n",
    "DROP TABLE journeys_raw_with_stations_end"
   ]
  },
  {
   "cell_type": "code",
   "execution_count": null,
   "id": "4a6cbd98-cd63-4e7a-aba7-da882d3733b2",
   "metadata": {
    "execution": {
     "iopub.execute_input": "2025-09-02T06:39:27.732517Z",
     "iopub.status.busy": "2025-09-02T06:39:27.732359Z",
     "iopub.status.idle": "2025-09-02T06:39:27.744812Z",
     "shell.execute_reply": "2025-09-02T06:39:27.744532Z",
     "shell.execute_reply.started": "2025-09-02T06:39:27.732502Z"
    }
   },
   "outputs": [],
   "source": [
    "%%sql\n",
    "SELECT\n",
    "  COUNT(*)\n",
    "FROM\n",
    "  journeys_raw_with_nearest_stations"
   ]
  },
  {
   "cell_type": "code",
   "execution_count": null,
   "id": "a6e4223a-6e0e-40fe-8f3f-4571b0ef84a4",
   "metadata": {
    "execution": {
     "iopub.execute_input": "2025-09-02T06:39:27.750116Z",
     "iopub.status.busy": "2025-09-02T06:39:27.749728Z",
     "iopub.status.idle": "2025-09-02T06:39:27.770906Z",
     "shell.execute_reply": "2025-09-02T06:39:27.770625Z",
     "shell.execute_reply.started": "2025-09-02T06:39:27.750103Z"
    }
   },
   "outputs": [],
   "source": [
    "%%sql\n",
    "FROM\n",
    "  (DESCRIBE journeys_raw_with_nearest_stations)"
   ]
  },
  {
   "cell_type": "code",
   "execution_count": null,
   "id": "946f3b6b-11c4-4142-a63c-e951bce9d1ee",
   "metadata": {
    "execution": {
     "iopub.execute_input": "2025-09-02T06:39:27.771493Z",
     "iopub.status.busy": "2025-09-02T06:39:27.771368Z",
     "iopub.status.idle": "2025-09-02T06:39:31.737906Z",
     "shell.execute_reply": "2025-09-02T06:39:31.737588Z",
     "shell.execute_reply.started": "2025-09-02T06:39:27.771482Z"
    }
   },
   "outputs": [],
   "source": [
    "%%sql df_journeys_raw_with_nearest_stations <<\n",
    "SELECT\n",
    "  *,\n",
    "  ST_AsText(start_pos) as start_pos_wkt,\n",
    "  ST_AsText(end_pos) as end_pos_wkt,\n",
    "  ST_AsText (geom_start) AS geom_start_wkt,\n",
    "  ST_AsText (geom_end) AS geom_end_wkt\n",
    "FROM\n",
    "  journeys_raw_with_nearest_stations"
   ]
  },
  {
   "cell_type": "code",
   "execution_count": null,
   "id": "64bf81db-440c-4733-8015-6924b9530514",
   "metadata": {
    "execution": {
     "iopub.execute_input": "2025-09-02T06:39:31.738616Z",
     "iopub.status.busy": "2025-09-02T06:39:31.738469Z",
     "iopub.status.idle": "2025-09-02T06:39:31.873982Z",
     "shell.execute_reply": "2025-09-02T06:39:31.873664Z",
     "shell.execute_reply.started": "2025-09-02T06:39:31.738603Z"
    }
   },
   "outputs": [],
   "source": [
    "df_journeys_raw_with_nearest_stations = (\n",
    "    df_journeys_raw_with_nearest_stations.with_columns(\n",
    "        pl.selectors.starts_with(\"distance_to_station\").fill_null(float(\"+inf\"))\n",
    "    )\n",
    ")"
   ]
  },
  {
   "cell_type": "markdown",
   "id": "83730f5f-f97e-47b1-8571-5ec3af098184",
   "metadata": {},
   "source": [
    "## Distribution des distances à la gare la plus proche\n"
   ]
  },
  {
   "cell_type": "markdown",
   "id": "49a50a5b-7224-4e69-8177-aa7a698a83d1",
   "metadata": {
    "execution": {
     "iopub.execute_input": "2025-08-14T09:22:39.447979Z",
     "iopub.status.busy": "2025-08-14T09:22:39.447056Z",
     "iopub.status.idle": "2025-08-14T09:22:39.452813Z",
     "shell.execute_reply": "2025-08-14T09:22:39.451483Z",
     "shell.execute_reply.started": "2025-08-14T09:22:39.447940Z"
    }
   },
   "source": [
    "### Point de départ\n"
   ]
  },
  {
   "cell_type": "code",
   "execution_count": null,
   "id": "8d8b79e3-85b3-42db-8647-8716e24245a5",
   "metadata": {
    "execution": {
     "iopub.execute_input": "2025-09-02T06:39:31.874572Z",
     "iopub.status.busy": "2025-09-02T06:39:31.874471Z",
     "iopub.status.idle": "2025-09-02T06:39:32.072834Z",
     "shell.execute_reply": "2025-09-02T06:39:32.072491Z",
     "shell.execute_reply.started": "2025-09-02T06:39:31.874562Z"
    }
   },
   "outputs": [],
   "source": [
    "breaks = [100, 200, 500] + list(range(1000, 11000, 1000))\n",
    "\n",
    "df_journeys_count_by_distance_to_nearest_station_start = (\n",
    "    df_journeys_raw_with_nearest_stations.group_by(\n",
    "        pl.col(\"distance_to_station_spheroid_start\").cut(\n",
    "            breaks=breaks, include_breaks=True\n",
    "        )\n",
    "    )\n",
    "    .agg(pl.col(\"_id\").n_unique().alias(\"num_journeys\"))\n",
    "    .with_columns(\n",
    "        (pl.col(\"num_journeys\") / pl.col(\"num_journeys\").sum()).alias(\"share_journeys\"),\n",
    "        pl.col(\"distance_to_station_spheroid_start\").struct.unnest(),\n",
    "    )\n",
    "    .with_columns(\n",
    "        pl.format(\"{}%\", (100 * pl.col(\"share_journeys\")).round(2)).alias(\n",
    "            \"share_journeys_fmt\"\n",
    "        )\n",
    "    )\n",
    "    .sort(\"category\")\n",
    ")"
   ]
  },
  {
   "cell_type": "code",
   "execution_count": null,
   "id": "cb778ea2-5f26-4b35-bbea-7de445335b87",
   "metadata": {
    "execution": {
     "iopub.execute_input": "2025-09-02T06:39:32.073604Z",
     "iopub.status.busy": "2025-09-02T06:39:32.073476Z",
     "iopub.status.idle": "2025-09-02T06:39:32.403803Z",
     "shell.execute_reply": "2025-09-02T06:39:32.403524Z",
     "shell.execute_reply.started": "2025-09-02T06:39:32.073591Z"
    }
   },
   "outputs": [],
   "source": [
    "px.bar(\n",
    "    df_journeys_count_by_distance_to_nearest_station_start,\n",
    "    x=\"category\",\n",
    "    y=\"num_journeys\",\n",
    "    text=\"share_journeys_fmt\",\n",
    "    labels={**labels_map, \"category\": \"Catégorie de distance (en mètres)\"},\n",
    "    template=\"simple_white\",\n",
    "    title=\"Distribution du nombre de trajets en fonction de la distance à la gare RER/Transilien la plus proche\"\n",
    "    \"<br><sub>Par rapport au point de départ du trajet</sub>\",\n",
    ")"
   ]
  },
  {
   "cell_type": "markdown",
   "id": "12c1aeff-4429-440f-a2ad-333e4e0cec46",
   "metadata": {
    "execution": {
     "iopub.execute_input": "2025-08-14T09:22:39.447979Z",
     "iopub.status.busy": "2025-08-14T09:22:39.447056Z",
     "iopub.status.idle": "2025-08-14T09:22:39.452813Z",
     "shell.execute_reply": "2025-08-14T09:22:39.451483Z",
     "shell.execute_reply.started": "2025-08-14T09:22:39.447940Z"
    }
   },
   "source": [
    "### Point d'arrivée\n"
   ]
  },
  {
   "cell_type": "code",
   "execution_count": null,
   "id": "94258563-02d6-4e10-9c55-e44a17fe02c0",
   "metadata": {
    "execution": {
     "iopub.execute_input": "2025-09-02T06:39:32.404683Z",
     "iopub.status.busy": "2025-09-02T06:39:32.404395Z",
     "iopub.status.idle": "2025-09-02T06:39:32.570654Z",
     "shell.execute_reply": "2025-09-02T06:39:32.570295Z",
     "shell.execute_reply.started": "2025-09-02T06:39:32.404668Z"
    }
   },
   "outputs": [],
   "source": [
    "df_journeys_count_by_distance_to_nearest_station_end = (\n",
    "    df_journeys_raw_with_nearest_stations.group_by(\n",
    "        pl.col(\"distance_to_station_spheroid_end\").cut(\n",
    "            breaks=[100, 200, 500] + list(range(1000, 11000, 1000)), include_breaks=True\n",
    "        )\n",
    "    )\n",
    "    .agg(pl.col(\"_id\").n_unique().alias(\"num_journeys\"))\n",
    "    .with_columns(\n",
    "        (pl.col(\"num_journeys\") / pl.col(\"num_journeys\").sum()).alias(\"share_journeys\"),\n",
    "        pl.col(\"distance_to_station_spheroid_end\").struct.unnest(),\n",
    "    )\n",
    "    .with_columns(\n",
    "        pl.format(\"{}%\", (100 * pl.col(\"share_journeys\")).round(2)).alias(\n",
    "            \"share_journeys_fmt\"\n",
    "        )\n",
    "    )\n",
    "    .sort(\"category\")\n",
    ")"
   ]
  },
  {
   "cell_type": "code",
   "execution_count": null,
   "id": "e25a056f-e253-49d5-802d-7c7dff45ae37",
   "metadata": {
    "execution": {
     "iopub.execute_input": "2025-09-02T06:39:32.571302Z",
     "iopub.status.busy": "2025-09-02T06:39:32.571177Z",
     "iopub.status.idle": "2025-09-02T06:39:32.599914Z",
     "shell.execute_reply": "2025-09-02T06:39:32.599582Z",
     "shell.execute_reply.started": "2025-09-02T06:39:32.571290Z"
    }
   },
   "outputs": [],
   "source": [
    "px.bar(\n",
    "    df_journeys_count_by_distance_to_nearest_station_end,\n",
    "    x=\"category\",\n",
    "    y=\"num_journeys\",\n",
    "    text=\"share_journeys_fmt\",\n",
    "    labels={**labels_map, \"category\": \"Catégorie de distance (en mètres)\"},\n",
    "    template=\"simple_white\",\n",
    "    title=\"Distribution du nombre de trajets en fonction de la distance à la gare RER/Transilien la plus proche\"\n",
    "    \"<br><sub>Par rapport au point d'arrivée du trajet</sub>\",\n",
    ")"
   ]
  },
  {
   "cell_type": "markdown",
   "id": "b0d0d9da-33bb-44cf-bb2d-8d754ee94a82",
   "metadata": {},
   "source": [
    "## Origine et destination\n"
   ]
  },
  {
   "cell_type": "code",
   "execution_count": null,
   "id": "a3e8e828-0de3-468b-b5f6-325ab6312dcd",
   "metadata": {
    "execution": {
     "iopub.execute_input": "2025-09-02T06:39:32.604924Z",
     "iopub.status.busy": "2025-09-02T06:39:32.604787Z",
     "iopub.status.idle": "2025-09-02T06:39:32.806450Z",
     "shell.execute_reply": "2025-09-02T06:39:32.806115Z",
     "shell.execute_reply.started": "2025-09-02T06:39:32.604912Z"
    }
   },
   "outputs": [],
   "source": [
    "breaks = [100, 200, 500] + list(range(1000, 11000, 1000))\n",
    "df_journeys_count_by_distance_to_nearest_station = (\n",
    "    df_journeys_raw_with_nearest_stations.with_columns(\n",
    "        pl.max_horizontal(\n",
    "            [\"distance_to_station_spheroid_start\", \"distance_to_station_spheroid_end\"]\n",
    "        ).alias(\"max_distance_to_nearest_station\")\n",
    "    )\n",
    "    .group_by(\n",
    "        pl.col(\"max_distance_to_nearest_station\").cut(\n",
    "            breaks=[100, 200, 500] + list(range(1000, 11000, 1000)), include_breaks=True\n",
    "        )\n",
    "    )\n",
    "    .agg(pl.col(\"_id\").n_unique().alias(\"num_journeys\"))\n",
    "    .with_columns(\n",
    "        (pl.col(\"num_journeys\") / pl.col(\"num_journeys\").sum()).alias(\"share_journeys\"),\n",
    "        pl.col(\"max_distance_to_nearest_station\").struct.unnest(),\n",
    "    )\n",
    "    .with_columns(\n",
    "        pl.format(\"{}%\", (100 * pl.col(\"share_journeys\")).round(2)).alias(\n",
    "            \"share_journeys_fmt\"\n",
    "        )\n",
    "    )\n",
    "    .sort(\"category\")\n",
    ")"
   ]
  },
  {
   "cell_type": "code",
   "execution_count": null,
   "id": "e6013ed0-c93e-4eb5-83fd-6a9cdacd4722",
   "metadata": {
    "execution": {
     "iopub.execute_input": "2025-09-02T06:39:32.807118Z",
     "iopub.status.busy": "2025-09-02T06:39:32.806995Z",
     "iopub.status.idle": "2025-09-02T06:39:32.826666Z",
     "shell.execute_reply": "2025-09-02T06:39:32.826396Z",
     "shell.execute_reply.started": "2025-09-02T06:39:32.807106Z"
    }
   },
   "outputs": [],
   "source": [
    "px.bar(\n",
    "    df_journeys_count_by_distance_to_nearest_station,\n",
    "    x=\"category\",\n",
    "    y=\"num_journeys\",\n",
    "    text=\"share_journeys_fmt\",\n",
    "    labels={**labels_map, \"category\": \"Catégorie de distance (en mètres)\"},\n",
    "    template=\"simple_white\",\n",
    "    title=\"Distribution du nombre de trajets en fonction de la distance à la gare RER/Transilien la plus proche\"\n",
    "    \"<br><sub>Par rapport au point de départ ET d'arrivée du trajet</sub>\",\n",
    ")"
   ]
  },
  {
   "cell_type": "markdown",
   "id": "6d4456f3-5c22-4560-bb79-3966e6d305e1",
   "metadata": {},
   "source": [
    "### Multi point\n"
   ]
  },
  {
   "cell_type": "code",
   "execution_count": null,
   "id": "c06d7795-a128-43f9-8c1c-210a12e057a6",
   "metadata": {
    "execution": {
     "iopub.execute_input": "2025-09-02T06:39:32.827082Z",
     "iopub.status.busy": "2025-09-02T06:39:32.826987Z",
     "iopub.status.idle": "2025-09-02T06:39:33.005928Z",
     "shell.execute_reply": "2025-09-02T06:39:33.005495Z",
     "shell.execute_reply.started": "2025-09-02T06:39:32.827073Z"
    }
   },
   "outputs": [],
   "source": [
    "df_journeys_count_by_distance_to_nearest_stations = (\n",
    "    df_journeys_raw_with_nearest_stations.group_by(\n",
    "        pl.col(\"distance_to_station_spheroid_start\").cut(\n",
    "            breaks=[100, 200, 500] + list(range(1000, 11000, 1000)), include_breaks=True\n",
    "        )\n",
    "    )\n",
    "    .agg(pl.col(\"_id\").n_unique().alias(\"num_journeys\"))\n",
    "    .with_columns(\n",
    "        (pl.col(\"num_journeys\") / pl.col(\"num_journeys\").sum()).alias(\"share_journeys\"),\n",
    "        pl.col(\"distance_to_station_spheroid_start\").struct.unnest(),\n",
    "    )\n",
    "    .with_columns(\n",
    "        pl.format(\"{}%\", (100 * pl.col(\"share_journeys\")).round(2)).alias(\n",
    "            \"share_journeys_fmt\"\n",
    "        )\n",
    "    )\n",
    "    .sort(\"category\")\n",
    ")"
   ]
  },
  {
   "cell_type": "code",
   "execution_count": null,
   "id": "d6448aa4-0ff0-48fd-89e1-58491f73d90c",
   "metadata": {
    "execution": {
     "iopub.execute_input": "2025-09-02T06:39:33.006856Z",
     "iopub.status.busy": "2025-09-02T06:39:33.006731Z",
     "iopub.status.idle": "2025-09-02T06:39:33.115743Z",
     "shell.execute_reply": "2025-09-02T06:39:33.114400Z",
     "shell.execute_reply.started": "2025-09-02T06:39:33.006845Z"
    }
   },
   "outputs": [],
   "source": [
    "px.scatter(\n",
    "    df_journeys_raw_with_nearest_stations.group_by(\n",
    "        (\n",
    "            pl.col(\"distance_to_station_spheroid_start\").fill_null(float(\"inf\")) / 100\n",
    "        ).round(0),\n",
    "        (\n",
    "            pl.col(\"distance_to_station_spheroid_end\").fill_null(float(\"inf\")) / 100\n",
    "        ).round(0),\n",
    "    ).agg(pl.col(\"_id\").n_unique().alias(\"num_journeys\")),\n",
    "    x=\"distance_to_station_spheroid_start\",\n",
    "    y=\"distance_to_station_spheroid_end\",\n",
    "    size=\"num_journeys\",\n",
    "    template=\"simple_white\",\n",
    ")"
   ]
  },
  {
   "cell_type": "markdown",
   "id": "9bbc3ab6-f2c7-4ee5-aa46-46bc3a51f2d8",
   "metadata": {},
   "source": [
    "## Top des gares\n"
   ]
  },
  {
   "cell_type": "markdown",
   "id": "3788e9e6-8f40-4819-8505-5fb780e8d960",
   "metadata": {
    "execution": {
     "iopub.execute_input": "2025-08-14T13:16:44.725392Z",
     "iopub.status.busy": "2025-08-14T13:16:44.722278Z",
     "iopub.status.idle": "2025-08-14T13:16:44.734197Z",
     "shell.execute_reply": "2025-08-14T13:16:44.733524Z",
     "shell.execute_reply.started": "2025-08-14T13:16:44.725314Z"
    }
   },
   "source": [
    "### Au point de départ\n"
   ]
  },
  {
   "cell_type": "code",
   "execution_count": null,
   "id": "637b60bd-b05f-47ae-b2db-6015ddf79880",
   "metadata": {
    "execution": {
     "iopub.execute_input": "2025-09-02T06:39:33.116310Z",
     "iopub.status.busy": "2025-09-02T06:39:33.116209Z",
     "iopub.status.idle": "2025-09-02T06:39:33.357817Z",
     "shell.execute_reply": "2025-09-02T06:39:33.357499Z",
     "shell.execute_reply.started": "2025-09-02T06:39:33.116300Z"
    }
   },
   "outputs": [],
   "source": [
    "df_top_nearest_stations_start = (\n",
    "    df_journeys_raw_with_nearest_stations.filter(\n",
    "        pl.col(\"distance_to_station_spheroid_start\").is_finite()\n",
    "    )\n",
    "    .group_by(\"nom_gares_start\")\n",
    "    .agg(\n",
    "        pl.col(\"_id\").n_unique().alias(\"num_journeys\"),\n",
    "        pl.col(\"geom_start_wkt\").max(),\n",
    "        pl.col(\"distance_to_station_spheroid_start\").mean(),\n",
    "    )\n",
    "    .with_columns(\n",
    "        (pl.col(\"num_journeys\") / pl.col(\"num_journeys\").sum()).alias(\"share_journeys\")\n",
    "    )\n",
    "    .with_columns(\n",
    "        pl.format(\n",
    "            \"{}%<br>{}m\",\n",
    "            (100 * pl.col(\"share_journeys\")).round(2),\n",
    "            pl.col(\"distance_to_station_spheroid_start\").round(0).cast(pl.Int64),\n",
    "        ).alias(\"share_journeys_fmt\")\n",
    "    )\n",
    "    .sort(\"num_journeys\", descending=True)\n",
    "    .drop_nulls()\n",
    ")"
   ]
  },
  {
   "cell_type": "code",
   "execution_count": null,
   "id": "10df5a44-53e7-4c03-ae7f-ff119200d77c",
   "metadata": {
    "execution": {
     "iopub.execute_input": "2025-09-02T06:39:33.358647Z",
     "iopub.status.busy": "2025-09-02T06:39:33.358318Z",
     "iopub.status.idle": "2025-09-02T06:39:33.380660Z",
     "shell.execute_reply": "2025-09-02T06:39:33.380403Z",
     "shell.execute_reply.started": "2025-09-02T06:39:33.358634Z"
    }
   },
   "outputs": [],
   "source": [
    "px.bar(\n",
    "    df_top_nearest_stations_start.head(10),\n",
    "    x=\"nom_gares_start\",\n",
    "    y=\"num_journeys\",\n",
    "    text=\"share_journeys_fmt\",\n",
    "    template=\"simple_white\",\n",
    "    labels=labels_map,\n",
    "    title=\"TOP 10 des gares les plus proches des points de départ\"\n",
    "    \"<br><sub>Dans les barres sont affichées la proportion au regard du total des trajets et la distance moyenne au départ.</sub>\",\n",
    "    height=500,\n",
    ")"
   ]
  },
  {
   "cell_type": "markdown",
   "id": "8772d839-16d5-4fa8-a118-79dca4f953f5",
   "metadata": {},
   "source": [
    "#### Carto\n"
   ]
  },
  {
   "cell_type": "code",
   "execution_count": null,
   "id": "8010004f-59ef-421d-83c5-62b1c637ae96",
   "metadata": {
    "execution": {
     "iopub.execute_input": "2025-09-02T06:39:33.383395Z",
     "iopub.status.busy": "2025-09-02T06:39:33.382994Z",
     "iopub.status.idle": "2025-09-02T06:39:33.430425Z",
     "shell.execute_reply": "2025-09-02T06:39:33.430088Z",
     "shell.execute_reply.started": "2025-09-02T06:39:33.383370Z"
    }
   },
   "outputs": [],
   "source": [
    "df_top_nearest_stations_start = df_top_nearest_stations_start.with_columns(\n",
    "    pl.col(\"geom_start_wkt\").map_elements(shapely.from_wkt, return_dtype=pl.Object)\n",
    ")"
   ]
  },
  {
   "cell_type": "code",
   "execution_count": null,
   "id": "2cab5c80-9bb9-4197-ab9a-658232ec8817",
   "metadata": {
    "execution": {
     "iopub.execute_input": "2025-09-02T06:39:33.434599Z",
     "iopub.status.busy": "2025-09-02T06:39:33.434464Z",
     "iopub.status.idle": "2025-09-02T06:39:33.441114Z",
     "shell.execute_reply": "2025-09-02T06:39:33.440808Z",
     "shell.execute_reply.started": "2025-09-02T06:39:33.434587Z"
    }
   },
   "outputs": [],
   "source": [
    "# Method 2: More robust approach using shapely (if you have it installed)\n",
    "def create_top_k_nearest_station_map(df: pl.DataFrame, top_k: int = 10):\n",
    "    df = df.head(top_k)\n",
    "    # Create folium map centered on data\n",
    "    center_lat = 48.866667\n",
    "    center_lon = 2.333333\n",
    "\n",
    "    m = folium.Map(location=[center_lat, center_lon], zoom_start=9)\n",
    "\n",
    "    # Process each row\n",
    "    for row in df.iter_rows(named=True):\n",
    "        point = row[\"geom_start_wkt\"]  # geometry column\n",
    "        num_journeys = row[\"num_journeys\"]  # num_journeys column\n",
    "        station_name = row[\"nom_gares_start\"]\n",
    "        try:\n",
    "            # Extract coordinates\n",
    "            lon, lat = point.y, point.x\n",
    "            text = f\"{station_name},<br>{num_journeys} Journeys\"\n",
    "            # Create bubble with size proportional to num_journeys\n",
    "            folium.CircleMarker(\n",
    "                location=[lat, lon],\n",
    "                radius=max(10, num_journeys / 2000),  # Adjust scaling factor\n",
    "                popup=text,\n",
    "                tooltip=text,\n",
    "                fill=True,\n",
    "                fill_color=\"cornflowerblue\",\n",
    "                fill_opacity=0.7,\n",
    "                stroke=False,\n",
    "            ).add_to(m)\n",
    "\n",
    "        except Exception as e:\n",
    "            print(f\"Error processing point: {e}\")\n",
    "            continue\n",
    "\n",
    "    return m"
   ]
  },
  {
   "cell_type": "code",
   "execution_count": null,
   "id": "ec8d961a-ca13-4320-b89f-018a779553f5",
   "metadata": {
    "execution": {
     "iopub.execute_input": "2025-09-02T06:39:33.446044Z",
     "iopub.status.busy": "2025-09-02T06:39:33.445927Z",
     "iopub.status.idle": "2025-09-02T06:39:33.554013Z",
     "shell.execute_reply": "2025-09-02T06:39:33.553640Z",
     "shell.execute_reply.started": "2025-09-02T06:39:33.446033Z"
    }
   },
   "outputs": [],
   "source": [
    "m = create_top_k_nearest_station_map(df_top_nearest_stations_start, 50)\n",
    "m"
   ]
  },
  {
   "cell_type": "markdown",
   "id": "905a8823-bd01-4a3a-a456-7ca099dc8fdb",
   "metadata": {},
   "source": [
    "## À moins d'un kilometre\n"
   ]
  },
  {
   "cell_type": "code",
   "execution_count": null,
   "id": "1b47eb86-432d-4e46-bce5-6da741860cbf",
   "metadata": {
    "execution": {
     "iopub.execute_input": "2025-09-02T06:39:33.554673Z",
     "iopub.status.busy": "2025-09-02T06:39:33.554534Z",
     "iopub.status.idle": "2025-09-02T06:39:33.668496Z",
     "shell.execute_reply": "2025-09-02T06:39:33.668203Z",
     "shell.execute_reply.started": "2025-09-02T06:39:33.554660Z"
    }
   },
   "outputs": [],
   "source": [
    "df_top_nearest_stations_start_1km = (\n",
    "    df_journeys_raw_with_nearest_stations.filter(\n",
    "        pl.col(\"distance_to_station_spheroid_start\") <= 1000\n",
    "    )\n",
    "    .group_by(\"nom_gares_start\")\n",
    "    .agg(\n",
    "        pl.col(\"_id\").n_unique().alias(\"num_journeys\"),\n",
    "        pl.col(\"geom_start_wkt\").max(),\n",
    "        pl.col(\"distance_to_station_spheroid_start\").mean(),\n",
    "    )\n",
    "    .with_columns(\n",
    "        (pl.col(\"num_journeys\") / pl.col(\"num_journeys\").sum()).alias(\"share_journeys\")\n",
    "    )\n",
    "    .with_columns(\n",
    "        pl.format(\n",
    "            \"{}%<br>{}m\",\n",
    "            (100 * pl.col(\"share_journeys\")).round(2),\n",
    "            pl.col(\"distance_to_station_spheroid_start\").round(0).cast(pl.Int64),\n",
    "        ).alias(\"share_journeys_fmt\")\n",
    "    )\n",
    "    .sort(\"num_journeys\", descending=True)\n",
    "    .drop_nulls()\n",
    ")"
   ]
  },
  {
   "cell_type": "code",
   "execution_count": null,
   "id": "e7de7b4c-94b0-455f-9c33-ce1cfb2cf2fa",
   "metadata": {
    "execution": {
     "iopub.execute_input": "2025-09-02T06:39:33.669208Z",
     "iopub.status.busy": "2025-09-02T06:39:33.669102Z",
     "iopub.status.idle": "2025-09-02T06:39:33.688474Z",
     "shell.execute_reply": "2025-09-02T06:39:33.688211Z",
     "shell.execute_reply.started": "2025-09-02T06:39:33.669197Z"
    }
   },
   "outputs": [],
   "source": [
    "px.bar(\n",
    "    df_top_nearest_stations_start_1km.head(10),\n",
    "    x=\"nom_gares_start\",\n",
    "    y=\"num_journeys\",\n",
    "    text=\"share_journeys_fmt\",\n",
    "    template=\"simple_white\",\n",
    "    labels=labels_map,\n",
    "    title=\"TOP 10 des gares dans un rayon d'un kilomètre des points de départ\"\n",
    "    \"<br><sub>Dans les barres sont affichées la proportion au regard du total des trajets et la distance moyenne au départ.</sub>\",\n",
    "    height=500,\n",
    ")"
   ]
  },
  {
   "cell_type": "markdown",
   "id": "ac10ebc1-a212-4211-a5e3-00123b620354",
   "metadata": {},
   "source": [
    "## heatmap\n"
   ]
  },
  {
   "cell_type": "code",
   "execution_count": null,
   "id": "0a38ffbe-f5ff-46da-8d5a-6821d8bc8821",
   "metadata": {
    "execution": {
     "iopub.execute_input": "2025-09-02T06:40:31.493913Z",
     "iopub.status.busy": "2025-09-02T06:40:31.493633Z",
     "iopub.status.idle": "2025-09-02T06:40:31.497542Z",
     "shell.execute_reply": "2025-09-02T06:40:31.497248Z",
     "shell.execute_reply.started": "2025-09-02T06:40:31.493900Z"
    }
   },
   "outputs": [],
   "source": [
    "def create_trip_heatmap_map(\n",
    "    df_journeys_raw_with_nearest_stations, stations_df, distance_filter: int = 1000\n",
    "):\n",
    "    # Create a folium map centered on Paris\n",
    "    m = folium.Map(\n",
    "        location=[48.8566, 2.3522],  # Paris coordinates\n",
    "        zoom_start=9,\n",
    "        tiles=\"Cartodb Positron\",\n",
    "        control_scale=True,\n",
    "    )\n",
    "\n",
    "    # Prepare trip data for heatmap\n",
    "    trips_data = []\n",
    "    for row in df_journeys_raw_with_nearest_stations.filter(\n",
    "        pl.max_horizontal(\n",
    "            pl.col(\"distance_to_station_spheroid_start\"),\n",
    "            pl.col(\"distance_to_station_spheroid_end\"),\n",
    "        )\n",
    "        <= distance_filter\n",
    "    ).iter_rows(named=True):\n",
    "        start_point = shapely.from_wkt(row[\"start_pos_wkt\"])\n",
    "        start_lat, start_lon = (\n",
    "            start_point.x,\n",
    "            start_point.y,\n",
    "        )\n",
    "        trips_data.append([start_lat, start_lon])\n",
    "\n",
    "    # Create heatmap layer\n",
    "    if trips_data:\n",
    "        heat_data = [[point[0], point[1]] for point in trips_data]\n",
    "        plugins.HeatMap(heat_data, min_opacity=0.4, radius=15, blur=20).add_to(m)\n",
    "\n",
    "    # Add station points\n",
    "    for row in stations_df.iter_rows(named=True):\n",
    "        point = shapely.from_wkt(row[\"geom_wkt\"])\n",
    "        station_lat, station_lon = point.x, point.y\n",
    "        folium.CircleMarker(\n",
    "            location=[station_lat, station_lon],\n",
    "            radius=2,\n",
    "            color=\"black\",\n",
    "            fillOpacity=0.7,\n",
    "            tooltip=row[\"nom_gares\"],\n",
    "        ).add_to(m)\n",
    "\n",
    "    #    paris_wkt_str = \"\"\n",
    "    #    with open(\"paris_wkt.txt\", \"r\") as f:\n",
    "    #        paris_wkt_str = f.read()\n",
    "    #    paris_polygon = shapely.from_wkt(paris_wkt_str).exterior\n",
    "\n",
    "    # Create polygon layer\n",
    "    #   folium.Polygon(\n",
    "    #       locations=[[y, x] for x, y in list(paris_polygon.coords)],\n",
    "    #       color=\"white\",\n",
    "    #       weight=3,\n",
    "    #       fill=False,\n",
    "    #       tooltip=\"Paris\",\n",
    "    #   ).add_to(m)\n",
    "\n",
    "    return m"
   ]
  },
  {
   "cell_type": "code",
   "execution_count": null,
   "id": "e233b5e3-d045-41c6-9b45-ce1042003c08",
   "metadata": {
    "execution": {
     "iopub.execute_input": "2025-09-02T06:40:31.850630Z",
     "iopub.status.busy": "2025-09-02T06:40:31.850315Z",
     "iopub.status.idle": "2025-09-02T06:40:39.583331Z",
     "shell.execute_reply": "2025-09-02T06:40:39.582976Z",
     "shell.execute_reply.started": "2025-09-02T06:40:31.850613Z"
    }
   },
   "outputs": [],
   "source": [
    "m = create_trip_heatmap_map(df_journeys_raw_with_nearest_stations, df_idfm_stations)\n",
    "m"
   ]
  },
  {
   "cell_type": "markdown",
   "id": "628fa5d0-995d-431c-8823-f3deefa35a10",
   "metadata": {},
   "source": [
    "## Analyse des trajets avec O et D à proximité d'une gare\n"
   ]
  },
  {
   "cell_type": "code",
   "execution_count": null,
   "id": "029d133e-121e-48ba-8d0c-8c3d80136a6f",
   "metadata": {
    "execution": {
     "iopub.execute_input": "2025-09-02T06:40:47.230153Z",
     "iopub.status.busy": "2025-09-02T06:40:47.229998Z",
     "iopub.status.idle": "2025-09-02T06:40:47.232084Z",
     "shell.execute_reply": "2025-09-02T06:40:47.231828Z",
     "shell.execute_reply.started": "2025-09-02T06:40:47.230141Z"
    }
   },
   "outputs": [],
   "source": [
    "MAX_DISTANCE = 1000  # 1 km"
   ]
  },
  {
   "cell_type": "code",
   "execution_count": null,
   "id": "f0660e3d-0e19-4ba6-bbda-bff70640f247",
   "metadata": {
    "execution": {
     "iopub.execute_input": "2025-09-02T06:40:47.620952Z",
     "iopub.status.busy": "2025-09-02T06:40:47.620777Z",
     "iopub.status.idle": "2025-09-02T06:40:47.871869Z",
     "shell.execute_reply": "2025-09-02T06:40:47.871560Z",
     "shell.execute_reply.started": "2025-09-02T06:40:47.620940Z"
    }
   },
   "outputs": [],
   "source": [
    "df_journeys_raw_with_nearest_stations_full = (\n",
    "    df_journeys_raw.join(\n",
    "        df_journeys_raw_with_nearest_stations.filter(\n",
    "            pl.max_horizontal(\n",
    "                \"distance_to_station_spheroid_start\", \"distance_to_station_spheroid_end\"\n",
    "            )\n",
    "            <= MAX_DISTANCE\n",
    "        ),\n",
    "        on=\"_id\",\n",
    "        how=\"left\",\n",
    "        validate=\"1:1\",\n",
    "        coalesce=False,\n",
    "    )\n",
    "    .with_columns(pl.col(\"_id_right\").is_not_null().alias(\"is_near_station\"))\n",
    "    .with_columns(\n",
    "        pl.when(pl.col(\"is_near_station\"))\n",
    "        .then(pl.lit(\"Trajets proches d'une gare\"))\n",
    "        .otherwise(pl.lit(\"Trajets éloignés d'une gare\"))\n",
    "        .alias(\"is_near_station_fmt\")\n",
    "    )\n",
    ")\n",
    "df_journeys_raw_with_nearest_stations_full.shape"
   ]
  },
  {
   "cell_type": "code",
   "execution_count": null,
   "id": "e6d64c54-1b24-41b3-a72a-f13f3a3b58c0",
   "metadata": {
    "execution": {
     "iopub.execute_input": "2025-09-02T06:40:48.588914Z",
     "iopub.status.busy": "2025-09-02T06:40:48.588756Z",
     "iopub.status.idle": "2025-09-02T06:40:48.729173Z",
     "shell.execute_reply": "2025-09-02T06:40:48.728894Z",
     "shell.execute_reply.started": "2025-09-02T06:40:48.588903Z"
    }
   },
   "outputs": [],
   "source": [
    "with pl.Config(set_fmt_str_lengths=120, set_tbl_width_chars=1000):\n",
    "    print(\n",
    "        df_journeys_raw_with_nearest_stations_full.filter(pl.col(\"is_near_station\"))\n",
    "        .select(\n",
    "            pl.col(\"_id\").n_unique().alias(\"Nombre de journeys\"),\n",
    "            pl.col(\"_id\")\n",
    "            .filter(pl.col(\"incentive_amount\") > 0)\n",
    "            .n_unique()\n",
    "            .alias(\"Nombre de journeys avec incitation\"),\n",
    "            (\n",
    "                100\n",
    "                * pl.col(\"_id\").filter(pl.col(\"incentive_amount\") > 0).n_unique()\n",
    "                / pl.col(\"_id\").n_unique()\n",
    "            ).alias(\"% journeys avec incitation\"),\n",
    "            pl.col(\"_id\")\n",
    "            .filter(pl.col(\"incentived_by_aom\"))\n",
    "            .n_unique()\n",
    "            .alias(\"Nombre de journeys avec incitation AOM\"),\n",
    "            (\n",
    "                100\n",
    "                * pl.col(\"_id\").filter(pl.col(\"incentived_by_aom\")).n_unique()\n",
    "                / pl.col(\"_id\").n_unique()\n",
    "            ).alias(\"% journeys avec incitation AOM\"),\n",
    "            pl.col(\"_id\")\n",
    "            .filter(pl.col(\"incentived_by_operator\"))\n",
    "            .n_unique()\n",
    "            .alias(\"Nombre de journeys avec incitation opérateur\"),\n",
    "            (\n",
    "                100\n",
    "                * pl.col(\"_id\").filter(pl.col(\"incentived_by_operator\")).n_unique()\n",
    "                / pl.col(\"_id\").n_unique()\n",
    "            ).alias(\"% journeys avec incitation opérateur\"),\n",
    "        )\n",
    "        .with_columns(pl.selectors.all().round(2))\n",
    "        .unpivot()\n",
    "    )"
   ]
  },
  {
   "cell_type": "code",
   "execution_count": null,
   "id": "fc393474-c4a4-49c0-9d2c-7ed3c65711d4",
   "metadata": {
    "execution": {
     "iopub.execute_input": "2025-09-02T06:40:49.305407Z",
     "iopub.status.busy": "2025-09-02T06:40:49.305012Z",
     "iopub.status.idle": "2025-09-02T06:40:49.822643Z",
     "shell.execute_reply": "2025-09-02T06:40:49.822198Z",
     "shell.execute_reply.started": "2025-09-02T06:40:49.305386Z"
    }
   },
   "outputs": [],
   "source": [
    "df_stats_by_month_full = (\n",
    "    df_journeys_raw_with_nearest_stations_full.group_by(\n",
    "        [\n",
    "            pl.col(\"start_datetime\").dt.truncate(\"1mo\").alias(\"month\"),\n",
    "            \"is_near_station_fmt\",\n",
    "        ]\n",
    "    )\n",
    "    .agg(agg_expressions)\n",
    "    .sort(pl.col(\"month\"))\n",
    ")"
   ]
  },
  {
   "cell_type": "code",
   "execution_count": null,
   "id": "99dd8e27-fc8d-4417-b2ed-195d412db7f1",
   "metadata": {
    "execution": {
     "iopub.execute_input": "2025-09-02T06:40:49.823799Z",
     "iopub.status.busy": "2025-09-02T06:40:49.823559Z",
     "iopub.status.idle": "2025-09-02T06:40:50.563825Z",
     "shell.execute_reply": "2025-09-02T06:40:50.563512Z",
     "shell.execute_reply.started": "2025-09-02T06:40:49.823786Z"
    }
   },
   "outputs": [],
   "source": [
    "df_stats_by_week_filtered = (\n",
    "    df_journeys_raw_with_nearest_stations_full.filter(\n",
    "        pl.col(\"start_datetime\") <= datetime(2025, 7, 20, tzinfo=ZoneInfo(\"GMT\"))\n",
    "    )\n",
    "    .group_by(\n",
    "        [\n",
    "            pl.col(\"start_datetime\").dt.truncate(\"1w\").alias(\"week\"),\n",
    "            \"is_near_station_fmt\",\n",
    "        ]\n",
    "    )\n",
    "    .agg(agg_expressions)\n",
    "    .sort(pl.col(\"week\"))\n",
    ")"
   ]
  },
  {
   "cell_type": "markdown",
   "id": "c3718e26-cbdf-4337-b02f-8c6218940528",
   "metadata": {},
   "source": [
    "### Evolution\n"
   ]
  },
  {
   "cell_type": "markdown",
   "id": "7848bd0a-4a64-4bdc-a3ca-116a41fbe290",
   "metadata": {},
   "source": [
    "#### Globale\n"
   ]
  },
  {
   "cell_type": "code",
   "execution_count": null,
   "id": "dfafab85-7db0-4f21-a085-b939f6196fa3",
   "metadata": {
    "execution": {
     "iopub.execute_input": "2025-09-02T16:12:33.351000Z",
     "iopub.status.busy": "2025-09-02T16:12:33.350686Z",
     "iopub.status.idle": "2025-09-02T16:12:33.777290Z",
     "shell.execute_reply": "2025-09-02T16:12:33.776715Z",
     "shell.execute_reply.started": "2025-09-02T16:12:33.350985Z"
    }
   },
   "outputs": [],
   "source": [
    "fig_journeys_by_month_near_vs_far = px.line(\n",
    "    df_stats_by_month_full,\n",
    "    x=\"month\",\n",
    "    y=\"num_journeys_incentived\",\n",
    "    color=\"is_near_station_fmt\",\n",
    "    color_discrete_map=colors_map,\n",
    "    template=\"simple_white\",\n",
    "    labels=labels_map,\n",
    "    title=\"Nombre de journeys par mois - \"\n",
    "    f'<br><sub>Les trajets dits \"proches\" sont ceux avec O/D à moins de {MAX_DISTANCE / 1000:.0f} km d\\'une gare<sub>',\n",
    ")\n",
    "fig_journeys_by_month_near_vs_far.show()\n",
    "\n",
    "fig_journeys_by_month_near_vs_far\n",
    "fig_journeys_by_month_near_vs_far.update_yaxes(\n",
    "    range=[0, df_stats_by_month_full[\"num_journeys_incentived\"].max() - 1.1]\n",
    ")\n",
    "\n",
    "fig_journeys_by_month_near_vs_far.write_html(\n",
    "    OUTPUT_PATH / \"fig_journeys_par_mois_near_vs_far.html\"\n",
    ")\n",
    "fig_journeys_by_month_near_vs_far.write_image(\n",
    "    OUTPUT_PATH / \"fig_journeys_par_mois_near_vs_far.svg\", width=1280, height=720\n",
    ")"
   ]
  },
  {
   "cell_type": "markdown",
   "id": "a0973ed0-6478-496f-b45a-0123ec537184",
   "metadata": {},
   "source": [
    "#### Opérateur incitateurs\n"
   ]
  },
  {
   "cell_type": "code",
   "execution_count": null,
   "id": "5c52f19f-ce28-4626-95ae-9c744cf2d134",
   "metadata": {
    "execution": {
     "iopub.execute_input": "2025-09-02T06:40:54.040020Z",
     "iopub.status.busy": "2025-09-02T06:40:54.039859Z",
     "iopub.status.idle": "2025-09-02T06:40:55.622512Z",
     "shell.execute_reply": "2025-09-02T06:40:55.621885Z",
     "shell.execute_reply.started": "2025-09-02T06:40:54.040008Z"
    }
   },
   "outputs": [],
   "source": [
    "fig_journeys_by_operator_filtered = px.line(\n",
    "    df_journeys_raw_with_nearest_stations_full.filter(pl.col(\"is_near_station\"))\n",
    "    .explode(\"incentive_sirets\")\n",
    "    .join(\n",
    "        df_operators,\n",
    "        left_on=\"incentive_sirets\",\n",
    "        right_on=\"siret\",\n",
    "        how=\"left\",\n",
    "        suffix=\"_operators\",\n",
    "    )\n",
    "    .group_by([\"name\", pl.col(\"start_datetime\").dt.truncate(\"1mo\")])\n",
    "    .agg(pl.col(\"operator_journey_id\").n_unique().alias(\"num_journeys\"))\n",
    "    .rename({\"name\": \"operator\", \"start_datetime\": \"month\"})\n",
    "    .sort(\"month\"),\n",
    "    x=\"month\",\n",
    "    y=\"num_journeys\",\n",
    "    color=\"operator\",\n",
    "    template=\"simple_white\",\n",
    "    labels=labels_map,\n",
    "    title=\"Nombre de journeys incités par opérateur\"\n",
    "    f\"<br><sub>Uniquement les trajets avec O/D à moins de {MAX_DISTANCE / 1000:.0f} km d'une gare</sub>\",\n",
    ")\n",
    "fig_journeys_by_operator_filtered.update_yaxes(showgrid=True)\n",
    "fig_journeys_by_operator_filtered.show()\n",
    "\n",
    "\n",
    "fig_journeys_by_operator_filtered.write_html(\n",
    "    \"outputs_idfm/fig_journeys_par_operateur_mois_filtered.html\"\n",
    ")\n",
    "fig_journeys_by_operator_filtered.write_image(\n",
    "    \"outputs_idfm/fig_journeys_par_operateur_mois_filtered.svg\", width=1280, height=720\n",
    ")"
   ]
  },
  {
   "cell_type": "markdown",
   "id": "1e6c96cf-8a2a-4ec6-bc90-ee1bf2ffd6b7",
   "metadata": {},
   "source": [
    "## Par opérateurs\n"
   ]
  },
  {
   "cell_type": "code",
   "execution_count": null,
   "id": "fb4f8a7b-f06e-40d1-83ab-f285f25cf1f3",
   "metadata": {
    "execution": {
     "iopub.status.busy": "2025-09-02T06:40:55.622719Z",
     "iopub.status.idle": "2025-09-02T06:40:55.622836Z",
     "shell.execute_reply": "2025-09-02T06:40:55.622783Z",
     "shell.execute_reply.started": "2025-09-02T06:40:55.622777Z"
    }
   },
   "outputs": [],
   "source": [
    "px.line(\n",
    "    (\n",
    "        df_journeys_raw_with_nearest_stations_full.filter(\n",
    "            incentived_trip_filter_expr & pl.col(\"is_near_station\")\n",
    "        )\n",
    "        .group_by([\"operator_id\", pl.col(\"start_datetime\").dt.truncate(\"1w\")])\n",
    "        .agg(pl.col(\"_id\").n_unique().alias(\"num_journeys\"))\n",
    "        .join(\n",
    "            df_operators,\n",
    "            left_on=\"operator_id\",\n",
    "            right_on=\"_id\",\n",
    "            validate=\"m:1\",\n",
    "            suffix=\"_operators\",\n",
    "        )\n",
    "        .sort([\"start_datetime\", \"operator_id\"])\n",
    "    ),\n",
    "    title=\"Nombre de journeys par opérateur\"\n",
    "    f\"<br><sub>Uniquement les trajets avec O/D à moins de {MAX_DISTANCE / 1000:.0f} km d'une gare</sub>\",\n",
    "    x=\"start_datetime\",\n",
    "    y=\"num_journeys\",\n",
    "    color=\"name\",\n",
    "    labels=labels_map,\n",
    "    template=\"simple_white\",\n",
    ")"
   ]
  },
  {
   "cell_type": "markdown",
   "id": "b4d6f80f-2de5-4b5f-9f47-526044a021ec",
   "metadata": {},
   "source": [
    "# Comparaisons entre les trajets proches et éloignés d'une gare\n"
   ]
  },
  {
   "cell_type": "code",
   "execution_count": null,
   "id": "279e2536-629d-4ba9-93bc-5ea6207b6367",
   "metadata": {
    "execution": {
     "iopub.execute_input": "2025-09-02T16:17:47.559573Z",
     "iopub.status.busy": "2025-09-02T16:17:47.559170Z",
     "iopub.status.idle": "2025-09-02T16:17:47.561595Z",
     "shell.execute_reply": "2025-09-02T16:17:47.561265Z",
     "shell.execute_reply.started": "2025-09-02T16:17:47.559558Z"
    }
   },
   "outputs": [],
   "source": [
    "colors_map = {\n",
    "    \"Trajets éloignés d'une gare\": \"#ffae2b\",\n",
    "    \"Trajets proches d'une gare\": \"#2B7CFF\",\n",
    "}\n",
    "category_order = [\"Trajets proches d'une gare\", \"Trajets éloignés d'une gare\"]"
   ]
  },
  {
   "cell_type": "markdown",
   "id": "0a459e6d-5f0e-43b6-aafc-3bb7f3cc7600",
   "metadata": {},
   "source": [
    "## Distance\n"
   ]
  },
  {
   "cell_type": "code",
   "execution_count": null,
   "id": "b2ea5235-c8a3-48bd-a829-0eacad22bbd8",
   "metadata": {
    "execution": {
     "iopub.execute_input": "2025-09-02T16:17:48.286496Z",
     "iopub.status.busy": "2025-09-02T16:17:48.286274Z",
     "iopub.status.idle": "2025-09-02T16:17:48.801395Z",
     "shell.execute_reply": "2025-09-02T16:17:48.800818Z",
     "shell.execute_reply.started": "2025-09-02T16:17:48.286481Z"
    }
   },
   "outputs": [],
   "source": [
    "fig_distance_by_month_near_vs_far = px.line(\n",
    "    df_stats_by_month_full.with_columns(\n",
    "        pl.col(\"distance_avg\").round(1).alias(\"distance_avg_fmt\")\n",
    "    ),\n",
    "    x=\"month\",\n",
    "    y=\"distance_avg\",\n",
    "    text=\"distance_avg_fmt\",\n",
    "    color=\"is_near_station_fmt\",\n",
    "    color_discrete_map=colors_map,\n",
    "    category_orders={\"is_near_station_fmt\": category_order},\n",
    "    template=\"simple_white\",\n",
    "    labels=labels_map,\n",
    "    title=\"Distance parcourue moyenne par journeys avec incentives par mois - \"\n",
    "    f'<br><sub>Les trajets dits \"proches\" sont ceux avec O/D à moins de {MAX_DISTANCE / 1000:.0f} km d\\'une gare<sub>',\n",
    ")\n",
    "fig_distance_by_month_near_vs_far.show()\n",
    "\n",
    "fig_distance_by_month_near_vs_far\n",
    "fig_distance_by_month_near_vs_far.update_traces(textposition=\"top center\")\n",
    "\n",
    "fig_distance_by_month_near_vs_far.update_yaxes(\n",
    "    range=[0, df_stats_by_month_full[\"distance_avg\"].max() - 1.1]\n",
    ")\n",
    "\n",
    "fig_distance_by_month_near_vs_far.write_html(\n",
    "    OUTPUT_PATH / \"fig_distance_avg_by_month_near_vs_far.html\"\n",
    ")\n",
    "fig_distance_by_month_near_vs_far.write_image(\n",
    "    OUTPUT_PATH / \"fig_distance_avg_by_month_near_vs_far.svg\", width=1280, height=720\n",
    ")"
   ]
  },
  {
   "cell_type": "markdown",
   "id": "183e35e0-8b67-4865-8294-789874cafb9f",
   "metadata": {},
   "source": [
    "Les trajets qui débutent et finissent proches d'une gare sont en moyennes plus courts que les autres trajets. Cela pourrait par exemple traduire un déplacement hybride (voiture + transports en communs). S'ajoute à cela le fait que les gares soient des points de rencontre. A priori, la plupart des trajets se dirigent vers Paris - les points d'arrivées sont peut etre des gares qui connectent rapidement au métro/permettent de se rendre rapidement dans Paris. Les gares sont peut-être à proximité de parking relais.\n",
    "TODO: vérifier les hypothèses pertinentes, trouver d'autres hypothèses.\n"
   ]
  },
  {
   "cell_type": "markdown",
   "id": "fa3aab9f-3b2b-4d85-94ad-0aa4fbfdd86b",
   "metadata": {
    "execution": {
     "iopub.execute_input": "2025-08-28T14:30:52.353487Z",
     "iopub.status.busy": "2025-08-28T14:30:52.353170Z",
     "iopub.status.idle": "2025-08-28T14:30:52.368122Z",
     "shell.execute_reply": "2025-08-28T14:30:52.367779Z",
     "shell.execute_reply.started": "2025-08-28T14:30:52.353472Z"
    }
   },
   "source": [
    "## Par opérateurs\n"
   ]
  },
  {
   "cell_type": "code",
   "execution_count": null,
   "id": "ff03198a-95ba-4171-af6f-2e8c690c33f8",
   "metadata": {
    "execution": {
     "iopub.execute_input": "2025-09-02T06:40:57.716995Z",
     "iopub.status.busy": "2025-09-02T06:40:57.716817Z",
     "iopub.status.idle": "2025-09-02T06:40:58.436571Z",
     "shell.execute_reply": "2025-09-02T06:40:58.436264Z",
     "shell.execute_reply.started": "2025-09-02T06:40:57.716983Z"
    }
   },
   "outputs": [],
   "source": [
    "px.line(\n",
    "    (\n",
    "        df_journeys_raw_with_nearest_stations_full.filter(incentived_trip_filter_expr)\n",
    "        .group_by(\n",
    "            [\n",
    "                \"operator_id\",\n",
    "                pl.col(\"start_datetime\").dt.truncate(\"1w\"),\n",
    "                \"is_near_station_fmt\",\n",
    "            ]\n",
    "        )\n",
    "        .agg(pl.col(\"_id\").n_unique().alias(\"num_journeys\"))\n",
    "        .with_columns(\n",
    "            (\n",
    "                pl.col(\"num_journeys\")\n",
    "                / pl.col(\"num_journeys\")\n",
    "                .sum()\n",
    "                .over([\"start_datetime\", \"is_near_station_fmt\"])\n",
    "                * 100\n",
    "            ).alias(\"percentage_journeys\")\n",
    "        )\n",
    "        .join(\n",
    "            df_operators,\n",
    "            left_on=\"operator_id\",\n",
    "            right_on=\"_id\",\n",
    "            validate=\"m:1\",\n",
    "            suffix=\"_operators\",\n",
    "        )\n",
    "        .sort([\"start_datetime\", \"operator_id\"])\n",
    "    ),\n",
    "    title=f\"Proportion de journeys par opérateur par catégorie de distance à une gare <br><sub>Les trajets dits proches sont ceux avec O/D à moins de {MAX_DISTANCE / 1000:.0f} km d'une gare</sub>\",\n",
    "    x=\"start_datetime\",\n",
    "    y=\"percentage_journeys\",\n",
    "    color=\"name\",\n",
    "    line_dash=\"is_near_station_fmt\",\n",
    "    labels=labels_map,\n",
    "    template=\"simple_white\",\n",
    ")"
   ]
  },
  {
   "cell_type": "markdown",
   "id": "2573e006-48b0-48d9-b124-37b0510a6f16",
   "metadata": {},
   "source": [
    "Les répartitions par opérateurs sont les mêmes que le trajet soit proche d\\'une gare ou non. Certains opérateurs sont utilisés uniquement pour les trajets éloignés des gares - surement du à un faible échantillon\n"
   ]
  },
  {
   "cell_type": "markdown",
   "id": "8854457e-c6cb-43ba-b0aa-7d923288ae71",
   "metadata": {},
   "source": [
    "## Prix, revenus et incitations\n"
   ]
  },
  {
   "cell_type": "markdown",
   "id": "861be621-da2a-4313-b554-f1584ec4d97c",
   "metadata": {},
   "source": [
    "### Trajets incités\n"
   ]
  },
  {
   "cell_type": "code",
   "execution_count": null,
   "id": "5bbd38a4-9f9c-4e6c-b0b2-2f4120917296",
   "metadata": {
    "execution": {
     "iopub.execute_input": "2025-09-02T06:41:00.413720Z",
     "iopub.status.busy": "2025-09-02T06:41:00.413528Z",
     "iopub.status.idle": "2025-09-02T06:41:01.168817Z",
     "shell.execute_reply": "2025-09-02T06:41:01.168520Z",
     "shell.execute_reply.started": "2025-09-02T06:41:00.413707Z"
    }
   },
   "outputs": [],
   "source": [
    "df_stats_by_week_near = (\n",
    "    df_journeys_raw_with_nearest_stations_full.filter(\n",
    "        incentived_trip_filter_expr & pl.col(\"is_near_station\")\n",
    "    )\n",
    "    .group_by([pl.col(\"start_datetime\").dt.truncate(\"1w\").alias(\"week\")])\n",
    "    .agg(agg_expressions)\n",
    "    .sort(\"week\")\n",
    ")\n",
    "\n",
    "df_stats_by_week_far = (\n",
    "    df_journeys_raw_with_nearest_stations_full.filter(\n",
    "        incentived_trip_filter_expr & ~pl.col(\"is_near_station\")\n",
    "    )\n",
    "    .group_by([pl.col(\"start_datetime\").dt.truncate(\"1w\").alias(\"week\")])\n",
    "    .agg(agg_expressions)\n",
    "    .sort(\"week\")\n",
    ")"
   ]
  },
  {
   "cell_type": "markdown",
   "id": "4521fa53-a944-41e4-bf44-a99017b5d068",
   "metadata": {},
   "source": [
    "#### Proche d'une gare\n"
   ]
  },
  {
   "cell_type": "code",
   "execution_count": null,
   "id": "aeca2f87-9ea4-402a-a566-a4aa6f898e70",
   "metadata": {
    "execution": {
     "iopub.execute_input": "2025-09-02T06:41:01.453567Z",
     "iopub.status.busy": "2025-09-02T06:41:01.453248Z",
     "iopub.status.idle": "2025-09-02T06:41:01.485529Z",
     "shell.execute_reply": "2025-09-02T06:41:01.485196Z",
     "shell.execute_reply.started": "2025-09-02T06:41:01.453553Z"
    }
   },
   "outputs": [],
   "source": [
    "fig_prices_by_week_near = create_scatter_fig_prices(\n",
    "    df_stats_by_week_near,\n",
    "    [\n",
    "        \"incentive_amount_avg\",\n",
    "        \"passenger_contribution_incentived_trips_avg\",\n",
    "        \"driver_revenue_incentived_trips_avg\",\n",
    "    ],\n",
    "    \"week\",\n",
    "    (\n",
    "        \"Montants moyens par trajet des incitations pour les trajets <b>proches d'une gare</b>,\"\n",
    "        \"<br>contributions passagers et revenus conducteurs - Trajets incités\"\n",
    "    ),\n",
    "    {\n",
    "        **labels_map,\n",
    "        \"passenger_contribution_incentived_trips_avg\": \"Contribution moyenne passager\",\n",
    "        \"driver_revenue_incentived_trips_avg\": \"Revenu moyen conducteur\",\n",
    "    },\n",
    ")\n",
    "fig_prices_by_week_near.show()\n",
    "\n",
    "\n",
    "fig_prices_by_week_near.write_html(OUTPUT_PATH / \"fig_prix_par_semaine_near.html\")\n",
    "# fig_prices_by_week_near.write_image(\n",
    "#    OUTPUT_PATH / \"fig_prix_par_semaine_near.svg\", width=1280, height=720\n",
    "# )"
   ]
  },
  {
   "cell_type": "markdown",
   "id": "b3c030b6-01c4-4e09-878f-dd81a3d4bf8c",
   "metadata": {},
   "source": [
    "#### Eloignés d'une gare\n"
   ]
  },
  {
   "cell_type": "code",
   "execution_count": null,
   "id": "06e43f04-b123-483b-853d-c72c1fec2a95",
   "metadata": {
    "execution": {
     "iopub.execute_input": "2025-09-02T06:41:02.446930Z",
     "iopub.status.busy": "2025-09-02T06:41:02.446741Z",
     "iopub.status.idle": "2025-09-02T06:41:02.486589Z",
     "shell.execute_reply": "2025-09-02T06:41:02.486239Z",
     "shell.execute_reply.started": "2025-09-02T06:41:02.446916Z"
    }
   },
   "outputs": [],
   "source": [
    "fig_prices_by_week_far = create_scatter_fig_prices(\n",
    "    df_stats_by_week_far,\n",
    "    [\n",
    "        \"incentive_amount_avg\",\n",
    "        \"passenger_contribution_incentived_trips_avg\",\n",
    "        \"driver_revenue_incentived_trips_avg\",\n",
    "    ],\n",
    "    \"week\",\n",
    "    (\n",
    "        \"Montants moyens par trajet des incitations pour les trajets <b>éloignés d'une gare</b>,\"\n",
    "        \"<br>contributions passagers et revenus conducteurs - Trajets incités\"\n",
    "    ),\n",
    "    {\n",
    "        **labels_map,\n",
    "        \"passenger_contribution_incentived_trips_avg\": \"Contribution moyenne passager\",\n",
    "        \"driver_revenue_incentived_trips_avg\": \"Revenu moyen conducteur\",\n",
    "    },\n",
    ")\n",
    "fig_prices_by_week_far.show()\n",
    "\n",
    "\n",
    "fig_prices_by_week_far.write_html(OUTPUT_PATH / \"fig_prix_par_semaine_far.html\")\n",
    "# fig_prices_by_week_far.write_image(\n",
    "#    OUTPUT_PATH / \"fig_prix_par_semaine_far.svg\", width=1280, height=720\n",
    "# )"
   ]
  },
  {
   "cell_type": "markdown",
   "id": "2859663b-6a1a-42a0-9eb1-f1b5bde851c2",
   "metadata": {},
   "source": [
    "#### Intra\n"
   ]
  },
  {
   "cell_type": "markdown",
   "id": "5b1815fe-6af8-4a80-9b18-e3d357949a96",
   "metadata": {},
   "source": [
    "##### Proches d'une gare\n"
   ]
  },
  {
   "cell_type": "code",
   "execution_count": null,
   "id": "acabe4d6-6789-4d5a-8978-9f9dae0e2c6e",
   "metadata": {
    "execution": {
     "iopub.execute_input": "2025-09-02T06:41:03.519107Z",
     "iopub.status.busy": "2025-09-02T06:41:03.518936Z",
     "iopub.status.idle": "2025-09-02T06:41:03.555549Z",
     "shell.execute_reply": "2025-09-02T06:41:03.555194Z",
     "shell.execute_reply.started": "2025-09-02T06:41:03.519095Z"
    }
   },
   "outputs": [],
   "source": [
    "fig_prices_by_week_intra_near = create_scatter_fig_prices(\n",
    "    df_stats_by_week_near,\n",
    "    [\n",
    "        \"incentive_amount_intra_avg\",\n",
    "        \"passenger_contribution_intra_avg\",\n",
    "        \"driver_revenue_intra_avg\",\n",
    "    ],\n",
    "    \"week\",\n",
    "    (\n",
    "        \"Montants moyens par trajet <b>intra proche d'une gare</b>  des incitations,\"\n",
    "        \"<br>contributions passagers et revenus conducteurs\"\n",
    "    ),\n",
    "    labels_map,\n",
    ")\n",
    "fig_prices_by_week_intra_near.show()\n",
    "\n",
    "\n",
    "fig_prices_by_week_intra_near.write_html(\n",
    "    OUTPUT_PATH / \"fig_prix_intra_par_semaine_near.html\"\n",
    ")\n",
    "# fig_prices_by_week_intra_near.write_image(\n",
    "#    OUTPUT_PATH / \"fig_prix_intra_par_semaine_near.svg\", width=1280, height=720\n",
    "#"
   ]
  },
  {
   "cell_type": "markdown",
   "id": "0e90f31a-05cd-491e-b139-f15048e3ee3f",
   "metadata": {},
   "source": [
    "##### Eloignés d'une gare\n"
   ]
  },
  {
   "cell_type": "code",
   "execution_count": null,
   "id": "f10f2800-9d4e-429a-9a73-5834355774e6",
   "metadata": {
    "execution": {
     "iopub.execute_input": "2025-09-02T06:41:04.269175Z",
     "iopub.status.busy": "2025-09-02T06:41:04.269018Z",
     "iopub.status.idle": "2025-09-02T06:41:04.307619Z",
     "shell.execute_reply": "2025-09-02T06:41:04.307263Z",
     "shell.execute_reply.started": "2025-09-02T06:41:04.269164Z"
    }
   },
   "outputs": [],
   "source": [
    "fig_prices_by_week_intra_far = create_scatter_fig_prices(\n",
    "    df_stats_by_week_far,\n",
    "    [\n",
    "        \"incentive_amount_intra_avg\",\n",
    "        \"passenger_contribution_intra_avg\",\n",
    "        \"driver_revenue_intra_avg\",\n",
    "    ],\n",
    "    \"week\",\n",
    "    (\n",
    "        \"Montants moyens par trajet <b>intra éloigné d'une gare</b> des incitations,\"\n",
    "        \"<br>contributions passagers et revenus conducteurs\"\n",
    "    ),\n",
    "    labels_map,\n",
    ")\n",
    "fig_prices_by_week_intra_far.show()\n",
    "\n",
    "\n",
    "fig_prices_by_week_intra_far.write_html(\n",
    "    OUTPUT_PATH / \"fig_prix_intra_par_semaine_far.html\"\n",
    ")\n",
    "# fig_prices_by_week_intra_far.write_image(\n",
    "#    OUTPUT_PATH / \"fig_prix_intra_par_semaine_near.svg\", width=1280, height=720\n",
    "#"
   ]
  },
  {
   "cell_type": "markdown",
   "id": "2060be46-a96f-47ac-b024-80360c445386",
   "metadata": {},
   "source": [
    "#### Inter\n"
   ]
  },
  {
   "cell_type": "markdown",
   "id": "505049f8-4d0c-45ff-a879-6a133c8e1898",
   "metadata": {},
   "source": [
    "##### Proches d'une gare\n"
   ]
  },
  {
   "cell_type": "code",
   "execution_count": null,
   "id": "fc432234-4c15-4ea0-ac26-5092294a0907",
   "metadata": {
    "execution": {
     "iopub.execute_input": "2025-09-02T06:41:05.209868Z",
     "iopub.status.busy": "2025-09-02T06:41:05.209672Z",
     "iopub.status.idle": "2025-09-02T06:41:05.236970Z",
     "shell.execute_reply": "2025-09-02T06:41:05.236666Z",
     "shell.execute_reply.started": "2025-09-02T06:41:05.209853Z"
    }
   },
   "outputs": [],
   "source": [
    "fig_prices_by_week_inter_near = create_scatter_fig_prices(\n",
    "    df_stats_by_week_near,\n",
    "    [\n",
    "        \"incentive_amount_inter_avg\",\n",
    "        \"passenger_contribution_inter_avg\",\n",
    "        \"driver_revenue_inter_avg\",\n",
    "    ],\n",
    "    \"week\",\n",
    "    (\n",
    "        \"Montants moyens par trajet <b>inter proche d'une gare</b>  des incitations,\"\n",
    "        \"<br>contributions passagers et revenus conducteurs\"\n",
    "    ),\n",
    "    labels_map,\n",
    ")\n",
    "fig_prices_by_week_inter_near.show()\n",
    "\n",
    "\n",
    "fig_prices_by_week_inter_near.write_html(\n",
    "    OUTPUT_PATH / \"fig_prix_inter_par_semaine_near.html\"\n",
    ")\n",
    "# fig_prices_by_week_inter_near.write_image(\n",
    "#    OUTPUT_PATH / \"fig_prix_inter_par_semaine_near.svg\", width=1280, height=720\n",
    "#"
   ]
  },
  {
   "cell_type": "markdown",
   "id": "609add31-b9b3-4bb4-a0a4-632051e3b05d",
   "metadata": {},
   "source": [
    "##### Eloignés d'une gare\n"
   ]
  },
  {
   "cell_type": "code",
   "execution_count": null,
   "id": "a0278118-eed1-4185-8977-f1d949423fcf",
   "metadata": {
    "execution": {
     "iopub.execute_input": "2025-09-02T06:41:05.980759Z",
     "iopub.status.busy": "2025-09-02T06:41:05.980569Z",
     "iopub.status.idle": "2025-09-02T06:41:06.013347Z",
     "shell.execute_reply": "2025-09-02T06:41:06.012999Z",
     "shell.execute_reply.started": "2025-09-02T06:41:05.980745Z"
    }
   },
   "outputs": [],
   "source": [
    "fig_prices_by_week_inter_far = create_scatter_fig_prices(\n",
    "    df_stats_by_week_far,\n",
    "    [\n",
    "        \"incentive_amount_inter_avg\",\n",
    "        \"passenger_contribution_inter_avg\",\n",
    "        \"driver_revenue_inter_avg\",\n",
    "    ],\n",
    "    \"week\",\n",
    "    (\n",
    "        \"Montants moyens par trajet <b>inter éloigné d'une gare</b> des incitations,\"\n",
    "        \"<br>contributions passagers et revenus conducteurs\"\n",
    "    ),\n",
    "    labels_map,\n",
    ")\n",
    "fig_prices_by_week_inter_far.show()\n",
    "\n",
    "\n",
    "fig_prices_by_week_inter_far.write_html(\n",
    "    OUTPUT_PATH / \"fig_prix_inter_par_semaine_far.html\"\n",
    ")\n",
    "# fig_prices_by_week_inter_far.write_image(\n",
    "#    OUTPUT_PATH / \"fig_prix_inter_par_semaine_near.svg\", width=1280, height=720\n",
    "#"
   ]
  },
  {
   "cell_type": "markdown",
   "id": "c5623033-6de4-44a6-9b8c-fe75cf8fcafb",
   "metadata": {},
   "source": [
    "## Nombre de passagers\n"
   ]
  },
  {
   "cell_type": "code",
   "execution_count": null,
   "id": "2fbad6ea-1418-4522-ad19-1acf1bc48cbf",
   "metadata": {
    "execution": {
     "iopub.execute_input": "2025-09-02T08:21:50.609076Z",
     "iopub.status.busy": "2025-09-02T08:21:50.608899Z",
     "iopub.status.idle": "2025-09-02T08:21:51.270953Z",
     "shell.execute_reply": "2025-09-02T08:21:51.270631Z",
     "shell.execute_reply.started": "2025-09-02T08:21:50.609061Z"
    }
   },
   "outputs": [],
   "source": [
    "df_stats_with_nearest_stations_full = (\n",
    "    df_journeys_raw_with_nearest_stations_full.filter(incentived_trip_filter_expr)\n",
    "    .group_by(pl.col(\"is_near_station\"))\n",
    "    .agg(agg_expressions)\n",
    ")\n",
    "df_stats_with_nearest_stations_full.select(\n",
    "    pl.col(\"number_of_unique_passenger\").sum().alias(\"Nombre de passagers\"),\n",
    "    pl.col(\"number_of_unique_passenger\")\n",
    "    .filter(\n",
    "        pl.col(\"is_near_station\"),\n",
    "    )\n",
    "    .alias(\"Nombre de passagers effectuants des trajets proches de gare\"),\n",
    "    pl.col(\"number_of_unique_passenger\")\n",
    "    .filter(\n",
    "        pl.col(\"is_near_station\").not_(),\n",
    "    )\n",
    "    .alias(\"Nombre de passagers effectuants des trajets éloignés de gare\"),\n",
    ")"
   ]
  },
  {
   "cell_type": "code",
   "execution_count": null,
   "id": "36e9996d-30f0-4345-b306-3b83b56fff0a",
   "metadata": {
    "execution": {
     "iopub.execute_input": "2025-09-02T08:37:28.118135Z",
     "iopub.status.busy": "2025-09-02T08:37:28.117781Z",
     "iopub.status.idle": "2025-09-02T08:37:28.120280Z",
     "shell.execute_reply": "2025-09-02T08:37:28.119961Z",
     "shell.execute_reply.started": "2025-09-02T08:37:28.118122Z"
    }
   },
   "outputs": [],
   "source": [
    "print(df_journeys_raw_with_nearest_stations_full.columns)"
   ]
  },
  {
   "cell_type": "code",
   "execution_count": null,
   "id": "701efbcf-800f-4d95-9665-a85290ee7cd2",
   "metadata": {
    "execution": {
     "iopub.execute_input": "2025-09-02T16:18:16.121820Z",
     "iopub.status.busy": "2025-09-02T16:18:16.121515Z",
     "iopub.status.idle": "2025-09-02T16:18:17.631882Z",
     "shell.execute_reply": "2025-09-02T16:18:17.631252Z",
     "shell.execute_reply.started": "2025-09-02T16:18:16.121806Z"
    }
   },
   "outputs": [],
   "source": [
    "px.line(\n",
    "    (\n",
    "        df_journeys_raw_with_nearest_stations_full.filter(incentived_trip_filter_expr)\n",
    "        .group_by([pl.col(\"start_datetime\").dt.truncate(\"1w\"), \"is_near_station_fmt\"])\n",
    "        .agg(pl.col(\"passenger_identity_key\").n_unique().alias(\"num_passenger\"))\n",
    "        .sort([\"start_datetime\"])\n",
    "    ),\n",
    "    title=f\"Nombre de passager par catégorie de distance à une gare <br><sub>Les trajets dits proches sont ceux avec O/D à moins de {MAX_DISTANCE / 1000:.0f} km d'une gare</sub>\",\n",
    "    x=\"start_datetime\",\n",
    "    y=\"num_passenger\",\n",
    "    color=\"is_near_station_fmt\",\n",
    "    color_discrete_map=colors_map,\n",
    "    category_orders={\"is_near_station_fmt\": category_order},\n",
    "    labels=labels_map,\n",
    "    template=\"simple_white\",\n",
    ")"
   ]
  },
  {
   "cell_type": "markdown",
   "id": "c7d7d68d-1a93-48b0-9cc2-662a3920163c",
   "metadata": {
    "execution": {
     "iopub.execute_input": "2025-09-02T06:53:03.431744Z",
     "iopub.status.busy": "2025-09-02T06:53:03.431365Z",
     "iopub.status.idle": "2025-09-02T06:53:03.434082Z",
     "shell.execute_reply": "2025-09-02T06:53:03.433771Z",
     "shell.execute_reply.started": "2025-09-02T06:53:03.431729Z"
    }
   },
   "source": [
    "## Conducteurs\n"
   ]
  },
  {
   "cell_type": "markdown",
   "id": "9b704e8b-5c87-4530-8eb7-69af9f332a1b",
   "metadata": {},
   "source": [
    "### Acquisition\n"
   ]
  },
  {
   "cell_type": "code",
   "execution_count": null,
   "id": "82a7f027-b952-48f8-9cf9-e7dca335f5e1",
   "metadata": {
    "execution": {
     "iopub.execute_input": "2025-09-02T16:18:32.642914Z",
     "iopub.status.busy": "2025-09-02T16:18:32.642611Z",
     "iopub.status.idle": "2025-09-02T16:18:33.464678Z",
     "shell.execute_reply": "2025-09-02T16:18:33.464049Z",
     "shell.execute_reply.started": "2025-09-02T16:18:32.642901Z"
    }
   },
   "outputs": [],
   "source": [
    "fig_new_drivers_count_by_week = px.bar(\n",
    "    df_journeys_raw_with_nearest_stations_full.filter(\n",
    "        pl.col(\"first_trip_datetime\") >= datetime(2024, 9, 1, tzinfo=ZoneInfo(\"GMT\"))\n",
    "    )\n",
    "    .group_by(\n",
    "        [\n",
    "            pl.col(\"first_trip_datetime\").dt.truncate(\"1w\").alias(\"week\"),\n",
    "            \"is_near_station_fmt\",\n",
    "        ]\n",
    "    )\n",
    "    .agg(pl.len())\n",
    "    .sort(pl.col(\"week\")),\n",
    "    x=\"week\",\n",
    "    y=\"len\",\n",
    "    color=\"is_near_station_fmt\",\n",
    "    color_discrete_map=colors_map,\n",
    "    category_orders={\"is_near_station_fmt\": category_order},\n",
    "    labels={**labels_map, \"len\": \"Nombre de nouveaux conducteurs\"},\n",
    "    template=\"simple_white\",\n",
    "    title=\"Evolution de l'acquisition des conducteurs\",\n",
    "    barmode=\"group\",\n",
    ")\n",
    "fig_new_drivers_count_by_week.show()\n",
    "\n",
    "fig_new_drivers_count_by_week.write_html(\n",
    "    OUTPUT_PATH / \"fig_conducteurs_par_semaine.html\"\n",
    ")\n",
    "fig_new_drivers_count_by_week.write_image(\n",
    "    OUTPUT_PATH / \"fig_conducteurs_par_semaine.svg\", width=1280, height=720\n",
    ")"
   ]
  },
  {
   "cell_type": "markdown",
   "id": "41d926b3-c4e4-4be3-bb12-4997c3e5b103",
   "metadata": {},
   "source": [
    "## Nombre de trajets\n"
   ]
  },
  {
   "cell_type": "code",
   "execution_count": null,
   "id": "7d922a04-7758-412a-8bbf-59ec1754d3c0",
   "metadata": {
    "execution": {
     "iopub.execute_input": "2025-09-02T09:00:30.116158Z",
     "iopub.status.busy": "2025-09-02T09:00:30.115869Z",
     "iopub.status.idle": "2025-09-02T09:00:30.668334Z",
     "shell.execute_reply": "2025-09-02T09:00:30.668008Z",
     "shell.execute_reply.started": "2025-09-02T09:00:30.116145Z"
    }
   },
   "outputs": [],
   "source": [
    "df_journeys_raw_with_nearest_stations_full.filter(\n",
    "    pl.col(\"first_trip_datetime\") >= datetime(2024, 9, 1, tzinfo=ZoneInfo(\"GMT\")),\n",
    "    pl.col(\"first_trip_datetime\") <= datetime.now(ZoneInfo(\"GMT\")) - timedelta(days=14),\n",
    ").group_by(\n",
    "    [\n",
    "        \"is_near_station_fmt\",\n",
    "        \"driver_identity_key\",\n",
    "        pl.col(\"start_datetime\").dt.truncate(\"1w\"),\n",
    "    ]\n",
    ").agg(\n",
    "    pl.len().alias(\"num_journeys\"),\n",
    "    pl.concat_str(pl.col(\"operator_id\"), pl.lit(\"-\"), pl.col(\"operator_trip_id\"))\n",
    "    .n_unique()\n",
    "    .alias(\"num_trips\"),\n",
    ").group_by([\"is_near_station_fmt\", \"start_datetime\"]).agg(\n",
    "    pl.col(\"num_journeys\").mean().alias(\"Nombre moyen de journeys par semaine\"),\n",
    "    pl.col(\"num_trips\").mean().alias(\"Nombre moyen de trips par semaine\"),\n",
    ").group_by([\"is_near_station_fmt\"]).agg(\n",
    "    pl.col(\"Nombre moyen de journeys par semaine\").mean(),\n",
    "    pl.col(\"Nombre moyen de trips par semaine\").mean(),\n",
    ")"
   ]
  },
  {
   "cell_type": "code",
   "execution_count": null,
   "id": "e8f9247c-2f2a-479f-870d-bb2815d582cf",
   "metadata": {
    "execution": {
     "iopub.execute_input": "2025-09-02T09:01:03.686652Z",
     "iopub.status.busy": "2025-09-02T09:01:03.686213Z",
     "iopub.status.idle": "2025-09-02T09:01:03.874023Z",
     "shell.execute_reply": "2025-09-02T09:01:03.873715Z",
     "shell.execute_reply.started": "2025-09-02T09:01:03.686634Z"
    }
   },
   "outputs": [],
   "source": [
    "df_journeys_raw_with_nearest_stations_full.filter(\n",
    "    pl.col(\"first_trip_datetime\") >= datetime(2024, 9, 1, tzinfo=ZoneInfo(\"GMT\")),\n",
    "    pl.col(\"first_trip_datetime\") <= datetime.now(ZoneInfo(\"GMT\")) - timedelta(days=30),\n",
    "    pl.col(\"start_datetime\") <= pl.col(\"first_trip_datetime\") + pl.duration(days=30),\n",
    ").group_by([\"is_near_station_fmt\", \"driver_identity_key\"]).agg(\n",
    "    pl.len().alias(\"num_journeys\"),\n",
    "    pl.concat_str(pl.col(\"operator_id\"), pl.lit(\"-\"), pl.col(\"operator_trip_id\"))\n",
    "    .n_unique()\n",
    "    .alias(\"num_trips\"),\n",
    ").group_by(\"is_near_station_fmt\").agg(\n",
    "    pl.col(\"num_journeys\").mean().alias(\"Nombre moyen de journeys sur 30 jours\"),\n",
    "    pl.col(\"num_trips\").mean().alias(\"Nombre moyen de trips sur 30 jours\"),\n",
    ")"
   ]
  },
  {
   "cell_type": "code",
   "execution_count": null,
   "id": "d9592a94-d7c7-45f9-bb56-b1128ef4db71",
   "metadata": {
    "execution": {
     "iopub.execute_input": "2025-09-02T16:18:54.916242Z",
     "iopub.status.busy": "2025-09-02T16:18:54.915827Z",
     "iopub.status.idle": "2025-09-02T16:18:55.622904Z",
     "shell.execute_reply": "2025-09-02T16:18:55.622409Z",
     "shell.execute_reply.started": "2025-09-02T16:18:54.916226Z"
    }
   },
   "outputs": [],
   "source": [
    "def create_num_drivers_by_num_trips_hist_fig(\n",
    "    df: pl.DataFrame, step_size: int, max_step: int\n",
    ") -> go.Figure:\n",
    "    breaks = range(1, max_step + 1, step_size)\n",
    "\n",
    "    station_distance_categories = (\n",
    "        df_journeys_raw_with_nearest_stations_full.select(\"is_near_station_fmt\")\n",
    "        .unique()\n",
    "        .to_series()\n",
    "        .to_list()\n",
    "    )\n",
    "\n",
    "    # Création du DataFrame de toutes les combinaisons possibles\n",
    "    combinations = pl.DataFrame(\n",
    "        product(station_distance_categories, breaks),\n",
    "        schema=[\"is_near_station_fmt\", \"breaks_raw\"],\n",
    "    ).with_columns(\n",
    "        pl.col(\"breaks_raw\")\n",
    "        .cut(breaks, include_breaks=True, left_closed=True)\n",
    "        .struct.unnest()\n",
    "    )\n",
    "    data_agg = (\n",
    "        df.filter(\n",
    "            pl.col(\"first_trip_datetime\")\n",
    "            >= datetime(2024, 9, 1, tzinfo=ZoneInfo(\"GMT\")),\n",
    "            pl.col(\"first_trip_datetime\")\n",
    "            <= datetime.now(ZoneInfo(\"GMT\")) - timedelta(days=30),\n",
    "            pl.col(\"start_datetime\")\n",
    "            <= pl.col(\"first_trip_datetime\") + pl.duration(days=30),\n",
    "        )\n",
    "        .group_by([\"is_near_station_fmt\", \"driver_identity_key\"])\n",
    "        .agg(\n",
    "            pl.len().alias(\"num_journeys\"),\n",
    "            pl.concat_str(\n",
    "                pl.col(\"operator_id\"), pl.lit(\"-\"), pl.col(\"operator_trip_id\")\n",
    "            )\n",
    "            .n_unique()\n",
    "            .alias(\"num_trips\"),\n",
    "        )\n",
    "        .with_columns(\n",
    "            pl.col(\"num_trips\").cut(\n",
    "                breaks=breaks, left_closed=True, include_breaks=True\n",
    "            )\n",
    "        )\n",
    "        .group_by([\"is_near_station_fmt\", \"num_trips\"])\n",
    "        .agg(pl.col(\"driver_identity_key\").n_unique().alias(\"num_drivers\"))\n",
    "        .with_columns(pl.col(\"num_trips\").struct.unnest())\n",
    "    )\n",
    "\n",
    "    data_complete = (\n",
    "        combinations.join(\n",
    "            data_agg,\n",
    "            on=[\"is_near_station_fmt\", \"breakpoint\"],\n",
    "            how=\"left\",\n",
    "        )\n",
    "        .with_columns(pl.col(\"num_drivers\").fill_null(0))\n",
    "        .with_columns(\n",
    "            (\n",
    "                100\n",
    "                * pl.col(\"num_drivers\")\n",
    "                / pl.col(\"num_drivers\").sum().over(\"is_near_station_fmt\")\n",
    "            )\n",
    "            .round(2)\n",
    "            .alias(\"share_drivers\")\n",
    "        )\n",
    "        .sort([\"breakpoint\"])\n",
    "    )\n",
    "\n",
    "    fig = px.bar(\n",
    "        data_complete,\n",
    "        x=data_complete[\"category\"],\n",
    "        y=data_complete[\"share_drivers\"],\n",
    "        color=\"is_near_station_fmt\",\n",
    "        color_discrete_map=colors_map,\n",
    "        category_orders={\"is_near_station_fmt\": category_order},\n",
    "        barmode=\"group\",\n",
    "        template=\"simple_white\",\n",
    "        title=\"Distribution du nombre de trips effectués sur 30 jours pour chaque catégorie de distance à une gare\",\n",
    "    )\n",
    "\n",
    "    fig.update_xaxes(title=\"Nombre de trajets\")\n",
    "    fig.update_yaxes(title=\"% des conducteurs\")\n",
    "\n",
    "    return fig, data_complete\n",
    "\n",
    "\n",
    "fig_drivers_by_trip_numbers_hist, data_complete = (\n",
    "    create_num_drivers_by_num_trips_hist_fig(\n",
    "        df_journeys_raw_with_nearest_stations_full, step_size=3, max_step=30\n",
    "    )\n",
    ")\n",
    "fig_drivers_by_trip_numbers_hist.show()\n",
    "\n",
    "fig_drivers_by_trip_numbers_hist.write_html(\n",
    "    OUTPUT_PATH / \"fig_histo_trajets_conducteurs.html\"\n",
    ")\n",
    "fig_drivers_by_trip_numbers_hist.write_image(\n",
    "    OUTPUT_PATH / \"fig_histo_trajets_conducteurs.svg\", width=1280, height=720\n",
    ")"
   ]
  },
  {
   "cell_type": "markdown",
   "id": "00756d8e-cf20-4621-b00b-af8987e8afc9",
   "metadata": {},
   "source": [
    "## Types de trajets\n"
   ]
  },
  {
   "cell_type": "code",
   "execution_count": null,
   "id": "23bcbafe-acd1-47c3-ac21-4dbc2b74127f",
   "metadata": {
    "execution": {
     "iopub.execute_input": "2025-09-02T11:08:38.666275Z",
     "iopub.status.busy": "2025-09-02T11:08:38.666088Z",
     "iopub.status.idle": "2025-09-02T11:08:38.855549Z",
     "shell.execute_reply": "2025-09-02T11:08:38.855227Z",
     "shell.execute_reply.started": "2025-09-02T11:08:38.666260Z"
    }
   },
   "outputs": [],
   "source": [
    "df_journeys_raw_with_nearest_stations_full.filter(\n",
    "    pl.col(\"first_trip_datetime\") >= datetime(2024, 9, 1, tzinfo=ZoneInfo(\"GMT\")),\n",
    "    pl.col(\"first_trip_datetime\") <= datetime.now(ZoneInfo(\"GMT\")) - timedelta(days=30),\n",
    "    pl.col(\"start_datetime\") <= pl.col(\"first_trip_datetime\") + pl.duration(days=30),\n",
    ").group_by([\"is_near_station_fmt\", \"driver_identity_key\"]).agg(\n",
    "    (\n",
    "        (\n",
    "            pl.concat_str(\n",
    "                pl.col(\"operator_id\"), pl.lit(\"-\"), pl.col(\"operator_trip_id\")\n",
    "            )\n",
    "            .filter(pl.col(\"is_fully_inside_campaign_area\"))\n",
    "            .n_unique()\n",
    "        )\n",
    "        >= (\n",
    "            pl.concat_str(\n",
    "                pl.col(\"operator_id\"), pl.lit(\"-\"), pl.col(\"operator_trip_id\")\n",
    "            )\n",
    "            .filter(pl.col(\"is_fully_inside_campaign_area\").not_())\n",
    "            .n_unique()\n",
    "        )\n",
    "    ).alias(\"is_intra_driver\")\n",
    ").group_by([\"is_near_station_fmt\"]).agg(\n",
    "    (100 * pl.col(\"is_intra_driver\").sum() / pl.len()).alias(\n",
    "        \"% des conducteurs avec une majorité de journeys intra\"\n",
    "    )\n",
    ")"
   ]
  },
  {
   "cell_type": "code",
   "execution_count": null,
   "id": "f4223680-3069-4129-aa18-efd8abb9e5f6",
   "metadata": {
    "execution": {
     "iopub.execute_input": "2025-09-02T11:09:44.640748Z",
     "iopub.status.busy": "2025-09-02T11:09:44.640379Z",
     "iopub.status.idle": "2025-09-02T11:09:44.835042Z",
     "shell.execute_reply": "2025-09-02T11:09:44.834724Z",
     "shell.execute_reply.started": "2025-09-02T11:09:44.640729Z"
    }
   },
   "outputs": [],
   "source": [
    "df_journeys_trips_count_by_trip_type = (\n",
    "    df_journeys_raw_with_nearest_stations_full.filter(\n",
    "        pl.col(\"first_trip_datetime\") >= datetime(2024, 9, 1, tzinfo=ZoneInfo(\"GMT\")),\n",
    "        pl.col(\"first_trip_datetime\")\n",
    "        <= datetime.now(ZoneInfo(\"GMT\")) - timedelta(days=30),\n",
    "        pl.col(\"start_datetime\")\n",
    "        <= pl.col(\"first_trip_datetime\") + pl.duration(days=30),\n",
    "    )\n",
    "    .group_by([\"is_near_station_fmt\", \"driver_identity_key\"])\n",
    "    .agg(\n",
    "        (\n",
    "            (\n",
    "                pl.concat_str(\n",
    "                    pl.col(\"operator_id\"), pl.lit(\"-\"), pl.col(\"operator_trip_id\")\n",
    "                )\n",
    "                .filter(pl.col(\"is_fully_inside_campaign_area\"))\n",
    "                .n_unique()\n",
    "            )\n",
    "            >= (\n",
    "                pl.concat_str(\n",
    "                    pl.col(\"operator_id\"), pl.lit(\"-\"), pl.col(\"operator_trip_id\")\n",
    "                )\n",
    "                .filter(pl.col(\"is_fully_inside_campaign_area\").not_())\n",
    "                .n_unique()\n",
    "            )\n",
    "        ).alias(\"is_intra_driver\"),\n",
    "        pl.len().alias(\"num_journeys\"),\n",
    "        pl.concat_str(pl.col(\"operator_id\"), pl.lit(\"-\"), pl.col(\"operator_trip_id\"))\n",
    "        .n_unique()\n",
    "        .alias(\"num_trips\"),\n",
    "    )\n",
    "    .group_by([\"is_near_station_fmt\", \"is_intra_driver\"])\n",
    "    .agg(\n",
    "        pl.col(\"num_journeys\").mean().alias(\"Nombre moyen de journeys sur 30 jours\"),\n",
    "        pl.col(\"num_trips\").mean().alias(\"Nombre moyen de trips sur 30 jours\"),\n",
    "    )\n",
    ")\n",
    "df_journeys_trips_count_by_trip_type"
   ]
  },
  {
   "cell_type": "code",
   "execution_count": null,
   "id": "8f19dec5-95f1-4294-b319-2ce34e968af5",
   "metadata": {
    "execution": {
     "iopub.execute_input": "2025-09-02T11:17:31.698536Z",
     "iopub.status.busy": "2025-09-02T11:17:31.698238Z",
     "iopub.status.idle": "2025-09-02T11:17:32.277877Z",
     "shell.execute_reply": "2025-09-02T11:17:32.277354Z",
     "shell.execute_reply.started": "2025-09-02T11:17:31.698523Z"
    }
   },
   "outputs": [],
   "source": [
    "fig_journeys_count_by_driver_type_station_proximity = px.bar(\n",
    "    df_journeys_trips_count_by_trip_type.with_columns(\n",
    "        pl.when(pl.col(\"is_intra_driver\"))\n",
    "        .then(pl.lit(\"Conducteur intra\"))\n",
    "        .otherwise(pl.lit(\"Conducteur inter\"))\n",
    "        .alias(\"driver_type\")\n",
    "    ),\n",
    "    x=\"is_near_station_fmt\",\n",
    "    y=\"Nombre moyen de journeys sur 30 jours\",\n",
    "    color=\"driver_type\",\n",
    "    text=\"Nombre moyen de journeys sur 30 jours\",\n",
    "    text_auto=\".1f\",\n",
    "    template=\"simple_white\",\n",
    "    barmode=\"group\",\n",
    "    labels=labels_map,\n",
    "    title=\"Nombre de journeys par type de conducteur et distance d'une gare\",\n",
    ")\n",
    "fig_journeys_count_by_driver_type_station_proximity.update_layout(legend_title=None)\n",
    "fig_journeys_count_by_driver_type_station_proximity.show()\n",
    "fig_journeys_count_by_driver_type_station_proximity.write_html(\n",
    "    OUTPUT_PATH / \"fig_journeys_par_type_conducteur_et_distance_gare.html\"\n",
    ")\n",
    "fig_journeys_count_by_driver_type_station_proximity.write_image(\n",
    "    OUTPUT_PATH / \"fig_journeys_par_type_conducteur_et_distance_gare.svg\",\n",
    "    width=1280,\n",
    "    height=720,\n",
    ")"
   ]
  },
  {
   "cell_type": "code",
   "execution_count": null,
   "id": "68feb55c-25f3-45e5-b057-40546dcb5a07",
   "metadata": {
    "execution": {
     "iopub.execute_input": "2025-09-02T11:21:43.290045Z",
     "iopub.status.busy": "2025-09-02T11:21:43.289761Z",
     "iopub.status.idle": "2025-09-02T11:21:43.726373Z",
     "shell.execute_reply": "2025-09-02T11:21:43.725858Z",
     "shell.execute_reply.started": "2025-09-02T11:21:43.290032Z"
    }
   },
   "outputs": [],
   "source": [
    "fig_trips_count_by_driver_type_station_proximity = px.bar(\n",
    "    df_journeys_trips_count_by_trip_type.with_columns(\n",
    "        pl.when(pl.col(\"is_intra_driver\"))\n",
    "        .then(pl.lit(\"Conducteur intra\"))\n",
    "        .otherwise(pl.lit(\"Conducteur inter\"))\n",
    "        .alias(\"driver_type\")\n",
    "    ),\n",
    "    x=\"is_near_station_fmt\",\n",
    "    y=\"Nombre moyen de trips sur 30 jours\",\n",
    "    color=\"driver_type\",\n",
    "    text=\"Nombre moyen de trips sur 30 jours\",\n",
    "    text_auto=\".1f\",\n",
    "    template=\"simple_white\",\n",
    "    barmode=\"group\",\n",
    "    labels=labels_map,\n",
    "    title=\"Nombre de trips par type de conducteur et distance d'une gare\",\n",
    ")\n",
    "\n",
    "fig_trips_count_by_driver_type_station_proximity.update_layout(legend_title=None)\n",
    "fig_trips_count_by_driver_type_station_proximity.show()\n",
    "fig_trips_count_by_driver_type_station_proximity.write_html(\n",
    "    OUTPUT_PATH / \"fig_trips_par_type_conducteur_et_distance_gare.html\"\n",
    ")\n",
    "fig_trips_count_by_driver_type_station_proximity.write_image(\n",
    "    OUTPUT_PATH / \"fig_trips_par_type_conducteur_et_distance_gare.svg\",\n",
    "    width=1280,\n",
    "    height=720,\n",
    ")"
   ]
  },
  {
   "cell_type": "code",
   "execution_count": null,
   "id": "a6f4275e-5516-4234-b1bb-cf3cbb07856a",
   "metadata": {
    "execution": {
     "iopub.execute_input": "2025-09-02T16:00:42.990786Z",
     "iopub.status.busy": "2025-09-02T16:00:42.990505Z",
     "iopub.status.idle": "2025-09-02T16:00:43.629099Z",
     "shell.execute_reply": "2025-09-02T16:00:43.628808Z",
     "shell.execute_reply.started": "2025-09-02T16:00:42.990773Z"
    }
   },
   "outputs": [],
   "source": [
    "df_passenger_mean_by_distance_cat = (\n",
    "    df_journeys_raw_with_nearest_stations_full.filter(\n",
    "        pl.col(\"first_trip_datetime\") >= datetime(2024, 9, 1, tzinfo=ZoneInfo(\"GMT\")),\n",
    "        pl.col(\"first_trip_datetime\")\n",
    "        <= datetime.now(ZoneInfo(\"GMT\")) - timedelta(days=30),\n",
    "        pl.col(\"start_datetime\")\n",
    "        <= pl.col(\"first_trip_datetime\") + pl.duration(days=30),\n",
    "    )\n",
    "    .group_by(\n",
    "        [\n",
    "            pl.concat_str(\n",
    "                pl.col(\"operator_id\"), pl.lit(\"-\"), pl.col(\"operator_trip_id\")\n",
    "            ).alias(\"trip_id\"),\n",
    "        ]\n",
    "    )\n",
    "    .agg(\n",
    "        pl.col(\"is_fully_inside_campaign_area\").max(),\n",
    "        pl.col(\"passenger_seats\").sum(),\n",
    "        pl.col(\"is_near_station_fmt\").mode().first().alias(\"is_near_station_fmt\"),\n",
    "        pl.col(\"driver_identity_key\").max(),\n",
    "    )\n",
    "    .group_by([\"is_near_station_fmt\", \"driver_identity_key\"])\n",
    "    .agg(\n",
    "        (\n",
    "            (\n",
    "                pl.col(\"trip_id\")\n",
    "                .filter(pl.col(\"is_fully_inside_campaign_area\"))\n",
    "                .n_unique()\n",
    "            )\n",
    "            >= (\n",
    "                pl.col(\"trip_id\")\n",
    "                .filter(pl.col(\"is_fully_inside_campaign_area\").not_())\n",
    "                .n_unique()\n",
    "            )\n",
    "        ).alias(\"is_intra_driver\"),\n",
    "        pl.len().alias(\"num_journeys\"),\n",
    "        pl.col(\"passenger_seats\").mean(),\n",
    "    )\n",
    "    .group_by([\"is_near_station_fmt\", \"is_intra_driver\"])\n",
    "    .agg(\n",
    "        pl.col(\"passenger_seats\").mean().alias(\"Nombre moyen de passagers\"),\n",
    "    )\n",
    ")\n",
    "df_passenger_mean_by_distance_cat"
   ]
  },
  {
   "cell_type": "code",
   "execution_count": null,
   "id": "8cec9754-6e3d-4348-b975-c4f5fcc8e261",
   "metadata": {
    "execution": {
     "iopub.execute_input": "2025-09-02T16:00:46.517892Z",
     "iopub.status.busy": "2025-09-02T16:00:46.517591Z",
     "iopub.status.idle": "2025-09-02T16:00:47.694487Z",
     "shell.execute_reply": "2025-09-02T16:00:47.693693Z",
     "shell.execute_reply.started": "2025-09-02T16:00:46.517878Z"
    }
   },
   "outputs": [],
   "source": [
    "fig_passengers_count_by_driver_type_distance_gare = px.bar(\n",
    "    df_passenger_mean_by_distance_cat.with_columns(\n",
    "        pl.when(pl.col(\"is_intra_driver\"))\n",
    "        .then(pl.lit(\"Conducteur intra\"))\n",
    "        .otherwise(pl.lit(\"Conducteur inter\"))\n",
    "        .alias(\"driver_type\")\n",
    "    ),\n",
    "    x=\"is_near_station_fmt\",\n",
    "    y=\"Nombre moyen de passagers\",\n",
    "    color=\"driver_type\",\n",
    "    text=\"Nombre moyen de passagers\",\n",
    "    text_auto=\".2f\",\n",
    "    template=\"simple_white\",\n",
    "    barmode=\"group\",\n",
    "    labels=labels_map,\n",
    "    title=\"Nombre moyen de passagers par type de conducteur et campagne\",\n",
    ")\n",
    "\n",
    "fig_passengers_count_by_driver_type_distance_gare.update_layout(legend_title=None)\n",
    "fig_passengers_count_by_driver_type_distance_gare.show()\n",
    "fig_passengers_count_by_driver_type_distance_gare.write_html(\n",
    "    OUTPUT_PATH / \"fig_passagers_type_conducteur_et_distance_gare.html\"\n",
    ")\n",
    "fig_passengers_count_by_driver_type_distance_gare.write_image(\n",
    "    OUTPUT_PATH / \"fig_passagers_par_type_conducteur_et_distance_gare.svg\",\n",
    "    width=1280,\n",
    "    height=720,\n",
    ")"
   ]
  },
  {
   "cell_type": "markdown",
   "id": "d10fc9a1-e688-4e2a-8d8d-b76e6170a46a",
   "metadata": {},
   "source": [
    "## Rétention\n"
   ]
  },
  {
   "cell_type": "code",
   "execution_count": null,
   "id": "d89ab394-77dc-4faf-9b0e-234da2b4b43f",
   "metadata": {
    "execution": {
     "iopub.execute_input": "2025-09-02T16:01:07.894576Z",
     "iopub.status.busy": "2025-09-02T16:01:07.894178Z",
     "iopub.status.idle": "2025-09-02T16:01:10.498639Z",
     "shell.execute_reply": "2025-09-02T16:01:10.498260Z",
     "shell.execute_reply.started": "2025-09-02T16:01:07.894562Z"
    }
   },
   "outputs": [],
   "source": [
    "df_acquisition_by_driver_type = (\n",
    "    (\n",
    "        df_journeys_raw_with_nearest_stations_full.filter(\n",
    "            pl.col(\"first_trip_datetime\")\n",
    "            >= datetime(2024, 9, 1, tzinfo=ZoneInfo(\"GMT\")),\n",
    "            pl.col(\"first_trip_datetime\")\n",
    "            <= datetime.now(ZoneInfo(\"GMT\")) - timedelta(weeks=6),\n",
    "        )\n",
    "        .group_by([\"driver_identity_key\"])\n",
    "        .agg(\n",
    "            pl.col(\"start_datetime\").min(),\n",
    "            pl.datetime_range(\n",
    "                pl.col(\"start_datetime\").min().dt.truncate(\"1w\"),\n",
    "                pl.col(\"start_datetime\").min().dt.truncate(\"1w\") + pl.duration(weeks=5),\n",
    "                \"1w\",\n",
    "            ).alias(\"week\"),\n",
    "            pl.col(\"is_near_station_fmt\").mode().first().alias(\"is_near_station_fmt\"),\n",
    "        )\n",
    "        .explode(\"week\")\n",
    "        .join(\n",
    "            df_journeys_raw_with_nearest_stations_full.filter(\n",
    "                pl.col(\"start_datetime\")\n",
    "                >= datetime(2024, 9, 1, tzinfo=ZoneInfo(\"GMT\")),\n",
    "            ),\n",
    "            left_on=[\"driver_identity_key\", \"week\"],\n",
    "            right_on=[\n",
    "                \"driver_identity_key\",\n",
    "                pl.col(\"start_datetime\").dt.truncate(\"1w\"),\n",
    "            ],\n",
    "            how=\"left\",\n",
    "        )\n",
    "    )\n",
    "    .group_by([pl.col(\"driver_identity_key\"), \"week\"])\n",
    "    .agg(\n",
    "        (pl.col(\"_id\").count() > 0).alias(\"has_traveled\"),\n",
    "        pl.col(\"is_near_station_fmt\").mode().first().alias(\"is_near_station_fmt\"),\n",
    "    )\n",
    "    .with_columns(\n",
    "        pl.col(\"week\")\n",
    "        .rank()\n",
    "        .over(partition_by=[\"driver_identity_key\"], order_by=\"week\")\n",
    "        .alias(\"week_number\")\n",
    "    )\n",
    "    .group_by([\"is_near_station_fmt\", \"week_number\"])\n",
    "    .agg(\n",
    "        (100 * pl.col(\"has_traveled\").sum() / pl.col(\"has_traveled\").count()).alias(\n",
    "            \"drivers_share\"\n",
    "        )\n",
    "    )\n",
    "    .sort([pl.col(\"week_number\")])\n",
    ")\n",
    "df_acquisition_by_driver_type"
   ]
  },
  {
   "cell_type": "code",
   "execution_count": null,
   "id": "d45a82f5-f97c-471d-839c-e1984b5c7ebb",
   "metadata": {
    "execution": {
     "iopub.execute_input": "2025-09-02T16:20:55.210144Z",
     "iopub.status.busy": "2025-09-02T16:20:55.209853Z",
     "iopub.status.idle": "2025-09-02T16:20:55.641451Z",
     "shell.execute_reply": "2025-09-02T16:20:55.640892Z",
     "shell.execute_reply.started": "2025-09-02T16:20:55.210130Z"
    }
   },
   "outputs": [],
   "source": [
    "fig_churn_by_campaign_type = px.line(\n",
    "    df_acquisition_by_driver_type,\n",
    "    x=\"week_number\",\n",
    "    y=\"drivers_share\",\n",
    "    color=\"is_near_station_fmt\",\n",
    "    color_discrete_map=colors_map,\n",
    "    category_orders={\"is_near_station_fmt\": category_order},\n",
    "    template=\"simple_white\",\n",
    "    labels=labels_map,\n",
    "    title=\"Attrition en fonction des différentes types de campagne\",\n",
    ")\n",
    "\n",
    "fig_churn_by_campaign_type.update_yaxes(showgrid=True)\n",
    "fig_churn_by_campaign_type.show()\n",
    "\n",
    "fig_churn_by_campaign_type.write_html(OUTPUT_PATH / \"fig_attrition_par_campagne.html\")\n",
    "fig_churn_by_campaign_type.write_image(\n",
    "    OUTPUT_PATH / \"fig_attrition_par_campagne.svg\", width=1280, height=720\n",
    ")"
   ]
  },
  {
   "cell_type": "markdown",
   "id": "82caccb1-5ca5-454d-af74-59546a63a4a9",
   "metadata": {},
   "source": [
    "## Distribution des gains\n"
   ]
  },
  {
   "cell_type": "code",
   "execution_count": null,
   "id": "1e500952-de70-4ff2-9239-45fbef7f7104",
   "metadata": {
    "execution": {
     "iopub.execute_input": "2025-09-02T15:59:12.331789Z",
     "iopub.status.busy": "2025-09-02T15:59:12.331434Z",
     "iopub.status.idle": "2025-09-02T15:59:13.597118Z",
     "shell.execute_reply": "2025-09-02T15:59:13.596743Z",
     "shell.execute_reply.started": "2025-09-02T15:59:12.331773Z"
    }
   },
   "outputs": [],
   "source": [
    "df_incentives_stats_by_month_driver = (\n",
    "    df_journeys_raw_with_nearest_stations_full.with_columns(\n",
    "        (pl.col(\"incentive_amount\") / 100)\n",
    "        .cum_sum()\n",
    "        .over(\n",
    "            partition_by=[\n",
    "                \"driver_identity_key\",\n",
    "                pl.col(\"start_datetime\").dt.truncate(\"1mo\"),\n",
    "            ],\n",
    "            order_by=\"start_datetime\",\n",
    "        )\n",
    "        .alias(\"incentive_amount_cumu\")\n",
    "    )\n",
    "    .group_by([pl.col(\"start_datetime\").dt.truncate(\"1mo\"), \"driver_identity_key\"])\n",
    "    .agg(\n",
    "        pl.col(\"incentive_amount_cumu\").max().alias(\"incentive_amount_cumu_max\"),\n",
    "        pl.col(\"is_near_station_fmt\").mode().first().alias(\"is_near_station_fmt\"),\n",
    "    )\n",
    ")"
   ]
  },
  {
   "cell_type": "code",
   "execution_count": null,
   "id": "46d284f3-d7a9-4e5f-9dfb-385a1715119f",
   "metadata": {
    "execution": {
     "iopub.execute_input": "2025-09-02T16:20:24.612919Z",
     "iopub.status.busy": "2025-09-02T16:20:24.612733Z",
     "iopub.status.idle": "2025-09-02T16:20:25.150312Z",
     "shell.execute_reply": "2025-09-02T16:20:25.149631Z",
     "shell.execute_reply.started": "2025-09-02T16:20:24.612903Z"
    }
   },
   "outputs": [],
   "source": [
    "breaks = list(range(0, 101, 10))\n",
    "df_incentives_by_drivers_hist = (\n",
    "    df_incentives_stats_by_month_driver.group_by(\n",
    "        [\n",
    "            pl.col(\"incentive_amount_cumu_max\").cut(breaks=breaks, include_breaks=True),\n",
    "            \"is_near_station_fmt\",\n",
    "        ]\n",
    "    )\n",
    "    .agg(pl.col(\"driver_identity_key\").n_unique().alias(\"driver_count\"))\n",
    "    .with_columns(\n",
    "        pl.col(\"incentive_amount_cumu_max\").struct.unnest(),\n",
    "        (\n",
    "            100\n",
    "            * pl.col(\"driver_count\")\n",
    "            / pl.col(\"driver_count\").sum().over(\"is_near_station_fmt\")\n",
    "        )\n",
    "        .round(2)\n",
    "        .alias(\"share\"),\n",
    "    )\n",
    "    .sort([\"is_near_station_fmt\", \"breakpoint\"])\n",
    ")\n",
    "\n",
    "fig_incentives_by_driver_hist = px.bar(\n",
    "    df_incentives_by_drivers_hist,\n",
    "    x=\"category\",\n",
    "    y=\"share\",\n",
    "    text=\"share\",\n",
    "    color=\"is_near_station_fmt\",\n",
    "    color_discrete_map=colors_map,\n",
    "    category_orders={\"is_near_station_fmt\": category_order},\n",
    "    barmode=\"group\",\n",
    "    labels={**labels_map, \"share\": \"% des conducteurs\", \"category\": \"Incitation reçue\"},\n",
    "    template=\"simple_white\",\n",
    "    title=\"Distribution des gains mensuels des conducteurs<br><sub>Par tranche de 10€, la première tranche est celle des conducteurs n'ayant perçu aucune incitation.</sub>\",\n",
    ")\n",
    "fig_incentives_by_driver_hist.show()\n",
    "fig_incentives_by_driver_hist.write_html(\n",
    "    OUTPUT_PATH / \"fig_histo_incitation_conducteur.html\"\n",
    ")\n",
    "fig_incentives_by_driver_hist.write_image(\n",
    "    OUTPUT_PATH / \"fig_histo_incitation_conducteur.svg\", width=1280, height=720\n",
    ")"
   ]
  },
  {
   "cell_type": "code",
   "execution_count": null,
   "id": "aa1a6fa5-d071-45f7-bcfd-41872acd7e5c",
   "metadata": {},
   "outputs": [],
   "source": []
  }
 ],
 "metadata": {
  "kernelspec": {
   "display_name": "Python 3 (ipykernel)",
   "language": "python",
   "name": "python3"
  },
  "language_info": {
   "codemirror_mode": {
    "name": "ipython",
    "version": 3
   },
   "file_extension": ".py",
   "mimetype": "text/x-python",
   "name": "python",
   "nbconvert_exporter": "python",
   "pygments_lexer": "ipython3",
   "version": "3.13.2"
  }
 },
 "nbformat": 4,
 "nbformat_minor": 5
}
